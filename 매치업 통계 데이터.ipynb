{
 "cells": [
  {
   "cell_type": "code",
   "execution_count": 1,
   "id": "10762c5c",
   "metadata": {},
   "outputs": [
    {
     "name": "stderr",
     "output_type": "stream",
     "text": [
      "C:\\Users\\user\\AppData\\Local\\Temp\\ipykernel_8148\\3501253536.py:9: DeprecationWarning: the imp module is deprecated in favour of importlib; see the module's documentation for alternative uses\n",
      "  import imp\n"
     ]
    }
   ],
   "source": [
    "import requests\n",
    "from tqdm import tqdm\n",
    "import pandas as pd\n",
    "import numpy as np\n",
    "import time\n",
    "import my_utils as mu\n",
    "import math\n",
    "import random\n",
    "import imp\n",
    "import matplotlib.pyplot as plt\n",
    "import seaborn as sns\n",
    "import plotly\n",
    "import plotly.graph_objs as go\n",
    "import plotly.express as px\n",
    "imp.reload(mu)\n",
    "tqdm.pandas()"
   ]
  },
  {
   "cell_type": "code",
   "execution_count": null,
   "id": "4f4a8745",
   "metadata": {},
   "outputs": [],
   "source": [
    "raw_data = mu.get_rawdata('DIAMOND')"
   ]
  },
  {
   "cell_type": "code",
   "execution_count": null,
   "id": "f1dcd77b",
   "metadata": {},
   "outputs": [],
   "source": [
    "def get_pid(lane, team_num):\n",
    "    if (lane == 'TOP' and team_num == 100):\n",
    "        return 1\n",
    "    elif (lane == 'MID' and team_num == 100):\n",
    "        return 3\n",
    "    elif (lane == 'BOT' and team_num == 100):\n",
    "        return 4\n",
    "    elif (lane == 'TOP' and team_num == 200):\n",
    "        return 6\n",
    "    elif (lane == 'MID' and team_num == 200):\n",
    "        return 8\n",
    "    elif (lane == 'BOT' and team_num == 200):\n",
    "        return 9\n",
    "    else:\n",
    "        return None"
   ]
  },
  {
   "cell_type": "code",
   "execution_count": null,
   "id": "9799c458",
   "metadata": {},
   "outputs": [],
   "source": [
    "def assi_calc(x):\n",
    "    try:\n",
    "        return ','.join(list(map(lambda y : str(y),x['assistingParticipantIds'])))\n",
    "    except:\n",
    "        return ''"
   ]
  },
  {
   "cell_type": "code",
   "execution_count": null,
   "id": "a0b2cc21",
   "metadata": {},
   "outputs": [],
   "source": [
    "def lane_processing(tower_lane, tower_team, lane, team):\n",
    "    if (tower_lane == lane) and (tower_team == team):\n",
    "        return 1\n",
    "    else:\n",
    "        return 0"
   ]
  },
  {
   "cell_type": "code",
   "execution_count": null,
   "id": "298d42bf",
   "metadata": {},
   "outputs": [],
   "source": [
    "all_lst = []\n",
    "try: \n",
    "    for i, game in enumerate(raw_data['matches']):\n",
    "        for ids in range(len(game['info']['participants'])):\n",
    "            game_id = raw_data.iloc[i]['match_id']\n",
    "            game_duration = game['info']['gameDuration']\n",
    "            game_version = game['info']['gameVersion']\n",
    "            participantId = game['info']['participants'][ids]['participantId']\n",
    "            teamPosition = game['info']['participants'][ids]['teamPosition']\n",
    "            teamId = game['info']['participants'][ids]['teamId']\n",
    "            championName = game['info']['participants'][ids]['championName']\n",
    "            win = game['info']['participants'][ids]['win']\n",
    "            kills = game['info']['participants'][ids]['kills']\n",
    "            deaths = game['info']['participants'][ids]['deaths']\n",
    "            assists = game['info']['participants'][ids]['assists']\n",
    "            damageDealt = game['info']['participants'][ids]['totalDamageDealtToChampions']\n",
    "            damageTaken = game['info']['participants'][ids]['totalDamageTaken']\n",
    "\n",
    "            ban_lst= [banid['championId'] for teamid in game['info']['teams'] for banid in teamid['bans']]\n",
    "\n",
    "            bans = ban_lst[ids]\n",
    "\n",
    "            k_log, v_log, a_log,tower_log = [], [], [], []\n",
    "            for frame in raw_data.iloc[i]['timeline']['info']['frames']:\n",
    "                for event in frame['events']:\n",
    "                    try:\n",
    "                        event_type = event['type']\n",
    "                        if (event_type == 'BUILDING_KILL' and event['buildingType'] == 'TOWER_BUILDING'):\n",
    "                            tower_log.append(event)\n",
    "                        if event_type == 'CHAMPION_KILL':\n",
    "                            k_log.append(str(event['killerId']))\n",
    "                            v_log.append(str(event['victimId']))\n",
    "                            a_log.append(assi_calc(event))\n",
    "                    except Exception as e:\n",
    "                        print(e)\n",
    "                        continue\n",
    "            \n",
    "            try:  \n",
    "                ft_lane = tower_log[0]['laneType'].split('_')[0]\n",
    "                ft_team_num = tower_log[0]['teamId']\n",
    "                if (get_pid(ft_lane,ft_team_num) == participantId):\n",
    "                    firstDT = 1\n",
    "                else: firstDT = 0\n",
    "            except Exception as e: \n",
    "                firstDT = 0\n",
    "                continue\n",
    "\n",
    "            laneTower = 0\n",
    "            timestamp_lst =[]\n",
    "            for t_log in tower_log:\n",
    "                lane = t_log['laneType'].split('_')[0]\n",
    "                team_num = t_log['teamId']\n",
    "                if get_pid(lane, team_num) == participantId:\n",
    "                    laneTower+=1\n",
    "                    timestamp_lst.append(str(t_log['timestamp']))\n",
    "            timestamp ='|'.join(timestamp_lst)\n",
    "            \n",
    "            try:\n",
    "                g_15 = raw_data.iloc[i].timeline['info']['frames'][14]['participantFrames'][str(ids+1)]['totalGold']\n",
    "            except:\n",
    "                g_15 = 0\n",
    "\n",
    "            k_log, v_log, a_log = '|'.join(k_log), '|'.join(v_log), '|'.join(a_log)\n",
    "            all_lst.append([game_id, game_duration, game_version, participantId, championName, teamPosition, teamId,win,kills,deaths,assists,damageDealt,damageTaken,firstDT, laneTower, timestamp, bans, k_log, v_log, a_log, g_15])\n",
    "except Exception as e: \n",
    "    print(e)\n",
    "    pass\n",
    "df = pd.DataFrame(all_lst,columns=['matchId','gameDuration','gameVersion', 'participantId','championName','teamPosition', 'teamId','win','kills','deaths', 'assists',\n",
    "         'damageDealt','damageTaken','firstDT','laneTower', 'laneTowerTime','bans','killerId','victimId','assistId','G_15'])"
   ]
  },
  {
   "cell_type": "code",
   "execution_count": null,
   "id": "491d40c0",
   "metadata": {},
   "outputs": [],
   "source": []
  },
  {
   "cell_type": "code",
   "execution_count": null,
   "id": "1fd7fd46",
   "metadata": {},
   "outputs": [],
   "source": []
  },
  {
   "cell_type": "code",
   "execution_count": 6,
   "id": "3ee45233",
   "metadata": {},
   "outputs": [],
   "source": [
    "conn = mu.connect_mysql('icia')\n",
    "df = pd.DataFrame(mu.mysql_execute_dict('select * from lol_datas',conn))\n",
    "conn.close()\n",
    "df = df[(df.gameDuration > 900) & (df.gameDuration <10000)]"
   ]
  },
  {
   "cell_type": "code",
   "execution_count": 231,
   "id": "0a461a4c",
   "metadata": {},
   "outputs": [],
   "source": [
    "sample = df[['gameId','championName','win','teamPosition','g_15','teamId','kills','deaths','assists','totalDamageDealtToChampions']]"
   ]
  },
  {
   "cell_type": "code",
   "execution_count": 232,
   "id": "b464fd17",
   "metadata": {
    "scrolled": false
   },
   "outputs": [],
   "source": [
    "# 챔피언이 해당 라인에서 승리한 횟수\n",
    "#sample['champ_in_lane_win_cnt'] = sample.groupby(['championName', 'teamPosition'])[['win']].transform('sum')"
   ]
  },
  {
   "cell_type": "code",
   "execution_count": 233,
   "id": "761cd6f7",
   "metadata": {},
   "outputs": [],
   "source": [
    "# 챔피언이 해당 라인에서 등장한 횟수\n",
    "#sample['champ_in_lane_cnt'] = sample.groupby(['championName', 'teamPosition'])[['win']].transform('count')"
   ]
  },
  {
   "cell_type": "code",
   "execution_count": 234,
   "id": "6fc3abed",
   "metadata": {},
   "outputs": [],
   "source": [
    "# 라인 횟수\n",
    "#sample[['win']].count()/5"
   ]
  },
  {
   "cell_type": "code",
   "execution_count": 235,
   "id": "84a4a5aa",
   "metadata": {},
   "outputs": [
    {
     "name": "stderr",
     "output_type": "stream",
     "text": [
      "C:\\Users\\user\\AppData\\Local\\Temp\\ipykernel_8148\\2933603564.py:2: SettingWithCopyWarning: \n",
      "A value is trying to be set on a copy of a slice from a DataFrame.\n",
      "Try using .loc[row_indexer,col_indexer] = value instead\n",
      "\n",
      "See the caveats in the documentation: https://pandas.pydata.org/pandas-docs/stable/user_guide/indexing.html#returning-a-view-versus-a-copy\n",
      "  sample['team_kills'] = sample.groupby(['gameId', 'teamId'])['kills'].transform('sum')\n"
     ]
    }
   ],
   "source": [
    "# 각 팀 킬 수 합쳐서 team_kills 컬럼에 추가\n",
    "sample['team_kills'] = sample.groupby(['gameId', 'teamId'])['kills'].transform('sum')"
   ]
  },
  {
   "cell_type": "code",
   "execution_count": 236,
   "id": "8e657e3e",
   "metadata": {},
   "outputs": [
    {
     "name": "stderr",
     "output_type": "stream",
     "text": [
      "C:\\Users\\user\\AppData\\Local\\Temp\\ipykernel_8148\\4082881006.py:2: SettingWithCopyWarning: \n",
      "A value is trying to be set on a copy of a slice from a DataFrame.\n",
      "Try using .loc[row_indexer,col_indexer] = value instead\n",
      "\n",
      "See the caveats in the documentation: https://pandas.pydata.org/pandas-docs/stable/user_guide/indexing.html#returning-a-view-versus-a-copy\n",
      "  sample['win'] =sample.apply(lambda x:  1 if x.win =='True' else 0 , axis = 1)\n"
     ]
    }
   ],
   "source": [
    "#win을 boolean에서 int로 변경\n",
    "sample['win'] =sample.apply(lambda x:  1 if x.win =='True' else 0 , axis = 1)"
   ]
  },
  {
   "cell_type": "code",
   "execution_count": 237,
   "id": "ee940cd7",
   "metadata": {},
   "outputs": [],
   "source": [
    "#팀별로 테이블 분리\n",
    "blue = sample[sample['teamId']==100]\n",
    "red =sample[sample['teamId']==200]"
   ]
  },
  {
   "cell_type": "code",
   "execution_count": 238,
   "id": "09ec07e2",
   "metadata": {},
   "outputs": [],
   "source": [
    "#팀별 컬럼 리네임\n",
    "blue_tmp = blue[['gameId','championName','teamPosition','g_15','kills','deaths','assists','team_kills']].rename(columns={'championName':'enemy_champ','g_15':'enemy_g_15','kills':'enemy_kills', 'deaths':'enemy_deaths', 'assists':'enemy_assists', 'team_kills':'enemy_team_kills'})\n",
    "red_tmp = red[['gameId','championName','teamPosition','g_15','kills','deaths','assists','team_kills']].rename(columns={'championName':'enemy_champ','g_15':'enemy_g_15','kills':'enemy_kills', 'deaths':'enemy_deaths', 'assists':'enemy_assists', 'team_kills':'enemy_team_kills'})"
   ]
  },
  {
   "cell_type": "code",
   "execution_count": 239,
   "id": "255d1d8e",
   "metadata": {},
   "outputs": [],
   "source": [
    "#분리한 팀별 테이블 merge해서 비교\n",
    "blue_merge = pd.merge(blue,red_tmp, on=['gameId','teamPosition'])\n",
    "red_merge = pd.merge(red,blue_tmp, on=['gameId','teamPosition'])"
   ]
  },
  {
   "cell_type": "code",
   "execution_count": 240,
   "id": "c350f72c",
   "metadata": {},
   "outputs": [
    {
     "name": "stderr",
     "output_type": "stream",
     "text": [
      "C:\\Users\\user\\AppData\\Local\\Temp\\ipykernel_8148\\1241871353.py:2: FutureWarning: The frame.append method is deprecated and will be removed from pandas in a future version. Use pandas.concat instead.\n",
      "  result = blue_merge.append(red_merge)\n"
     ]
    }
   ],
   "source": [
    "# append를 통해서 다시 하나의 테이블로\n",
    "result = blue_merge.append(red_merge)"
   ]
  },
  {
   "cell_type": "code",
   "execution_count": 241,
   "id": "bb7e835b",
   "metadata": {},
   "outputs": [],
   "source": [
    "# 인덱스 재설정\n",
    "result = result.reset_index(drop=True)"
   ]
  },
  {
   "cell_type": "code",
   "execution_count": 242,
   "id": "05aa7520",
   "metadata": {},
   "outputs": [],
   "source": [
    "# 게임아이디랑 팀 아이디 별로 정렬\n",
    "result = result.sort_values(by=['gameId','teamId'])"
   ]
  },
  {
   "cell_type": "code",
   "execution_count": 243,
   "id": "0c62abd1",
   "metadata": {},
   "outputs": [],
   "source": [
    "win_df = result.copy()"
   ]
  },
  {
   "cell_type": "code",
   "execution_count": 23,
   "id": "a107a2d2",
   "metadata": {},
   "outputs": [],
   "source": [
    "# 라인승리 컬럼 값을 15분대의 골드획득량으로 승패 결정\n",
    "# win_df['lane_win'] = win_df.apply(lambda x: 1 if x.g_15>x.enemy_g_15 else 0 , axis=1)"
   ]
  },
  {
   "cell_type": "code",
   "execution_count": 244,
   "id": "b29ed92c",
   "metadata": {},
   "outputs": [],
   "source": [
    "# 팀포지션컬럼을 라인으로 리네임\n",
    "win_df.rename(columns={'teamPosition': 'lane'},inplace=True)"
   ]
  },
  {
   "cell_type": "code",
   "execution_count": 245,
   "id": "ddc15011",
   "metadata": {},
   "outputs": [],
   "source": [
    "# 챔피언 이름 , 라인, 적 챔피언 순으로 그룹화 해서 라인승리 누적횟수와 게임승리 누적횟수를 보여줌\n",
    "cnt_df = win_df.groupby(['championName','lane','enemy_champ'])[['win','g_15','kills','deaths','assists','totalDamageDealtToChampions','team_kills','enemy_kills','enemy_deaths','enemy_assists','enemy_team_kills']].sum().rename(columns={'win':'win_cnt'})"
   ]
  },
  {
   "cell_type": "code",
   "execution_count": 247,
   "id": "15fa4552",
   "metadata": {},
   "outputs": [],
   "source": [
    "# 전체 게임수를 카운트해서 game_cnt라는 컬럼의 값으로 넣음\n",
    "game_df = win_df.groupby(['championName','lane','enemy_champ'])[['win']].count().rename(columns={'win':'game_cnt'})"
   ]
  },
  {
   "cell_type": "code",
   "execution_count": 248,
   "id": "4fdeac1c",
   "metadata": {},
   "outputs": [],
   "source": [
    "#merge를 통해 전체 게임수와 누적 승리를 보여줌\n",
    "result_df = pd.merge(cnt_df,game_df,on=['championName','lane','enemy_champ'])"
   ]
  },
  {
   "cell_type": "code",
   "execution_count": 249,
   "id": "2e10bdec",
   "metadata": {},
   "outputs": [],
   "source": [
    "# 게임수가 많은 순으로 정렬\n",
    "r_df = result_df.sort_values('game_cnt',ascending=False)"
   ]
  },
  {
   "cell_type": "code",
   "execution_count": 250,
   "id": "2350db53",
   "metadata": {},
   "outputs": [],
   "source": [
    "# 승률\n",
    "r_df['win_rate']=round((r_df['win_cnt']/r_df['game_cnt'])*100,2)"
   ]
  },
  {
   "cell_type": "code",
   "execution_count": 251,
   "id": "2c9491c2",
   "metadata": {},
   "outputs": [],
   "source": [
    "#kda\n",
    "r_df['kda']=round((r_df['kills']+r_df['assists'])/r_df['deaths'],2)"
   ]
  },
  {
   "cell_type": "code",
   "execution_count": 252,
   "id": "59e3c897",
   "metadata": {},
   "outputs": [],
   "source": [
    "#라인킬 확률\n",
    "r_df['lane_kills'] = round((r_df['kills']/r_df['deaths'])/((r_df['kills']/r_df['deaths'])+(r_df['enemy_kills']/r_df['enemy_deaths']))*100,2)"
   ]
  },
  {
   "cell_type": "code",
   "execution_count": 253,
   "id": "adeb2da6",
   "metadata": {},
   "outputs": [],
   "source": [
    "#킬관여율\n",
    "r_df['kill_participation'] = round(( ((r_df['kills']+r_df['assists'])/r_df['team_kills']) /(((r_df['kills']+r_df['assists'])/r_df['team_kills']) + ((r_df['enemy_kills']+r_df['enemy_assists'])/r_df['team_kills']))  )*100,2)"
   ]
  },
  {
   "cell_type": "code",
   "execution_count": 254,
   "id": "5fce1df0",
   "metadata": {},
   "outputs": [],
   "source": [
    "#챔피언에게 가한 피해량\n",
    "r_df['deal_to_champ'] = round(r_df['totalDamageDealtToChampions']/r_df['game_cnt'])"
   ]
  },
  {
   "cell_type": "code",
   "execution_count": 255,
   "id": "91107029",
   "metadata": {},
   "outputs": [],
   "source": [
    "#15분대의 골드 획득량\n",
    "r_df['avg_g_15'] = round(r_df['g_15']/r_df['game_cnt'])"
   ]
  },
  {
   "cell_type": "code",
   "execution_count": null,
   "id": "6ed9df0d",
   "metadata": {},
   "outputs": [],
   "source": [
    "#라인첫번째 타워를 파괴한 시간"
   ]
  },
  {
   "cell_type": "code",
   "execution_count": 256,
   "id": "f3a3fc08",
   "metadata": {},
   "outputs": [],
   "source": [
    "r_df_o = r_df[['lane_kills','kda','kill_participation','deal_to_champ','win_rate','win_cnt','game_cnt']]"
   ]
  },
  {
   "cell_type": "code",
   "execution_count": 162,
   "id": "8c3c5e7b",
   "metadata": {},
   "outputs": [
    {
     "data": {
      "text/html": [
       "<div>\n",
       "<style scoped>\n",
       "    .dataframe tbody tr th:only-of-type {\n",
       "        vertical-align: middle;\n",
       "    }\n",
       "\n",
       "    .dataframe tbody tr th {\n",
       "        vertical-align: top;\n",
       "    }\n",
       "\n",
       "    .dataframe thead th {\n",
       "        text-align: right;\n",
       "    }\n",
       "</style>\n",
       "<table border=\"1\" class=\"dataframe\">\n",
       "  <thead>\n",
       "    <tr style=\"text-align: right;\">\n",
       "      <th></th>\n",
       "      <th></th>\n",
       "      <th></th>\n",
       "      <th>lane_kills</th>\n",
       "      <th>kda</th>\n",
       "      <th>kill_participation</th>\n",
       "      <th>deal_to_champ</th>\n",
       "      <th>win_rate</th>\n",
       "      <th>game_cnt</th>\n",
       "    </tr>\n",
       "    <tr>\n",
       "      <th>championName</th>\n",
       "      <th>lane</th>\n",
       "      <th>enemy_champ</th>\n",
       "      <th></th>\n",
       "      <th></th>\n",
       "      <th></th>\n",
       "      <th></th>\n",
       "      <th></th>\n",
       "      <th></th>\n",
       "    </tr>\n",
       "  </thead>\n",
       "  <tbody>\n",
       "    <tr>\n",
       "      <th rowspan=\"11\" valign=\"top\">Yorick</th>\n",
       "      <th rowspan=\"11\" valign=\"top\">TOP</th>\n",
       "      <th>Illaoi</th>\n",
       "      <td>43.69</td>\n",
       "      <td>1.27</td>\n",
       "      <td>47.01</td>\n",
       "      <td>23084.0</td>\n",
       "      <td>42.11</td>\n",
       "      <td>19</td>\n",
       "    </tr>\n",
       "    <tr>\n",
       "      <th>Jax</th>\n",
       "      <td>48.24</td>\n",
       "      <td>1.52</td>\n",
       "      <td>50.00</td>\n",
       "      <td>19520.0</td>\n",
       "      <td>63.16</td>\n",
       "      <td>19</td>\n",
       "    </tr>\n",
       "    <tr>\n",
       "      <th>Aatrox</th>\n",
       "      <td>58.23</td>\n",
       "      <td>1.85</td>\n",
       "      <td>50.00</td>\n",
       "      <td>18625.0</td>\n",
       "      <td>57.89</td>\n",
       "      <td>19</td>\n",
       "    </tr>\n",
       "    <tr>\n",
       "      <th>Mordekaiser</th>\n",
       "      <td>36.23</td>\n",
       "      <td>1.09</td>\n",
       "      <td>41.00</td>\n",
       "      <td>22558.0</td>\n",
       "      <td>53.33</td>\n",
       "      <td>15</td>\n",
       "    </tr>\n",
       "    <tr>\n",
       "      <th>Renekton</th>\n",
       "      <td>23.59</td>\n",
       "      <td>1.25</td>\n",
       "      <td>38.53</td>\n",
       "      <td>19126.0</td>\n",
       "      <td>35.71</td>\n",
       "      <td>14</td>\n",
       "    </tr>\n",
       "    <tr>\n",
       "      <th>...</th>\n",
       "      <td>...</td>\n",
       "      <td>...</td>\n",
       "      <td>...</td>\n",
       "      <td>...</td>\n",
       "      <td>...</td>\n",
       "      <td>...</td>\n",
       "    </tr>\n",
       "    <tr>\n",
       "      <th>Velkoz</th>\n",
       "      <td>0.00</td>\n",
       "      <td>0.40</td>\n",
       "      <td>8.00</td>\n",
       "      <td>17173.0</td>\n",
       "      <td>0.00</td>\n",
       "      <td>1</td>\n",
       "    </tr>\n",
       "    <tr>\n",
       "      <th>Veigar</th>\n",
       "      <td>7.69</td>\n",
       "      <td>0.67</td>\n",
       "      <td>18.18</td>\n",
       "      <td>6841.0</td>\n",
       "      <td>0.00</td>\n",
       "      <td>1</td>\n",
       "    </tr>\n",
       "    <tr>\n",
       "      <th>Urgot</th>\n",
       "      <td>10.47</td>\n",
       "      <td>0.78</td>\n",
       "      <td>19.44</td>\n",
       "      <td>31601.0</td>\n",
       "      <td>0.00</td>\n",
       "      <td>1</td>\n",
       "    </tr>\n",
       "    <tr>\n",
       "      <th>Talon</th>\n",
       "      <td>82.09</td>\n",
       "      <td>5.00</td>\n",
       "      <td>57.69</td>\n",
       "      <td>20623.0</td>\n",
       "      <td>100.00</td>\n",
       "      <td>1</td>\n",
       "    </tr>\n",
       "    <tr>\n",
       "      <th>Shaco</th>\n",
       "      <td>57.14</td>\n",
       "      <td>3.00</td>\n",
       "      <td>50.00</td>\n",
       "      <td>13649.0</td>\n",
       "      <td>0.00</td>\n",
       "      <td>1</td>\n",
       "    </tr>\n",
       "  </tbody>\n",
       "</table>\n",
       "<p>110 rows × 6 columns</p>\n",
       "</div>"
      ],
      "text/plain": [
       "                               lane_kills   kda  kill_participation  \\\n",
       "championName lane enemy_champ                                         \n",
       "Yorick       TOP  Illaoi            43.69  1.27               47.01   \n",
       "                  Jax               48.24  1.52               50.00   \n",
       "                  Aatrox            58.23  1.85               50.00   \n",
       "                  Mordekaiser       36.23  1.09               41.00   \n",
       "                  Renekton          23.59  1.25               38.53   \n",
       "...                                   ...   ...                 ...   \n",
       "                  Velkoz             0.00  0.40                8.00   \n",
       "                  Veigar             7.69  0.67               18.18   \n",
       "                  Urgot             10.47  0.78               19.44   \n",
       "                  Talon             82.09  5.00               57.69   \n",
       "                  Shaco             57.14  3.00               50.00   \n",
       "\n",
       "                               deal_to_champ  win_rate  game_cnt  \n",
       "championName lane enemy_champ                                     \n",
       "Yorick       TOP  Illaoi             23084.0     42.11        19  \n",
       "                  Jax                19520.0     63.16        19  \n",
       "                  Aatrox             18625.0     57.89        19  \n",
       "                  Mordekaiser        22558.0     53.33        15  \n",
       "                  Renekton           19126.0     35.71        14  \n",
       "...                                      ...       ...       ...  \n",
       "                  Velkoz             17173.0      0.00         1  \n",
       "                  Veigar              6841.0      0.00         1  \n",
       "                  Urgot              31601.0      0.00         1  \n",
       "                  Talon              20623.0    100.00         1  \n",
       "                  Shaco              13649.0      0.00         1  \n",
       "\n",
       "[110 rows x 6 columns]"
      ]
     },
     "execution_count": 162,
     "metadata": {},
     "output_type": "execute_result"
    }
   ],
   "source": [
    "# multi-level index로 설정된 경우 \n",
    "r_df_o.loc[r_df_o.index.get_level_values('championName') == 'Yorick']"
   ]
  },
  {
   "cell_type": "code",
   "execution_count": 257,
   "id": "503844ed",
   "metadata": {},
   "outputs": [
    {
     "data": {
      "text/html": [
       "<div>\n",
       "<style scoped>\n",
       "    .dataframe tbody tr th:only-of-type {\n",
       "        vertical-align: middle;\n",
       "    }\n",
       "\n",
       "    .dataframe tbody tr th {\n",
       "        vertical-align: top;\n",
       "    }\n",
       "\n",
       "    .dataframe thead th {\n",
       "        text-align: right;\n",
       "    }\n",
       "</style>\n",
       "<table border=\"1\" class=\"dataframe\">\n",
       "  <thead>\n",
       "    <tr style=\"text-align: right;\">\n",
       "      <th></th>\n",
       "      <th></th>\n",
       "      <th></th>\n",
       "      <th>lane_kills</th>\n",
       "      <th>kda</th>\n",
       "      <th>kill_participation</th>\n",
       "      <th>deal_to_champ</th>\n",
       "      <th>win_rate</th>\n",
       "      <th>win_cnt</th>\n",
       "      <th>game_cnt</th>\n",
       "    </tr>\n",
       "    <tr>\n",
       "      <th>championName</th>\n",
       "      <th>lane</th>\n",
       "      <th>enemy_champ</th>\n",
       "      <th></th>\n",
       "      <th></th>\n",
       "      <th></th>\n",
       "      <th></th>\n",
       "      <th></th>\n",
       "      <th></th>\n",
       "      <th></th>\n",
       "    </tr>\n",
       "  </thead>\n",
       "  <tbody>\n",
       "    <tr>\n",
       "      <th>Ezreal</th>\n",
       "      <th>BOTTOM</th>\n",
       "      <th>Kaisa</th>\n",
       "      <td>42.41</td>\n",
       "      <td>2.44</td>\n",
       "      <td>47.90</td>\n",
       "      <td>23835.0</td>\n",
       "      <td>46.97</td>\n",
       "      <td>209</td>\n",
       "      <td>445</td>\n",
       "    </tr>\n",
       "    <tr>\n",
       "      <th>Kaisa</th>\n",
       "      <th>BOTTOM</th>\n",
       "      <th>Ezreal</th>\n",
       "      <td>57.59</td>\n",
       "      <td>2.69</td>\n",
       "      <td>52.10</td>\n",
       "      <td>21514.0</td>\n",
       "      <td>53.03</td>\n",
       "      <td>236</td>\n",
       "      <td>445</td>\n",
       "    </tr>\n",
       "    <tr>\n",
       "      <th>Caitlyn</th>\n",
       "      <th>BOTTOM</th>\n",
       "      <th>Ezreal</th>\n",
       "      <td>49.78</td>\n",
       "      <td>2.42</td>\n",
       "      <td>50.37</td>\n",
       "      <td>19463.0</td>\n",
       "      <td>55.34</td>\n",
       "      <td>197</td>\n",
       "      <td>356</td>\n",
       "    </tr>\n",
       "    <tr>\n",
       "      <th>Ezreal</th>\n",
       "      <th>BOTTOM</th>\n",
       "      <th>Caitlyn</th>\n",
       "      <td>50.22</td>\n",
       "      <td>2.46</td>\n",
       "      <td>49.63</td>\n",
       "      <td>23023.0</td>\n",
       "      <td>44.66</td>\n",
       "      <td>159</td>\n",
       "      <td>356</td>\n",
       "    </tr>\n",
       "    <tr>\n",
       "      <th>Jhin</th>\n",
       "      <th>BOTTOM</th>\n",
       "      <th>Ezreal</th>\n",
       "      <td>58.18</td>\n",
       "      <td>3.18</td>\n",
       "      <td>54.45</td>\n",
       "      <td>19443.0</td>\n",
       "      <td>54.88</td>\n",
       "      <td>180</td>\n",
       "      <td>328</td>\n",
       "    </tr>\n",
       "    <tr>\n",
       "      <th>...</th>\n",
       "      <th>...</th>\n",
       "      <th>...</th>\n",
       "      <td>...</td>\n",
       "      <td>...</td>\n",
       "      <td>...</td>\n",
       "      <td>...</td>\n",
       "      <td>...</td>\n",
       "      <td>...</td>\n",
       "      <td>...</td>\n",
       "    </tr>\n",
       "    <tr>\n",
       "      <th>Kaisa</th>\n",
       "      <th>BOTTOM</th>\n",
       "      <th>Nautilus</th>\n",
       "      <td>90.91</td>\n",
       "      <td>7.33</td>\n",
       "      <td>68.75</td>\n",
       "      <td>21934.0</td>\n",
       "      <td>100.00</td>\n",
       "      <td>1</td>\n",
       "      <td>1</td>\n",
       "    </tr>\n",
       "    <tr>\n",
       "      <th>Sett</th>\n",
       "      <th>TOP</th>\n",
       "      <th>Khazix</th>\n",
       "      <td>94.74</td>\n",
       "      <td>6.00</td>\n",
       "      <td>63.16</td>\n",
       "      <td>18098.0</td>\n",
       "      <td>100.00</td>\n",
       "      <td>1</td>\n",
       "      <td>1</td>\n",
       "    </tr>\n",
       "    <tr>\n",
       "      <th rowspan=\"2\" valign=\"top\">Kaisa</th>\n",
       "      <th rowspan=\"2\" valign=\"top\">BOTTOM</th>\n",
       "      <th>Nunu</th>\n",
       "      <td>96.97</td>\n",
       "      <td>6.33</td>\n",
       "      <td>73.08</td>\n",
       "      <td>23116.0</td>\n",
       "      <td>100.00</td>\n",
       "      <td>1</td>\n",
       "      <td>1</td>\n",
       "    </tr>\n",
       "    <tr>\n",
       "      <th>Orianna</th>\n",
       "      <td>5.45</td>\n",
       "      <td>0.50</td>\n",
       "      <td>14.29</td>\n",
       "      <td>6087.0</td>\n",
       "      <td>0.00</td>\n",
       "      <td>0</td>\n",
       "      <td>1</td>\n",
       "    </tr>\n",
       "    <tr>\n",
       "      <th>Morgana</th>\n",
       "      <th>UTILITY</th>\n",
       "      <th>Aatrox</th>\n",
       "      <td>37.50</td>\n",
       "      <td>2.20</td>\n",
       "      <td>37.93</td>\n",
       "      <td>11499.0</td>\n",
       "      <td>0.00</td>\n",
       "      <td>0</td>\n",
       "      <td>1</td>\n",
       "    </tr>\n",
       "  </tbody>\n",
       "</table>\n",
       "<p>17192 rows × 7 columns</p>\n",
       "</div>"
      ],
      "text/plain": [
       "                                  lane_kills   kda  kill_participation  \\\n",
       "championName lane    enemy_champ                                         \n",
       "Ezreal       BOTTOM  Kaisa             42.41  2.44               47.90   \n",
       "Kaisa        BOTTOM  Ezreal            57.59  2.69               52.10   \n",
       "Caitlyn      BOTTOM  Ezreal            49.78  2.42               50.37   \n",
       "Ezreal       BOTTOM  Caitlyn           50.22  2.46               49.63   \n",
       "Jhin         BOTTOM  Ezreal            58.18  3.18               54.45   \n",
       "...                                      ...   ...                 ...   \n",
       "Kaisa        BOTTOM  Nautilus          90.91  7.33               68.75   \n",
       "Sett         TOP     Khazix            94.74  6.00               63.16   \n",
       "Kaisa        BOTTOM  Nunu              96.97  6.33               73.08   \n",
       "                     Orianna            5.45  0.50               14.29   \n",
       "Morgana      UTILITY Aatrox            37.50  2.20               37.93   \n",
       "\n",
       "                                  deal_to_champ  win_rate  win_cnt  game_cnt  \n",
       "championName lane    enemy_champ                                              \n",
       "Ezreal       BOTTOM  Kaisa              23835.0     46.97      209       445  \n",
       "Kaisa        BOTTOM  Ezreal             21514.0     53.03      236       445  \n",
       "Caitlyn      BOTTOM  Ezreal             19463.0     55.34      197       356  \n",
       "Ezreal       BOTTOM  Caitlyn            23023.0     44.66      159       356  \n",
       "Jhin         BOTTOM  Ezreal             19443.0     54.88      180       328  \n",
       "...                                         ...       ...      ...       ...  \n",
       "Kaisa        BOTTOM  Nautilus           21934.0    100.00        1         1  \n",
       "Sett         TOP     Khazix             18098.0    100.00        1         1  \n",
       "Kaisa        BOTTOM  Nunu               23116.0    100.00        1         1  \n",
       "                     Orianna             6087.0      0.00        0         1  \n",
       "Morgana      UTILITY Aatrox             11499.0      0.00        0         1  \n",
       "\n",
       "[17192 rows x 7 columns]"
      ]
     },
     "execution_count": 257,
     "metadata": {},
     "output_type": "execute_result"
    }
   ],
   "source": [
    "r_df_o"
   ]
  },
  {
   "cell_type": "code",
   "execution_count": null,
   "id": "f6c7edd3",
   "metadata": {},
   "outputs": [],
   "source": []
  },
  {
   "cell_type": "code",
   "execution_count": null,
   "id": "ca0412ae",
   "metadata": {},
   "outputs": [],
   "source": []
  },
  {
   "cell_type": "code",
   "execution_count": null,
   "id": "ec07f591",
   "metadata": {},
   "outputs": [],
   "source": []
  },
  {
   "cell_type": "code",
   "execution_count": null,
   "id": "ad208fc5",
   "metadata": {},
   "outputs": [],
   "source": []
  }
 ],
 "metadata": {
  "kernelspec": {
   "display_name": "Python 3 (ipykernel)",
   "language": "python",
   "name": "python3"
  },
  "language_info": {
   "codemirror_mode": {
    "name": "ipython",
    "version": 3
   },
   "file_extension": ".py",
   "mimetype": "text/x-python",
   "name": "python",
   "nbconvert_exporter": "python",
   "pygments_lexer": "ipython3",
   "version": "3.9.13"
  }
 },
 "nbformat": 4,
 "nbformat_minor": 5
}
