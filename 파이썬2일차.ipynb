{
 "cells": [
  {
   "cell_type": "markdown",
   "id": "3eb33d2b",
   "metadata": {},
   "source": [
    "# while문"
   ]
  },
  {
   "cell_type": "code",
   "execution_count": 3,
   "id": "78a86682",
   "metadata": {},
   "outputs": [],
   "source": [
    "num = 0"
   ]
  },
  {
   "cell_type": "code",
   "execution_count": 3,
   "id": "bfcab209",
   "metadata": {},
   "outputs": [
    {
     "name": "stdout",
     "output_type": "stream",
     "text": [
      "0\n",
      "1\n",
      "2\n",
      "3\n"
     ]
    }
   ],
   "source": [
    "num = 0\n",
    "while num !=4:\n",
    "    print(num)\n",
    "    num+=1"
   ]
  },
  {
   "cell_type": "code",
   "execution_count": 4,
   "id": "f392d772",
   "metadata": {},
   "outputs": [
    {
     "name": "stdout",
     "output_type": "stream",
     "text": [
      "0\n",
      "1\n",
      "2\n",
      "3\n"
     ]
    }
   ],
   "source": [
    "num = 0\n",
    "while True:\n",
    "    print(num)\n",
    "    num+=1\n",
    "    if num ==4:\n",
    "        break"
   ]
  },
  {
   "cell_type": "code",
   "execution_count": 2,
   "id": "4f1a5f70",
   "metadata": {},
   "outputs": [
    {
     "name": "stdout",
     "output_type": "stream",
     "text": [
      "1\n",
      "2\n",
      "3\n",
      "5\n",
      "6\n",
      "7\n",
      "8\n",
      "9\n",
      "10\n"
     ]
    }
   ],
   "source": [
    "num=0\n",
    "while num !=10:\n",
    "    num+=1\n",
    "    if num ==4:\n",
    "        continue\n",
    "    print(num)"
   ]
  },
  {
   "cell_type": "markdown",
   "id": "00f61f41",
   "metadata": {},
   "source": [
    "# for문"
   ]
  },
  {
   "cell_type": "code",
   "execution_count": 1,
   "id": "8fe831f3",
   "metadata": {},
   "outputs": [
    {
     "name": "stdout",
     "output_type": "stream",
     "text": [
      "1\n",
      "2\n",
      "3\n",
      "4\n"
     ]
    }
   ],
   "source": [
    "for i in[1,2,3,4]:\n",
    "    print(i)"
   ]
  },
  {
   "cell_type": "code",
   "execution_count": 4,
   "id": "a29285d4",
   "metadata": {},
   "outputs": [
    {
     "name": "stdout",
     "output_type": "stream",
     "text": [
      "(1, 2)\n",
      "(3, 4)\n",
      "(5, 6)\n"
     ]
    }
   ],
   "source": [
    "for i in[(1,2),(3,4),(5,6)]:\n",
    "    print(i)"
   ]
  },
  {
   "cell_type": "code",
   "execution_count": 6,
   "id": "7a498f62",
   "metadata": {},
   "outputs": [
    {
     "name": "stdout",
     "output_type": "stream",
     "text": [
      "1 2\n",
      "3 4\n",
      "5 6\n"
     ]
    }
   ],
   "source": [
    "for i,j in[(1,2),(3,4),(5,6)]:\n",
    "    print(i,j)"
   ]
  },
  {
   "cell_type": "markdown",
   "id": "a7f0ead5",
   "metadata": {},
   "source": [
    "# for문 + if문을 통해서 합격여부를 맞추세요\n",
    "# [90,25,67,45,80]라는 학생 5명의 점수를 for문으로 만들어서 합격여부 맞추기"
   ]
  },
  {
   "cell_type": "code",
   "execution_count": 16,
   "id": "6464bf85",
   "metadata": {},
   "outputs": [
    {
     "name": "stdout",
     "output_type": "stream",
     "text": [
      "점수 90  합격입니다\n",
      "점수 25 불합격입니다\n",
      "점수 67  합격입니다\n",
      "점수 45 불합격입니다\n",
      "점수 80  합격입니다\n"
     ]
    }
   ],
   "source": [
    "score = [90,25,67,45,80]\n",
    "for i in score:\n",
    "    if i >=60:\n",
    "        print('점수',i,' 합격입니다')\n",
    "    else: print('점수',i,'불합격입니다')"
   ]
  },
  {
   "cell_type": "code",
   "execution_count": 34,
   "id": "063df237",
   "metadata": {},
   "outputs": [
    {
     "name": "stdout",
     "output_type": "stream",
     "text": [
      "1번 학생은 90점 합격입니다\n",
      "2번 학생은 25점 불합격입니다\n",
      "3번 학생은 67점 합격입니다\n",
      "4번 학생은 45점 불합격입니다\n",
      "5번 학생은 80점 합격입니다\n"
     ]
    }
   ],
   "source": [
    "score = [90,25,67,45,80]\n",
    "for i in range(0,len(score)):\n",
    "    if score[i] >=60:\n",
    "        print(str(i+1)+'번 학생은',str(score[i])+'점 합격입니다')\n",
    "    else: print(str(i+1)+'번 학생은',str(score[i])+'점 불합격입니다')"
   ]
  },
  {
   "cell_type": "code",
   "execution_count": 40,
   "id": "b0a284e0",
   "metadata": {},
   "outputs": [
    {
     "name": "stdout",
     "output_type": "stream",
     "text": [
      "1번 학생은 합격입니다\n",
      "2번 학생은 불합격입니다\n",
      "3번 학생은 합격입니다\n",
      "4번 학생은 불합격입니다\n",
      "5번 학생은 합격입니다\n"
     ]
    }
   ],
   "source": [
    "score = [90,25,67,45,80]\n",
    "for idx,i in enumerate(score):\n",
    "    if i >=60:\n",
    "        print(f'{idx+1}번 학생은 합격입니다')\n",
    "    else: print(f'{idx+1}번 학생은 불합격입니다')"
   ]
  },
  {
   "cell_type": "code",
   "execution_count": 41,
   "id": "c8bb2470",
   "metadata": {},
   "outputs": [
    {
     "name": "stdout",
     "output_type": "stream",
     "text": [
      "1\n",
      "2\n",
      "3\n",
      "4\n",
      "5\n",
      "6\n",
      "7\n",
      "8\n",
      "9\n"
     ]
    }
   ],
   "source": [
    "for i in range(1,10):\n",
    "    print(i)"
   ]
  },
  {
   "cell_type": "code",
   "execution_count": 44,
   "id": "027fcbeb",
   "metadata": {},
   "outputs": [],
   "source": [
    "def test(a,b,c):\n",
    "    d=a+b+c+5\n",
    "    return d"
   ]
  },
  {
   "cell_type": "code",
   "execution_count": 46,
   "id": "2552cbb7",
   "metadata": {},
   "outputs": [
    {
     "data": {
      "text/plain": [
       "14"
      ]
     },
     "execution_count": 46,
     "metadata": {},
     "output_type": "execute_result"
    }
   ],
   "source": [
    "test(5,1,3)"
   ]
  },
  {
   "cell_type": "code",
   "execution_count": 47,
   "id": "b28c364a",
   "metadata": {},
   "outputs": [],
   "source": [
    "def test2():\n",
    "    return 'hi'"
   ]
  },
  {
   "cell_type": "code",
   "execution_count": 48,
   "id": "3c0d8f0d",
   "metadata": {},
   "outputs": [
    {
     "data": {
      "text/plain": [
       "'hi'"
      ]
     },
     "execution_count": 48,
     "metadata": {},
     "output_type": "execute_result"
    }
   ],
   "source": [
    "test2() #변수로 지정할 수 있음"
   ]
  },
  {
   "cell_type": "code",
   "execution_count": 49,
   "id": "11d2d28b",
   "metadata": {},
   "outputs": [],
   "source": [
    "def test3():\n",
    "    print('hi')"
   ]
  },
  {
   "cell_type": "code",
   "execution_count": 50,
   "id": "4817a7ff",
   "metadata": {},
   "outputs": [
    {
     "name": "stdout",
     "output_type": "stream",
     "text": [
      "hi\n"
     ]
    }
   ],
   "source": [
    "test3() #변수로 지정할 수 없음"
   ]
  },
  {
   "cell_type": "code",
   "execution_count": 53,
   "id": "cc2d2bb5",
   "metadata": {},
   "outputs": [],
   "source": [
    "def test4(*args): #개수가 몇개인지 모를때 튜플 형태로\n",
    "    sum_list =[]\n",
    "    for i in args:\n",
    "        sum_list.append(i+3)\n",
    "    return sum_list"
   ]
  },
  {
   "cell_type": "code",
   "execution_count": 55,
   "id": "ea7349e4",
   "metadata": {},
   "outputs": [
    {
     "data": {
      "text/plain": [
       "[4, 5, 6, 7, 8, 9, 10]"
      ]
     },
     "execution_count": 55,
     "metadata": {},
     "output_type": "execute_result"
    }
   ],
   "source": [
    "test4(1,2,3,4,5,6,7)"
   ]
  },
  {
   "cell_type": "code",
   "execution_count": 1,
   "id": "4cc5c341",
   "metadata": {},
   "outputs": [
    {
     "name": "stdout",
     "output_type": "stream",
     "text": [
      "1번 학생은 90점 합격입니다\n",
      "2번 학생은 25점 불합격입니다\n",
      "3번 학생은 67점 합격입니다\n",
      "4번 학생은 45점 불합격입니다\n",
      "5번 학생은 80점 합격입니다\n"
     ]
    }
   ],
   "source": [
    "score = [90,25,67,45,80]\n",
    "for idx,i in enumerate(score):\n",
    "    if i >=60:\n",
    "        print(f'{idx+1}번 학생은 {i}점 합격입니다')\n",
    "    else: print(f'{idx+1}번 학생은 {i}점 불합격입니다')"
   ]
  },
  {
   "cell_type": "markdown",
   "id": "6de685e7",
   "metadata": {},
   "source": [
    "# 위의 코드를 함수로 만들기"
   ]
  },
  {
   "cell_type": "code",
   "execution_count": 66,
   "id": "23705c9a",
   "metadata": {},
   "outputs": [],
   "source": [
    "def scoring():\n",
    "    score=input('점수를 입력: ')\n",
    "    if int(score)>=60:\n",
    "        print('합격입니다')\n",
    "    else: print('불합격입니다')"
   ]
  },
  {
   "cell_type": "code",
   "execution_count": 68,
   "id": "6e34c298",
   "metadata": {},
   "outputs": [
    {
     "name": "stdout",
     "output_type": "stream",
     "text": [
      "점수를 입력: 13\n",
      "불합격입니다\n"
     ]
    }
   ],
   "source": [
    "scoring()"
   ]
  },
  {
   "cell_type": "code",
   "execution_count": 14,
   "id": "fdc6d66a",
   "metadata": {},
   "outputs": [],
   "source": [
    "def scoring():\n",
    "    num=[]\n",
    "    score=0\n",
    "    while True:\n",
    "        try:\n",
    "            score=int(input('점수를 입력: '))\n",
    "            num.append(score)\n",
    "        except ValueError:\n",
    "            print('입력을 종료합니다')\n",
    "            break\n",
    "    for idx,i in enumerate(num):\n",
    "        print(f'{idx+1}번 학생 {i}점')\n",
    "        if i >=60:\n",
    "            print(f'{idx+1}번 학생 합격')\n",
    "        else: print(f'{idx+1}번 학생 불합격')"
   ]
  },
  {
   "cell_type": "code",
   "execution_count": 15,
   "id": "d8badbc8",
   "metadata": {},
   "outputs": [
    {
     "name": "stdout",
     "output_type": "stream",
     "text": [
      "점수를 입력: 90\n",
      "점수를 입력: 89\n",
      "점수를 입력: 78\n",
      "점수를 입력: 6\n",
      "점수를 입력: 76\n",
      "점수를 입력: 445\n",
      "점수를 입력: 44\n",
      "점수를 입력: \n",
      "입력을 종료합니다\n",
      "1번 학생 90점\n",
      "1번 학생 합격\n",
      "2번 학생 89점\n",
      "2번 학생 합격\n",
      "3번 학생 78점\n",
      "3번 학생 합격\n",
      "4번 학생 6점\n",
      "4번 학생 불합격\n",
      "5번 학생 76점\n",
      "5번 학생 합격\n",
      "6번 학생 445점\n",
      "6번 학생 합격\n",
      "7번 학생 44점\n",
      "7번 학생 불합격\n"
     ]
    }
   ],
   "source": [
    "scoring()"
   ]
  },
  {
   "cell_type": "code",
   "execution_count": 1,
   "id": "769c03ea",
   "metadata": {},
   "outputs": [],
   "source": [
    "def main():\n",
    "    print('안녕하세요.')\n",
    "    while True:\n",
    "        try:\n",
    "            age = int(input('나이를 입력: '))\n",
    "            print('입력하신 나이는 다음과 같습니다',age)\n",
    "        except ValueError:\n",
    "            print('입력오류')\n",
    "            continue\n",
    "            print('만나서 반가웠습니다.')"
   ]
  },
  {
   "cell_type": "markdown",
   "id": "c3c97c00",
   "metadata": {},
   "source": [
    "# 현재 함수는 잘못입력하면 한방에 끝남\n",
    "# 사용자가 잘못 입력해도 다시 입력할 수 있도록 하기 원함\n",
    "# 우리가 배운 것중 하나를 사용하면 가능함"
   ]
  },
  {
   "cell_type": "code",
   "execution_count": 1,
   "id": "ac1934c8",
   "metadata": {},
   "outputs": [
    {
     "ename": "NameError",
     "evalue": "name 'main' is not defined",
     "output_type": "error",
     "traceback": [
      "\u001b[1;31m---------------------------------------------------------------------------\u001b[0m",
      "\u001b[1;31mNameError\u001b[0m                                 Traceback (most recent call last)",
      "\u001b[1;32m~\\AppData\\Local\\Temp\\ipykernel_3204\\451043146.py\u001b[0m in \u001b[0;36m<module>\u001b[1;34m\u001b[0m\n\u001b[1;32m----> 1\u001b[1;33m \u001b[0mmain\u001b[0m\u001b[1;33m(\u001b[0m\u001b[1;33m)\u001b[0m\u001b[1;33m\u001b[0m\u001b[1;33m\u001b[0m\u001b[0m\n\u001b[0m",
      "\u001b[1;31mNameError\u001b[0m: name 'main' is not defined"
     ]
    }
   ],
   "source": [
    "main()"
   ]
  },
  {
   "cell_type": "code",
   "execution_count": 16,
   "id": "1cc79e40",
   "metadata": {},
   "outputs": [],
   "source": [
    "def main():\n",
    "    print('안녕하세요.')\n",
    "    while True:\n",
    "        try:\n",
    "            age = int(input('나이를 입력: '))\n",
    "            print('입력하신 나이는 다음과 같습니다',age)\n",
    "            break\n",
    "        except ValueError:\n",
    "            print('입력오류')"
   ]
  },
  {
   "cell_type": "markdown",
   "id": "bd3dd072",
   "metadata": {},
   "source": [
    "# lambda"
   ]
  },
  {
   "cell_type": "code",
   "execution_count": 2,
   "id": "311b9779",
   "metadata": {},
   "outputs": [],
   "source": [
    "def show(s):\n",
    "    print(s)"
   ]
  },
  {
   "cell_type": "code",
   "execution_count": 3,
   "id": "2b0014d7",
   "metadata": {},
   "outputs": [
    {
     "name": "stdout",
     "output_type": "stream",
     "text": [
      "안녕하세요\n"
     ]
    }
   ],
   "source": [
    "show('안녕하세요')"
   ]
  },
  {
   "cell_type": "code",
   "execution_count": 4,
   "id": "9750c05c",
   "metadata": {},
   "outputs": [],
   "source": [
    "ans = lambda s: print(s)"
   ]
  },
  {
   "cell_type": "code",
   "execution_count": 5,
   "id": "7bdf8e8f",
   "metadata": {},
   "outputs": [
    {
     "name": "stdout",
     "output_type": "stream",
     "text": [
      "안녕하세요\n"
     ]
    }
   ],
   "source": [
    "ans('안녕하세요')"
   ]
  },
  {
   "cell_type": "code",
   "execution_count": 6,
   "id": "3df34538",
   "metadata": {},
   "outputs": [],
   "source": [
    "lst=['가렌','파이크','트리스타나','카타리나']"
   ]
  },
  {
   "cell_type": "markdown",
   "id": "f31cbbce",
   "metadata": {},
   "source": [
    "# map\n",
    "# filter"
   ]
  },
  {
   "cell_type": "code",
   "execution_count": 7,
   "id": "41811e6d",
   "metadata": {},
   "outputs": [
    {
     "data": {
      "text/plain": [
       "['챔피언 가렌', '챔피언 파이크', '챔피언 트리스타나', '챔피언 카타리나']"
      ]
     },
     "execution_count": 7,
     "metadata": {},
     "output_type": "execute_result"
    }
   ],
   "source": [
    "list(map(lambda x:'챔피언 '+x, lst))"
   ]
  },
  {
   "cell_type": "code",
   "execution_count": 8,
   "id": "24615b40",
   "metadata": {},
   "outputs": [
    {
     "data": {
      "text/plain": [
       "['파이크']"
      ]
     },
     "execution_count": 8,
     "metadata": {},
     "output_type": "execute_result"
    }
   ],
   "source": [
    "list(filter(lambda x:x if len(x)==3 else '',lst))#else 무조건"
   ]
  },
  {
   "cell_type": "code",
   "execution_count": 9,
   "id": "b16ec426",
   "metadata": {},
   "outputs": [],
   "source": [
    "num_list = [1,2,3,4,5,6,7,8,9,10]"
   ]
  },
  {
   "cell_type": "code",
   "execution_count": 15,
   "id": "222f36ac",
   "metadata": {},
   "outputs": [],
   "source": [
    "def sum_num(x):\n",
    "    b=x*2\n",
    "    return b"
   ]
  },
  {
   "cell_type": "code",
   "execution_count": 11,
   "id": "36e4c042",
   "metadata": {},
   "outputs": [
    {
     "data": {
      "text/plain": [
       "[2, 4, 6, 8, 10, 12, 14, 16, 18, 20]"
      ]
     },
     "execution_count": 11,
     "metadata": {},
     "output_type": "execute_result"
    }
   ],
   "source": [
    "list(map(lambda x:x*2,num_list))"
   ]
  },
  {
   "cell_type": "code",
   "execution_count": 13,
   "id": "91385f1c",
   "metadata": {},
   "outputs": [
    {
     "data": {
      "text/plain": [
       "[2, 4, 6, 8, 10]"
      ]
     },
     "execution_count": 13,
     "metadata": {},
     "output_type": "execute_result"
    }
   ],
   "source": [
    "list(filter(lambda x:x if x%2==0 else '',num_list))"
   ]
  },
  {
   "cell_type": "code",
   "execution_count": 16,
   "id": "28181ae0",
   "metadata": {},
   "outputs": [
    {
     "data": {
      "text/plain": [
       "[2, 4, 6, 8, 10, 12, 14, 16, 18, 20]"
      ]
     },
     "execution_count": 16,
     "metadata": {},
     "output_type": "execute_result"
    }
   ],
   "source": [
    "list(map(lambda x:sum_num(x),num_list))"
   ]
  },
  {
   "cell_type": "code",
   "execution_count": 27,
   "id": "b962487d",
   "metadata": {},
   "outputs": [],
   "source": [
    "def scoring():\n",
    "    num=[]\n",
    "    score=0\n",
    "    while True:\n",
    "        try:\n",
    "            score=int(input('점수를 입력: '))\n",
    "            num.append(score)\n",
    "        except ValueError:\n",
    "            print('입력을 종료합니다')\n",
    "            break\n",
    "        list(map(lambda x: str(x)+'점',num))\n",
    "        list(filter(lambda x:str(x)+'점 합격입니다.' if x>=60 else str(x)+'점 불합격입니다.',num))"
   ]
  },
  {
   "cell_type": "code",
   "execution_count": 28,
   "id": "5ef790e4",
   "metadata": {},
   "outputs": [
    {
     "name": "stdout",
     "output_type": "stream",
     "text": [
      "점수를 입력: 67\n",
      "점수를 입력: 68\n",
      "점수를 입력: 56\n",
      "점수를 입력: 46\n",
      "점수를 입력: \n",
      "입력을 종료합니다\n"
     ]
    }
   ],
   "source": [
    "scoring()"
   ]
  },
  {
   "cell_type": "markdown",
   "id": "14dfa93d",
   "metadata": {},
   "source": [
    "# class"
   ]
  },
  {
   "cell_type": "code",
   "execution_count": 32,
   "id": "bd6ef9cc",
   "metadata": {},
   "outputs": [
    {
     "name": "stdout",
     "output_type": "stream",
     "text": [
      "8\n"
     ]
    }
   ],
   "source": [
    "result1 =0\n",
    "result2 =0\n",
    "\n",
    "def add1(num):\n",
    "    global result1 #전역변수화\n",
    "    result1+= num\n",
    "    return result1\n",
    "\n",
    "def add2(num):\n",
    "    global result2 #전역변수화\n",
    "    result2+= num\n",
    "    return result2\n",
    "\n",
    "print(add(4))"
   ]
  },
  {
   "cell_type": "code",
   "execution_count": 43,
   "id": "6111f48d",
   "metadata": {},
   "outputs": [],
   "source": [
    "class Calculator:\n",
    "    def __init__(self):\n",
    "        self.result = 0\n",
    "    def add(self,num):\n",
    "        self.result += num\n",
    "        return self.result"
   ]
  },
  {
   "cell_type": "code",
   "execution_count": 45,
   "id": "eb109bfa",
   "metadata": {},
   "outputs": [],
   "source": [
    "class Calculator:\n",
    "    def __init__(self,first,second): #생성자\n",
    "        self.result = 0\n",
    "        self.first =first\n",
    "        self.second =second\n",
    "    def add(self,num):\n",
    "        self.result += num\n",
    "        return self.result\n",
    "    def multi(self):\n",
    "        mult = self.first*self.second\n",
    "        return mult"
   ]
  },
  {
   "cell_type": "code",
   "execution_count": 47,
   "id": "5654130e",
   "metadata": {},
   "outputs": [],
   "source": [
    "cal1=Calculator(4,2)"
   ]
  },
  {
   "cell_type": "code",
   "execution_count": 48,
   "id": "c7ef3ee0",
   "metadata": {},
   "outputs": [
    {
     "data": {
      "text/plain": [
       "8"
      ]
     },
     "execution_count": 48,
     "metadata": {},
     "output_type": "execute_result"
    }
   ],
   "source": [
    "cal1.multi()"
   ]
  },
  {
   "cell_type": "code",
   "execution_count": 34,
   "id": "fd578eb7",
   "metadata": {},
   "outputs": [],
   "source": [
    "cal1 =Calculator()\n",
    "cal2 =Calculator()"
   ]
  },
  {
   "cell_type": "code",
   "execution_count": 35,
   "id": "9e338d69",
   "metadata": {},
   "outputs": [
    {
     "data": {
      "text/plain": [
       "3"
      ]
     },
     "execution_count": 35,
     "metadata": {},
     "output_type": "execute_result"
    }
   ],
   "source": [
    "cal1.add(3)"
   ]
  },
  {
   "cell_type": "code",
   "execution_count": 37,
   "id": "5a9515ba",
   "metadata": {},
   "outputs": [
    {
     "data": {
      "text/plain": [
       "7"
      ]
     },
     "execution_count": 37,
     "metadata": {},
     "output_type": "execute_result"
    }
   ],
   "source": [
    "cal1.add(4)"
   ]
  },
  {
   "cell_type": "code",
   "execution_count": 39,
   "id": "fcde7958",
   "metadata": {},
   "outputs": [],
   "source": [
    "class MoreCalculator(Calculator):\n",
    "    def put(self,num):\n",
    "        self.result -= num\n",
    "        return self.result"
   ]
  },
  {
   "cell_type": "code",
   "execution_count": 41,
   "id": "63cb91ec",
   "metadata": {},
   "outputs": [],
   "source": [
    "a=MoreCalculator()"
   ]
  },
  {
   "cell_type": "code",
   "execution_count": 42,
   "id": "e39ec8b2",
   "metadata": {},
   "outputs": [
    {
     "data": {
      "text/plain": [
       "-3"
      ]
     },
     "execution_count": 42,
     "metadata": {},
     "output_type": "execute_result"
    }
   ],
   "source": [
    "a.put(3)"
   ]
  },
  {
   "cell_type": "markdown",
   "id": "53f6c6a5",
   "metadata": {},
   "source": [
    "# 파이썬 내부함수"
   ]
  },
  {
   "cell_type": "code",
   "execution_count": 49,
   "id": "90892b77",
   "metadata": {},
   "outputs": [],
   "source": [
    "a='11'\n",
    "b='12'"
   ]
  },
  {
   "cell_type": "code",
   "execution_count": 50,
   "id": "7ac3ceca",
   "metadata": {},
   "outputs": [
    {
     "data": {
      "text/plain": [
       "2873122153392"
      ]
     },
     "execution_count": 50,
     "metadata": {},
     "output_type": "execute_result"
    }
   ],
   "source": [
    "id(a)"
   ]
  },
  {
   "cell_type": "code",
   "execution_count": 51,
   "id": "e4164c74",
   "metadata": {},
   "outputs": [
    {
     "data": {
      "text/plain": [
       "2873157337456"
      ]
     },
     "execution_count": 51,
     "metadata": {},
     "output_type": "execute_result"
    }
   ],
   "source": [
    "id(b)"
   ]
  },
  {
   "cell_type": "markdown",
   "id": "51c18940",
   "metadata": {},
   "source": [
    "# len-리스트의 길이를 반환하는 함수"
   ]
  },
  {
   "cell_type": "code",
   "execution_count": 52,
   "id": "8f920f3f",
   "metadata": {},
   "outputs": [],
   "source": [
    "num_list = [1,45,63,54,56,23,76]"
   ]
  },
  {
   "cell_type": "code",
   "execution_count": 53,
   "id": "c92c757e",
   "metadata": {},
   "outputs": [
    {
     "data": {
      "text/plain": [
       "7"
      ]
     },
     "execution_count": 53,
     "metadata": {},
     "output_type": "execute_result"
    }
   ],
   "source": [
    "len(num_list)"
   ]
  },
  {
   "cell_type": "code",
   "execution_count": 55,
   "id": "5afe8a33",
   "metadata": {},
   "outputs": [
    {
     "name": "stdout",
     "output_type": "stream",
     "text": [
      "0\n",
      "1\n",
      "2\n",
      "3\n",
      "4\n",
      "5\n",
      "6\n"
     ]
    }
   ],
   "source": [
    "for i in range(0,len(num_list)):\n",
    "    print(i)"
   ]
  },
  {
   "cell_type": "code",
   "execution_count": 56,
   "id": "b9fe92c6",
   "metadata": {},
   "outputs": [
    {
     "data": {
      "text/plain": [
       "76"
      ]
     },
     "execution_count": 56,
     "metadata": {},
     "output_type": "execute_result"
    }
   ],
   "source": [
    "max(num_list)"
   ]
  },
  {
   "cell_type": "code",
   "execution_count": 57,
   "id": "d3d13f54",
   "metadata": {},
   "outputs": [
    {
     "data": {
      "text/plain": [
       "1"
      ]
     },
     "execution_count": 57,
     "metadata": {},
     "output_type": "execute_result"
    }
   ],
   "source": [
    "min(num_list)"
   ]
  },
  {
   "cell_type": "code",
   "execution_count": 60,
   "id": "db11623f",
   "metadata": {},
   "outputs": [
    {
     "data": {
      "text/plain": [
       "2"
      ]
     },
     "execution_count": 60,
     "metadata": {},
     "output_type": "execute_result"
    }
   ],
   "source": [
    "a=1.643\n",
    "round(a)"
   ]
  },
  {
   "cell_type": "markdown",
   "id": "8fe8ba62",
   "metadata": {},
   "source": [
    "# zip"
   ]
  },
  {
   "cell_type": "code",
   "execution_count": 61,
   "id": "314c0a13",
   "metadata": {},
   "outputs": [],
   "source": [
    "a= [1,2,3]\n",
    "b=[4,5,6]"
   ]
  },
  {
   "cell_type": "code",
   "execution_count": 62,
   "id": "69cb49a2",
   "metadata": {},
   "outputs": [
    {
     "data": {
      "text/plain": [
       "[(1, 4), (2, 5), (3, 6)]"
      ]
     },
     "execution_count": 62,
     "metadata": {},
     "output_type": "execute_result"
    }
   ],
   "source": [
    "list(zip(a,b))"
   ]
  },
  {
   "cell_type": "code",
   "execution_count": 63,
   "id": "5e847ce0",
   "metadata": {},
   "outputs": [
    {
     "data": {
      "text/plain": [
       "[('a', 't'), ('b', 'y'), ('v', 'p')]"
      ]
     },
     "execution_count": 63,
     "metadata": {},
     "output_type": "execute_result"
    }
   ],
   "source": [
    "list(zip('abv','typ'))"
   ]
  },
  {
   "cell_type": "markdown",
   "id": "bd782cc9",
   "metadata": {},
   "source": [
    "# 1부터 100까지 정수 중 짝수만 저장된 리스트를 생성하라"
   ]
  },
  {
   "cell_type": "code",
   "execution_count": 40,
   "id": "07707ee0",
   "metadata": {},
   "outputs": [
    {
     "data": {
      "text/plain": [
       "[2,\n",
       " 4,\n",
       " 6,\n",
       " 8,\n",
       " 10,\n",
       " 12,\n",
       " 14,\n",
       " 16,\n",
       " 18,\n",
       " 20,\n",
       " 22,\n",
       " 24,\n",
       " 26,\n",
       " 28,\n",
       " 30,\n",
       " 32,\n",
       " 34,\n",
       " 36,\n",
       " 38,\n",
       " 40,\n",
       " 42,\n",
       " 44,\n",
       " 46,\n",
       " 48,\n",
       " 50,\n",
       " 52,\n",
       " 54,\n",
       " 56,\n",
       " 58,\n",
       " 60,\n",
       " 62,\n",
       " 64,\n",
       " 66,\n",
       " 68,\n",
       " 70,\n",
       " 72,\n",
       " 74,\n",
       " 76,\n",
       " 78,\n",
       " 80,\n",
       " 82,\n",
       " 84,\n",
       " 86,\n",
       " 88,\n",
       " 90,\n",
       " 92,\n",
       " 94,\n",
       " 96,\n",
       " 98,\n",
       " 100]"
      ]
     },
     "execution_count": 40,
     "metadata": {},
     "output_type": "execute_result"
    }
   ],
   "source": [
    "lst=[]\n",
    "for i in range(1,101):\n",
    "    if i%2 ==0 :\n",
    "        lst.append(i)\n",
    "lst"
   ]
  },
  {
   "cell_type": "code",
   "execution_count": 41,
   "id": "23645ce6",
   "metadata": {},
   "outputs": [
    {
     "data": {
      "text/plain": [
       "[2,\n",
       " 4,\n",
       " 6,\n",
       " 8,\n",
       " 10,\n",
       " 12,\n",
       " 14,\n",
       " 16,\n",
       " 18,\n",
       " 20,\n",
       " 22,\n",
       " 24,\n",
       " 26,\n",
       " 28,\n",
       " 30,\n",
       " 32,\n",
       " 34,\n",
       " 36,\n",
       " 38,\n",
       " 40,\n",
       " 42,\n",
       " 44,\n",
       " 46,\n",
       " 48,\n",
       " 50,\n",
       " 52,\n",
       " 54,\n",
       " 56,\n",
       " 58,\n",
       " 60,\n",
       " 62,\n",
       " 64,\n",
       " 66,\n",
       " 68,\n",
       " 70,\n",
       " 72,\n",
       " 74,\n",
       " 76,\n",
       " 78,\n",
       " 80,\n",
       " 82,\n",
       " 84,\n",
       " 86,\n",
       " 88,\n",
       " 90,\n",
       " 92,\n",
       " 94,\n",
       " 96,\n",
       " 98,\n",
       " 100]"
      ]
     },
     "execution_count": 41,
     "metadata": {},
     "output_type": "execute_result"
    }
   ],
   "source": [
    "lst=[]\n",
    "for i in range(1,101):\n",
    "    if i%2 ==0 :\n",
    "        lst.append(i)\n",
    "lst"
   ]
  },
  {
   "cell_type": "markdown",
   "id": "d05f6111",
   "metadata": {},
   "source": [
    "# 1부터 50까지의 숫자중 5의 배수를 출력하는 코드"
   ]
  },
  {
   "cell_type": "code",
   "execution_count": 6,
   "id": "19c10d9d",
   "metadata": {},
   "outputs": [
    {
     "name": "stdout",
     "output_type": "stream",
     "text": [
      "5\n",
      "10\n",
      "15\n",
      "20\n",
      "25\n",
      "30\n",
      "35\n",
      "40\n",
      "45\n",
      "50\n"
     ]
    }
   ],
   "source": [
    "for i in range(1,51):\n",
    "    if i%5==0:\n",
    "        print(i)"
   ]
  },
  {
   "cell_type": "markdown",
   "id": "936a3f09",
   "metadata": {},
   "source": [
    "# 아래와 같이 리스트의 데이터를 출력하는 코드를 작성하시오"
   ]
  },
  {
   "cell_type": "code",
   "execution_count": 8,
   "id": "7c9773b5",
   "metadata": {},
   "outputs": [
    {
     "name": "stdout",
     "output_type": "stream",
     "text": [
      "0 32100\n",
      "1 32150\n",
      "2 32000\n",
      "3 32500\n"
     ]
    }
   ],
   "source": [
    "price_list = [32100,32150,32000,32500]\n",
    "for i in range(0,len(price_list)):\n",
    "    print(i,price_list[i])"
   ]
  },
  {
   "cell_type": "markdown",
   "id": "1bd5bf83",
   "metadata": {},
   "source": [
    "# 반복문을 사용하여 다음과 같이 2단부터 9단까지의 구구단을 딕셔너리에 저장하는 코드를 구현\n",
    "# 딕셔너리의 key값은 숫자형 type 딕셔너리의 value값은 리스트 type"
   ]
  },
  {
   "cell_type": "code",
   "execution_count": 21,
   "id": "7e7a627d",
   "metadata": {},
   "outputs": [
    {
     "data": {
      "text/plain": [
       "{2: [2, 4, 6, 8, 10, 12, 14, 16, 18],\n",
       " 3: [3, 6, 9, 12, 15, 18, 21, 24, 27],\n",
       " 4: [4, 8, 12, 16, 20, 24, 28, 32, 36],\n",
       " 5: [5, 10, 15, 20, 25, 30, 35, 40, 45],\n",
       " 6: [6, 12, 18, 24, 30, 36, 42, 48, 54],\n",
       " 7: [7, 14, 21, 28, 35, 42, 49, 56, 63],\n",
       " 8: [8, 16, 24, 32, 40, 48, 56, 64, 72],\n",
       " 9: [9, 18, 27, 36, 45, 54, 63, 72, 81]}"
      ]
     },
     "execution_count": 21,
     "metadata": {},
     "output_type": "execute_result"
    }
   ],
   "source": [
    "dic={}\n",
    "\n",
    "for i in range (2,10):\n",
    "    gugudan=[]   \n",
    "    dic[i]=gugudan\n",
    "    for j in range(1,10):\n",
    "        gugudan.append(i*j)\n",
    "        \n",
    "dic"
   ]
  },
  {
   "cell_type": "markdown",
   "id": "d5c740d1",
   "metadata": {},
   "source": [
    "# 리스트에 아래의 데이터가 저장되어 있다고 가정했을 때 아래와 반복문을 이용하여 아래와 같이 출력\n",
    "# car_num =[[1011,1022],[1201,7202]]"
   ]
  },
  {
   "cell_type": "code",
   "execution_count": 30,
   "id": "1c6a6ced",
   "metadata": {},
   "outputs": [
    {
     "name": "stdout",
     "output_type": "stream",
     "text": [
      "차량번호 1011\n",
      "==============\n",
      "차량번호 1022\n",
      "==============\n",
      "차량번호 1201\n",
      "==============\n",
      "차량번호 7202\n",
      "==============\n",
      "차량번호 2301\n",
      "==============\n",
      "차량번호 1302\n",
      "==============\n"
     ]
    }
   ],
   "source": [
    "car_num =[[1011,1022],[1201,7202],[2301,1302]]\n",
    "for i in (car_num):\n",
    "    for j in i:\n",
    "        print('차량번호',j)\n",
    "        print('==============')"
   ]
  },
  {
   "cell_type": "code",
   "execution_count": null,
   "id": "0e689835",
   "metadata": {},
   "outputs": [
    {
     "name": "stdout",
     "output_type": "stream",
     "text": [
      "주민번호를 입력하세요9606011111111\n",
      "주민번호 중간에 -표시를 넣어주세요\n",
      "주민번호를 입력하세요960606-1111111\n",
      "남자입니다\n",
      "주민번호를 입력하세요960603-2222222\n",
      "여자입니다\n",
      "주민번호를 입력하세요960606-3333333\n",
      "주민번호가 틀렸습니다\n"
     ]
    }
   ],
   "source": [
    "def number():\n",
    "    while True:\n",
    "        num=input('주민번호를 입력하세요')\n",
    "        if len(num)==13:\n",
    "            print('주민번호 중간에 -표시를 넣어주세요')\n",
    "            continue\n",
    "        elif len(num)!=14:\n",
    "            print('주민번호를 다시 입력하세요')\n",
    "            continue\n",
    "        elif num[7:8]=='1':\n",
    "            print('남자입니다')\n",
    "        elif num[7:8]=='2':\n",
    "            print('여자입니다')\n",
    "        else: print('주민번호가 틀렸습니다')\n",
    "number()"
   ]
  },
  {
   "cell_type": "code",
   "execution_count": 6,
   "id": "8f711f15",
   "metadata": {},
   "outputs": [
    {
     "name": "stdout",
     "output_type": "stream",
     "text": [
      "기종을 입력하세요tt\n"
     ]
    },
    {
     "ename": "KeyError",
     "evalue": "'tt'",
     "output_type": "error",
     "traceback": [
      "\u001b[1;31m---------------------------------------------------------------------------\u001b[0m",
      "\u001b[1;31mKeyError\u001b[0m                                  Traceback (most recent call last)",
      "\u001b[1;32m~\\AppData\\Local\\Temp\\ipykernel_10056\\856415706.py\u001b[0m in \u001b[0;36m<module>\u001b[1;34m\u001b[0m\n\u001b[0;32m      1\u001b[0m \u001b[0mphones\u001b[0m \u001b[1;33m=\u001b[0m \u001b[1;33m{\u001b[0m\u001b[1;34m'S5'\u001b[0m\u001b[1;33m:\u001b[0m\u001b[1;36m2014\u001b[0m\u001b[1;33m,\u001b[0m\u001b[1;34m'S7'\u001b[0m\u001b[1;33m:\u001b[0m\u001b[1;36m2016\u001b[0m\u001b[1;33m,\u001b[0m\u001b[1;34m'note8'\u001b[0m\u001b[1;33m:\u001b[0m\u001b[1;36m2017\u001b[0m\u001b[1;33m,\u001b[0m\u001b[1;34m'S9'\u001b[0m\u001b[1;33m:\u001b[0m\u001b[1;36m2018\u001b[0m\u001b[1;33m,\u001b[0m\u001b[1;34m'S10'\u001b[0m\u001b[1;33m:\u001b[0m\u001b[1;36m2019\u001b[0m\u001b[1;33m}\u001b[0m\u001b[1;33m\u001b[0m\u001b[1;33m\u001b[0m\u001b[0m\n\u001b[0;32m      2\u001b[0m \u001b[0mphone\u001b[0m\u001b[1;33m=\u001b[0m\u001b[0minput\u001b[0m\u001b[1;33m(\u001b[0m\u001b[1;34m'기종을 입력하세요'\u001b[0m\u001b[1;33m)\u001b[0m\u001b[1;33m\u001b[0m\u001b[1;33m\u001b[0m\u001b[0m\n\u001b[1;32m----> 3\u001b[1;33m \u001b[0mprint\u001b[0m\u001b[1;33m(\u001b[0m\u001b[1;34m'연도'\u001b[0m\u001b[1;33m,\u001b[0m\u001b[0mphones\u001b[0m\u001b[1;33m[\u001b[0m\u001b[0mphone\u001b[0m\u001b[1;33m]\u001b[0m\u001b[1;33m)\u001b[0m\u001b[1;33m\u001b[0m\u001b[1;33m\u001b[0m\u001b[0m\n\u001b[0m",
      "\u001b[1;31mKeyError\u001b[0m: 'tt'"
     ]
    }
   ],
   "source": [
    "phones = {'S5':2014,'S7':2016,'note8':2017,'S9':2018,'S10':2019}\n",
    "phone=input('기종을 입력하세요')\n",
    "print('연도',phones[phone])"
   ]
  },
  {
   "cell_type": "code",
   "execution_count": 9,
   "id": "bc873022",
   "metadata": {},
   "outputs": [],
   "source": [
    "phones = {'S5':2014,'S7':2016,'note8':2017,'S9':2018,'S10':2019}"
   ]
  },
  {
   "cell_type": "code",
   "execution_count": 12,
   "id": "ad3b54bd",
   "metadata": {},
   "outputs": [
    {
     "data": {
      "text/plain": [
       "2014"
      ]
     },
     "execution_count": 12,
     "metadata": {},
     "output_type": "execute_result"
    }
   ],
   "source": [
    "phone='S5'\n",
    "phones[phone]"
   ]
  },
  {
   "cell_type": "code",
   "execution_count": 3,
   "id": "fd473fa1",
   "metadata": {},
   "outputs": [
    {
     "name": "stdout",
     "output_type": "stream",
     "text": [
      "휴대전화 번호를 입력하세요010-4127-2278\n",
      "전화번호:  010-4127-####\n"
     ]
    }
   ],
   "source": [
    "num=input('휴대전화 번호를 입력하세요')\n",
    "num1=num[0:9]\n",
    "print('전화번호: ',num1+'####')"
   ]
  },
  {
   "cell_type": "code",
   "execution_count": 6,
   "id": "34c11847",
   "metadata": {},
   "outputs": [
    {
     "name": "stdout",
     "output_type": "stream",
     "text": [
      "휴대전화 번호를 입력하세요010-4127-2289\n",
      "전화번호:  010 4127 ####\n"
     ]
    }
   ],
   "source": [
    "num=input('휴대전화 번호를 입력하세요')\n",
    "b=num.split('-')\n",
    "b[2] ='####'\n",
    "print('전화번호: ',b[0],b[1],b[2])"
   ]
  },
  {
   "cell_type": "code",
   "execution_count": null,
   "id": "13bd7968",
   "metadata": {},
   "outputs": [],
   "source": []
  },
  {
   "cell_type": "code",
   "execution_count": null,
   "id": "3460cade",
   "metadata": {},
   "outputs": [],
   "source": []
  },
  {
   "cell_type": "code",
   "execution_count": null,
   "id": "f5049f91",
   "metadata": {},
   "outputs": [],
   "source": []
  },
  {
   "cell_type": "code",
   "execution_count": null,
   "id": "05923ce3",
   "metadata": {},
   "outputs": [],
   "source": []
  },
  {
   "cell_type": "code",
   "execution_count": null,
   "id": "4f3c7e9e",
   "metadata": {},
   "outputs": [],
   "source": []
  },
  {
   "cell_type": "code",
   "execution_count": null,
   "id": "82dc248c",
   "metadata": {},
   "outputs": [],
   "source": []
  },
  {
   "cell_type": "code",
   "execution_count": null,
   "id": "3111b853",
   "metadata": {},
   "outputs": [],
   "source": []
  },
  {
   "cell_type": "code",
   "execution_count": null,
   "id": "a860d168",
   "metadata": {},
   "outputs": [],
   "source": []
  },
  {
   "cell_type": "code",
   "execution_count": null,
   "id": "7c0da0d2",
   "metadata": {},
   "outputs": [],
   "source": []
  },
  {
   "cell_type": "code",
   "execution_count": null,
   "id": "acdfa174",
   "metadata": {},
   "outputs": [],
   "source": []
  },
  {
   "cell_type": "code",
   "execution_count": null,
   "id": "1d01df8b",
   "metadata": {},
   "outputs": [],
   "source": []
  },
  {
   "cell_type": "code",
   "execution_count": null,
   "id": "a5ebb5b5",
   "metadata": {},
   "outputs": [],
   "source": []
  }
 ],
 "metadata": {
  "kernelspec": {
   "display_name": "Python 3 (ipykernel)",
   "language": "python",
   "name": "python3"
  },
  "language_info": {
   "codemirror_mode": {
    "name": "ipython",
    "version": 3
   },
   "file_extension": ".py",
   "mimetype": "text/x-python",
   "name": "python",
   "nbconvert_exporter": "python",
   "pygments_lexer": "ipython3",
   "version": "3.9.13"
  }
 },
 "nbformat": 4,
 "nbformat_minor": 5
}
