{
 "cells": [
  {
   "cell_type": "markdown",
   "id": "de9d4c68",
   "metadata": {},
   "source": [
    "# 미니프로젝트"
   ]
  },
  {
   "cell_type": "raw",
   "id": "8487bc53",
   "metadata": {},
   "source": [
    "-APT를 통해서 라이엇데이터 수집하기(로우데이터 DF만들기)-티어는 자유\n",
    "-불러온 데이터를 전처리하기(중복제거, nar값 제거) matches,timeline합져서 최소컬럼 25개\n",
    "-위의 과정을 함수화해서 모듈만들기\n",
    "\n",
    "-전처리된 로우데이터를 오라클 or mysql에 저장하기 ->최소 5만개\n",
    "-팀과 함께 상의해서 흥미롭고 재밌을거 같은 주제 3가지 선정\n",
    "-지표분석을 통해 나온 df를 시각화 모듈을 사용해서 표현하세요(3개중 2개 필수)\n",
    "-전처리부터 시각화까지 캡쳐해서 폴더에 저장\n",
    "-개발보고서.ppt를 만들어서 간단하게 발표예정\n",
    "-모든 py파일, ipynb파일, 사진, 개발보고서, ppt 다 하나의 폴더로 압축\n",
    "-appdaa6@gmail.com\n",
    "-목요일 점심 전까지 오후에 발표"
   ]
  },
  {
   "cell_type": "raw",
   "id": "3c9f87f5",
   "metadata": {},
   "source": [
    "- 와드설치횟수 파괴횟수 승률\n",
    "- 프로필에 따른 승률\n",
    "- 퍼블 포블에 따른 승률"
   ]
  },
  {
   "cell_type": "code",
   "execution_count": null,
   "id": "c65cc1a9",
   "metadata": {},
   "outputs": [],
   "source": [
    "query_mysql = \"\"\"\n",
    "create table lol_mini (gameId varchar(20), gameDuration int, gameVersion varchar(20), \n",
    "summonerName varchar(50), summonerLevel int, participantId int, championName varchar(50), \n",
    "champExperience int, teamPosition varchar(20), teamId int, win varchar(20), kills int, \n",
    "deaths int, assists int, totalDamageDealtToChampions int, totalDamageTaken int, g_5 int\n",
    ", g_6 int, g_7 int, g_8 int, g_9 int, g_10 int, g_11 int, g_12 int, g_13 int\n",
    ", g_14 int, g_15 int, g_16 int, g_17 int, g_18 int, g_19 int, g_20 int, g_21 int\n",
    ", g_22 int, g_23 int, g_24 int, g_25 int, primary key (gameId, participantId))\n",
    "\"\"\""
   ]
  },
  {
   "cell_type": "code",
   "execution_count": null,
   "id": "1c9b17e3",
   "metadata": {},
   "outputs": [],
   "source": []
  },
  {
   "cell_type": "code",
   "execution_count": null,
   "id": "4dfbb355",
   "metadata": {},
   "outputs": [],
   "source": []
  },
  {
   "cell_type": "code",
   "execution_count": null,
   "id": "1f9238f7",
   "metadata": {},
   "outputs": [],
   "source": []
  },
  {
   "cell_type": "code",
   "execution_count": null,
   "id": "137a373c",
   "metadata": {},
   "outputs": [],
   "source": []
  },
  {
   "cell_type": "code",
   "execution_count": null,
   "id": "19695e69",
   "metadata": {},
   "outputs": [],
   "source": []
  },
  {
   "cell_type": "code",
   "execution_count": null,
   "id": "a09ff4d8",
   "metadata": {},
   "outputs": [],
   "source": []
  },
  {
   "cell_type": "code",
   "execution_count": null,
   "id": "4980cceb",
   "metadata": {},
   "outputs": [],
   "source": []
  },
  {
   "cell_type": "code",
   "execution_count": null,
   "id": "1a01625f",
   "metadata": {},
   "outputs": [],
   "source": []
  },
  {
   "cell_type": "code",
   "execution_count": null,
   "id": "793408a4",
   "metadata": {},
   "outputs": [],
   "source": []
  },
  {
   "cell_type": "code",
   "execution_count": null,
   "id": "37e36cd6",
   "metadata": {},
   "outputs": [],
   "source": []
  },
  {
   "cell_type": "code",
   "execution_count": null,
   "id": "d1f18efb",
   "metadata": {},
   "outputs": [],
   "source": []
  },
  {
   "cell_type": "code",
   "execution_count": null,
   "id": "04d98ced",
   "metadata": {},
   "outputs": [],
   "source": []
  },
  {
   "cell_type": "code",
   "execution_count": null,
   "id": "04160147",
   "metadata": {},
   "outputs": [],
   "source": []
  },
  {
   "cell_type": "code",
   "execution_count": null,
   "id": "f8ed15bd",
   "metadata": {},
   "outputs": [],
   "source": []
  }
 ],
 "metadata": {
  "kernelspec": {
   "display_name": "Python 3 (ipykernel)",
   "language": "python",
   "name": "python3"
  },
  "language_info": {
   "codemirror_mode": {
    "name": "ipython",
    "version": 3
   },
   "file_extension": ".py",
   "mimetype": "text/x-python",
   "name": "python",
   "nbconvert_exporter": "python",
   "pygments_lexer": "ipython3",
   "version": "3.9.13"
  }
 },
 "nbformat": 4,
 "nbformat_minor": 5
}
