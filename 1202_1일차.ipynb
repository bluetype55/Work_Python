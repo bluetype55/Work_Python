{
 "cells": [
  {
   "cell_type": "code",
   "execution_count": 19,
   "id": "f899bb7d",
   "metadata": {},
   "outputs": [
    {
     "data": {
      "text/plain": [
       "100.0"
      ]
     },
     "execution_count": 19,
     "metadata": {},
     "output_type": "execute_result"
    }
   ],
   "source": [
    "(100+200)/3"
   ]
  },
  {
   "cell_type": "code",
   "execution_count": 23,
   "id": "54421cc8",
   "metadata": {},
   "outputs": [
    {
     "name": "stdout",
     "output_type": "stream",
     "text": [
      "5\n",
      "2.4\n",
      "hello 100 3.4\n",
      "3+5= 8\n"
     ]
    }
   ],
   "source": [
    "print(5) #정수\n",
    "print(2.4) #실수\n",
    "print(\"hello\",100,3.4) #문자열\n",
    "print(\"3+5=\",3+5) "
   ]
  },
  {
   "cell_type": "code",
   "execution_count": 32,
   "id": "c96527e3",
   "metadata": {},
   "outputs": [
    {
     "name": "stdout",
     "output_type": "stream",
     "text": [
      "국어점수= 80.5 , 영어점수= 80.5\n"
     ]
    }
   ],
   "source": [
    "\n",
    "# 변수 : 메모리 할당되어 값(정수상수,실수상수,문자열상수)을 저장하는 공간\n",
    "kor=70\n",
    "kor=80\n",
    "eng=80.5\n",
    "kor=eng\n",
    "print(\"국어점수=\",kor,\", 영어점수=\",eng)"
   ]
  },
  {
   "cell_type": "code",
   "execution_count": 33,
   "id": "29e8f1da",
   "metadata": {},
   "outputs": [
    {
     "name": "stdout",
     "output_type": "stream",
     "text": [
      "150 270 90.0\n"
     ]
    }
   ],
   "source": [
    "x = 3*50\n",
    "y=x+120\n",
    "z=y/3\n",
    "print(x,y,z)"
   ]
  },
  {
   "cell_type": "code",
   "execution_count": 43,
   "id": "827f5ae4",
   "metadata": {},
   "outputs": [
    {
     "name": "stdout",
     "output_type": "stream",
     "text": [
      "(8, 2.0, 4.0)\n"
     ]
    }
   ],
   "source": [
    "# x, y, z\n",
    "x=2*2*2\n",
    "y=x/4\n",
    "z=y*y\n"
   ]
  },
  {
   "cell_type": "code",
   "execution_count": 44,
   "id": "bcfd2cb4",
   "metadata": {},
   "outputs": [
    {
     "name": "stdout",
     "output_type": "stream",
     "text": [
      "4.0\n"
     ]
    }
   ],
   "source": [
    "x = 2*2*2\n",
    "x = x/4\n",
    "x = x*x\n",
    "print(x)"
   ]
  },
  {
   "cell_type": "code",
   "execution_count": 46,
   "id": "65353060",
   "metadata": {},
   "outputs": [
    {
     "name": "stdout",
     "output_type": "stream",
     "text": [
      "20 10\n"
     ]
    }
   ],
   "source": [
    "a=10\n",
    "b=20\n",
    "#swap\n",
    "temp=a\n",
    "a=b\n",
    "b=temp\n",
    "print(a,b)"
   ]
  },
  {
   "cell_type": "code",
   "execution_count": 48,
   "id": "67f5889e",
   "metadata": {},
   "outputs": [
    {
     "name": "stdout",
     "output_type": "stream",
     "text": [
      "20 10\n"
     ]
    }
   ],
   "source": [
    "a,b = 10,20\n",
    "a,b = b,a\n",
    "print(a,b)"
   ]
  },
  {
   "cell_type": "code",
   "execution_count": 56,
   "id": "fdad524f",
   "metadata": {},
   "outputs": [
    {
     "name": "stdout",
     "output_type": "stream",
     "text": [
      "이순신 님 나이는  20 살\n",
      "이순신 님 hello~\n",
      "이순신 님 bye\n",
      "End\n",
      "홍길동 님 나이는  40 살\n",
      "홍길동 님 hello~\n",
      "홍길동 님 bye\n"
     ]
    }
   ],
   "source": [
    "#함수 : 특정기능을 수행하는 단위\n",
    "def greet(name,age):  #매개변수\n",
    "    \n",
    "    print(name, '님 나이는 ', age, '살')\n",
    "    print(name, \"님 hello~\")\n",
    "    print(name, '님 bye')\n",
    "    \n",
    "\n",
    "greet('이순신',20)  #(파라미터-인자)\n",
    "print('End')\n",
    "greet('홍길동',40)"
   ]
  },
  {
   "cell_type": "code",
   "execution_count": 55,
   "id": "9f99caf4",
   "metadata": {},
   "outputs": [
    {
     "name": "stdout",
     "output_type": "stream",
     "text": [
      "1 + 2 + 3 = 6\n",
      "Simple\n",
      "파이썬\n",
      "---------\n",
      "1 + 2 + 3 = 6\n",
      "Simple\n",
      "파이썬\n",
      "---------\n"
     ]
    }
   ],
   "source": [
    "def MH():\n",
    "    print( \"1 + 2 + 3 =\" , 1+2+3 )\n",
    "    print( \"Simple\" )\n",
    "    print( \"파이썬\" )\n",
    "    print( \"---------\" )\n",
    "\n",
    "MH()\n",
    "MH()\n"
   ]
  },
  {
   "cell_type": "code",
   "execution_count": 64,
   "id": "7dcf87a3",
   "metadata": {},
   "outputs": [
    {
     "name": "stdout",
     "output_type": "stream",
     "text": [
      "a+b= 30\n",
      "a-b= -10\n",
      "a*b= 200\n",
      "a/b= 0.5\n"
     ]
    }
   ],
   "source": [
    "a=10\n",
    "b=20\n",
    "\n",
    "def add(a,b):\n",
    "    print(\"a+b=\",a+b)\n",
    "\n",
    "def sub(a,b):\n",
    "    print(\"a-b=\",a-b)\n",
    "\n",
    "def mul(a,b):\n",
    "    print(\"a*b=\",a*b)\n",
    "\n",
    "def div(a,b):\n",
    "    print(\"a/b=\",a/b)\n",
    "\n",
    "add(a,b)\n",
    "sub(a,b)\n",
    "mul(a,b)\n",
    "div(a,b)\n"
   ]
  }
 ],
 "metadata": {
  "kernelspec": {
   "display_name": "Python 3 (ipykernel)",
   "language": "python",
   "name": "python3"
  },
  "language_info": {
   "codemirror_mode": {
    "name": "ipython",
    "version": 3
   },
   "file_extension": ".py",
   "mimetype": "text/x-python",
   "name": "python",
   "nbconvert_exporter": "python",
   "pygments_lexer": "ipython3",
   "version": "3.9.13"
  }
 },
 "nbformat": 4,
 "nbformat_minor": 5
}
