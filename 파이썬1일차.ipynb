{
 "cells": [
  {
   "cell_type": "code",
   "execution_count": 5,
   "id": "41520114",
   "metadata": {},
   "outputs": [
    {
     "data": {
      "text/plain": [
       "88"
      ]
     },
     "execution_count": 5,
     "metadata": {},
     "output_type": "execute_result"
    }
   ],
   "source": [
    "80+8\n"
   ]
  },
  {
   "cell_type": "code",
   "execution_count": 6,
   "id": "d53c04cb",
   "metadata": {},
   "outputs": [
    {
     "data": {
      "text/plain": [
       "'5'"
      ]
     },
     "execution_count": 6,
     "metadata": {},
     "output_type": "execute_result"
    }
   ],
   "source": [
    "'5'"
   ]
  },
  {
   "cell_type": "code",
   "execution_count": 9,
   "id": "d88181fb",
   "metadata": {},
   "outputs": [
    {
     "data": {
      "text/plain": [
       "str"
      ]
     },
     "execution_count": 9,
     "metadata": {},
     "output_type": "execute_result"
    }
   ],
   "source": [
    "type('5')\n"
   ]
  },
  {
   "cell_type": "code",
   "execution_count": 10,
   "id": "5c014444",
   "metadata": {},
   "outputs": [
    {
     "ename": "TypeError",
     "evalue": "can only concatenate str (not \"int\") to str",
     "output_type": "error",
     "traceback": [
      "\u001b[1;31m---------------------------------------------------------------------------\u001b[0m",
      "\u001b[1;31mTypeError\u001b[0m                                 Traceback (most recent call last)",
      "\u001b[1;32m~\\AppData\\Local\\Temp\\ipykernel_8952\\2483388707.py\u001b[0m in \u001b[0;36m<module>\u001b[1;34m\u001b[0m\n\u001b[1;32m----> 1\u001b[1;33m \u001b[1;34m'3'\u001b[0m\u001b[1;33m+\u001b[0m\u001b[1;36m5\u001b[0m\u001b[1;33m\u001b[0m\u001b[1;33m\u001b[0m\u001b[0m\n\u001b[0m",
      "\u001b[1;31mTypeError\u001b[0m: can only concatenate str (not \"int\") to str"
     ]
    }
   ],
   "source": [
    "'3'+5"
   ]
  },
  {
   "cell_type": "code",
   "execution_count": 20,
   "id": "1a0fd24d",
   "metadata": {},
   "outputs": [],
   "source": [
    "a='heel'\n",
    "b=3\n",
    "c=5"
   ]
  },
  {
   "cell_type": "code",
   "execution_count": 12,
   "id": "098ffe4d",
   "metadata": {},
   "outputs": [
    {
     "data": {
      "text/plain": [
       "int"
      ]
     },
     "execution_count": 12,
     "metadata": {},
     "output_type": "execute_result"
    }
   ],
   "source": [
    "type(a)"
   ]
  },
  {
   "cell_type": "code",
   "execution_count": 16,
   "id": "e8332e7b",
   "metadata": {},
   "outputs": [
    {
     "name": "stdout",
     "output_type": "stream",
     "text": [
      "5 3 5\n"
     ]
    }
   ],
   "source": [
    "print(a,b,c)"
   ]
  },
  {
   "cell_type": "code",
   "execution_count": 21,
   "id": "f1ea9719",
   "metadata": {},
   "outputs": [
    {
     "data": {
      "text/plain": [
       "2122395936368"
      ]
     },
     "execution_count": 21,
     "metadata": {},
     "output_type": "execute_result"
    }
   ],
   "source": [
    "id(a)"
   ]
  },
  {
   "cell_type": "code",
   "execution_count": 22,
   "id": "66debb2a",
   "metadata": {},
   "outputs": [],
   "source": [
    "x, y =0, 797"
   ]
  },
  {
   "cell_type": "code",
   "execution_count": 23,
   "id": "6915892e",
   "metadata": {},
   "outputs": [
    {
     "name": "stdout",
     "output_type": "stream",
     "text": [
      "0 797\n"
     ]
    }
   ],
   "source": [
    "print(x,y)"
   ]
  },
  {
   "cell_type": "code",
   "execution_count": 29,
   "id": "f0bf8c77",
   "metadata": {},
   "outputs": [
    {
     "name": "stdout",
     "output_type": "stream",
     "text": [
      "자신의 나이를 적어주세요: 15\n"
     ]
    }
   ],
   "source": [
    "age = int(input('자신의 나이를 적어주세요: '))"
   ]
  },
  {
   "cell_type": "code",
   "execution_count": 30,
   "id": "5112379f",
   "metadata": {},
   "outputs": [
    {
     "data": {
      "text/plain": [
       "int"
      ]
     },
     "execution_count": 30,
     "metadata": {},
     "output_type": "execute_result"
    }
   ],
   "source": [
    "type(age)"
   ]
  },
  {
   "cell_type": "code",
   "execution_count": 38,
   "id": "ee6a3376",
   "metadata": {},
   "outputs": [
    {
     "name": "stdout",
     "output_type": "stream",
     "text": [
      "sum:  55\n"
     ]
    }
   ],
   "source": [
    "sum = 0\n",
    "for i in[1,2,3,4,5,6,7,8,9,10]:\n",
    "    sum= sum+i\n",
    "print ('sum: ',sum)"
   ]
  },
  {
   "cell_type": "code",
   "execution_count": 42,
   "id": "8a3ada0b",
   "metadata": {},
   "outputs": [
    {
     "name": "stdout",
     "output_type": "stream",
     "text": [
      "sum:  55\n"
     ]
    }
   ],
   "source": [
    "sum=0\n",
    "for i in range(1,11):\n",
    "    sum+=i\n",
    "print('sum: ',sum)"
   ]
  },
  {
   "cell_type": "code",
   "execution_count": 53,
   "id": "7ca51550",
   "metadata": {},
   "outputs": [],
   "source": [
    "num_list = [1,2,3,4,5,6,7,8,'9',10,[1,2,3,4]]"
   ]
  },
  {
   "cell_type": "code",
   "execution_count": 56,
   "id": "3c47ab4c",
   "metadata": {},
   "outputs": [
    {
     "data": {
      "text/plain": [
       "int"
      ]
     },
     "execution_count": 56,
     "metadata": {},
     "output_type": "execute_result"
    }
   ],
   "source": [
    "type(num_list[-1]) #뒤에서 가져오기"
   ]
  },
  {
   "cell_type": "code",
   "execution_count": 57,
   "id": "4b7885ff",
   "metadata": {},
   "outputs": [
    {
     "data": {
      "text/plain": [
       "1"
      ]
     },
     "execution_count": 57,
     "metadata": {},
     "output_type": "execute_result"
    }
   ],
   "source": [
    "num_list[-1][0] #배열 안에 배열 값 가져오기"
   ]
  },
  {
   "cell_type": "code",
   "execution_count": 58,
   "id": "70b0add4",
   "metadata": {},
   "outputs": [
    {
     "data": {
      "text/plain": [
       "[1, 2, 3, 4]"
      ]
     },
     "execution_count": 58,
     "metadata": {},
     "output_type": "execute_result"
    }
   ],
   "source": [
    "num_list[0:4] #0부터 4개 가져오기"
   ]
  },
  {
   "cell_type": "code",
   "execution_count": 59,
   "id": "23318e5e",
   "metadata": {},
   "outputs": [
    {
     "data": {
      "text/plain": [
       "11"
      ]
     },
     "execution_count": 59,
     "metadata": {},
     "output_type": "execute_result"
    }
   ],
   "source": [
    "len(num_list) #리스트 길이"
   ]
  },
  {
   "cell_type": "code",
   "execution_count": 60,
   "id": "c4331b84",
   "metadata": {},
   "outputs": [],
   "source": [
    "num_list[0] = 'change'"
   ]
  },
  {
   "cell_type": "code",
   "execution_count": 61,
   "id": "a1a51fec",
   "metadata": {},
   "outputs": [
    {
     "data": {
      "text/plain": [
       "['change', 2, 3, 4, 5, 6, 7, 8, '9', 10, [1, 2, 3, 4]]"
      ]
     },
     "execution_count": 61,
     "metadata": {},
     "output_type": "execute_result"
    }
   ],
   "source": [
    "num_list"
   ]
  },
  {
   "cell_type": "code",
   "execution_count": 62,
   "id": "e84859a8",
   "metadata": {},
   "outputs": [],
   "source": [
    "num_list.append('plus')"
   ]
  },
  {
   "cell_type": "code",
   "execution_count": 65,
   "id": "eaa041c0",
   "metadata": {},
   "outputs": [],
   "source": [
    "num_list = [1,3,5,6,2,3,4,2,3,5,3,1]"
   ]
  },
  {
   "cell_type": "code",
   "execution_count": 69,
   "id": "284a2a9f",
   "metadata": {},
   "outputs": [
    {
     "data": {
      "text/plain": [
       "[6, 5, 5, 4, 3, 3, 3, 3, 2, 2, 1, 1]"
      ]
     },
     "execution_count": 69,
     "metadata": {},
     "output_type": "execute_result"
    }
   ],
   "source": [
    "num_list.sort()\n",
    "num_list.reverse()\n",
    "num_list"
   ]
  },
  {
   "cell_type": "code",
   "execution_count": 70,
   "id": "562be572",
   "metadata": {},
   "outputs": [
    {
     "data": {
      "text/plain": [
       "[1, 1, 2, 2, 3, 3, 3, 3, 4, 5, 5, 6]"
      ]
     },
     "execution_count": 70,
     "metadata": {},
     "output_type": "execute_result"
    }
   ],
   "source": [
    "num_list.reverse()\n",
    "num_list"
   ]
  },
  {
   "cell_type": "code",
   "execution_count": 72,
   "id": "f1c5e0e6",
   "metadata": {},
   "outputs": [],
   "source": [
    "eng_list=['a','t','s','e','w','f','s','x','c']"
   ]
  },
  {
   "cell_type": "code",
   "execution_count": 73,
   "id": "07df15b1",
   "metadata": {},
   "outputs": [
    {
     "data": {
      "text/plain": [
       "['a', 'c', 'e', 'f', 's', 's', 't', 'w', 'x']"
      ]
     },
     "execution_count": 73,
     "metadata": {},
     "output_type": "execute_result"
    }
   ],
   "source": [
    "eng_list.sort()\n",
    "eng_list"
   ]
  },
  {
   "cell_type": "code",
   "execution_count": 74,
   "id": "97b00ec1",
   "metadata": {},
   "outputs": [
    {
     "data": {
      "text/plain": [
       "3"
      ]
     },
     "execution_count": 74,
     "metadata": {},
     "output_type": "execute_result"
    }
   ],
   "source": [
    "eng_list.index('f')"
   ]
  },
  {
   "cell_type": "code",
   "execution_count": 76,
   "id": "9b521e7b",
   "metadata": {},
   "outputs": [
    {
     "data": {
      "text/plain": [
       "['a', 'c', 'g', 'g', 'e', 'f', 's', 's', 't', 'w', 'x']"
      ]
     },
     "execution_count": 76,
     "metadata": {},
     "output_type": "execute_result"
    }
   ],
   "source": [
    "eng_list.insert(2,'g')\n",
    "eng_list"
   ]
  },
  {
   "cell_type": "code",
   "execution_count": 78,
   "id": "16c95973",
   "metadata": {},
   "outputs": [],
   "source": [
    "eng_list.remove('g')"
   ]
  },
  {
   "cell_type": "code",
   "execution_count": 79,
   "id": "a9294035",
   "metadata": {},
   "outputs": [
    {
     "data": {
      "text/plain": [
       "['a', 'c', 'g', 'e', 'f', 's', 's', 't', 'w', 'x']"
      ]
     },
     "execution_count": 79,
     "metadata": {},
     "output_type": "execute_result"
    }
   ],
   "source": [
    "eng_list"
   ]
  },
  {
   "cell_type": "code",
   "execution_count": 80,
   "id": "b6220b3e",
   "metadata": {},
   "outputs": [],
   "source": [
    "gggg = eng_list.pop(1)"
   ]
  },
  {
   "cell_type": "code",
   "execution_count": 81,
   "id": "6003ff8f",
   "metadata": {},
   "outputs": [
    {
     "data": {
      "text/plain": [
       "'c'"
      ]
     },
     "execution_count": 81,
     "metadata": {},
     "output_type": "execute_result"
    }
   ],
   "source": [
    "gggg"
   ]
  },
  {
   "cell_type": "code",
   "execution_count": 82,
   "id": "2c1d4697",
   "metadata": {},
   "outputs": [
    {
     "data": {
      "text/plain": [
       "2"
      ]
     },
     "execution_count": 82,
     "metadata": {},
     "output_type": "execute_result"
    }
   ],
   "source": [
    "eng_list.count('s')"
   ]
  },
  {
   "cell_type": "code",
   "execution_count": 83,
   "id": "a4e88eab",
   "metadata": {},
   "outputs": [
    {
     "data": {
      "text/plain": [
       "[1, 2, 3, 4, 5]"
      ]
     },
     "execution_count": 83,
     "metadata": {},
     "output_type": "execute_result"
    }
   ],
   "source": [
    "a=[1,2,3]\n",
    "b=[4,5]\n",
    "a+b"
   ]
  },
  {
   "cell_type": "code",
   "execution_count": 84,
   "id": "d90106c2",
   "metadata": {},
   "outputs": [
    {
     "data": {
      "text/plain": [
       "[1, 2, 3, 4, 5]"
      ]
     },
     "execution_count": 84,
     "metadata": {},
     "output_type": "execute_result"
    }
   ],
   "source": [
    "a.extend(b)\n",
    "a"
   ]
  },
  {
   "cell_type": "code",
   "execution_count": 88,
   "id": "ed71703f",
   "metadata": {},
   "outputs": [
    {
     "data": {
      "text/plain": [
       "[3, 6, 9, 12, 15, 18, 21, 24, 27]"
      ]
     },
     "execution_count": 88,
     "metadata": {},
     "output_type": "execute_result"
    }
   ],
   "source": [
    "three_dan = []\n",
    "for i in range(1,10):\n",
    "    three_dan.append(3*i)\n",
    "three_dan"
   ]
  },
  {
   "cell_type": "code",
   "execution_count": 89,
   "id": "1e44f408",
   "metadata": {},
   "outputs": [
    {
     "data": {
      "text/plain": [
       "[[1, 2, 3, 4, 5, 6, 7, 8, 9],\n",
       " [2, 4, 6, 8, 10, 12, 14, 16, 18],\n",
       " [3, 6, 9, 12, 15, 18, 21, 24, 27],\n",
       " [4, 8, 12, 16, 20, 24, 28, 32, 36],\n",
       " [5, 10, 15, 20, 25, 30, 35, 40, 45],\n",
       " [6, 12, 18, 24, 30, 36, 42, 48, 54],\n",
       " [7, 14, 21, 28, 35, 42, 49, 56, 63],\n",
       " [8, 16, 24, 32, 40, 48, 56, 64, 72],\n",
       " [9, 18, 27, 36, 45, 54, 63, 72, 81]]"
      ]
     },
     "execution_count": 89,
     "metadata": {},
     "output_type": "execute_result"
    }
   ],
   "source": [
    "gugudan= []\n",
    "for i in range(1,10):\n",
    "    dan = []\n",
    "    gugudan.append(dan)\n",
    "    for j in range(1,10):\n",
    "        dan.append(i*j)\n",
    "        \n",
    "gugudan"
   ]
  },
  {
   "cell_type": "code",
   "execution_count": 91,
   "id": "8aab136e",
   "metadata": {},
   "outputs": [
    {
     "data": {
      "text/plain": [
       "[3, 6, 9, 12, 15, 18, 21, 24, 27]"
      ]
     },
     "execution_count": 91,
     "metadata": {},
     "output_type": "execute_result"
    }
   ],
   "source": [
    "three_list = [3*i for i in range(1,10)]\n",
    "three_list"
   ]
  },
  {
   "cell_type": "markdown",
   "id": "8afdf05e",
   "metadata": {},
   "source": [
    " # 튜플"
   ]
  },
  {
   "cell_type": "code",
   "execution_count": 96,
   "id": "9e096a11",
   "metadata": {},
   "outputs": [],
   "source": [
    "a=(1,2,3,4)\n",
    "b=(5,6)"
   ]
  },
  {
   "cell_type": "code",
   "execution_count": 94,
   "id": "0051bd6e",
   "metadata": {},
   "outputs": [
    {
     "data": {
      "text/plain": [
       "(2, 3)"
      ]
     },
     "execution_count": 94,
     "metadata": {},
     "output_type": "execute_result"
    }
   ],
   "source": [
    "a[1:3]"
   ]
  },
  {
   "cell_type": "code",
   "execution_count": 97,
   "id": "8d6ede14",
   "metadata": {},
   "outputs": [
    {
     "data": {
      "text/plain": [
       "(1, 2, 3, 4, 5, 6)"
      ]
     },
     "execution_count": 97,
     "metadata": {},
     "output_type": "execute_result"
    }
   ],
   "source": [
    "a+b"
   ]
  },
  {
   "cell_type": "code",
   "execution_count": 98,
   "id": "63793fe3",
   "metadata": {},
   "outputs": [
    {
     "data": {
      "text/plain": [
       "(1, 2, 3, 4, 1, 2, 3, 4, 1, 2, 3, 4)"
      ]
     },
     "execution_count": 98,
     "metadata": {},
     "output_type": "execute_result"
    }
   ],
   "source": [
    "a*3"
   ]
  },
  {
   "cell_type": "code",
   "execution_count": 99,
   "id": "23d3435e",
   "metadata": {},
   "outputs": [
    {
     "data": {
      "text/plain": [
       "4"
      ]
     },
     "execution_count": 99,
     "metadata": {},
     "output_type": "execute_result"
    }
   ],
   "source": [
    "len(a)"
   ]
  },
  {
   "cell_type": "markdown",
   "id": "d0ad8876",
   "metadata": {},
   "source": [
    "# 집합(SET)"
   ]
  },
  {
   "cell_type": "code",
   "execution_count": 101,
   "id": "fad81798",
   "metadata": {},
   "outputs": [],
   "source": [
    "a={1,2,3,4,5}\n",
    "b={3,4,5,6,7}\n",
    "c= set([1,2,3,4,5,5,5,5,5,5,5,5,5,5,5,5,5])"
   ]
  },
  {
   "cell_type": "code",
   "execution_count": 102,
   "id": "b0bf83fe",
   "metadata": {},
   "outputs": [
    {
     "data": {
      "text/plain": [
       "{1, 2, 3, 4, 5}"
      ]
     },
     "execution_count": 102,
     "metadata": {},
     "output_type": "execute_result"
    }
   ],
   "source": [
    "c"
   ]
  },
  {
   "cell_type": "code",
   "execution_count": 103,
   "id": "2b2cb386",
   "metadata": {},
   "outputs": [
    {
     "data": {
      "text/plain": [
       "{3, 4, 5}"
      ]
     },
     "execution_count": 103,
     "metadata": {},
     "output_type": "execute_result"
    }
   ],
   "source": [
    "a&b #교집합"
   ]
  },
  {
   "cell_type": "code",
   "execution_count": 104,
   "id": "29a5aa04",
   "metadata": {},
   "outputs": [
    {
     "data": {
      "text/plain": [
       "{3, 4, 5}"
      ]
     },
     "execution_count": 104,
     "metadata": {},
     "output_type": "execute_result"
    }
   ],
   "source": [
    "a.intersection(b)"
   ]
  },
  {
   "cell_type": "code",
   "execution_count": 105,
   "id": "cf884bdc",
   "metadata": {},
   "outputs": [
    {
     "data": {
      "text/plain": [
       "{1, 2, 3, 4, 5, 6, 7}"
      ]
     },
     "execution_count": 105,
     "metadata": {},
     "output_type": "execute_result"
    }
   ],
   "source": [
    "a|b #합집합"
   ]
  },
  {
   "cell_type": "code",
   "execution_count": 106,
   "id": "39087c68",
   "metadata": {},
   "outputs": [
    {
     "data": {
      "text/plain": [
       "{1, 2, 3, 4, 5, 6, 7}"
      ]
     },
     "execution_count": 106,
     "metadata": {},
     "output_type": "execute_result"
    }
   ],
   "source": [
    "a.union(b)"
   ]
  },
  {
   "cell_type": "code",
   "execution_count": 107,
   "id": "233f9c82",
   "metadata": {},
   "outputs": [
    {
     "data": {
      "text/plain": [
       "{1, 2}"
      ]
     },
     "execution_count": 107,
     "metadata": {},
     "output_type": "execute_result"
    }
   ],
   "source": [
    "a-b #차집합"
   ]
  },
  {
   "cell_type": "code",
   "execution_count": 108,
   "id": "bad4ec81",
   "metadata": {},
   "outputs": [
    {
     "data": {
      "text/plain": [
       "{6, 7}"
      ]
     },
     "execution_count": 108,
     "metadata": {},
     "output_type": "execute_result"
    }
   ],
   "source": [
    "b-a"
   ]
  },
  {
   "cell_type": "markdown",
   "id": "721a0911",
   "metadata": {},
   "source": [
    "# 딕셔너리\n",
    "# {key : value}"
   ]
  },
  {
   "cell_type": "code",
   "execution_count": 140,
   "id": "fce254e7",
   "metadata": {},
   "outputs": [
    {
     "data": {
      "text/plain": [
       "{'이름': '오건오', '직장': '게임아이'}"
      ]
     },
     "execution_count": 140,
     "metadata": {},
     "output_type": "execute_result"
    }
   ],
   "source": [
    "a = {'이름':'오건오','직장':'게임아이'}\n",
    "a"
   ]
  },
  {
   "cell_type": "code",
   "execution_count": 127,
   "id": "1bf64575",
   "metadata": {},
   "outputs": [],
   "source": [
    "a['사는 곳'] = '인천'"
   ]
  },
  {
   "cell_type": "code",
   "execution_count": 128,
   "id": "36ebe618",
   "metadata": {},
   "outputs": [
    {
     "data": {
      "text/plain": [
       "{'이름': '오건오',\n",
       " '직장': '게임아이',\n",
       " '사는 곳': '인천',\n",
       " '좋아하는 음식': ['피자', '치킨', '마라탕'],\n",
       " '싫어하는 음식': ['생선']}"
      ]
     },
     "execution_count": 128,
     "metadata": {},
     "output_type": "execute_result"
    }
   ],
   "source": [
    "a"
   ]
  },
  {
   "cell_type": "code",
   "execution_count": 114,
   "id": "7db8b7dc",
   "metadata": {},
   "outputs": [],
   "source": [
    "a['좋아하는 음식'] =['피자','치킨','마라탕']"
   ]
  },
  {
   "cell_type": "code",
   "execution_count": 115,
   "id": "91e2a37a",
   "metadata": {},
   "outputs": [
    {
     "data": {
      "text/plain": [
       "{'이름': '오건오', '직장': '게임아이', '사는 곳': '인천', '좋아하는 음식': ['피자', '치킨', '마라탕']}"
      ]
     },
     "execution_count": 115,
     "metadata": {},
     "output_type": "execute_result"
    }
   ],
   "source": [
    "a"
   ]
  },
  {
   "cell_type": "code",
   "execution_count": 119,
   "id": "a59538ff",
   "metadata": {},
   "outputs": [
    {
     "data": {
      "text/plain": [
       "{'이름': '오건오',\n",
       " '직장': '게임아이',\n",
       " '사는 곳': '인천',\n",
       " '좋아하는 음식': ['피자', '치킨', '마라탕'],\n",
       " '싫어하는 음식': ['생선']}"
      ]
     },
     "execution_count": 119,
     "metadata": {},
     "output_type": "execute_result"
    }
   ],
   "source": [
    "a['싫어하는 음식'] = ['생선']\n",
    "a"
   ]
  },
  {
   "cell_type": "code",
   "execution_count": 117,
   "id": "b3183a8b",
   "metadata": {},
   "outputs": [],
   "source": [
    "del a['싫어하는 음식']"
   ]
  },
  {
   "cell_type": "code",
   "execution_count": 129,
   "id": "0947e7e9",
   "metadata": {},
   "outputs": [
    {
     "data": {
      "text/plain": [
       "{'이름': '오건오',\n",
       " '직장': '게임아이',\n",
       " '사는 곳': '인천',\n",
       " '좋아하는 음식': ['피자', '치킨', '마라탕'],\n",
       " '싫어하는 음식': ['생선']}"
      ]
     },
     "execution_count": 129,
     "metadata": {},
     "output_type": "execute_result"
    }
   ],
   "source": [
    "a"
   ]
  },
  {
   "cell_type": "code",
   "execution_count": 130,
   "id": "6c184249",
   "metadata": {},
   "outputs": [
    {
     "data": {
      "text/plain": [
       "'오건오'"
      ]
     },
     "execution_count": 130,
     "metadata": {},
     "output_type": "execute_result"
    }
   ],
   "source": [
    "a.get('이름')"
   ]
  },
  {
   "cell_type": "code",
   "execution_count": 131,
   "id": "9d8f8302",
   "metadata": {},
   "outputs": [],
   "source": [
    "a['이름']='기찬'"
   ]
  },
  {
   "cell_type": "code",
   "execution_count": 151,
   "id": "e2da20dd",
   "metadata": {},
   "outputs": [
    {
     "data": {
      "text/plain": [
       "dict_keys(['이름', '직장'])"
      ]
     },
     "execution_count": 151,
     "metadata": {},
     "output_type": "execute_result"
    }
   ],
   "source": [
    "a.keys()"
   ]
  },
  {
   "cell_type": "code",
   "execution_count": 134,
   "id": "8ef4c0a9",
   "metadata": {},
   "outputs": [
    {
     "data": {
      "text/plain": [
       "['이름', '직장', '사는 곳', '좋아하는 음식', '싫어하는 음식']"
      ]
     },
     "execution_count": 134,
     "metadata": {},
     "output_type": "execute_result"
    }
   ],
   "source": [
    "list(a.keys())"
   ]
  },
  {
   "cell_type": "code",
   "execution_count": 153,
   "id": "826ed0cd",
   "metadata": {},
   "outputs": [
    {
     "data": {
      "text/plain": [
       "dict_values(['오건오', '게임아이'])"
      ]
     },
     "execution_count": 153,
     "metadata": {},
     "output_type": "execute_result"
    }
   ],
   "source": [
    "a.values()"
   ]
  },
  {
   "cell_type": "code",
   "execution_count": 137,
   "id": "90055a3f",
   "metadata": {},
   "outputs": [
    {
     "data": {
      "text/plain": [
       "[('이름', '기찬'),\n",
       " ('직장', '게임아이'),\n",
       " ('사는 곳', '인천'),\n",
       " ('좋아하는 음식', ['피자', '치킨', '마라탕']),\n",
       " ('싫어하는 음식', ['생선'])]"
      ]
     },
     "execution_count": 137,
     "metadata": {},
     "output_type": "execute_result"
    }
   ],
   "source": [
    "list(a.items())"
   ]
  },
  {
   "cell_type": "code",
   "execution_count": 138,
   "id": "71f49e86",
   "metadata": {},
   "outputs": [],
   "source": [
    "a.clear()"
   ]
  },
  {
   "cell_type": "code",
   "execution_count": 141,
   "id": "2a2b4358",
   "metadata": {},
   "outputs": [
    {
     "data": {
      "text/plain": [
       "{'이름': '오건오', '직장': '게임아이'}"
      ]
     },
     "execution_count": 141,
     "metadata": {},
     "output_type": "execute_result"
    }
   ],
   "source": [
    "a"
   ]
  },
  {
   "cell_type": "code",
   "execution_count": 143,
   "id": "198f36e3",
   "metadata": {},
   "outputs": [
    {
     "data": {
      "text/plain": [
       "False"
      ]
     },
     "execution_count": 143,
     "metadata": {},
     "output_type": "execute_result"
    }
   ],
   "source": [
    "'이0' in a"
   ]
  },
  {
   "cell_type": "code",
   "execution_count": 144,
   "id": "2b3212ee",
   "metadata": {},
   "outputs": [],
   "source": [
    "icecream = ['서주아이스바','아맛나','바밤바','비비빅']"
   ]
  },
  {
   "cell_type": "markdown",
   "id": "bcd8738b",
   "metadata": {},
   "source": [
    "# for문 사용 딕셔너리 만들기\n",
    "# {1:서주아이스바, 2:아맛나, 3:바밤바, 4:비비빅}"
   ]
  },
  {
   "cell_type": "code",
   "execution_count": 170,
   "id": "c50986d5",
   "metadata": {},
   "outputs": [
    {
     "data": {
      "text/plain": [
       "{0: '서주아이스바', 1: '아맛나', 2: '바밤바', 3: '비비빅'}"
      ]
     },
     "execution_count": 170,
     "metadata": {},
     "output_type": "execute_result"
    }
   ],
   "source": [
    "a={}\n",
    "for i in range(0,len(icecream)):\n",
    "    a[i]=icecream[i]\n",
    "a"
   ]
  },
  {
   "cell_type": "code",
   "execution_count": 172,
   "id": "0241f879",
   "metadata": {},
   "outputs": [
    {
     "data": {
      "text/plain": [
       "{0: '서주아이스바', 1: '아맛나', 2: '바밤바', 3: '비비빅'}"
      ]
     },
     "execution_count": 172,
     "metadata": {},
     "output_type": "execute_result"
    }
   ],
   "source": [
    "{i:icecream[i] for i in range(len(icecream))}"
   ]
  },
  {
   "cell_type": "markdown",
   "id": "bfa3ed23",
   "metadata": {},
   "source": [
    "# if문"
   ]
  },
  {
   "cell_type": "code",
   "execution_count": 176,
   "id": "3ef20b0d",
   "metadata": {},
   "outputs": [
    {
     "name": "stdout",
     "output_type": "stream",
     "text": [
      "800원이 아닙니다.\n"
     ]
    }
   ],
   "source": [
    "a = 700\n",
    "\n",
    "if a == 1000:\n",
    "    print('천원이 있습니다.')\n",
    "elif a != 800:\n",
    "    print('800원이 아닙니다.')\n",
    "else:\n",
    "    print('돈이 없습니다')"
   ]
  },
  {
   "cell_type": "code",
   "execution_count": 178,
   "id": "1285e710",
   "metadata": {},
   "outputs": [
    {
     "data": {
      "text/plain": [
       "False"
      ]
     },
     "execution_count": 178,
     "metadata": {},
     "output_type": "execute_result"
    }
   ],
   "source": [
    "a!=700"
   ]
  },
  {
   "cell_type": "code",
   "execution_count": 179,
   "id": "2769d3a7",
   "metadata": {},
   "outputs": [
    {
     "name": "stdout",
     "output_type": "stream",
     "text": [
      "돈이 있다.\n"
     ]
    }
   ],
   "source": [
    "money = None\n",
    "if not money:\n",
    "    print('돈이 없다.')\n",
    "else:\n",
    "    print('돈이 있다.')"
   ]
  },
  {
   "cell_type": "code",
   "execution_count": 180,
   "id": "1adf23d1",
   "metadata": {},
   "outputs": [
    {
     "name": "stdout",
     "output_type": "stream",
     "text": [
      "숫자가 없어요\n"
     ]
    }
   ],
   "source": [
    "money_list = [100,200,300]\n",
    "if 400 in money_list:\n",
    "    print('숫자가 있어요')\n",
    "else:\n",
    "    print('숫자가 없어요')"
   ]
  },
  {
   "cell_type": "code",
   "execution_count": 181,
   "id": "6594c576",
   "metadata": {},
   "outputs": [
    {
     "name": "stdout",
     "output_type": "stream",
     "text": [
      "맞음\n"
     ]
    }
   ],
   "source": [
    "money_list = [100,200,300]\n",
    "if 100 in money_list or 400 in money_list:\n",
    "    print('맞음')\n",
    "else:\n",
    "    print('틀림')"
   ]
  },
  {
   "cell_type": "markdown",
   "id": "42730221",
   "metadata": {},
   "source": [
    "# if문을 사용, input 함수를 사용해서 받은 점수가 100점일 경우 A, 90~99까지 B, 80~89까지 C, 70~79까지 D, 나머지 F, 로해서  print로 어떤 학점이 나오는지 볼 수 있는 코딩"
   ]
  },
  {
   "cell_type": "code",
   "execution_count": 187,
   "id": "7aa7c1f7",
   "metadata": {},
   "outputs": [
    {
     "name": "stdout",
     "output_type": "stream",
     "text": [
      "점수를 입력: 78\n",
      "학점은 D입니다\n"
     ]
    }
   ],
   "source": [
    "a= int(input('점수를 입력: '))\n",
    "if a==100:\n",
    "    print('학점은 A입니다')\n",
    "elif 90<=a<100:\n",
    "    print('학점은 B입니다')\n",
    "elif 80<=a<90:\n",
    "    print('학점은 C입니다')\n",
    "elif 70<=a<80:\n",
    "    print('학점은 D입니다')\n",
    "else:\n",
    "    print('학점은 F입니다')"
   ]
  },
  {
   "cell_type": "code",
   "execution_count": null,
   "id": "ec2eb6f8",
   "metadata": {},
   "outputs": [],
   "source": []
  },
  {
   "cell_type": "code",
   "execution_count": null,
   "id": "86230fd0",
   "metadata": {},
   "outputs": [],
   "source": []
  },
  {
   "cell_type": "code",
   "execution_count": null,
   "id": "81fc7bdd",
   "metadata": {},
   "outputs": [],
   "source": []
  },
  {
   "cell_type": "code",
   "execution_count": null,
   "id": "29b0f791",
   "metadata": {},
   "outputs": [],
   "source": []
  },
  {
   "cell_type": "code",
   "execution_count": null,
   "id": "7fa939da",
   "metadata": {},
   "outputs": [],
   "source": []
  },
  {
   "cell_type": "code",
   "execution_count": null,
   "id": "a32f145d",
   "metadata": {},
   "outputs": [],
   "source": []
  }
 ],
 "metadata": {
  "kernelspec": {
   "display_name": "Python 3 (ipykernel)",
   "language": "python",
   "name": "python3"
  },
  "language_info": {
   "codemirror_mode": {
    "name": "ipython",
    "version": 3
   },
   "file_extension": ".py",
   "mimetype": "text/x-python",
   "name": "python",
   "nbconvert_exporter": "python",
   "pygments_lexer": "ipython3",
   "version": "3.9.13"
  }
 },
 "nbformat": 4,
 "nbformat_minor": 5
}
