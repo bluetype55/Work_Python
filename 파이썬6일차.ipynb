{
 "cells": [
  {
   "cell_type": "code",
   "execution_count": 1,
   "id": "3fab3b11",
   "metadata": {},
   "outputs": [],
   "source": [
    "import pandas as pd\n",
    "import requests\n",
    "import cx_Oracle\n",
    "import pymysql"
   ]
  },
  {
   "cell_type": "markdown",
   "id": "71b023a3",
   "metadata": {},
   "source": [
    "# 오라클"
   ]
  },
  {
   "cell_type": "code",
   "execution_count": 3,
   "id": "87bc4265",
   "metadata": {},
   "outputs": [],
   "source": [
    "dsn = cx_Oracle.makedsn('localhost',1521,'xe')\n",
    "oracle_conn = cx_Oracle.connect(user='icia',password='1234',dsn=dsn)\n",
    "sql_oracle = oracle_conn.cursor()"
   ]
  },
  {
   "cell_type": "code",
   "execution_count": 7,
   "id": "85e1783f",
   "metadata": {},
   "outputs": [],
   "source": [
    "query = 'create table test3(id number(1), name varchar(5), constraint test114_pk primary key(id))'"
   ]
  },
  {
   "cell_type": "code",
   "execution_count": 8,
   "id": "2383345a",
   "metadata": {},
   "outputs": [],
   "source": [
    "sql_oracle.execute(query)"
   ]
  },
  {
   "cell_type": "code",
   "execution_count": 9,
   "id": "7b1ea9a3",
   "metadata": {},
   "outputs": [],
   "source": [
    "query2 = 'select * from test3'"
   ]
  },
  {
   "cell_type": "code",
   "execution_count": 15,
   "id": "59d7cff2",
   "metadata": {},
   "outputs": [
    {
     "name": "stderr",
     "output_type": "stream",
     "text": [
      "C:\\Users\\user\\Anaconda3\\lib\\site-packages\\pandas\\io\\sql.py:762: UserWarning: pandas only support SQLAlchemy connectable(engine/connection) ordatabase string URI or sqlite3 DBAPI2 connectionother DBAPI2 objects are not tested, please consider using SQLAlchemy\n",
      "  warnings.warn(\n"
     ]
    },
    {
     "data": {
      "text/html": [
       "<div>\n",
       "<style scoped>\n",
       "    .dataframe tbody tr th:only-of-type {\n",
       "        vertical-align: middle;\n",
       "    }\n",
       "\n",
       "    .dataframe tbody tr th {\n",
       "        vertical-align: top;\n",
       "    }\n",
       "\n",
       "    .dataframe thead th {\n",
       "        text-align: right;\n",
       "    }\n",
       "</style>\n",
       "<table border=\"1\" class=\"dataframe\">\n",
       "  <thead>\n",
       "    <tr style=\"text-align: right;\">\n",
       "      <th></th>\n",
       "      <th>ID</th>\n",
       "      <th>NAME</th>\n",
       "    </tr>\n",
       "  </thead>\n",
       "  <tbody>\n",
       "    <tr>\n",
       "      <th>0</th>\n",
       "      <td>3</td>\n",
       "      <td>test3</td>\n",
       "    </tr>\n",
       "  </tbody>\n",
       "</table>\n",
       "</div>"
      ],
      "text/plain": [
       "   ID   NAME\n",
       "0   3  test3"
      ]
     },
     "execution_count": 15,
     "metadata": {},
     "output_type": "execute_result"
    }
   ],
   "source": [
    "pd.read_sql(sql=query2, con=oracle_conn)"
   ]
  },
  {
   "cell_type": "code",
   "execution_count": 13,
   "id": "273cb6ed",
   "metadata": {},
   "outputs": [],
   "source": [
    "query3 = \"insert into test3(id,name) values(3,'test3')\""
   ]
  },
  {
   "cell_type": "code",
   "execution_count": 14,
   "id": "991a44ff",
   "metadata": {},
   "outputs": [],
   "source": [
    "sql_oracle.execute(query3)"
   ]
  },
  {
   "cell_type": "code",
   "execution_count": 16,
   "id": "29ea00ff",
   "metadata": {},
   "outputs": [],
   "source": [
    "oracle_conn.commit()\n",
    "sql_oracle.close()\n",
    "oracle_conn.close()"
   ]
  },
  {
   "cell_type": "markdown",
   "id": "39ff95b6",
   "metadata": {},
   "source": [
    "# mysql"
   ]
  },
  {
   "cell_type": "code",
   "execution_count": 17,
   "id": "7ac9b37a",
   "metadata": {},
   "outputs": [],
   "source": [
    "conn =pymysql.connect(host='localhost',user='root',password='1234',db='icia',charset='utf8')\n",
    "sql_mysql = conn.cursor()"
   ]
  },
  {
   "cell_type": "code",
   "execution_count": 18,
   "id": "5e6e5e87",
   "metadata": {},
   "outputs": [],
   "source": [
    "query2 = 'create table test_mysql2(id smallint, name varchar(5),PRIMARY KEY(id))'"
   ]
  },
  {
   "cell_type": "code",
   "execution_count": 20,
   "id": "1d5bf55f",
   "metadata": {},
   "outputs": [
    {
     "data": {
      "text/plain": [
       "0"
      ]
     },
     "execution_count": 20,
     "metadata": {},
     "output_type": "execute_result"
    }
   ],
   "source": [
    "sql_mysql.execute(query2)"
   ]
  },
  {
   "cell_type": "code",
   "execution_count": 19,
   "id": "52ba7ad3",
   "metadata": {},
   "outputs": [],
   "source": [
    "query3='insert into test_mysql2(id,name) values(3, \"test3\")'"
   ]
  },
  {
   "cell_type": "code",
   "execution_count": 21,
   "id": "fcaf55ed",
   "metadata": {},
   "outputs": [],
   "source": [
    "sql_mysql.execute(query3)\n",
    "result = sql_mysql.fetchall()\n",
    "conn.commit()"
   ]
  },
  {
   "cell_type": "code",
   "execution_count": 22,
   "id": "a0e15ccd",
   "metadata": {},
   "outputs": [],
   "source": [
    "query4 = 'select * from test_mysql2'"
   ]
  },
  {
   "cell_type": "code",
   "execution_count": 39,
   "id": "f5b5b78d",
   "metadata": {},
   "outputs": [
    {
     "name": "stdout",
     "output_type": "stream",
     "text": [
      "((3, 'test4'),)\n"
     ]
    }
   ],
   "source": [
    "sql_mysql.execute(query4)\n",
    "result = sql_mysql.fetchall()\n",
    "# conn.close()\n",
    "print(result)"
   ]
  },
  {
   "cell_type": "code",
   "execution_count": 37,
   "id": "7271e5ce",
   "metadata": {},
   "outputs": [],
   "source": [
    "query = 'insert into test_mysql2(id,name) values(3, \"test3\") on duplicate key update id = 3 , name = \"test4\"'"
   ]
  },
  {
   "cell_type": "code",
   "execution_count": 38,
   "id": "beb8d6c5",
   "metadata": {},
   "outputs": [],
   "source": [
    "sql_mysql.execute(query)\n",
    "result = sql_mysql.fetchall()\n",
    "conn.commit()"
   ]
  },
  {
   "cell_type": "code",
   "execution_count": 35,
   "id": "bb9174f2",
   "metadata": {},
   "outputs": [],
   "source": [
    "query = 'delete from test_mysql2 where id = 4'"
   ]
  },
  {
   "cell_type": "markdown",
   "id": "cfc5ee6c",
   "metadata": {},
   "source": [
    "# pip3 install pandas\n",
    "# pip3 install pymysql\n",
    "# pip3 install cx_Oracle"
   ]
  },
  {
   "cell_type": "code",
   "execution_count": 2,
   "id": "68834061",
   "metadata": {},
   "outputs": [],
   "source": [
    "import my_utils as mu"
   ]
  },
  {
   "cell_type": "code",
   "execution_count": 2,
   "id": "010d7065",
   "metadata": {},
   "outputs": [
    {
     "name": "stdout",
     "output_type": "stream",
     "text": [
      "oracle open!\n"
     ]
    }
   ],
   "source": [
    "mu.db_open()"
   ]
  },
  {
   "cell_type": "code",
   "execution_count": 7,
   "id": "b3905008",
   "metadata": {},
   "outputs": [],
   "source": [
    "query = 'select * from test3'"
   ]
  },
  {
   "cell_type": "code",
   "execution_count": 14,
   "id": "f2e03a9c",
   "metadata": {},
   "outputs": [
    {
     "data": {
      "text/html": [
       "<div>\n",
       "<style scoped>\n",
       "    .dataframe tbody tr th:only-of-type {\n",
       "        vertical-align: middle;\n",
       "    }\n",
       "\n",
       "    .dataframe tbody tr th {\n",
       "        vertical-align: top;\n",
       "    }\n",
       "\n",
       "    .dataframe thead th {\n",
       "        text-align: right;\n",
       "    }\n",
       "</style>\n",
       "<table border=\"1\" class=\"dataframe\">\n",
       "  <thead>\n",
       "    <tr style=\"text-align: right;\">\n",
       "      <th></th>\n",
       "      <th>ID</th>\n",
       "      <th>NAME</th>\n",
       "    </tr>\n",
       "  </thead>\n",
       "  <tbody>\n",
       "    <tr>\n",
       "      <th>0</th>\n",
       "      <td>3</td>\n",
       "      <td>test3</td>\n",
       "    </tr>\n",
       "    <tr>\n",
       "      <th>1</th>\n",
       "      <td>4</td>\n",
       "      <td>test4</td>\n",
       "    </tr>\n",
       "  </tbody>\n",
       "</table>\n",
       "</div>"
      ],
      "text/plain": [
       "   ID   NAME\n",
       "0   3  test3\n",
       "1   4  test4"
      ]
     },
     "execution_count": 14,
     "metadata": {},
     "output_type": "execute_result"
    }
   ],
   "source": [
    "mu.oracle_execute(query)"
   ]
  },
  {
   "cell_type": "code",
   "execution_count": 9,
   "id": "a5195b3f",
   "metadata": {},
   "outputs": [],
   "source": [
    "query2= \"insert into test3(id,name) values(4,'test4')\""
   ]
  },
  {
   "cell_type": "code",
   "execution_count": 10,
   "id": "80484bd6",
   "metadata": {},
   "outputs": [
    {
     "data": {
      "text/plain": [
       "'oracle 쿼리 성공!'"
      ]
     },
     "execution_count": 10,
     "metadata": {},
     "output_type": "execute_result"
    }
   ],
   "source": [
    "mu.oracle_execute(query2)"
   ]
  },
  {
   "cell_type": "code",
   "execution_count": 11,
   "id": "e1c71163",
   "metadata": {},
   "outputs": [
    {
     "data": {
      "text/plain": [
       "'오라클 닫힘!'"
      ]
     },
     "execution_count": 11,
     "metadata": {},
     "output_type": "execute_result"
    }
   ],
   "source": [
    "mu.oracle_close()"
   ]
  },
  {
   "cell_type": "markdown",
   "id": "c7b2921e",
   "metadata": {},
   "source": [
    "# mysql"
   ]
  },
  {
   "cell_type": "code",
   "execution_count": 3,
   "id": "304f7180",
   "metadata": {},
   "outputs": [],
   "source": [
    "conn = mu.connect_mysql('icia')"
   ]
  },
  {
   "cell_type": "code",
   "execution_count": 4,
   "id": "872799e2",
   "metadata": {},
   "outputs": [
    {
     "data": {
      "text/plain": [
       "((3, 'test3'),)"
      ]
     },
     "execution_count": 4,
     "metadata": {},
     "output_type": "execute_result"
    }
   ],
   "source": [
    "mu.mysql_execute('select * from test_mysql2',conn)"
   ]
  },
  {
   "cell_type": "code",
   "execution_count": 5,
   "id": "921dba23",
   "metadata": {},
   "outputs": [
    {
     "data": {
      "text/plain": [
       "[{'id': 3, 'name': 'test3'}]"
      ]
     },
     "execution_count": 5,
     "metadata": {},
     "output_type": "execute_result"
    }
   ],
   "source": [
    "mu.mysql_execute_dict('select * from test_mysql2',conn)"
   ]
  },
  {
   "cell_type": "code",
   "execution_count": 6,
   "id": "015a4483",
   "metadata": {},
   "outputs": [],
   "source": [
    "mu.mysql_execute('insert into test_mysql2(id,name) values(3,\"test3\") on duplicate key update id =3, name = \"test3\"',conn)\n",
    "conn.commit()\n",
    "conn.close()"
   ]
  },
  {
   "cell_type": "code",
   "execution_count": 7,
   "id": "e0bb2ec4",
   "metadata": {},
   "outputs": [],
   "source": [
    "url= 'http://openapi.seoul.go.kr:8088/(인증키)/xml/tbLnOpendataRentV/1/5/'"
   ]
  },
  {
   "cell_type": "code",
   "execution_count": 11,
   "id": "50218875",
   "metadata": {},
   "outputs": [],
   "source": [
    "df=mu.df_creater(url)"
   ]
  },
  {
   "cell_type": "code",
   "execution_count": 9,
   "id": "369cf222",
   "metadata": {},
   "outputs": [],
   "source": [
    "selc=['SGG_NM','BJDONG_NM','LAND_GBN_NM','FLR_NO', 'CNTRCT_DE', 'RENT_GBN', 'RENT_AREA', 'RENT_GTN', 'RENT_FEE', 'BLDG_NM', 'BUILD_YEAR']"
   ]
  },
  {
   "cell_type": "code",
   "execution_count": 13,
   "id": "503a35a3",
   "metadata": {},
   "outputs": [],
   "source": [
    "my_df = df[selc].copy()"
   ]
  },
  {
   "cell_type": "code",
   "execution_count": 14,
   "id": "c68c7b9f",
   "metadata": {},
   "outputs": [],
   "source": [
    "my_df.columns=['자치구명','법정동명','지번구분명','층수','계약일','전월세','면적','보증금','임대료','건물명','건축년도']"
   ]
  },
  {
   "cell_type": "code",
   "execution_count": 15,
   "id": "41ef02bb",
   "metadata": {},
   "outputs": [],
   "source": [
    "my_df = my_df.astype({'층수':'float','계약일':'int','면적':'float','보증금':'int','임대료':'int'})"
   ]
  },
  {
   "cell_type": "code",
   "execution_count": 16,
   "id": "f6b3bdfb",
   "metadata": {},
   "outputs": [
    {
     "data": {
      "text/html": [
       "<div>\n",
       "<style scoped>\n",
       "    .dataframe tbody tr th:only-of-type {\n",
       "        vertical-align: middle;\n",
       "    }\n",
       "\n",
       "    .dataframe tbody tr th {\n",
       "        vertical-align: top;\n",
       "    }\n",
       "\n",
       "    .dataframe thead th {\n",
       "        text-align: right;\n",
       "    }\n",
       "</style>\n",
       "<table border=\"1\" class=\"dataframe\">\n",
       "  <thead>\n",
       "    <tr style=\"text-align: right;\">\n",
       "      <th></th>\n",
       "      <th>자치구명</th>\n",
       "      <th>법정동명</th>\n",
       "      <th>지번구분명</th>\n",
       "      <th>층수</th>\n",
       "      <th>계약일</th>\n",
       "      <th>전월세</th>\n",
       "      <th>면적</th>\n",
       "      <th>보증금</th>\n",
       "      <th>임대료</th>\n",
       "      <th>건물명</th>\n",
       "      <th>건축년도</th>\n",
       "    </tr>\n",
       "  </thead>\n",
       "  <tbody>\n",
       "    <tr>\n",
       "      <th>0</th>\n",
       "      <td>영등포구</td>\n",
       "      <td>도림동</td>\n",
       "      <td></td>\n",
       "      <td>0.0</td>\n",
       "      <td>20230308</td>\n",
       "      <td>전세</td>\n",
       "      <td>41.23</td>\n",
       "      <td>10000</td>\n",
       "      <td>0</td>\n",
       "      <td></td>\n",
       "      <td>1990</td>\n",
       "    </tr>\n",
       "    <tr>\n",
       "      <th>1</th>\n",
       "      <td>광진구</td>\n",
       "      <td>자양동</td>\n",
       "      <td></td>\n",
       "      <td>0.0</td>\n",
       "      <td>20230308</td>\n",
       "      <td>월세</td>\n",
       "      <td>41.60</td>\n",
       "      <td>500</td>\n",
       "      <td>40</td>\n",
       "      <td></td>\n",
       "      <td>1983</td>\n",
       "    </tr>\n",
       "    <tr>\n",
       "      <th>2</th>\n",
       "      <td>강동구</td>\n",
       "      <td>천호동</td>\n",
       "      <td></td>\n",
       "      <td>0.0</td>\n",
       "      <td>20230308</td>\n",
       "      <td>월세</td>\n",
       "      <td>40.00</td>\n",
       "      <td>1000</td>\n",
       "      <td>60</td>\n",
       "      <td></td>\n",
       "      <td>1996</td>\n",
       "    </tr>\n",
       "    <tr>\n",
       "      <th>3</th>\n",
       "      <td>동작구</td>\n",
       "      <td>사당동</td>\n",
       "      <td></td>\n",
       "      <td>0.0</td>\n",
       "      <td>20230308</td>\n",
       "      <td>전세</td>\n",
       "      <td>36.22</td>\n",
       "      <td>13500</td>\n",
       "      <td>0</td>\n",
       "      <td></td>\n",
       "      <td>1990</td>\n",
       "    </tr>\n",
       "    <tr>\n",
       "      <th>4</th>\n",
       "      <td>성동구</td>\n",
       "      <td>도선동</td>\n",
       "      <td>대지</td>\n",
       "      <td>5.0</td>\n",
       "      <td>20230308</td>\n",
       "      <td>월세</td>\n",
       "      <td>24.98</td>\n",
       "      <td>2000</td>\n",
       "      <td>120</td>\n",
       "      <td>TOWER 275</td>\n",
       "      <td>2023</td>\n",
       "    </tr>\n",
       "    <tr>\n",
       "      <th>...</th>\n",
       "      <td>...</td>\n",
       "      <td>...</td>\n",
       "      <td>...</td>\n",
       "      <td>...</td>\n",
       "      <td>...</td>\n",
       "      <td>...</td>\n",
       "      <td>...</td>\n",
       "      <td>...</td>\n",
       "      <td>...</td>\n",
       "      <td>...</td>\n",
       "      <td>...</td>\n",
       "    </tr>\n",
       "    <tr>\n",
       "      <th>995</th>\n",
       "      <td>강남구</td>\n",
       "      <td>세곡동</td>\n",
       "      <td>대지</td>\n",
       "      <td>6.0</td>\n",
       "      <td>20230307</td>\n",
       "      <td>전세</td>\n",
       "      <td>84.98</td>\n",
       "      <td>43225</td>\n",
       "      <td>0</td>\n",
       "      <td>세곡리엔파크(4단지)</td>\n",
       "      <td>2011</td>\n",
       "    </tr>\n",
       "    <tr>\n",
       "      <th>996</th>\n",
       "      <td>동작구</td>\n",
       "      <td>상도동</td>\n",
       "      <td>대지</td>\n",
       "      <td>9.0</td>\n",
       "      <td>20230307</td>\n",
       "      <td>월세</td>\n",
       "      <td>9.00</td>\n",
       "      <td>3000</td>\n",
       "      <td>43</td>\n",
       "      <td>그린시티</td>\n",
       "      <td>2018</td>\n",
       "    </tr>\n",
       "    <tr>\n",
       "      <th>997</th>\n",
       "      <td>구로구</td>\n",
       "      <td>구로동</td>\n",
       "      <td>대지</td>\n",
       "      <td>5.0</td>\n",
       "      <td>20230307</td>\n",
       "      <td>전세</td>\n",
       "      <td>21.96</td>\n",
       "      <td>8000</td>\n",
       "      <td>0</td>\n",
       "      <td>조성빌라</td>\n",
       "      <td>2000</td>\n",
       "    </tr>\n",
       "    <tr>\n",
       "      <th>998</th>\n",
       "      <td>은평구</td>\n",
       "      <td>갈현동</td>\n",
       "      <td>대지</td>\n",
       "      <td>1.0</td>\n",
       "      <td>20230307</td>\n",
       "      <td>전세</td>\n",
       "      <td>48.60</td>\n",
       "      <td>20000</td>\n",
       "      <td>0</td>\n",
       "      <td>가원</td>\n",
       "      <td>2001</td>\n",
       "    </tr>\n",
       "    <tr>\n",
       "      <th>999</th>\n",
       "      <td>구로구</td>\n",
       "      <td>오류동</td>\n",
       "      <td>대지</td>\n",
       "      <td>11.0</td>\n",
       "      <td>20230307</td>\n",
       "      <td>전세</td>\n",
       "      <td>84.99</td>\n",
       "      <td>38000</td>\n",
       "      <td>0</td>\n",
       "      <td>우림필유</td>\n",
       "      <td>2005</td>\n",
       "    </tr>\n",
       "  </tbody>\n",
       "</table>\n",
       "<p>1000 rows × 11 columns</p>\n",
       "</div>"
      ],
      "text/plain": [
       "     자치구명 법정동명 지번구분명    층수       계약일 전월세     면적    보증금  임대료          건물명  건축년도\n",
       "0    영등포구  도림동         0.0  20230308  전세  41.23  10000    0               1990\n",
       "1     광진구  자양동         0.0  20230308  월세  41.60    500   40               1983\n",
       "2     강동구  천호동         0.0  20230308  월세  40.00   1000   60               1996\n",
       "3     동작구  사당동         0.0  20230308  전세  36.22  13500    0               1990\n",
       "4     성동구  도선동    대지   5.0  20230308  월세  24.98   2000  120    TOWER 275  2023\n",
       "..    ...  ...   ...   ...       ...  ..    ...    ...  ...          ...   ...\n",
       "995   강남구  세곡동    대지   6.0  20230307  전세  84.98  43225    0  세곡리엔파크(4단지)  2011\n",
       "996   동작구  상도동    대지   9.0  20230307  월세   9.00   3000   43         그린시티  2018\n",
       "997   구로구  구로동    대지   5.0  20230307  전세  21.96   8000    0         조성빌라  2000\n",
       "998   은평구  갈현동    대지   1.0  20230307  전세  48.60  20000    0           가원  2001\n",
       "999   구로구  오류동    대지  11.0  20230307  전세  84.99  38000    0         우림필유  2005\n",
       "\n",
       "[1000 rows x 11 columns]"
      ]
     },
     "execution_count": 16,
     "metadata": {},
     "output_type": "execute_result"
    }
   ],
   "source": [
    "my_df"
   ]
  },
  {
   "cell_type": "code",
   "execution_count": 19,
   "id": "a164d986",
   "metadata": {},
   "outputs": [
    {
     "data": {
      "text/plain": [
       "dtype('float64')"
      ]
     },
     "execution_count": 19,
     "metadata": {},
     "output_type": "execute_result"
    }
   ],
   "source": [
    "my_df['층수'].dtype"
   ]
  },
  {
   "cell_type": "code",
   "execution_count": 55,
   "id": "ed08ec23",
   "metadata": {},
   "outputs": [],
   "source": [
    "query = 'drop TABLE housePrice'"
   ]
  },
  {
   "cell_type": "markdown",
   "id": "d0dfb925",
   "metadata": {},
   "source": [
    "# oracle"
   ]
  },
  {
   "cell_type": "code",
   "execution_count": 45,
   "id": "c6e8ce15",
   "metadata": {},
   "outputs": [],
   "source": [
    "query =\"\"\"\n",
    "CREATE TABLE housePrice(자치구명 varchar(50),법정동명 varchar(50), 지번구분명 varchar(50),층수 float(20)\n",
    ",계약일 number,전월세 varchar(50),면적 float,보증금 number,임대료 number,건물명 varchar(100), \n",
    "건축년도 varchar(20))\n",
    "\"\"\"\n",
    "#oracle"
   ]
  },
  {
   "cell_type": "code",
   "execution_count": 49,
   "id": "1db7e867",
   "metadata": {},
   "outputs": [
    {
     "name": "stdout",
     "output_type": "stream",
     "text": [
      "oracle open!\n",
      "ORA-00955: name is already used by an existing object\n"
     ]
    }
   ],
   "source": [
    "mu.db_open()\n",
    "mu.oracle_execute(query)"
   ]
  },
  {
   "cell_type": "code",
   "execution_count": 47,
   "id": "d53e077f",
   "metadata": {},
   "outputs": [],
   "source": [
    "query2 = 'select * from housePrice'"
   ]
  },
  {
   "cell_type": "code",
   "execution_count": 50,
   "id": "0d808f42",
   "metadata": {},
   "outputs": [
    {
     "data": {
      "text/html": [
       "<div>\n",
       "<style scoped>\n",
       "    .dataframe tbody tr th:only-of-type {\n",
       "        vertical-align: middle;\n",
       "    }\n",
       "\n",
       "    .dataframe tbody tr th {\n",
       "        vertical-align: top;\n",
       "    }\n",
       "\n",
       "    .dataframe thead th {\n",
       "        text-align: right;\n",
       "    }\n",
       "</style>\n",
       "<table border=\"1\" class=\"dataframe\">\n",
       "  <thead>\n",
       "    <tr style=\"text-align: right;\">\n",
       "      <th></th>\n",
       "      <th>자치구명</th>\n",
       "      <th>법정동명</th>\n",
       "      <th>지번구분명</th>\n",
       "      <th>층수</th>\n",
       "      <th>계약일</th>\n",
       "      <th>전월세</th>\n",
       "      <th>면적</th>\n",
       "      <th>보증금</th>\n",
       "      <th>임대료</th>\n",
       "      <th>건물명</th>\n",
       "      <th>건축년도</th>\n",
       "    </tr>\n",
       "  </thead>\n",
       "  <tbody>\n",
       "  </tbody>\n",
       "</table>\n",
       "</div>"
      ],
      "text/plain": [
       "Empty DataFrame\n",
       "Columns: [자치구명, 법정동명, 지번구분명, 층수, 계약일, 전월세, 면적, 보증금, 임대료, 건물명, 건축년도]\n",
       "Index: []"
      ]
     },
     "execution_count": 50,
     "metadata": {},
     "output_type": "execute_result"
    }
   ],
   "source": [
    "mu.oracle_execute(query2)"
   ]
  },
  {
   "cell_type": "code",
   "execution_count": 62,
   "id": "5a120792",
   "metadata": {},
   "outputs": [
    {
     "name": "stdout",
     "output_type": "stream",
     "text": [
      "oracle open!\n"
     ]
    },
    {
     "data": {
      "text/plain": [
       "'오라클 닫힘!'"
      ]
     },
     "execution_count": 62,
     "metadata": {},
     "output_type": "execute_result"
    }
   ],
   "source": [
    "mu.db_open()\n",
    "mu.oracle_execute(query4)\n",
    "mu.oracle_close()"
   ]
  },
  {
   "cell_type": "markdown",
   "id": "bc482cf6",
   "metadata": {},
   "source": [
    "\n",
    "# mysql"
   ]
  },
  {
   "cell_type": "code",
   "execution_count": 61,
   "id": "9028da76",
   "metadata": {},
   "outputs": [],
   "source": [
    "query3 =\"\"\"\n",
    "CREATE TABLE housePrice(자치구명 varchar(50),법정동명 varchar(50), 지번구분명 varchar(50),층수 float(20)\n",
    ",계약일 int,전월세 varchar(50),면적 float,보증금 int,임대료 int,건물명 varchar(100), \n",
    "건축년도 varchar(20))\n",
    "\"\"\"\n",
    "#mysql"
   ]
  },
  {
   "cell_type": "code",
   "execution_count": 57,
   "id": "ad780b5d",
   "metadata": {},
   "outputs": [
    {
     "data": {
      "text/plain": [
       "()"
      ]
     },
     "execution_count": 57,
     "metadata": {},
     "output_type": "execute_result"
    }
   ],
   "source": [
    "conn = mu.connect_mysql('icia')\n",
    "mu.mysql_execute(query3,conn)"
   ]
  },
  {
   "cell_type": "code",
   "execution_count": 52,
   "id": "86bd2887",
   "metadata": {},
   "outputs": [],
   "source": [
    "query4=(\n",
    "f'insert into housePrice(자치구명,법정동명,지번구분명,층수,계약일,전월세,면적,보증금,임대료,건물명,건축년도)'\n",
    "f'values({repr(my_df.자치구명.iloc[0])},{repr(my_df.법정동명.iloc[0])},{repr(my_df.지번구분명.iloc[0])},'\n",
    "f'{my_df.층수.iloc[0]},{my_df.계약일.iloc[0]},{repr(my_df.전월세.iloc[0])},{my_df.면적.iloc[0]},{my_df.보증금.iloc[0]},'\n",
    "f'{my_df.임대료.iloc[0]},{repr(my_df.건물명.iloc[0])},{repr(my_df.건축년도.iloc[0])})'\n",
    ")"
   ]
  },
  {
   "cell_type": "code",
   "execution_count": 63,
   "id": "8bbbf93e",
   "metadata": {},
   "outputs": [],
   "source": [
    "conn= mu.connect_mysql('icia')\n",
    "mu.mysql_execute(query4,conn)\n",
    "conn.commit()\n",
    "conn.close()"
   ]
  },
  {
   "cell_type": "code",
   "execution_count": 64,
   "id": "5812d6be",
   "metadata": {},
   "outputs": [
    {
     "data": {
      "text/plain": [
       "(('영등포구', '도림동', '', 0.0, 20230308, '전세', 41.23, 10000, 0, '', '1990'),)"
      ]
     },
     "execution_count": 64,
     "metadata": {},
     "output_type": "execute_result"
    }
   ],
   "source": [
    "conn= mu.connect_mysql('icia')\n",
    "query5 = 'select *from housePrice'\n",
    "mu.mysql_execute(query5,conn)"
   ]
  },
  {
   "cell_type": "markdown",
   "id": "fc6b5267",
   "metadata": {},
   "source": [
    "# conda install tqdm"
   ]
  },
  {
   "cell_type": "code",
   "execution_count": 69,
   "id": "0b0bf373",
   "metadata": {},
   "outputs": [],
   "source": [
    "from tqdm import tqdm"
   ]
  },
  {
   "cell_type": "markdown",
   "id": "a0caaea5",
   "metadata": {},
   "source": [
    "# insert문을 함수로 만들 예정"
   ]
  },
  {
   "cell_type": "code",
   "execution_count": 70,
   "id": "aa96f559",
   "metadata": {},
   "outputs": [
    {
     "name": "stderr",
     "output_type": "stream",
     "text": [
      "100%|████████████████████████████████████████████████████████████████████████████| 1000/1000 [00:00<00:00, 2693.88it/s]\n"
     ]
    }
   ],
   "source": [
    "conn = mu.connect_mysql('icia')\n",
    "for i in tqdm(range(len(my_df))):\n",
    "    query4=(\n",
    "    f'insert into housePrice(자치구명,법정동명,지번구분명,층수,계약일,전월세,면적,보증금,임대료,건물명,건축년도)'\n",
    "    f'values({repr(my_df.자치구명.iloc[i])},{repr(my_df.법정동명.iloc[i])},{repr(my_df.지번구분명.iloc[i])},'\n",
    "    f'{my_df.층수.iloc[i]},{my_df.계약일.iloc[i]},{repr(my_df.전월세.iloc[i])},{my_df.면적.iloc[i]},{my_df.보증금.iloc[i]},'\n",
    "    f'{my_df.임대료.iloc[i]},{repr(my_df.건물명.iloc[i])},{repr(my_df.건축년도.iloc[i])})'\n",
    "    )\n",
    "    mu.mysql_execute(query4,conn)\n",
    "conn.commit()\n",
    "conn.close()\n",
    "\n",
    "# mysql"
   ]
  },
  {
   "cell_type": "code",
   "execution_count": 66,
   "id": "a3f4ec96",
   "metadata": {},
   "outputs": [
    {
     "name": "stdout",
     "output_type": "stream",
     "text": [
      "oracle open!\n"
     ]
    },
    {
     "data": {
      "text/plain": [
       "'오라클 닫힘!'"
      ]
     },
     "execution_count": 66,
     "metadata": {},
     "output_type": "execute_result"
    }
   ],
   "source": [
    "mu.db_open()\n",
    "for i in tqdm(range(len(my_df))):\n",
    "    query4=(\n",
    "    f'insert into housePrice(자치구명,법정동명,지번구분명,층수,계약일,전월세,면적,보증금,임대료,건물명,건축년도)'\n",
    "    f'values({repr(my_df.자치구명.iloc[i])},{repr(my_df.법정동명.iloc[i])},{repr(my_df.지번구분명.iloc[i])},'\n",
    "    f'{my_df.층수.iloc[i]},{my_df.계약일.iloc[i]},{repr(my_df.전월세.iloc[i])},{my_df.면적.iloc[i]},{my_df.보증금.iloc[i]},'\n",
    "    f'{my_df.임대료.iloc[i]},{repr(my_df.건물명.iloc[i])},{repr(my_df.건축년도.iloc[i])})'\n",
    "    )\n",
    "    mu.oracle_execute(query4)\n",
    "mu.oracle_close()\n",
    "\n",
    "# oracle"
   ]
  },
  {
   "cell_type": "code",
   "execution_count": null,
   "id": "b23cb115",
   "metadata": {},
   "outputs": [],
   "source": []
  },
  {
   "cell_type": "code",
   "execution_count": 67,
   "id": "c4e07bfb",
   "metadata": {},
   "outputs": [
    {
     "name": "stdout",
     "output_type": "stream",
     "text": [
      "oracle open!\n"
     ]
    },
    {
     "name": "stderr",
     "output_type": "stream",
     "text": [
      "C:\\Users\\user\\Anaconda3\\lib\\site-packages\\pandas\\io\\sql.py:762: UserWarning: pandas only support SQLAlchemy connectable(engine/connection) ordatabase string URI or sqlite3 DBAPI2 connectionother DBAPI2 objects are not tested, please consider using SQLAlchemy\n",
      "  warnings.warn(\n"
     ]
    },
    {
     "data": {
      "text/html": [
       "<div>\n",
       "<style scoped>\n",
       "    .dataframe tbody tr th:only-of-type {\n",
       "        vertical-align: middle;\n",
       "    }\n",
       "\n",
       "    .dataframe tbody tr th {\n",
       "        vertical-align: top;\n",
       "    }\n",
       "\n",
       "    .dataframe thead th {\n",
       "        text-align: right;\n",
       "    }\n",
       "</style>\n",
       "<table border=\"1\" class=\"dataframe\">\n",
       "  <thead>\n",
       "    <tr style=\"text-align: right;\">\n",
       "      <th></th>\n",
       "      <th>자치구명</th>\n",
       "      <th>법정동명</th>\n",
       "      <th>지번구분명</th>\n",
       "      <th>층수</th>\n",
       "      <th>계약일</th>\n",
       "      <th>전월세</th>\n",
       "      <th>면적</th>\n",
       "      <th>보증금</th>\n",
       "      <th>임대료</th>\n",
       "      <th>건물명</th>\n",
       "      <th>건축년도</th>\n",
       "    </tr>\n",
       "  </thead>\n",
       "  <tbody>\n",
       "    <tr>\n",
       "      <th>0</th>\n",
       "      <td>성동구</td>\n",
       "      <td>응봉동</td>\n",
       "      <td>대지</td>\n",
       "      <td>3.0</td>\n",
       "      <td>20230308</td>\n",
       "      <td>전세</td>\n",
       "      <td>84.53</td>\n",
       "      <td>45000</td>\n",
       "      <td>0</td>\n",
       "      <td>대림(2차)</td>\n",
       "      <td>1989</td>\n",
       "    </tr>\n",
       "    <tr>\n",
       "      <th>1</th>\n",
       "      <td>노원구</td>\n",
       "      <td>상계동</td>\n",
       "      <td>대지</td>\n",
       "      <td>3.0</td>\n",
       "      <td>20230308</td>\n",
       "      <td>전세</td>\n",
       "      <td>13.36</td>\n",
       "      <td>8400</td>\n",
       "      <td>0</td>\n",
       "      <td>중앙프라자</td>\n",
       "      <td>2013</td>\n",
       "    </tr>\n",
       "    <tr>\n",
       "      <th>2</th>\n",
       "      <td>관악구</td>\n",
       "      <td>봉천동</td>\n",
       "      <td>None</td>\n",
       "      <td>0.0</td>\n",
       "      <td>20230308</td>\n",
       "      <td>월세</td>\n",
       "      <td>19.84</td>\n",
       "      <td>1000</td>\n",
       "      <td>50</td>\n",
       "      <td>None</td>\n",
       "      <td>2017</td>\n",
       "    </tr>\n",
       "    <tr>\n",
       "      <th>3</th>\n",
       "      <td>은평구</td>\n",
       "      <td>진관동</td>\n",
       "      <td>대지</td>\n",
       "      <td>8.0</td>\n",
       "      <td>20230308</td>\n",
       "      <td>월세</td>\n",
       "      <td>24.91</td>\n",
       "      <td>2000</td>\n",
       "      <td>58</td>\n",
       "      <td>아이파크 포레스트 게이트</td>\n",
       "      <td>2013</td>\n",
       "    </tr>\n",
       "    <tr>\n",
       "      <th>4</th>\n",
       "      <td>용산구</td>\n",
       "      <td>이촌동</td>\n",
       "      <td>대지</td>\n",
       "      <td>10.0</td>\n",
       "      <td>20230308</td>\n",
       "      <td>월세</td>\n",
       "      <td>84.88</td>\n",
       "      <td>51870</td>\n",
       "      <td>11</td>\n",
       "      <td>현대한강</td>\n",
       "      <td>1997</td>\n",
       "    </tr>\n",
       "    <tr>\n",
       "      <th>...</th>\n",
       "      <td>...</td>\n",
       "      <td>...</td>\n",
       "      <td>...</td>\n",
       "      <td>...</td>\n",
       "      <td>...</td>\n",
       "      <td>...</td>\n",
       "      <td>...</td>\n",
       "      <td>...</td>\n",
       "      <td>...</td>\n",
       "      <td>...</td>\n",
       "      <td>...</td>\n",
       "    </tr>\n",
       "    <tr>\n",
       "      <th>998</th>\n",
       "      <td>은평구</td>\n",
       "      <td>수색동</td>\n",
       "      <td>대지</td>\n",
       "      <td>4.0</td>\n",
       "      <td>20230307</td>\n",
       "      <td>월세</td>\n",
       "      <td>32.78</td>\n",
       "      <td>1054</td>\n",
       "      <td>15</td>\n",
       "      <td>대림한숲(DMC이편한세상)</td>\n",
       "      <td>2003</td>\n",
       "    </tr>\n",
       "    <tr>\n",
       "      <th>999</th>\n",
       "      <td>서초구</td>\n",
       "      <td>우면동</td>\n",
       "      <td>대지</td>\n",
       "      <td>5.0</td>\n",
       "      <td>20230307</td>\n",
       "      <td>월세</td>\n",
       "      <td>49.90</td>\n",
       "      <td>7374</td>\n",
       "      <td>12</td>\n",
       "      <td>서초네이처힐3단지</td>\n",
       "      <td>2013</td>\n",
       "    </tr>\n",
       "    <tr>\n",
       "      <th>1000</th>\n",
       "      <td>은평구</td>\n",
       "      <td>녹번동</td>\n",
       "      <td>대지</td>\n",
       "      <td>3.0</td>\n",
       "      <td>20230307</td>\n",
       "      <td>전세</td>\n",
       "      <td>70.92</td>\n",
       "      <td>20000</td>\n",
       "      <td>0</td>\n",
       "      <td>명성맨션(154-26)</td>\n",
       "      <td>1998</td>\n",
       "    </tr>\n",
       "    <tr>\n",
       "      <th>1001</th>\n",
       "      <td>송파구</td>\n",
       "      <td>방이동</td>\n",
       "      <td>대지</td>\n",
       "      <td>18.0</td>\n",
       "      <td>20230307</td>\n",
       "      <td>전세</td>\n",
       "      <td>19.36</td>\n",
       "      <td>22500</td>\n",
       "      <td>0</td>\n",
       "      <td>사보이시티잠실</td>\n",
       "      <td>2021</td>\n",
       "    </tr>\n",
       "    <tr>\n",
       "      <th>1002</th>\n",
       "      <td>관악구</td>\n",
       "      <td>봉천동</td>\n",
       "      <td>대지</td>\n",
       "      <td>2.0</td>\n",
       "      <td>20230307</td>\n",
       "      <td>전세</td>\n",
       "      <td>41.21</td>\n",
       "      <td>22000</td>\n",
       "      <td>0</td>\n",
       "      <td>금강빌</td>\n",
       "      <td>2012</td>\n",
       "    </tr>\n",
       "  </tbody>\n",
       "</table>\n",
       "<p>1003 rows × 11 columns</p>\n",
       "</div>"
      ],
      "text/plain": [
       "     자치구명 법정동명 지번구분명    층수       계약일 전월세     면적    보증금  임대료             건물명  \\\n",
       "0     성동구  응봉동    대지   3.0  20230308  전세  84.53  45000    0          대림(2차)   \n",
       "1     노원구  상계동    대지   3.0  20230308  전세  13.36   8400    0           중앙프라자   \n",
       "2     관악구  봉천동  None   0.0  20230308  월세  19.84   1000   50            None   \n",
       "3     은평구  진관동    대지   8.0  20230308  월세  24.91   2000   58   아이파크 포레스트 게이트   \n",
       "4     용산구  이촌동    대지  10.0  20230308  월세  84.88  51870   11            현대한강   \n",
       "...   ...  ...   ...   ...       ...  ..    ...    ...  ...             ...   \n",
       "998   은평구  수색동    대지   4.0  20230307  월세  32.78   1054   15  대림한숲(DMC이편한세상)   \n",
       "999   서초구  우면동    대지   5.0  20230307  월세  49.90   7374   12       서초네이처힐3단지   \n",
       "1000  은평구  녹번동    대지   3.0  20230307  전세  70.92  20000    0    명성맨션(154-26)   \n",
       "1001  송파구  방이동    대지  18.0  20230307  전세  19.36  22500    0         사보이시티잠실   \n",
       "1002  관악구  봉천동    대지   2.0  20230307  전세  41.21  22000    0             금강빌   \n",
       "\n",
       "      건축년도  \n",
       "0     1989  \n",
       "1     2013  \n",
       "2     2017  \n",
       "3     2013  \n",
       "4     1997  \n",
       "...    ...  \n",
       "998   2003  \n",
       "999   2013  \n",
       "1000  1998  \n",
       "1001  2021  \n",
       "1002  2012  \n",
       "\n",
       "[1003 rows x 11 columns]"
      ]
     },
     "execution_count": 67,
     "metadata": {},
     "output_type": "execute_result"
    }
   ],
   "source": [
    "mu.db_open()\n",
    "mu.oracle_execute(query5)"
   ]
  },
  {
   "cell_type": "code",
   "execution_count": 73,
   "id": "52373d2d",
   "metadata": {},
   "outputs": [],
   "source": [
    "conn = mu.connect_mysql('icia')\n",
    "df = pd.DataFrame(mu.mysql_execute_dict(query5,conn))"
   ]
  },
  {
   "cell_type": "code",
   "execution_count": 75,
   "id": "60b71fdd",
   "metadata": {},
   "outputs": [
    {
     "data": {
      "text/html": [
       "<div>\n",
       "<style scoped>\n",
       "    .dataframe tbody tr th:only-of-type {\n",
       "        vertical-align: middle;\n",
       "    }\n",
       "\n",
       "    .dataframe tbody tr th {\n",
       "        vertical-align: top;\n",
       "    }\n",
       "\n",
       "    .dataframe thead th {\n",
       "        text-align: right;\n",
       "    }\n",
       "</style>\n",
       "<table border=\"1\" class=\"dataframe\">\n",
       "  <thead>\n",
       "    <tr style=\"text-align: right;\">\n",
       "      <th></th>\n",
       "      <th>자치구명</th>\n",
       "      <th>법정동명</th>\n",
       "      <th>지번구분명</th>\n",
       "      <th>층수</th>\n",
       "      <th>계약일</th>\n",
       "      <th>전월세</th>\n",
       "      <th>면적</th>\n",
       "      <th>보증금</th>\n",
       "      <th>임대료</th>\n",
       "      <th>건물명</th>\n",
       "      <th>건축년도</th>\n",
       "    </tr>\n",
       "  </thead>\n",
       "  <tbody>\n",
       "    <tr>\n",
       "      <th>0</th>\n",
       "      <td>영등포구</td>\n",
       "      <td>도림동</td>\n",
       "      <td></td>\n",
       "      <td>0.0</td>\n",
       "      <td>20230308</td>\n",
       "      <td>전세</td>\n",
       "      <td>41.23</td>\n",
       "      <td>10000</td>\n",
       "      <td>0</td>\n",
       "      <td></td>\n",
       "      <td>1990</td>\n",
       "    </tr>\n",
       "    <tr>\n",
       "      <th>1</th>\n",
       "      <td>영등포구</td>\n",
       "      <td>도림동</td>\n",
       "      <td></td>\n",
       "      <td>0.0</td>\n",
       "      <td>20230308</td>\n",
       "      <td>전세</td>\n",
       "      <td>41.23</td>\n",
       "      <td>10000</td>\n",
       "      <td>0</td>\n",
       "      <td></td>\n",
       "      <td>1990</td>\n",
       "    </tr>\n",
       "    <tr>\n",
       "      <th>2</th>\n",
       "      <td>광진구</td>\n",
       "      <td>자양동</td>\n",
       "      <td></td>\n",
       "      <td>0.0</td>\n",
       "      <td>20230308</td>\n",
       "      <td>월세</td>\n",
       "      <td>41.60</td>\n",
       "      <td>500</td>\n",
       "      <td>40</td>\n",
       "      <td></td>\n",
       "      <td>1983</td>\n",
       "    </tr>\n",
       "    <tr>\n",
       "      <th>3</th>\n",
       "      <td>강동구</td>\n",
       "      <td>천호동</td>\n",
       "      <td></td>\n",
       "      <td>0.0</td>\n",
       "      <td>20230308</td>\n",
       "      <td>월세</td>\n",
       "      <td>40.00</td>\n",
       "      <td>1000</td>\n",
       "      <td>60</td>\n",
       "      <td></td>\n",
       "      <td>1996</td>\n",
       "    </tr>\n",
       "    <tr>\n",
       "      <th>4</th>\n",
       "      <td>동작구</td>\n",
       "      <td>사당동</td>\n",
       "      <td></td>\n",
       "      <td>0.0</td>\n",
       "      <td>20230308</td>\n",
       "      <td>전세</td>\n",
       "      <td>36.22</td>\n",
       "      <td>13500</td>\n",
       "      <td>0</td>\n",
       "      <td></td>\n",
       "      <td>1990</td>\n",
       "    </tr>\n",
       "    <tr>\n",
       "      <th>...</th>\n",
       "      <td>...</td>\n",
       "      <td>...</td>\n",
       "      <td>...</td>\n",
       "      <td>...</td>\n",
       "      <td>...</td>\n",
       "      <td>...</td>\n",
       "      <td>...</td>\n",
       "      <td>...</td>\n",
       "      <td>...</td>\n",
       "      <td>...</td>\n",
       "      <td>...</td>\n",
       "    </tr>\n",
       "    <tr>\n",
       "      <th>996</th>\n",
       "      <td>강남구</td>\n",
       "      <td>세곡동</td>\n",
       "      <td>대지</td>\n",
       "      <td>6.0</td>\n",
       "      <td>20230307</td>\n",
       "      <td>전세</td>\n",
       "      <td>84.98</td>\n",
       "      <td>43225</td>\n",
       "      <td>0</td>\n",
       "      <td>세곡리엔파크(4단지)</td>\n",
       "      <td>2011</td>\n",
       "    </tr>\n",
       "    <tr>\n",
       "      <th>997</th>\n",
       "      <td>동작구</td>\n",
       "      <td>상도동</td>\n",
       "      <td>대지</td>\n",
       "      <td>9.0</td>\n",
       "      <td>20230307</td>\n",
       "      <td>월세</td>\n",
       "      <td>9.00</td>\n",
       "      <td>3000</td>\n",
       "      <td>43</td>\n",
       "      <td>그린시티</td>\n",
       "      <td>2018</td>\n",
       "    </tr>\n",
       "    <tr>\n",
       "      <th>998</th>\n",
       "      <td>구로구</td>\n",
       "      <td>구로동</td>\n",
       "      <td>대지</td>\n",
       "      <td>5.0</td>\n",
       "      <td>20230307</td>\n",
       "      <td>전세</td>\n",
       "      <td>21.96</td>\n",
       "      <td>8000</td>\n",
       "      <td>0</td>\n",
       "      <td>조성빌라</td>\n",
       "      <td>2000</td>\n",
       "    </tr>\n",
       "    <tr>\n",
       "      <th>999</th>\n",
       "      <td>은평구</td>\n",
       "      <td>갈현동</td>\n",
       "      <td>대지</td>\n",
       "      <td>1.0</td>\n",
       "      <td>20230307</td>\n",
       "      <td>전세</td>\n",
       "      <td>48.60</td>\n",
       "      <td>20000</td>\n",
       "      <td>0</td>\n",
       "      <td>가원</td>\n",
       "      <td>2001</td>\n",
       "    </tr>\n",
       "    <tr>\n",
       "      <th>1000</th>\n",
       "      <td>구로구</td>\n",
       "      <td>오류동</td>\n",
       "      <td>대지</td>\n",
       "      <td>11.0</td>\n",
       "      <td>20230307</td>\n",
       "      <td>전세</td>\n",
       "      <td>84.99</td>\n",
       "      <td>38000</td>\n",
       "      <td>0</td>\n",
       "      <td>우림필유</td>\n",
       "      <td>2005</td>\n",
       "    </tr>\n",
       "  </tbody>\n",
       "</table>\n",
       "<p>1001 rows × 11 columns</p>\n",
       "</div>"
      ],
      "text/plain": [
       "      자치구명 법정동명 지번구분명    층수       계약일 전월세     면적    보증금  임대료          건물명  \\\n",
       "0     영등포구  도림동         0.0  20230308  전세  41.23  10000    0                \n",
       "1     영등포구  도림동         0.0  20230308  전세  41.23  10000    0                \n",
       "2      광진구  자양동         0.0  20230308  월세  41.60    500   40                \n",
       "3      강동구  천호동         0.0  20230308  월세  40.00   1000   60                \n",
       "4      동작구  사당동         0.0  20230308  전세  36.22  13500    0                \n",
       "...    ...  ...   ...   ...       ...  ..    ...    ...  ...          ...   \n",
       "996    강남구  세곡동    대지   6.0  20230307  전세  84.98  43225    0  세곡리엔파크(4단지)   \n",
       "997    동작구  상도동    대지   9.0  20230307  월세   9.00   3000   43         그린시티   \n",
       "998    구로구  구로동    대지   5.0  20230307  전세  21.96   8000    0         조성빌라   \n",
       "999    은평구  갈현동    대지   1.0  20230307  전세  48.60  20000    0           가원   \n",
       "1000   구로구  오류동    대지  11.0  20230307  전세  84.99  38000    0         우림필유   \n",
       "\n",
       "      건축년도  \n",
       "0     1990  \n",
       "1     1990  \n",
       "2     1983  \n",
       "3     1996  \n",
       "4     1990  \n",
       "...    ...  \n",
       "996   2011  \n",
       "997   2018  \n",
       "998   2000  \n",
       "999   2001  \n",
       "1000  2005  \n",
       "\n",
       "[1001 rows x 11 columns]"
      ]
     },
     "execution_count": 75,
     "metadata": {},
     "output_type": "execute_result"
    }
   ],
   "source": [
    "df"
   ]
  },
  {
   "cell_type": "code",
   "execution_count": 78,
   "id": "a9421800",
   "metadata": {},
   "outputs": [],
   "source": [
    "def df_insert_oracle(df):\n",
    "    query4=(\n",
    "    f'insert into housePrice(자치구명,법정동명,지번구분명,층수,계약일,전월세,면적,보증금,임대료,건물명,건축년도)'\n",
    "    f'values({repr(df.자치구명.iloc[i])},{repr(df.법정동명.iloc[i])},{repr(df.지번구분명.iloc[i])},'\n",
    "    f'{df.층수.iloc[i]},{df.계약일.iloc[i]},{repr(df.전월세.iloc[i])},{df.면적.iloc[i]},{df.보증금.iloc[i]},'\n",
    "    f'{df.임대료.iloc[i]},{repr(df.건물명.iloc[i])},{repr(df.건축년도.iloc[i])})'\n",
    "    )\n",
    "    mu.oracle_execute(query4)\n",
    "    return"
   ]
  },
  {
   "cell_type": "code",
   "execution_count": 79,
   "id": "ae644349",
   "metadata": {},
   "outputs": [],
   "source": [
    "def df_insert_mysql(df):\n",
    "    query4=(\n",
    "    f'insert into housePrice(자치구명,법정동명,지번구분명,층수,계약일,전월세,면적,보증금,임대료,건물명,건축년도)'\n",
    "    f'values({repr(df.자치구명.iloc[i])},{repr(df.법정동명.iloc[i])},{repr(df.지번구분명.iloc[i])},'\n",
    "    f'{df.층수.iloc[i]},{df.계약일.iloc[i]},{repr(df.전월세.iloc[i])},{df.면적.iloc[i]},{df.보증금.iloc[i]},'\n",
    "    f'{df.임대료.iloc[i]},{repr(df.건물명.iloc[i])},{repr(df.건축년도.iloc[i])})'\n",
    "    )\n",
    "    mu.mysql_execute(query4,conn)\n",
    "    return"
   ]
  },
  {
   "cell_type": "markdown",
   "id": "d2d9a3f1",
   "metadata": {},
   "source": [
    "# 서울시 공공데이터포탈 - 서울시 코로나 19 확진자 발생동향\n",
    "# api를 통해서 함수 만들었던 것으로 데이터 불러오기\n",
    "# 'S_DT','S_HJ','S_CARE','S_RECOVER','S_DEATH','T_HJ','DEATH'\n",
    "# 컬럼명 - 서울시기준일, 서울시확진자, 서울시치료중, 서울시 퇴원, 서울시사망,전국확진, 전국사망\n",
    "# db에 테이블 생성해주시고 insert(Corona19CountStatus)"
   ]
  },
  {
   "cell_type": "code",
   "execution_count": 80,
   "id": "a2c25977",
   "metadata": {},
   "outputs": [],
   "source": [
    "url='http://openapi.seoul.go.kr:8088/(인증키)/xml/TbCorona19CountStatus/1/5/'"
   ]
  },
  {
   "cell_type": "code",
   "execution_count": 84,
   "id": "be39e979",
   "metadata": {},
   "outputs": [],
   "source": [
    "seoul=mu.df_creater(url)"
   ]
  },
  {
   "cell_type": "code",
   "execution_count": 85,
   "id": "17a3a097",
   "metadata": {},
   "outputs": [],
   "source": [
    "selc=['S_DT','S_HJ','S_CARE','S_RECOVER','S_DEATH','T_HJ','DEATH']"
   ]
  },
  {
   "cell_type": "code",
   "execution_count": 86,
   "id": "8c242a1f",
   "metadata": {},
   "outputs": [],
   "source": [
    "my_df = seoul[selc].copy()"
   ]
  },
  {
   "cell_type": "code",
   "execution_count": 88,
   "id": "ea24e111",
   "metadata": {},
   "outputs": [],
   "source": [
    "my_df.columns=['서울시기준일', '서울시확진자', '서울시치료중', '서울시퇴원', '서울시사망','전국확진', '전국사망']"
   ]
  },
  {
   "cell_type": "code",
   "execution_count": 91,
   "id": "83cd8905",
   "metadata": {},
   "outputs": [],
   "source": [
    "my_df=my_df.astype({'서울시확진자':'float','서울시치료중':'float','서울시사망':'float','전국확진':'float','전국사망':'float'})"
   ]
  },
  {
   "cell_type": "code",
   "execution_count": 95,
   "id": "0e3f58f3",
   "metadata": {},
   "outputs": [
    {
     "name": "stdout",
     "output_type": "stream",
     "text": [
      "oracle open!\n"
     ]
    },
    {
     "data": {
      "text/plain": [
       "'오라클 닫힘!'"
      ]
     },
     "execution_count": 95,
     "metadata": {},
     "output_type": "execute_result"
    }
   ],
   "source": [
    "mu.db_open() #oracle\n",
    "query3 =\"\"\"\n",
    "CREATE TABLE Corona19CountStatus(서울시기준일 varchar(50), 서울시확진자 number(20), 서울시치료중 number(20), 서울시퇴원 varchar(20), 서울시사망 number(20), 전국확진 number(20), 전국사망 number(20))\n",
    "\"\"\"\n",
    "mu.oracle_execute(query3)\n",
    "mu.oracle_close()"
   ]
  },
  {
   "cell_type": "code",
   "execution_count": 96,
   "id": "2c689268",
   "metadata": {},
   "outputs": [
    {
     "name": "stdout",
     "output_type": "stream",
     "text": [
      "oracle open!\n"
     ]
    },
    {
     "name": "stderr",
     "output_type": "stream",
     "text": [
      "100%|████████████████████████████████████████████████████████████████████████████| 1000/1000 [00:00<00:00, 1714.61it/s]\n"
     ]
    },
    {
     "data": {
      "text/plain": [
       "'오라클 닫힘!'"
      ]
     },
     "execution_count": 96,
     "metadata": {},
     "output_type": "execute_result"
    }
   ],
   "source": [
    "mu.db_open() #oracle\n",
    "for i in tqdm(range(len(my_df))):\n",
    "    query4=(\n",
    "    f'insert into Corona19CountStatus(서울시기준일, 서울시확진자, 서울시치료중, 서울시퇴원, 서울시사망,전국확진, 전국사망)'\n",
    "    f'values({repr(my_df.서울시기준일.iloc[i])},{my_df.서울시확진자.iloc[i]},{my_df.서울시치료중.iloc[i]},'\n",
    "    f'{repr(my_df.서울시퇴원.iloc[i])},{my_df.서울시사망.iloc[i]},{my_df.전국확진.iloc[i]},{my_df.전국사망.iloc[i]})'\n",
    "    )\n",
    "    mu.oracle_execute(query4)\n",
    "mu.oracle_close()"
   ]
  },
  {
   "cell_type": "code",
   "execution_count": 97,
   "id": "f3a65ae2",
   "metadata": {},
   "outputs": [
    {
     "name": "stdout",
     "output_type": "stream",
     "text": [
      "oracle open!\n"
     ]
    },
    {
     "name": "stderr",
     "output_type": "stream",
     "text": [
      "C:\\Users\\user\\Anaconda3\\lib\\site-packages\\pandas\\io\\sql.py:762: UserWarning: pandas only support SQLAlchemy connectable(engine/connection) ordatabase string URI or sqlite3 DBAPI2 connectionother DBAPI2 objects are not tested, please consider using SQLAlchemy\n",
      "  warnings.warn(\n"
     ]
    },
    {
     "data": {
      "text/plain": [
       "'오라클 닫힘!'"
      ]
     },
     "execution_count": 97,
     "metadata": {},
     "output_type": "execute_result"
    }
   ],
   "source": [
    "mu.db_open() #oracle\n",
    "query5 = 'select * from Corona19CountStatus'\n",
    "mu.oracle_execute(query5)\n",
    "mu.oracle_close()"
   ]
  },
  {
   "cell_type": "code",
   "execution_count": 106,
   "id": "b8eb3d67",
   "metadata": {},
   "outputs": [
    {
     "ename": "OperationalError",
     "evalue": "(1050, \"Table 'corona19countstatus' already exists\")",
     "output_type": "error",
     "traceback": [
      "\u001b[1;31m---------------------------------------------------------------------------\u001b[0m",
      "\u001b[1;31mOperationalError\u001b[0m                          Traceback (most recent call last)",
      "\u001b[1;32m~\\AppData\\Local\\Temp\\ipykernel_6892\\2525898475.py\u001b[0m in \u001b[0;36m<module>\u001b[1;34m\u001b[0m\n\u001b[0;32m      3\u001b[0m \u001b[0mCREATE\u001b[0m \u001b[0mTABLE\u001b[0m \u001b[0mCorona19CountStatus\u001b[0m\u001b[1;33m(\u001b[0m\u001b[0m서울시기준일\u001b[0m \u001b[0mvarchar\u001b[0m\u001b[1;33m(\u001b[0m\u001b[1;36m50\u001b[0m\u001b[1;33m)\u001b[0m\u001b[1;33m,\u001b[0m \u001b[0m서울시확진자\u001b[0m \u001b[0mfloat\u001b[0m\u001b[1;33m(\u001b[0m\u001b[1;36m20\u001b[0m\u001b[1;33m)\u001b[0m\u001b[1;33m,\u001b[0m \u001b[0m서울시치료중\u001b[0m \u001b[0mfloat\u001b[0m\u001b[1;33m(\u001b[0m\u001b[1;36m20\u001b[0m\u001b[1;33m)\u001b[0m\u001b[1;33m,\u001b[0m \u001b[0m서울시퇴원\u001b[0m \u001b[0mvarchar\u001b[0m\u001b[1;33m(\u001b[0m\u001b[1;36m20\u001b[0m\u001b[1;33m)\u001b[0m\u001b[1;33m,\u001b[0m \u001b[0m서울시사망\u001b[0m \u001b[0mfloat\u001b[0m\u001b[1;33m(\u001b[0m\u001b[1;36m20\u001b[0m\u001b[1;33m)\u001b[0m\u001b[1;33m,\u001b[0m \u001b[0m전국확진\u001b[0m \u001b[0mfloat\u001b[0m\u001b[1;33m(\u001b[0m\u001b[1;36m20\u001b[0m\u001b[1;33m)\u001b[0m\u001b[1;33m,\u001b[0m \u001b[0m전국사망\u001b[0m \u001b[0mfloat\u001b[0m\u001b[1;33m(\u001b[0m\u001b[1;36m20\u001b[0m\u001b[1;33m)\u001b[0m\u001b[1;33m)\u001b[0m\u001b[1;33m\u001b[0m\u001b[1;33m\u001b[0m\u001b[0m\n\u001b[0;32m      4\u001b[0m \"\"\"\n\u001b[1;32m----> 5\u001b[1;33m \u001b[0mmu\u001b[0m\u001b[1;33m.\u001b[0m\u001b[0mmysql_execute\u001b[0m\u001b[1;33m(\u001b[0m\u001b[0mquery3\u001b[0m\u001b[1;33m,\u001b[0m\u001b[0mconn\u001b[0m\u001b[1;33m)\u001b[0m\u001b[1;33m\u001b[0m\u001b[1;33m\u001b[0m\u001b[0m\n\u001b[0m",
      "\u001b[1;32m~\\Work_Python\\my_utils.py\u001b[0m in \u001b[0;36mmysql_execute\u001b[1;34m(query, conn)\u001b[0m\n\u001b[0;32m     51\u001b[0m \u001b[1;32mdef\u001b[0m \u001b[0mmysql_execute\u001b[0m\u001b[1;33m(\u001b[0m\u001b[0mquery\u001b[0m\u001b[1;33m,\u001b[0m \u001b[0mconn\u001b[0m\u001b[1;33m)\u001b[0m\u001b[1;33m:\u001b[0m\u001b[1;33m\u001b[0m\u001b[1;33m\u001b[0m\u001b[0m\n\u001b[0;32m     52\u001b[0m     \u001b[0mcursor_mysql\u001b[0m \u001b[1;33m=\u001b[0m \u001b[0mconn\u001b[0m\u001b[1;33m.\u001b[0m\u001b[0mcursor\u001b[0m\u001b[1;33m(\u001b[0m\u001b[1;33m)\u001b[0m\u001b[1;33m\u001b[0m\u001b[1;33m\u001b[0m\u001b[0m\n\u001b[1;32m---> 53\u001b[1;33m     \u001b[0mcursor_mysql\u001b[0m\u001b[1;33m.\u001b[0m\u001b[0mexecute\u001b[0m\u001b[1;33m(\u001b[0m\u001b[0mquery\u001b[0m\u001b[1;33m)\u001b[0m\u001b[1;33m\u001b[0m\u001b[1;33m\u001b[0m\u001b[0m\n\u001b[0m\u001b[0;32m     54\u001b[0m     \u001b[0mresult\u001b[0m \u001b[1;33m=\u001b[0m \u001b[0mcursor_mysql\u001b[0m\u001b[1;33m.\u001b[0m\u001b[0mfetchall\u001b[0m\u001b[1;33m(\u001b[0m\u001b[1;33m)\u001b[0m\u001b[1;33m\u001b[0m\u001b[1;33m\u001b[0m\u001b[0m\n\u001b[0;32m     55\u001b[0m     \u001b[1;32mreturn\u001b[0m \u001b[0mresult\u001b[0m\u001b[1;33m\u001b[0m\u001b[1;33m\u001b[0m\u001b[0m\n",
      "\u001b[1;32m~\\Anaconda3\\lib\\site-packages\\pymysql\\cursors.py\u001b[0m in \u001b[0;36mexecute\u001b[1;34m(self, query, args)\u001b[0m\n\u001b[0;32m    146\u001b[0m         \u001b[0mquery\u001b[0m \u001b[1;33m=\u001b[0m \u001b[0mself\u001b[0m\u001b[1;33m.\u001b[0m\u001b[0mmogrify\u001b[0m\u001b[1;33m(\u001b[0m\u001b[0mquery\u001b[0m\u001b[1;33m,\u001b[0m \u001b[0margs\u001b[0m\u001b[1;33m)\u001b[0m\u001b[1;33m\u001b[0m\u001b[1;33m\u001b[0m\u001b[0m\n\u001b[0;32m    147\u001b[0m \u001b[1;33m\u001b[0m\u001b[0m\n\u001b[1;32m--> 148\u001b[1;33m         \u001b[0mresult\u001b[0m \u001b[1;33m=\u001b[0m \u001b[0mself\u001b[0m\u001b[1;33m.\u001b[0m\u001b[0m_query\u001b[0m\u001b[1;33m(\u001b[0m\u001b[0mquery\u001b[0m\u001b[1;33m)\u001b[0m\u001b[1;33m\u001b[0m\u001b[1;33m\u001b[0m\u001b[0m\n\u001b[0m\u001b[0;32m    149\u001b[0m         \u001b[0mself\u001b[0m\u001b[1;33m.\u001b[0m\u001b[0m_executed\u001b[0m \u001b[1;33m=\u001b[0m \u001b[0mquery\u001b[0m\u001b[1;33m\u001b[0m\u001b[1;33m\u001b[0m\u001b[0m\n\u001b[0;32m    150\u001b[0m         \u001b[1;32mreturn\u001b[0m \u001b[0mresult\u001b[0m\u001b[1;33m\u001b[0m\u001b[1;33m\u001b[0m\u001b[0m\n",
      "\u001b[1;32m~\\Anaconda3\\lib\\site-packages\\pymysql\\cursors.py\u001b[0m in \u001b[0;36m_query\u001b[1;34m(self, q)\u001b[0m\n\u001b[0;32m    308\u001b[0m         \u001b[0mself\u001b[0m\u001b[1;33m.\u001b[0m\u001b[0m_last_executed\u001b[0m \u001b[1;33m=\u001b[0m \u001b[0mq\u001b[0m\u001b[1;33m\u001b[0m\u001b[1;33m\u001b[0m\u001b[0m\n\u001b[0;32m    309\u001b[0m         \u001b[0mself\u001b[0m\u001b[1;33m.\u001b[0m\u001b[0m_clear_result\u001b[0m\u001b[1;33m(\u001b[0m\u001b[1;33m)\u001b[0m\u001b[1;33m\u001b[0m\u001b[1;33m\u001b[0m\u001b[0m\n\u001b[1;32m--> 310\u001b[1;33m         \u001b[0mconn\u001b[0m\u001b[1;33m.\u001b[0m\u001b[0mquery\u001b[0m\u001b[1;33m(\u001b[0m\u001b[0mq\u001b[0m\u001b[1;33m)\u001b[0m\u001b[1;33m\u001b[0m\u001b[1;33m\u001b[0m\u001b[0m\n\u001b[0m\u001b[0;32m    311\u001b[0m         \u001b[0mself\u001b[0m\u001b[1;33m.\u001b[0m\u001b[0m_do_get_result\u001b[0m\u001b[1;33m(\u001b[0m\u001b[1;33m)\u001b[0m\u001b[1;33m\u001b[0m\u001b[1;33m\u001b[0m\u001b[0m\n\u001b[0;32m    312\u001b[0m         \u001b[1;32mreturn\u001b[0m \u001b[0mself\u001b[0m\u001b[1;33m.\u001b[0m\u001b[0mrowcount\u001b[0m\u001b[1;33m\u001b[0m\u001b[1;33m\u001b[0m\u001b[0m\n",
      "\u001b[1;32m~\\Anaconda3\\lib\\site-packages\\pymysql\\connections.py\u001b[0m in \u001b[0;36mquery\u001b[1;34m(self, sql, unbuffered)\u001b[0m\n\u001b[0;32m    546\u001b[0m             \u001b[0msql\u001b[0m \u001b[1;33m=\u001b[0m \u001b[0msql\u001b[0m\u001b[1;33m.\u001b[0m\u001b[0mencode\u001b[0m\u001b[1;33m(\u001b[0m\u001b[0mself\u001b[0m\u001b[1;33m.\u001b[0m\u001b[0mencoding\u001b[0m\u001b[1;33m,\u001b[0m \u001b[1;34m\"surrogateescape\"\u001b[0m\u001b[1;33m)\u001b[0m\u001b[1;33m\u001b[0m\u001b[1;33m\u001b[0m\u001b[0m\n\u001b[0;32m    547\u001b[0m         \u001b[0mself\u001b[0m\u001b[1;33m.\u001b[0m\u001b[0m_execute_command\u001b[0m\u001b[1;33m(\u001b[0m\u001b[0mCOMMAND\u001b[0m\u001b[1;33m.\u001b[0m\u001b[0mCOM_QUERY\u001b[0m\u001b[1;33m,\u001b[0m \u001b[0msql\u001b[0m\u001b[1;33m)\u001b[0m\u001b[1;33m\u001b[0m\u001b[1;33m\u001b[0m\u001b[0m\n\u001b[1;32m--> 548\u001b[1;33m         \u001b[0mself\u001b[0m\u001b[1;33m.\u001b[0m\u001b[0m_affected_rows\u001b[0m \u001b[1;33m=\u001b[0m \u001b[0mself\u001b[0m\u001b[1;33m.\u001b[0m\u001b[0m_read_query_result\u001b[0m\u001b[1;33m(\u001b[0m\u001b[0munbuffered\u001b[0m\u001b[1;33m=\u001b[0m\u001b[0munbuffered\u001b[0m\u001b[1;33m)\u001b[0m\u001b[1;33m\u001b[0m\u001b[1;33m\u001b[0m\u001b[0m\n\u001b[0m\u001b[0;32m    549\u001b[0m         \u001b[1;32mreturn\u001b[0m \u001b[0mself\u001b[0m\u001b[1;33m.\u001b[0m\u001b[0m_affected_rows\u001b[0m\u001b[1;33m\u001b[0m\u001b[1;33m\u001b[0m\u001b[0m\n\u001b[0;32m    550\u001b[0m \u001b[1;33m\u001b[0m\u001b[0m\n",
      "\u001b[1;32m~\\Anaconda3\\lib\\site-packages\\pymysql\\connections.py\u001b[0m in \u001b[0;36m_read_query_result\u001b[1;34m(self, unbuffered)\u001b[0m\n\u001b[0;32m    773\u001b[0m         \u001b[1;32melse\u001b[0m\u001b[1;33m:\u001b[0m\u001b[1;33m\u001b[0m\u001b[1;33m\u001b[0m\u001b[0m\n\u001b[0;32m    774\u001b[0m             \u001b[0mresult\u001b[0m \u001b[1;33m=\u001b[0m \u001b[0mMySQLResult\u001b[0m\u001b[1;33m(\u001b[0m\u001b[0mself\u001b[0m\u001b[1;33m)\u001b[0m\u001b[1;33m\u001b[0m\u001b[1;33m\u001b[0m\u001b[0m\n\u001b[1;32m--> 775\u001b[1;33m             \u001b[0mresult\u001b[0m\u001b[1;33m.\u001b[0m\u001b[0mread\u001b[0m\u001b[1;33m(\u001b[0m\u001b[1;33m)\u001b[0m\u001b[1;33m\u001b[0m\u001b[1;33m\u001b[0m\u001b[0m\n\u001b[0m\u001b[0;32m    776\u001b[0m         \u001b[0mself\u001b[0m\u001b[1;33m.\u001b[0m\u001b[0m_result\u001b[0m \u001b[1;33m=\u001b[0m \u001b[0mresult\u001b[0m\u001b[1;33m\u001b[0m\u001b[1;33m\u001b[0m\u001b[0m\n\u001b[0;32m    777\u001b[0m         \u001b[1;32mif\u001b[0m \u001b[0mresult\u001b[0m\u001b[1;33m.\u001b[0m\u001b[0mserver_status\u001b[0m \u001b[1;32mis\u001b[0m \u001b[1;32mnot\u001b[0m \u001b[1;32mNone\u001b[0m\u001b[1;33m:\u001b[0m\u001b[1;33m\u001b[0m\u001b[1;33m\u001b[0m\u001b[0m\n",
      "\u001b[1;32m~\\Anaconda3\\lib\\site-packages\\pymysql\\connections.py\u001b[0m in \u001b[0;36mread\u001b[1;34m(self)\u001b[0m\n\u001b[0;32m   1154\u001b[0m     \u001b[1;32mdef\u001b[0m \u001b[0mread\u001b[0m\u001b[1;33m(\u001b[0m\u001b[0mself\u001b[0m\u001b[1;33m)\u001b[0m\u001b[1;33m:\u001b[0m\u001b[1;33m\u001b[0m\u001b[1;33m\u001b[0m\u001b[0m\n\u001b[0;32m   1155\u001b[0m         \u001b[1;32mtry\u001b[0m\u001b[1;33m:\u001b[0m\u001b[1;33m\u001b[0m\u001b[1;33m\u001b[0m\u001b[0m\n\u001b[1;32m-> 1156\u001b[1;33m             \u001b[0mfirst_packet\u001b[0m \u001b[1;33m=\u001b[0m \u001b[0mself\u001b[0m\u001b[1;33m.\u001b[0m\u001b[0mconnection\u001b[0m\u001b[1;33m.\u001b[0m\u001b[0m_read_packet\u001b[0m\u001b[1;33m(\u001b[0m\u001b[1;33m)\u001b[0m\u001b[1;33m\u001b[0m\u001b[1;33m\u001b[0m\u001b[0m\n\u001b[0m\u001b[0;32m   1157\u001b[0m \u001b[1;33m\u001b[0m\u001b[0m\n\u001b[0;32m   1158\u001b[0m             \u001b[1;32mif\u001b[0m \u001b[0mfirst_packet\u001b[0m\u001b[1;33m.\u001b[0m\u001b[0mis_ok_packet\u001b[0m\u001b[1;33m(\u001b[0m\u001b[1;33m)\u001b[0m\u001b[1;33m:\u001b[0m\u001b[1;33m\u001b[0m\u001b[1;33m\u001b[0m\u001b[0m\n",
      "\u001b[1;32m~\\Anaconda3\\lib\\site-packages\\pymysql\\connections.py\u001b[0m in \u001b[0;36m_read_packet\u001b[1;34m(self, packet_type)\u001b[0m\n\u001b[0;32m    723\u001b[0m             \u001b[1;32mif\u001b[0m \u001b[0mself\u001b[0m\u001b[1;33m.\u001b[0m\u001b[0m_result\u001b[0m \u001b[1;32mis\u001b[0m \u001b[1;32mnot\u001b[0m \u001b[1;32mNone\u001b[0m \u001b[1;32mand\u001b[0m \u001b[0mself\u001b[0m\u001b[1;33m.\u001b[0m\u001b[0m_result\u001b[0m\u001b[1;33m.\u001b[0m\u001b[0munbuffered_active\u001b[0m \u001b[1;32mis\u001b[0m \u001b[1;32mTrue\u001b[0m\u001b[1;33m:\u001b[0m\u001b[1;33m\u001b[0m\u001b[1;33m\u001b[0m\u001b[0m\n\u001b[0;32m    724\u001b[0m                 \u001b[0mself\u001b[0m\u001b[1;33m.\u001b[0m\u001b[0m_result\u001b[0m\u001b[1;33m.\u001b[0m\u001b[0munbuffered_active\u001b[0m \u001b[1;33m=\u001b[0m \u001b[1;32mFalse\u001b[0m\u001b[1;33m\u001b[0m\u001b[1;33m\u001b[0m\u001b[0m\n\u001b[1;32m--> 725\u001b[1;33m             \u001b[0mpacket\u001b[0m\u001b[1;33m.\u001b[0m\u001b[0mraise_for_error\u001b[0m\u001b[1;33m(\u001b[0m\u001b[1;33m)\u001b[0m\u001b[1;33m\u001b[0m\u001b[1;33m\u001b[0m\u001b[0m\n\u001b[0m\u001b[0;32m    726\u001b[0m         \u001b[1;32mreturn\u001b[0m \u001b[0mpacket\u001b[0m\u001b[1;33m\u001b[0m\u001b[1;33m\u001b[0m\u001b[0m\n\u001b[0;32m    727\u001b[0m \u001b[1;33m\u001b[0m\u001b[0m\n",
      "\u001b[1;32m~\\Anaconda3\\lib\\site-packages\\pymysql\\protocol.py\u001b[0m in \u001b[0;36mraise_for_error\u001b[1;34m(self)\u001b[0m\n\u001b[0;32m    219\u001b[0m         \u001b[1;32mif\u001b[0m \u001b[0mDEBUG\u001b[0m\u001b[1;33m:\u001b[0m\u001b[1;33m\u001b[0m\u001b[1;33m\u001b[0m\u001b[0m\n\u001b[0;32m    220\u001b[0m             \u001b[0mprint\u001b[0m\u001b[1;33m(\u001b[0m\u001b[1;34m\"errno =\"\u001b[0m\u001b[1;33m,\u001b[0m \u001b[0merrno\u001b[0m\u001b[1;33m)\u001b[0m\u001b[1;33m\u001b[0m\u001b[1;33m\u001b[0m\u001b[0m\n\u001b[1;32m--> 221\u001b[1;33m         \u001b[0merr\u001b[0m\u001b[1;33m.\u001b[0m\u001b[0mraise_mysql_exception\u001b[0m\u001b[1;33m(\u001b[0m\u001b[0mself\u001b[0m\u001b[1;33m.\u001b[0m\u001b[0m_data\u001b[0m\u001b[1;33m)\u001b[0m\u001b[1;33m\u001b[0m\u001b[1;33m\u001b[0m\u001b[0m\n\u001b[0m\u001b[0;32m    222\u001b[0m \u001b[1;33m\u001b[0m\u001b[0m\n\u001b[0;32m    223\u001b[0m     \u001b[1;32mdef\u001b[0m \u001b[0mdump\u001b[0m\u001b[1;33m(\u001b[0m\u001b[0mself\u001b[0m\u001b[1;33m)\u001b[0m\u001b[1;33m:\u001b[0m\u001b[1;33m\u001b[0m\u001b[1;33m\u001b[0m\u001b[0m\n",
      "\u001b[1;32m~\\Anaconda3\\lib\\site-packages\\pymysql\\err.py\u001b[0m in \u001b[0;36mraise_mysql_exception\u001b[1;34m(data)\u001b[0m\n\u001b[0;32m    141\u001b[0m     \u001b[1;32mif\u001b[0m \u001b[0merrorclass\u001b[0m \u001b[1;32mis\u001b[0m \u001b[1;32mNone\u001b[0m\u001b[1;33m:\u001b[0m\u001b[1;33m\u001b[0m\u001b[1;33m\u001b[0m\u001b[0m\n\u001b[0;32m    142\u001b[0m         \u001b[0merrorclass\u001b[0m \u001b[1;33m=\u001b[0m \u001b[0mInternalError\u001b[0m \u001b[1;32mif\u001b[0m \u001b[0merrno\u001b[0m \u001b[1;33m<\u001b[0m \u001b[1;36m1000\u001b[0m \u001b[1;32melse\u001b[0m \u001b[0mOperationalError\u001b[0m\u001b[1;33m\u001b[0m\u001b[1;33m\u001b[0m\u001b[0m\n\u001b[1;32m--> 143\u001b[1;33m     \u001b[1;32mraise\u001b[0m \u001b[0merrorclass\u001b[0m\u001b[1;33m(\u001b[0m\u001b[0merrno\u001b[0m\u001b[1;33m,\u001b[0m \u001b[0merrval\u001b[0m\u001b[1;33m)\u001b[0m\u001b[1;33m\u001b[0m\u001b[1;33m\u001b[0m\u001b[0m\n\u001b[0m",
      "\u001b[1;31mOperationalError\u001b[0m: (1050, \"Table 'corona19countstatus' already exists\")"
     ]
    }
   ],
   "source": [
    "conn = mu.connect_mysql('icia') #mysql\n",
    "query3 =\"\"\" \n",
    "CREATE TABLE Corona19CountStatus(서울시기준일 varchar(50), 서울시확진자 float(20), 서울시치료중 float(20), 서울시퇴원 varchar(20), 서울시사망 float(20), 전국확진 float(20), 전국사망 float(20))\n",
    "\"\"\"\n",
    "mu.mysql_execute(query3,conn)"
   ]
  },
  {
   "cell_type": "code",
   "execution_count": 135,
   "id": "2e4b4c90",
   "metadata": {},
   "outputs": [],
   "source": [
    "def key(my_df):\n",
    "    lst=[]\n",
    "    for idx,i in enumerate(my_df.keys()):\n",
    "        lst.append(i)\n",
    "    return lst"
   ]
  },
  {
   "cell_type": "code",
   "execution_count": 136,
   "id": "789577c1",
   "metadata": {},
   "outputs": [
    {
     "data": {
      "text/plain": [
       "['서울시기준일', '서울시확진자', '서울시치료중', '서울시퇴원', '서울시사망', '전국확진', '전국사망']"
      ]
     },
     "execution_count": 136,
     "metadata": {},
     "output_type": "execute_result"
    }
   ],
   "source": [
    "key(my_df)"
   ]
  },
  {
   "cell_type": "code",
   "execution_count": 221,
   "id": "21ee64e3",
   "metadata": {},
   "outputs": [],
   "source": [
    "query_1 = \"insert into Corona19CountStatus(\"\n",
    "for idx,i in enumerate(key(my_df)):\n",
    "    if idx == len(key(my_df))-1:\n",
    "        query_1+=(i+')')\n",
    "    else : query_1+=(i+',')"
   ]
  },
  {
   "cell_type": "code",
   "execution_count": 222,
   "id": "9165f521",
   "metadata": {},
   "outputs": [
    {
     "data": {
      "text/plain": [
       "'insert into Corona19CountStatus(서울시기준일,서울시확진자,서울시치료중,서울시퇴원,서울시사망,전국확진,전국사망)'"
      ]
     },
     "execution_count": 222,
     "metadata": {},
     "output_type": "execute_result"
    }
   ],
   "source": [
    "query_1"
   ]
  },
  {
   "cell_type": "code",
   "execution_count": 234,
   "id": "24ba2a61",
   "metadata": {},
   "outputs": [
    {
     "ename": "TypeError",
     "evalue": "Cannot index by location index with a non-integer key",
     "output_type": "error",
     "traceback": [
      "\u001b[1;31m---------------------------------------------------------------------------\u001b[0m",
      "\u001b[1;31mTypeError\u001b[0m                                 Traceback (most recent call last)",
      "\u001b[1;32m~\\AppData\\Local\\Temp\\ipykernel_6892\\2792637554.py\u001b[0m in \u001b[0;36m<module>\u001b[1;34m\u001b[0m\n\u001b[0;32m      3\u001b[0m     \u001b[1;32mif\u001b[0m \u001b[0midx\u001b[0m \u001b[1;33m==\u001b[0m \u001b[0mlen\u001b[0m\u001b[1;33m(\u001b[0m\u001b[0mkey\u001b[0m\u001b[1;33m(\u001b[0m\u001b[0mmy_df\u001b[0m\u001b[1;33m)\u001b[0m\u001b[1;33m)\u001b[0m\u001b[1;33m-\u001b[0m\u001b[1;36m1\u001b[0m\u001b[1;33m:\u001b[0m\u001b[1;33m\u001b[0m\u001b[1;33m\u001b[0m\u001b[0m\n\u001b[0;32m      4\u001b[0m         \u001b[0mquery_2\u001b[0m\u001b[1;33m+=\u001b[0m\u001b[1;33m(\u001b[0m\u001b[0mrepr\u001b[0m\u001b[1;33m(\u001b[0m\u001b[0mstr\u001b[0m\u001b[1;33m(\u001b[0m\u001b[0mmy_df\u001b[0m\u001b[1;33m[\u001b[0m\u001b[0mi\u001b[0m\u001b[1;33m]\u001b[0m\u001b[1;33m.\u001b[0m\u001b[0miloc\u001b[0m\u001b[1;33m[\u001b[0m\u001b[0mi\u001b[0m\u001b[1;33m]\u001b[0m\u001b[1;33m)\u001b[0m\u001b[1;33m)\u001b[0m\u001b[1;33m+\u001b[0m\u001b[1;34m')'\u001b[0m\u001b[1;33m)\u001b[0m\u001b[1;33m\u001b[0m\u001b[1;33m\u001b[0m\u001b[0m\n\u001b[1;32m----> 5\u001b[1;33m     \u001b[1;32melse\u001b[0m \u001b[1;33m:\u001b[0m \u001b[0mquery_2\u001b[0m\u001b[1;33m+=\u001b[0m\u001b[1;33m(\u001b[0m\u001b[0mrepr\u001b[0m\u001b[1;33m(\u001b[0m\u001b[0mstr\u001b[0m\u001b[1;33m(\u001b[0m\u001b[0mmy_df\u001b[0m\u001b[1;33m[\u001b[0m\u001b[0mi\u001b[0m\u001b[1;33m]\u001b[0m\u001b[1;33m.\u001b[0m\u001b[0miloc\u001b[0m\u001b[1;33m[\u001b[0m\u001b[0mi\u001b[0m\u001b[1;33m]\u001b[0m\u001b[1;33m)\u001b[0m\u001b[1;33m)\u001b[0m\u001b[1;33m+\u001b[0m\u001b[1;34m','\u001b[0m\u001b[1;33m)\u001b[0m\u001b[1;33m\u001b[0m\u001b[1;33m\u001b[0m\u001b[0m\n\u001b[0m",
      "\u001b[1;32m~\\Anaconda3\\lib\\site-packages\\pandas\\core\\indexing.py\u001b[0m in \u001b[0;36m__getitem__\u001b[1;34m(self, key)\u001b[0m\n\u001b[0;32m    965\u001b[0m \u001b[1;33m\u001b[0m\u001b[0m\n\u001b[0;32m    966\u001b[0m             \u001b[0mmaybe_callable\u001b[0m \u001b[1;33m=\u001b[0m \u001b[0mcom\u001b[0m\u001b[1;33m.\u001b[0m\u001b[0mapply_if_callable\u001b[0m\u001b[1;33m(\u001b[0m\u001b[0mkey\u001b[0m\u001b[1;33m,\u001b[0m \u001b[0mself\u001b[0m\u001b[1;33m.\u001b[0m\u001b[0mobj\u001b[0m\u001b[1;33m)\u001b[0m\u001b[1;33m\u001b[0m\u001b[1;33m\u001b[0m\u001b[0m\n\u001b[1;32m--> 967\u001b[1;33m             \u001b[1;32mreturn\u001b[0m \u001b[0mself\u001b[0m\u001b[1;33m.\u001b[0m\u001b[0m_getitem_axis\u001b[0m\u001b[1;33m(\u001b[0m\u001b[0mmaybe_callable\u001b[0m\u001b[1;33m,\u001b[0m \u001b[0maxis\u001b[0m\u001b[1;33m=\u001b[0m\u001b[0maxis\u001b[0m\u001b[1;33m)\u001b[0m\u001b[1;33m\u001b[0m\u001b[1;33m\u001b[0m\u001b[0m\n\u001b[0m\u001b[0;32m    968\u001b[0m \u001b[1;33m\u001b[0m\u001b[0m\n\u001b[0;32m    969\u001b[0m     \u001b[1;32mdef\u001b[0m \u001b[0m_is_scalar_access\u001b[0m\u001b[1;33m(\u001b[0m\u001b[0mself\u001b[0m\u001b[1;33m,\u001b[0m \u001b[0mkey\u001b[0m\u001b[1;33m:\u001b[0m \u001b[0mtuple\u001b[0m\u001b[1;33m)\u001b[0m\u001b[1;33m:\u001b[0m\u001b[1;33m\u001b[0m\u001b[1;33m\u001b[0m\u001b[0m\n",
      "\u001b[1;32m~\\Anaconda3\\lib\\site-packages\\pandas\\core\\indexing.py\u001b[0m in \u001b[0;36m_getitem_axis\u001b[1;34m(self, key, axis)\u001b[0m\n\u001b[0;32m   1518\u001b[0m             \u001b[0mkey\u001b[0m \u001b[1;33m=\u001b[0m \u001b[0mitem_from_zerodim\u001b[0m\u001b[1;33m(\u001b[0m\u001b[0mkey\u001b[0m\u001b[1;33m)\u001b[0m\u001b[1;33m\u001b[0m\u001b[1;33m\u001b[0m\u001b[0m\n\u001b[0;32m   1519\u001b[0m             \u001b[1;32mif\u001b[0m \u001b[1;32mnot\u001b[0m \u001b[0mis_integer\u001b[0m\u001b[1;33m(\u001b[0m\u001b[0mkey\u001b[0m\u001b[1;33m)\u001b[0m\u001b[1;33m:\u001b[0m\u001b[1;33m\u001b[0m\u001b[1;33m\u001b[0m\u001b[0m\n\u001b[1;32m-> 1520\u001b[1;33m                 \u001b[1;32mraise\u001b[0m \u001b[0mTypeError\u001b[0m\u001b[1;33m(\u001b[0m\u001b[1;34m\"Cannot index by location index with a non-integer key\"\u001b[0m\u001b[1;33m)\u001b[0m\u001b[1;33m\u001b[0m\u001b[1;33m\u001b[0m\u001b[0m\n\u001b[0m\u001b[0;32m   1521\u001b[0m \u001b[1;33m\u001b[0m\u001b[0m\n\u001b[0;32m   1522\u001b[0m             \u001b[1;31m# validate the location\u001b[0m\u001b[1;33m\u001b[0m\u001b[1;33m\u001b[0m\u001b[0m\n",
      "\u001b[1;31mTypeError\u001b[0m: Cannot index by location index with a non-integer key"
     ]
    }
   ],
   "source": [
    "query_2 = ' values('\n",
    "for idx,i in enumerate(key(my_df)):\n",
    "    if idx == len(key(my_df))-1:\n",
    "        query_2+=(repr(str(my_df[i].iloc[i]))+')')\n",
    "    else : query_2+=(repr(str(my_df[i].iloc[i]))+',')"
   ]
  },
  {
   "cell_type": "code",
   "execution_count": 230,
   "id": "0ea91842",
   "metadata": {},
   "outputs": [
    {
     "data": {
      "text/plain": [
       "' values(repr(str(my_df.서울시기준일.iloc[i])),repr(str(my_df.서울시확진자.iloc[i])),repr(str(my_df.서울시치료중.iloc[i])),repr(str(my_df.서울시퇴원.iloc[i])),repr(str(my_df.서울시사망.iloc[i])),repr(str(my_df.전국확진.iloc[i])),repr(str(my_df.전국사망.iloc[i])))'"
      ]
     },
     "execution_count": 230,
     "metadata": {},
     "output_type": "execute_result"
    }
   ],
   "source": [
    "query_2"
   ]
  },
  {
   "cell_type": "code",
   "execution_count": 231,
   "id": "28169b33",
   "metadata": {},
   "outputs": [],
   "source": [
    "query3 = query_1+query_2"
   ]
  },
  {
   "cell_type": "code",
   "execution_count": 232,
   "id": "c2e7d5f6",
   "metadata": {},
   "outputs": [
    {
     "data": {
      "text/plain": [
       "'insert into Corona19CountStatus(서울시기준일,서울시확진자,서울시치료중,서울시퇴원,서울시사망,전국확진,전국사망) values(repr(str(my_df.서울시기준일.iloc[i])),repr(str(my_df.서울시확진자.iloc[i])),repr(str(my_df.서울시치료중.iloc[i])),repr(str(my_df.서울시퇴원.iloc[i])),repr(str(my_df.서울시사망.iloc[i])),repr(str(my_df.전국확진.iloc[i])),repr(str(my_df.전국사망.iloc[i])))'"
      ]
     },
     "execution_count": 232,
     "metadata": {},
     "output_type": "execute_result"
    }
   ],
   "source": [
    "query3"
   ]
  },
  {
   "cell_type": "code",
   "execution_count": 179,
   "id": "6deab0bf",
   "metadata": {},
   "outputs": [
    {
     "data": {
      "text/plain": [
       "\"insert into Corona19CountStatus(서울시기준일, 서울시확진자, 서울시치료중, 서울시퇴원, 서울시사망,전국확진, 전국사망)values('2020.06.14.00',1113.0,420.0,'689',4.0,12085.0,277.0)\""
      ]
     },
     "execution_count": 179,
     "metadata": {},
     "output_type": "execute_result"
    }
   ],
   "source": [
    "query4"
   ]
  },
  {
   "cell_type": "code",
   "execution_count": 212,
   "id": "734d4269",
   "metadata": {},
   "outputs": [
    {
     "ename": "IndentationError",
     "evalue": "unexpected indent (979703169.py, line 2)",
     "output_type": "error",
     "traceback": [
      "\u001b[1;36m  File \u001b[1;32m\"C:\\Users\\user\\AppData\\Local\\Temp\\ipykernel_6892\\979703169.py\"\u001b[1;36m, line \u001b[1;32m2\u001b[0m\n\u001b[1;33m    f'values({repr(my_df.서울시기준일.iloc[i])},{my_df.서울시확진자.iloc[i]},{my_df.서울시치료중.iloc[i]},'\u001b[0m\n\u001b[1;37m    ^\u001b[0m\n\u001b[1;31mIndentationError\u001b[0m\u001b[1;31m:\u001b[0m unexpected indent\n"
     ]
    }
   ],
   "source": [
    "query8=f'insert into Corona19CountStatus(서울시기준일, 서울시확진자, 서울시치료중, 서울시퇴원, 서울시사망,전국확진, 전국사망)'\n",
    "    f'values({repr(my_df.서울시기준일.iloc[i])},{my_df.서울시확진자.iloc[i]},{my_df.서울시치료중.iloc[i]},'\n",
    "    f'{repr(my_df.서울시퇴원.iloc[i])},{my_df.서울시사망.iloc[i]},{my_df.전국확진.iloc[i]},{my_df.전국사망.iloc[i]})'"
   ]
  },
  {
   "cell_type": "code",
   "execution_count": null,
   "id": "3010db1f",
   "metadata": {},
   "outputs": [],
   "source": []
  },
  {
   "cell_type": "code",
   "execution_count": null,
   "id": "26720f86",
   "metadata": {},
   "outputs": [],
   "source": []
  },
  {
   "cell_type": "code",
   "execution_count": 100,
   "id": "7aec4e6f",
   "metadata": {},
   "outputs": [
    {
     "name": "stderr",
     "output_type": "stream",
     "text": [
      "100%|████████████████████████████████████████████████████████████████████████████| 1000/1000 [00:00<00:00, 3377.34it/s]\n"
     ]
    }
   ],
   "source": [
    "conn= mu.connect_mysql('icia') #mysql\n",
    "for i in tqdm(range(len(my_df))):\n",
    "    query4=(\n",
    "    f'insert into Corona19CountStatus(서울시기준일, 서울시확진자, 서울시치료중, 서울시퇴원, 서울시사망,전국확진, 전국사망)'\n",
    "    f'values({repr(my_df.서울시기준일.iloc[i])},{my_df.서울시확진자.iloc[i]},{my_df.서울시치료중.iloc[i]},'\n",
    "    f'{repr(my_df.서울시퇴원.iloc[i])},{my_df.서울시사망.iloc[i]},{my_df.전국확진.iloc[i]},{my_df.전국사망.iloc[i]})'\n",
    "    )\n",
    "    mu.mysql_execute(query4,conn)\n",
    "conn.commit()\n",
    "conn.close()"
   ]
  },
  {
   "cell_type": "code",
   "execution_count": 102,
   "id": "d2c9f813",
   "metadata": {},
   "outputs": [],
   "source": [
    "conn= mu.connect_mysql('icia') #mysql\n",
    "query5 = 'select * from Corona19CountStatus'\n",
    "mu.mysql_execute(query5,conn)\n",
    "conn.commit()\n",
    "conn.close()"
   ]
  },
  {
   "cell_type": "code",
   "execution_count": 105,
   "id": "803b4f3c",
   "metadata": {},
   "outputs": [
    {
     "data": {
      "text/plain": [
       "(('2023.03.10.00', 5944740.0, 0.0, '', 6359.0, 30615500.0, 34093.0),\n",
       " ('2023.03.09.00', 5942570.0, 0.0, '', 6358.0, 30605200.0, 34081.0),\n",
       " ('2023.03.08.00', 5940440.0, 0.0, '', 6358.0, 30594300.0, 34061.0),\n",
       " ('2023.03.07.00', 5938000.0, 0.0, '', 6358.0, 30581500.0, 34049.0),\n",
       " ('2023.03.06.00', 5935250.0, 0.0, '', 6355.0, 30569200.0, 34034.0),\n",
       " ('2023.03.05.00\\r\\n', 5934510.0, 0.0, '', 6352.0, 30555100.0, 34020.0),\n",
       " ('2023.03.04.00', 5932500.0, 0.0, '', 6352.0, 30555100.0, 34020.0),\n",
       " ('2023.03.03.00', 5930360.0, 0.0, '', 6351.0, 30544000.0, 34014.0),\n",
       " ('2023.03.02.00', 5928070.0, 0.0, '', 6347.0, 30533600.0, 34003.0),\n",
       " ('2023.03.01.00', 5926870.0, 0.0, '', 6345.0, 30526000.0, 33988.0),\n",
       " ('2023.02.28.00', 5924560.0, 0.0, '', 6344.0, 30513700.0, 33977.0),\n",
       " ('2023.02.27.00', 5922240.0, 0.0, '', 6341.0, 30502900.0, 33961.0),\n",
       " ('2023.02.26.00', 5921620.0, 0.0, '', 6340.0, 30489700.0, 33940.0),\n",
       " ('2023.02.25.00', 5919850.0, 0.0, '', 6338.0, 30489700.0, 33940.0),\n",
       " ('2023.02.24.00', 5917940.0, 0.0, '', 6335.0, 30479800.0, 33929.0),\n",
       " ('2023.02.23.00', 5915980.0, 0.0, '', 6330.0, 30469700.0, 33909.0),\n",
       " ('2023.02.22.00', 5913860.0, 0.0, '', 6329.0, 30458900.0, 33887.0),\n",
       " ('2023.02.21.00', 5911510.0, 0.0, '', 6325.0, 30445800.0, 33873.0),\n",
       " ('2023.02.20.00', 5909010.0, 0.0, '', 6324.0, 30433900.0, 33865.0),\n",
       " ('2023.02.19.00', 5908300.0, 0.0, '', 6323.0, 30429600.0, 33856.0),\n",
       " ('2023.02.18.00', 5906400.0, 0.0, '', 6322.0, 30419300.0, 33844.0),\n",
       " ('2023.02.17.00', 5904430.0, 0.0, '', 6319.0, 30408700.0, 33832.0),\n",
       " ('2023.02.16.00', 5902340.0, 0.0, '', 6312.0, 30397200.0, 33804.0),\n",
       " ('2023.02.15.00', 5900060.0, 0.0, '', 6311.0, 30384700.0, 33782.0),\n",
       " ('2023.02.14.00', 5897480.0, 0.0, '', 6306.0, 30369700.0, 33758.0),\n",
       " ('2023.02.13.00', 5894780.0, 0.0, '', 6302.0, 30355400.0, 33747.0),\n",
       " ('2023.02.12.00', 5894040.0, 0.0, '', 6300.0, 30350200.0, 33736.0),\n",
       " ('2023.02.11.00', 5891950.0, 0.0, '', 6297.0, 30338100.0, 33713.0),\n",
       " ('2023.02.10.00', 5889660.0, 0.0, '', 6295.0, 30325500.0, 33697.0),\n",
       " ('2023.02.09.00', 5887290.0, 0.0, '', 6293.0, 30312000.0, 33680.0),\n",
       " ('2023.02.08.00', 5884830.0, 0.0, '', 6285.0, 30297300.0, 33646.0),\n",
       " ('2023.02.07.00', 5881930.0, 0.0, '', 6281.0, 30279400.0, 33624.0),\n",
       " ('2023.02.06.00', 5878880.0, 0.0, '', 6279.0, 30263300.0, 33614.0),\n",
       " ('2023.02.05.00', 5878070.0, 0.0, '', 6276.0, 30257400.0, 33596.0),\n",
       " ('2023.02.04.00', 5875770.0, 0.0, '', 6272.0, 30243400.0, 33574.0),\n",
       " ('2023.02.03.00', 5873340.0, 0.0, '', 6271.0, 30228900.0, 33552.0),\n",
       " ('2023.02.02.00', 5870790.0, 0.0, '', 6267.0, 30213900.0, 33522.0),\n",
       " ('2023.02.01.00', 5867900.0, 0.0, '', 6263.0, 30197100.0, 33486.0),\n",
       " ('2023.01.31.00', 5864630.0, 0.0, '', 6259.0, 30176600.0, 33444.0),\n",
       " ('2023.01.30.00', 5860930.0, 0.0, '', 6256.0, 30157000.0, 33420.0),\n",
       " ('2023.01.29.00', 5860010.0, 0.0, '', 6252.0, 30149600.0, 33390.0),\n",
       " ('2023.01.28.00', 5857090.0, 0.0, '', 6246.0, 30130700.0, 33361.0),\n",
       " ('2023.01.27.00', 5853040.0, 0.0, '', 6240.0, 30107400.0, 33332.0),\n",
       " ('2023.01.26.00', 5847960.0, 0.0, '', 6235.0, 30075700.0, 33296.0),\n",
       " ('2023.01.25.00', 5841150.0, 0.0, '', 6232.0, 30040600.0, 33270.0),\n",
       " ('2023.01.24.00', 5837960.0, 0.0, '', 6231.0, 30021000.0, 33245.0),\n",
       " ('2023.01.23.00', 5835840.0, 0.0, '', 6230.0, 30008800.0, 33235.0),\n",
       " ('2023.01.22.00', 5834400.0, 0.0, '', 6225.0, 29999500.0, 33209.0),\n",
       " ('2023.01.21.00', 5832080.0, 0.0, '', 6223.0, 29982900.0, 33185.0),\n",
       " ('2023.01.20.00', 5826940.0, 0.0, '', 6218.0, 29955400.0, 33134.0),\n",
       " ('2023.01.19.00', 5821930.0, 0.0, '', 6214.0, 29928000.0, 33104.0),\n",
       " ('2023.01.18.00', 5816420.0, 0.0, '', 6205.0, 29898100.0, 33057.0),\n",
       " ('2023.01.17.00', 5809790.0, 0.0, '', 6196.0, 29861200.0, 33014.0),\n",
       " ('2023.01.16.00', 5801240.0, 0.0, '', 6193.0, 29821000.0, 32984.0),\n",
       " ('2023.01.15.00', 5799100.0, 0.0, '', 6189.0, 29806900.0, 32949.0),\n",
       " ('2023.01.14.00', 5793350.0, 0.0, '', 6183.0, 29774300.0, 32912.0),\n",
       " ('2023.01.13.00', 5786740.0, 0.0, '', 6176.0, 29737800.0, 32867.0),\n",
       " ('2023.01.12.00', 5779540.0, 0.0, '', 6170.0, 29698000.0, 32821.0),\n",
       " ('2023.01.11.00', 5771590.0, 0.0, '', 6159.0, 29654100.0, 32745.0),\n",
       " ('2023.01.10.00', 5762060.0, 0.0, '', 6142.0, 29599700.0, 32669.0),\n",
       " ('2023.01.09.00', 5749920.0, 0.0, '', 6131.0, 29539700.0, 32625.0),\n",
       " ('2023.01.08.00', 5747070.0, 0.0, '', 6127.0, 29520600.0, 32590.0),\n",
       " ('2023.01.07.00', 5739240.0, 0.0, '', 6122.0, 29473800.0, 32556.0),\n",
       " ('2023.01.06.00', 5729350.0, 0.0, '', 6112.0, 29420200.0, 32496.0),\n",
       " ('2023.01.05.00', 5718940.0, 0.0, '', 6103.0, 29363300.0, 32421.0),\n",
       " ('2023.01.04.00', 5707430.0, 0.0, '', 6094.0, 29299200.0, 32355.0),\n",
       " ('2023.01.03.00', 5693510.0, 0.0, '', 6080.0, 29220600.0, 32301.0),\n",
       " ('2023.01.02.00', 5676540.0, 0.0, '', 6075.0, 29139500.0, 32272.0),\n",
       " ('2023.01.01.00', 5673240.0, 0.0, '', 6065.0, 29116800.0, 32219.0),\n",
       " ('2022.12.31.00', 5663250.0, 0.0, '', 6062.0, 29059300.0, 32156.0),\n",
       " ('2022.12.30.00', 5651700.0, 0.0, '', 6057.0, 28996300.0, 32095.0),\n",
       " ('2022.12.29.00', 5640030.0, 0.0, '', 6049.0, 28931100.0, 32027.0),\n",
       " ('2022.12.28.00', 5626640.0, 0.0, '', 6036.0, 28859700.0, 31951.0),\n",
       " ('2022.12.27.00', 5610850.0, 0.0, '', 6026.0, 28772200.0, 31882.0),\n",
       " ('2022.12.26.00', 5592130.0, 0.0, '', 6023.0, 28684600.0, 31832.0),\n",
       " ('2022.12.25.00', 5588540.0, 0.0, '', 6015.0, 28659100.0, 31790.0),\n",
       " ('2022.12.24.00', 5578030.0, 0.0, '', 6010.0, 28600600.0, 31744.0),\n",
       " ('2022.12.23.00', 5566000.0, 0.0, '', 5999.0, 28534600.0, 31674.0),\n",
       " ('2022.12.22.00', 5553590.0, 0.0, '', 5991.0, 28466400.0, 31611.0),\n",
       " ('2022.12.21.00', 5539640.0, 0.0, '', 5981.0, 28390600.0, 31549.0),\n",
       " ('2022.12.20.00', 5524080.0, 0.0, '', 5971.0, 28302500.0, 31490.0),\n",
       " ('2022.12.19.00', 5505860.0, 0.0, '', 5959.0, 28214900.0, 31434.0),\n",
       " ('2022.12.18.00', 5501660.0, 0.0, '', 5950.0, 28188300.0, 31395.0),\n",
       " ('2022.12.17.00', 5491020.0, 0.0, '', 5941.0, 28129400.0, 31353.0),\n",
       " ('2022.12.16.00', 5478660.0, 0.0, '', 5932.0, 28062700.0, 31298.0),\n",
       " ('2022.12.15.00', 5466260.0, 0.0, '', 5924.0, 27995700.0, 31232.0),\n",
       " ('2022.12.14.00', 5453430.0, 0.0, '', 5915.0, 27925600.0, 31174.0),\n",
       " ('2022.12.13.00', 5438250.0, 0.0, '', 5908.0, 27841000.0, 31128.0),\n",
       " ('2022.12.12.00', 5420560.0, 0.0, '', 5905.0, 27754100.0, 31099.0),\n",
       " ('2022.12.11.00', 5416650.0, 0.0, '', 5902.0, 27728500.0, 31069.0),\n",
       " ('2022.12.10.00', 5407040.0, 0.0, '', 5899.0, 27674200.0, 31029.0),\n",
       " ('2022.12.09.00', 5395380.0, 0.0, '', 5891.0, 27611600.0, 30975.0),\n",
       " ('2022.12.08.00', 53838500.0, 0.0, '', 5881.0, 27548800.0, 30908.0),\n",
       " ('2022.12.07.00', 5371560.0, 0.0, '', 5872.0, 27483600.0, 30847.0),\n",
       " ('2022.12.06.00', 5357810.0, 0.0, '', 5865.0, 27408900.0, 30793.0),\n",
       " ('2022.12.05.00', 5341440.0, 0.0, '', 5858.0, 27331200.0, 30769.0),\n",
       " ('2022.12.04.00', 5337520.0, 0.0, '', 5847.0, 27308100.0, 30729.0),\n",
       " ('2022.12.03.00', 5328990.0, 0.0, '', 5840.0, 27261500.0, 30669.0),\n",
       " ('2022.12.02.00', 5318650.0, 0.0, '', 5829.0, 27208800.0, 30621.0),\n",
       " ('2022.12.01.00', 5308160.0, 0.0, '', 5824.0, 27155800.0, 30568.0),\n",
       " ('2022.11.30.00', 5297120.0, 0.0, '', 5807.0, 27098700.0, 30506.0),\n",
       " ('2022.11.29.00', 5284840.0, 0.0, '', 5796.0, 27031300.0, 30454.0),\n",
       " ('2022.11.28.00', 5269330.0, 0.0, '', 5792.0, 26959800.0, 30413.0),\n",
       " ('2022.11.27.00', 5265540.0, 0.0, '', 5779.0, 26937500.0, 30369.0),\n",
       " ('2022.11.26.00', 5256380.0, 0.0, '', 5770.0, 26890500.0, 30330.0),\n",
       " ('2022.11.25.00', 5246240.0, 0.0, '', 5765.0, 26837800.0, 30278.0),\n",
       " ('2022.11.24.00', 5235560.0, 0.0, '', 5756.0, 26784100.0, 30223.0),\n",
       " ('2022.11.23.00', 5224100.0, 0.0, '', 5742.0, 26725100.0, 30164.0),\n",
       " ('2022.11.22.00', 5210610.0, 0.0, '', 5734.0, 26654700.0, 30111.0),\n",
       " ('2022.11.21.00', 5194990.0, 0.0, '', 5723.0, 26581900.0, 30066.0),\n",
       " ('2022.11.20.00', 5191170.0, 0.0, '', 5720.0, 26558800.0, 30031.0),\n",
       " ('2022.11.19.00', 5182360.0, 0.0, '', 5715.0, 26512800.0, 29990.0),\n",
       " ('2022.11.18.00', 5172270.0, 0.0, '', 5705.0, 26462300.0, 29925.0),\n",
       " ('2022.11.17.00', 5162530.0, 0.0, '', 5693.0, 26412900.0, 29862.0),\n",
       " ('2022.11.16.00', 5151680.0, 0.0, '', 5679.0, 26357500.0, 29795.0),\n",
       " ('2022.11.15.00', 5139200.0, 0.0, '', 5669.0, 26290900.0, 29748.0),\n",
       " ('2022.11.14.00', 5123660.0, 0.0, '', 5665.0, 26218000.0, 29709.0),\n",
       " ('2022.11.13.00', 5120010.0, 0.0, '', 5660.0, 26194200.0, 29665.0),\n",
       " ('2022.11.12.00', 5110750.0, 0.0, '', 5655.0, 26145800.0, 29617.0),\n",
       " ('2022.11.11.00', 5099930.0, 0.0, '', 5643.0, 26091500.0, 29571.0),\n",
       " ('2022.11.10.00', 5089030.0, 0.0, '', 5643.0, 26037000.0, 29531.0),\n",
       " ('2022.11.09.00', 5077960.0, 0.0, '', 5637.0, 25981700.0, 29479.0),\n",
       " ('2022.11.08.00', 5065480.0, 0.0, '', 5629.0, 25919200.0, 29420.0),\n",
       " ('2022.11.07.00', 5051320.0, 0.0, '', 5626.0, 25856900.0, 29390.0),\n",
       " ('2022.11.06.00', 5048000.0, 0.0, '', 5626.0, 25838200.0, 29372.0),\n",
       " ('2022.11.05.00', 5040840.0, 0.0, '', 5624.0, 25801600.0, 29354.0),\n",
       " ('2022.11.04.00', 5032740.0, 0.0, '', 5622.0, 25760700.0, 29315.0),\n",
       " ('2022.11.03.00', 5024070.0, 0.0, '', 5617.0, 25717300.0, 29280.0),\n",
       " ('2022.11.02.00', 5014530.0, 0.0, '', 5612.0, 25670400.0, 29239.0),\n",
       " ('2022.11.01.00', 5003590.0, 0.0, '', 5608.0, 25615700.0, 29209.0),\n",
       " ('2022.10.31.00', 4990580.0, 0.0, '', 5603.0, 25557300.0, 29176.0),\n",
       " ('2022.10.30.00', 4987480.0, 0.0, '', 5598.0, 25538800.0, 29158.0),\n",
       " ('2022.10.29.00', 4980780.0, 0.0, '', 5597.0, 25504300.0, 29131.0),\n",
       " ('2022.10.28.00', 4973200.0, 0.0, '', 5594.0, 25467000.0, 29100.0),\n",
       " ('2022.10.27.00', 4965730.0, 0.0, '', 5590.0, 25431100.0, 29069.0),\n",
       " ('2022.10.26.00', 4958900.0, 0.0, '', 5587.0, 25396200.0, 29043.0),\n",
       " ('2022.10.25.00', 4951010.0, 0.0, '', 5582.0, 25355400.0, 29017.0),\n",
       " ('2022.10.24.00', 4940960.0, 0.0, '', 5577.0, 25311600.0, 29000.0),\n",
       " ('2022.10.23.00', 4938520.0, 0.0, '', 5576.0, 25297300.0, 28990.0),\n",
       " ('2022.10.22.00', 4933340.0, 0.0, '', 5575.0, 25271100.0, 28974.0),\n",
       " ('2022.10.21.00', 4927340.0, 0.0, '', 5572.0, 25244300.0, 28952.0),\n",
       " ('2022.10.20.00', 4922280.0, 0.0, '', 5569.0, 25219500.0, 28922.0),\n",
       " ('2022.10.19.00', 4916880.0, 0.0, '', 5567.0, 25194200.0, 28899.0),\n",
       " ('2022.10.18.00', 4910980.0, 0.0, '', 5561.0, 25164700.0, 28856.0),\n",
       " ('2022.10.17.00', 4903460.0, 0.0, '', 5560.0, 25131500.0, 28851.0),\n",
       " ('2022.10.16.00', 4901540.0, 0.0, '', 5558.0, 25120.5, 28840.0),\n",
       " ('2022.10.15.00', 4897350.0, 0.0, '', 5554.0, 25099000.0, 28808.0),\n",
       " ('2022.10.14.00', 4892780.0, 0.0, '', 5549.0, 25076200.0, 28783.0),\n",
       " ('2022.10.13.00', 4887950.0, 0.0, '', 5540.0, 25052700.0, 28748.0),\n",
       " ('2022.10.12.00', 4882700.0, 0.0, '', 5540.0, 25025700.0, 28723.0),\n",
       " ('2022.10.11.00', 4875900.0, 0.0, '', 5536.0, 24995200.0, 28708.0),\n",
       " ('2022.10.10.00', 4872850.0, 0.0, '', 5535.0, 24979800.0, 28698.0),\n",
       " ('2022.10.09.00', 4871350.0, 0.0, '', 5531.0, 24970800.0, 28675.0),\n",
       " ('2022.10.08.00', 4867800.0, 0.0, '', 5526.0, 24953100.0, 28646.0),\n",
       " ('2022.10.07.00', 4863860.0, 0.0, '', 5520.0, 24933800.0, 28614.0),\n",
       " ('2022.10.06.00', 4859550.0, 0.0, '', 5514.0, 24911500.0, 28573.0),\n",
       " ('2022.10.05.00', 4854040.0, 0.0, '', 5504.0, 24882900.0, 28544.0),\n",
       " ('2022.10.04.00', 4846380.0, 0.0, '', 5502.0, 24848200.0, 28528.0),\n",
       " ('2022.10.03.00', 4843290.0, 0.0, '', 5500.0, 24831800.0, 28509.0),\n",
       " ('2022.10.02.00', 4841260.0, 0.0, '', 5500.0, 24819600.0, 28489.0),\n",
       " ('2022.10.01.00', 4836470.0, 0.0, '', 5491.0, 24796000.0, 28445.0),\n",
       " ('2022.09.30.00', 4830890.0, 0.0, '', 5486.0, 24769100.0, 28406.0),\n",
       " ('2022.09.29.00', 4825110.0, 0.0, '', 5481.0, 24740600.0, 28364.0),\n",
       " ('2022.09.28.00', 4818840.0, 0.0, '', 5475.0, 24709800.0, 28318.0),\n",
       " ('2022.09.27.00', 4811730.0, 0.0, '', 5467.0, 24673700.0, 28272.0),\n",
       " ('2022.09.26.00', 4803180.0, 0.0, '', 5464.0, 24634300.0, 28246.0),\n",
       " ('2022.09.25.00', 4800850.0, 0.0, '', 5460.0, 24620100.0, 28213.0),\n",
       " ('2022.09.24.00', 4795960.0, 0.0, '', 5449.0, 24594300.0, 28140.0),\n",
       " ('2022.09.23.00', 4790320.0, 0.0, '', 5438.0, 24565000.0, 28077.0),\n",
       " ('2022.09.22.00', 4784700.0, 0.0, '', 5430.0, 24535900.0, 28009.0),\n",
       " ('2022.09.21.00', 4778550.0, 0.0, '', 5417.0, 24503000.0, 27950.0),\n",
       " ('2022.09.20.00', 4771200.0, 0.0, '', 5404.0, 24461700.0, 27891.0),\n",
       " ('2022.09.19.00', 4761490.0, 0.0, '', 5400.0, 24413900.0, 27867.0),\n",
       " ('2022.09.18.00', 4758290.0, 0.0, '', 5394.0, 24394500.0, 27828.0),\n",
       " ('2022.09.17.00', 4752320.0, 0.0, '', 5388.0, 24359700.0, 27782.0),\n",
       " ('2022.09.16.00', 4744660.0, 0.0, '', 5381.0, 24316300.0, 27725.0),\n",
       " ('2022.09.15.00', 4735450.0, 0.0, '', 5375.0, 24264500.0, 27665.0),\n",
       " ('2022.09.14.00', 4723630.0, 0.0, '', 5368.0, 24193000.0, 27593.0),\n",
       " ('2022.09.13.00', 4706260.0, 0.0, '', 5358.0, 24099100.0, 27533.0),\n",
       " ('2022.09.12.00', 4696710.0, 0.0, '', 5354.0, 24041800.0, 27498.0),\n",
       " ('2022.09.11.00', 4690420.0, 0.0, '', 5352.0, 24004900.0, 27476.0),\n",
       " ('2022.09.10.00', 4685610.0, 0.0, '', 5339.0, 23976700.0, 27429.0),\n",
       " ('2022.09.09.00', 4679530.0, 0.0, '', 5332.0, 23933900.0, 27381.0),\n",
       " ('2022.09.08.00', 4667220.0, 0.0, '', 5319.0, 23864600.0, 27313.0),\n",
       " ('2022.09.07.00', 4654170.0, 0.0, '', 5313.0, 23792000.0, 27249.0),\n",
       " ('2022.09.06.00', 4639650.0, 0.0, '', 5300.0, 23706500.0, 27193.0),\n",
       " ('2022.09.05.00', 4620900.0, 0.0, '', 5296.0, 23606700.0, 27149.0),\n",
       " ('2022.09.04.00', 4615590.0, 0.0, '', 5290.0, 23569200.0, 27093.0),\n",
       " ('2022.09.03.00', 4603650.0, 0.0, '', 5277.0, 23497000.0, 27014.0),\n",
       " ('2022.09.02.00', 4589800.0, 0.0, '', 5263.0, 23417400.0, 26940.0),\n",
       " ('2022.09.01.00', 4574260.0, 0.0, '', 5251.0, 23327900.0, 26876.0),\n",
       " ('2022.08.31.00', 4560950.0, 0.0, '', 5228.0, 23246400.0, 26764.0),\n",
       " ('2022.08.30.00', 4545050.0, 0.0, '', 5218.0, 23142500.0, 26689.0),\n",
       " ('2022.08.29.00', 4524640.0, 0.0, '', 5212.0, 23027000.0, 26618.0),\n",
       " ('2022.08.28.00', 4518890.0, 0.0, '', 5202.0, 22983800.0, 26569.0),\n",
       " ('2022.08.27.00', 4505840.0, 0.0, '', 5191.0, 22898500.0, 26499.0),\n",
       " ('2022.08.26.00', 4491240.0, 0.0, '', 5179.0, 22803000.0, 26413.0),\n",
       " ('2022.08.25.00', 4475520.0, 0.0, '', 5165.0, 22701900.0, 26332.0),\n",
       " ('2022.08.24.00', 4457830.0, 0.0, '', 5155.0, 22588600.0, 26224.0),\n",
       " ('2022.08.23.00', 4437280.0, 0.0, '', 5151.0, 22449500.0, 26161.0),\n",
       " ('2022.08.22.00', 4411620.0, 0.0, '', 5140.0, 22299400.0, 26109.0),\n",
       " ('2022.08.21.00', 4404220.0, 0.0, '', 5134.0, 22240300.0, 26044.0),\n",
       " ('2022.08.20.00', 4387480.0, 0.0, '', 5129.0, 22129400.0, 25980.0),\n",
       " ('2022.08.19.00', 4367520.0, 0.0, '', 5115.0, 22000000.0, 25896.0),\n",
       " ('2022.08.18.00', 4346520.0, 0.0, '', 5101.0, 21861300.0, 25813.0),\n",
       " ('2022.08.17.00', 4318180.0, 0.0, '', 5095.0, 21682800.0, 25752.0),\n",
       " ('2022.08.16.00', 4285730.0, 0.0, '', 5088.0, 21502200.0, 25710.0),\n",
       " ('2022.08.15.00', 4272670.0, 0.0, '', 5082.0, 21418000.0, 25673.0),\n",
       " ('2022.08.14.00', 4264420.0, 0.0, '', 5077.0, 21356000.0, 25623.0),\n",
       " ('2022.08.13.00', 4244830.0, 0.0, '', 5067.0, 21236400.0, 25566.0),\n",
       " ('2022.08.12.00', 4222980.0, 0.0, '', 5058.0, 21111800.0, 25499.0),\n",
       " ('2022.08.11.00', 4200150.0, 0.0, '', 5041.0, 20983200.0, 25441.0),\n",
       " ('2022.08.10.00', 4175640.0, 0.0, '', 5030.0, 20846000.0, 25382.0),\n",
       " ('2022.08.09.00', 4149590.0, 0.0, '', 5020.0, 20694200.0, 25332.0),\n",
       " ('2022.08.08.00', 4120130.0, 0.0, '', 5012.0, 20544400.0, 25292.0),\n",
       " ('2022.08.07.00', 4112260.0, 0.0, '', 5005.0, 20489100.0, 25263.0),\n",
       " ('2022.08.06.00', 4093890.0, 0.0, '', 5003.0, 20383600.0, 25236.0),\n",
       " ('2022.08.05.00', 4073750.0, 0.0, '', 4994.0, 20273000.0, 25191.0),\n",
       " ('2022.08.04.00', 4052940.0, 0.0, '', 4985.0, 20160200.0, 25144.0),\n",
       " ('2022.08.03.00', 4032710.0, 0.0, '', 4979.0, 20052300.0, 25110.0),\n",
       " ('2022.08.02.00', 4009710.0, 0.0, '', 4974.0, 19932400.0, 25084.0),\n",
       " ('2022.08.01.00', 3985120.0, 0.0, '', 4970.0, 19820700.0, 25086.0),\n",
       " ('2022.07.31.00', 3977780.0, 0.0, '', 4969.0, 19776000.0, 25047.0),\n",
       " ('2022.07.30.00', 3963630.0, 0.0, '', 4964.0, 19702500.0, 25027.0),\n",
       " ('2022.07.29.00', 3947050.0, 0.0, '', 4958.0, 19620500.0, 24992.0),\n",
       " ('2022.07.28.00', 3929540.0, 0.0, '', 4954.0, 19535200.0, 24957.0),\n",
       " ('2022.07.27.00', 3911410.0, 0.0, '', 4949.0, 19446900.0, 24932.0),\n",
       " ('2022.07.26.00', 3891340.0, 0.0, '', 4944.0, 19346800.0, 24907.0),\n",
       " ('2022.07.25.00', 3868260.0, 0.0, '', 4943.0, 19247500.0, 24890.0),\n",
       " ('2022.07.24.00', 3862290.0, 0.0, '', 4938.0, 19211600.0, 24873.0),\n",
       " ('2022.07.23.00', 3848480.0, 0.0, '', 4935.0, 19146200.0, 24855.0),\n",
       " ('2022.07.22.00', 3833660.0, 0.0, '', 4931.0, 19077700.0, 24825.0),\n",
       " ('2022.07.21.00', 3818280.0, 0.0, '', 4927.0, 19009100.0, 24794.0),\n",
       " ('2022.07.20.00', 3801620.0, 0.0, '', 4923.0, 18938000.0, 24777.0),\n",
       " ('2022.07.19.00', 3784430.0, 0.0, '', 4921.0, 18861600.0, 24765.0),\n",
       " ('2022.07.18.00', 3766410.0, 0.0, '', 4921.0, 18788100.0, 24753.0),\n",
       " ('2022.07.17.00', 3761520.0, 0.0, '', 4918.0, 18761800.0, 24742.0),\n",
       " ('2022.07.16.00', 3752950.0, 0.0, '', 4916.0, 18721400.0, 24728.0),\n",
       " ('2022.07.15.00', 3743500.0, 0.0, '', 4914.0, 18680100.0, 24712.0),\n",
       " ('2022.07.14.00', 3734550.0, 0.0, '', 4912.0, 18641300.0, 24696.0),\n",
       " ('2022.07.13.00', 3724900.0, 0.0, '', 4909.0, 18602100.0, 24680.0),\n",
       " ('2022.07.12.00', 3715540.0, 0.0, '', 4907.0, 18561900.0, 24668.0),\n",
       " ('2022.07.11.00', 3706130.0, 0.0, '', 4907.0, 18524500.0, 24661.0),\n",
       " ('2022.07.10.00', 3703510.0, 0.0, '', 4905.0, 18511800.0, 24643.0),\n",
       " ('2022.07.09.00', 3698270.0, 0.0, '', 4905.0, 18491400.0, 24624.0),\n",
       " ('2022.07.08.00', 3693370.0, 0.0, '', 4903.0, 18471200.0, 24605.0),\n",
       " ('2022.07.07.00', 3688770.0, 0.0, '', 4901.0, 18451900.0, 24593.0),\n",
       " ('2022.07.06.00', 3684190.0, 0.0, '', 4900.0, 18433400.0, 24583.0),\n",
       " ('2022.07.05.00', 3679420.0, 0.0, '', 4898.0, 18414000.0, 24576.0),\n",
       " ('2022.07.04.00', 3674640.0, 0.0, '', 4897.0, 18395900.0, 24574.0),\n",
       " ('2022.07.03.00', 3673480.0, 0.0, '', 4896.0, 18389600.0, 24570.0),\n",
       " ('2022.07.02.00', 3671040.0, 0.0, '', 4894.0, 18379600.0, 24562.0),\n",
       " ('2022.07.01.00', 3668270.0, 0.0, '', 4891.0, 18368900.0, 24555.0),\n",
       " ('2022.06.30.00', 3665930.0, 0.0, '', 4889.0, 18359300.0, 24547.0),\n",
       " ('2022.06.29.00', 3663650.0, 0.0, '', 4888.0, 18349800.0, 24537.0),\n",
       " ('2022.06.28.00', 3661180.0, 0.0, '', 4886.0, 18339300.0, 24530.0),\n",
       " ('2022.06.27.00', 3658710.0, 0.0, '', 4886.0, 18329400.0, 24525.0),\n",
       " ('2022.06.26.00', 3658110.0, 0.0, '', 4886.0, 18326000.0, 24522.0),\n",
       " ('2022.06.25.00', 3656800.0, 0.0, '', 4885.0, 18319800.0, 24516.0),\n",
       " ('2022.06.24.00', 3655250.0, 0.0, '', 4882.0, 18313000.0, 24498.0),\n",
       " ('2022.06.23.00', 3653650.0, 0.0, '', 4881.0, 18305800.0, 24488.0),\n",
       " ('2022.06.22.00', 3652070.0, 0.0, '', 4878.0, 18298300.0, 24474.0),\n",
       " ('2022.06.21.00', 3650290.0, 0.0, '', 4875.0, 18289400.0, 24463.0),\n",
       " ('2022.06.20.00', 3648260.0, 0.0, '', 4868.0, 18280100.0, 24451.0),\n",
       " ('2022.06.19.00', 3647540.0, 0.0, '', 4865.0, 18276600.0, 24441.0),\n",
       " ('2022.06.18.00', 3646430.0, 0.0, '', 4864.0, 18270500.0, 24427.0),\n",
       " ('2022.06.17.00', 3645190.0, 0.0, '', 4863.0, 18263600.0, 24416.0),\n",
       " ('2022.06.16.00', 3643910.0, 0.0, '', 4862.0, 18256500.0, 24407.0),\n",
       " ('2022.06.15.00', 3642360.0, 0.0, '', 4858.0, 18248500.0, 24399.0),\n",
       " ('2022.06.14.00', 3640670.0, 0.0, '', 4855.0, 18239100.0, 24390.0),\n",
       " ('2022.06.13.00', 3638910.0, 0.0, '', 4855.0, 18229300.0, 24388.0),\n",
       " ('2022.06.12.00', 3638250.0, 0.0, '', 4853.0, 18225500.0, 24371.0),\n",
       " ('2022.06.11.00', 3637090.0, 0.0, '', 4852.0, 18218100.0, 24351.0),\n",
       " ('2022.06.10.00', 3635710.0, 0.0, '', 4849.0, 18209600.0, 24341.0),\n",
       " ('2022.06.09.00', 3634170.0, 0.0, '', 4847.0, 18200300.0, 24323.0),\n",
       " ('2022.06.08.00', 3632160.0, 0.0, '', 4845.0, 18188200.0, 24305.0),\n",
       " ('2022.06.07.00', 3629540.0, 0.0, '', 4845.0, 18174900.0, 24299.0),\n",
       " ('2022.06.06.00', 3628590.0, 0.0, '', 4840.0, 18168700.0, 24279.0),\n",
       " ('2022.06.05.00', 3627860.0, 0.0, '', 4838.0, 18163700.0, 24258.0),\n",
       " ('2022.06.04.00', 3626140.0, 0.0, '', 4835.0, 18153900.0, 24238.0),\n",
       " ('2022.06.03.00', 3623880.0, 0.0, '', 4833.0, 18141800.0, 24229.0),\n",
       " ('2022.06.02.00', 3621440.0, 0.0, '', 4830.0, 18129300.0, 24212.0),\n",
       " ('2022.06.01.00', 3619620.0, 0.0, '', 4829.0, 18119400.0, 24197.0),\n",
       " ('2022.05.31.00', 3616700.0, 0.0, '', 4825.0, 18103600.0, 24176.0),\n",
       " ('2022.05.30.00', 3613360.0, 0.0, '', 4824.0, 18086500.0, 24167.0),\n",
       " ('2022.05.29.00', 3612240.0, 0.0, '', 4820.0, 18080300.0, 24518.0),\n",
       " ('2022.05.28.00', 3610220.0, 0.0, '', 4818.0, 18067700.0, 24139.0),\n",
       " ('2022.05.27.00', 3607950.0, 0.0, '', 4816.0, 18053300.0, 24103.0),\n",
       " ('2022.05.26.00', 3604920.0, 0.0, '', 4809.0, 18036700.0, 24063.0),\n",
       " ('2022.05.25.00', 3602130.0, 0.0, '', 4806.0, 18017900.0, 24029.0),\n",
       " ('2022.05.24.00', 3598560.0, 0.0, '', 4802.0, 17994000.0, 24006.0),\n",
       " ('2022.05.23.00', 3594290.0, 0.0, '', 4801.0, 17967700.0, 23987.0),\n",
       " ('2022.05.22.00', 3593080.0, 0.0, '', 4797.0, 17957700.0, 23965.0),\n",
       " ('2022.05.21.00', 3590170.0, 0.0, '', 4788.0, 17938400.0, 23911.0),\n",
       " ('2022.05.20.00', 3586590.0, 0.0, '', 4785.0, 17915000.0, 23885.0),\n",
       " ('2022.05.19.00', 3582480.0, 0.0, '', 4777.0, 17889800.0, 23842.0),\n",
       " ('2022.05.18.00', 3577930.0, 0.0, '', 4770.0, 17861700.0, 23802.0),\n",
       " ('2022.05.17.00', 3572890.0, 0.0, '', 4765.0, 17830400.0, 23771.0),\n",
       " ('2022.05.16.00', 3567020.0, 0.0, '', 4762.0, 17795400.0, 23744.0),\n",
       " ('2022.05.15.00', 3565330.0, 0.0, '', 4757.0, 17782100.0, 23709.0),\n",
       " ('2022.05.14.00', 3561310.0, 0.0, '', 4745.0, 17756600.0, 23661.0),\n",
       " ('2022.05.13.00', 3556540.0, 0.0, '', 4728.0, 17727100.0, 23606.0),\n",
       " ('2022.05.12.00', 3551380.0, 0.0, '', 4714.0, 17694700.0, 23554.0),\n",
       " ('2022.05.11.00', 3545680.0, 0.0, '', 4708.0, 17658800.0, 23491.0),\n",
       " ('2022.05.10.00', 3539480.0, 0.0, '', 4704.0, 17614900.0, 23462.0),\n",
       " ('2022.05.09.00', 3531350.0, 0.0, '', 4691.0, 17565000.0, 23400.0),\n",
       " ('2022.05.08.00', 3528640.0, 0.0, '', 4689.0, 17544400.0, 23360.0),\n",
       " ('2022.05.07.00', 3522660.0, 0.0, '', 4676.0, 17504300.0, 23289.0),\n",
       " ('2022.05.06.00', 3516020.0, 0.0, '', 4650.0, 17464800.0, 23206.0),\n",
       " ('2022.05.05.00', 3512420.0, 0.0, '', 4643.0, 17438100.0, 23158.0),\n",
       " ('2022.05.04.00', 3505780.0, 0.0, '', 4626.0, 17395800.0, 23079.0),\n",
       " ('2022.05.03.00', 3498350.0, 0.0, '', 4614.0, 17346800.0, 23007.0),\n",
       " ('2022.05.02.00', 3489700.0, 0.0, '', 4611.0, 17295700.0, 22958.0),\n",
       " ('2022.05.01.00', 3487040.0, 0.0, '', 4602.0, 17275600.0, 22875.0),\n",
       " ('2022.04.30.00', 3481580.0, 0.0, '', 4586.0, 17237900.0, 22794.0),\n",
       " ('2022.04.29.00', 3475130.0, 0.0, '', 4574.0, 17194600.0, 22724.0),\n",
       " ('2022.04.28.00', 3467400.0, 0.0, '', 4553.0, 17144100.0, 22588.0),\n",
       " ('2022.04.27.00', 3458310.0, 0.0, '', 4534.0, 17086600.0, 22466.0),\n",
       " ('2022.04.26.00', 3446790.0, 0.0, '', 4520.0, 17009900.0, 22325.0),\n",
       " ('2022.04.25.00', 3433240.0, 0.0, '', 4504.0, 16929600.0, 22243.0),\n",
       " ('2022.04.24.00', 3428480.0, 0.0, '', 4488.0, 16895200.0, 22133.0),\n",
       " ('2022.04.23.00', 3418100.0, 0.0, '', 4470.0, 16830500.0, 22024.0),\n",
       " ('2022.04.22.00', 3405750.0, 0.0, '', 4454.0, 16755100.0, 21873.0),\n",
       " ('2022.04.21.00', 3392580.0, 0.0, '', 4422.0, 16674000.0, 21667.0),\n",
       " ('2022.04.20.00', 3377400.0, 0.0, '', 4398.0, 16583200.0, 21520.0),\n",
       " ('2022.04.19.00', 3359100.0, 0.0, '', 4372.0, 16471900.0, 21354.0),\n",
       " ('2022.04.18.00', 3337280.0, 0.0, '', 4353.0, 16353500.0, 21224.0),\n",
       " ('2022.04.17.00', 3329940.0, 0.0, '', 4329.0, 16305800.0, 21092.0),\n",
       " ('2022.04.16.00', 3315130.0, 0.0, '', 4307.0, 16212800.0, 20889.0),\n",
       " ('2022.04.15.00', 3297020.0, 0.0, '', 4270.0, 16104900.0, 20616.0),\n",
       " ('2022.04.14.00', 3275570.0, 0.0, '', 4230.0, 15979100.0, 20352.0),\n",
       " ('2022.04.13.00', 3250600.0, 0.0, '', 4176.0, 15830600.0, 20034.0),\n",
       " ('2022.04.12.00', 3217530.0, 0.0, '', 4152.0, 15635300.0, 19850.0),\n",
       " ('2022.04.11.00', 3178040.0, 0.0, '', 4116.0, 15424600.0, 19676.0),\n",
       " ('2022.04.10.00', 3163790.0, 0.0, '', 4070.0, 15333700.0, 19421.0),\n",
       " ('2022.04.09.00', 3134890.0, 0.0, '', 4002.0, 15169200.0, 19092.0),\n",
       " ('2022.04.08.00', 3102580.0, 0.0, '', 3944.0, 14983700.0, 18754.0),\n",
       " ('2022.04.07.00', 3066380.0, 0.0, '', 3880.0, 14778400.0, 18381.0),\n",
       " ('2022.04.06.00', 3026500.0, 0.0, '', 3835.0, 14553600.0, 18033.0),\n",
       " ('2022.04.05.00', 2974080.0, 0.0, '', 3771.0, 14267400.0, 17662.0),\n",
       " ('2022.04.04.00', 2922640.0, 0.0, '', 3742.0, 14001400.0, 17453.0),\n",
       " ('2022.04.03.00', 2901740.0, 0.0, '', 3713.0, 13874200.0, 17235.0),\n",
       " ('2022.04.02.00', 2859630.0, 0.0, '', 3666.0, 13639900.0, 16929.0),\n",
       " ('2022.04.01.00', 2810970.0, 0.0, '', 3608.0, 13375800.0, 16590.0),\n",
       " ('2022.03.31.00', 2759290.0, 0.0, '', 3563.0, 13095600.0, 16230.0),\n",
       " ('2022.03.30.00', 2699160.0, 0.0, '', 3514.0, 12775000.0, 15855.0),\n",
       " ('2022.03.29.00', 2617360.0, 0.0, '', 3454.0, 12350400.0, 15423.0),\n",
       " ('2022.03.28.00', 2551330.0, 0.0, '', 3412.0, 12003100.0, 15186.0),\n",
       " ('2022.03.27.00', 2517140.0, 0.0, '', 3372.0, 11815800.0, 14899.0),\n",
       " ('2022.03.26.00', 2457990.0, 0.0, '', 3343.0, 11497700.0, 14617.0),\n",
       " ('2022.03.25.00', 2394000.0, 0.0, '', 3307.0, 11162200.0, 14294.0),\n",
       " ('2022.03.24.00', 2327080.0, 0.0, '', 3248.0, 10822800.0, 13902.0),\n",
       " ('2022.03.23.00', 2249310.0, 0.0, '', 3187.0, 10427200.0, 13432.0),\n",
       " ('2022.03.22.00', 2148190.0, 0.0, '', 3144.0, 9936540.0, 13141.0),\n",
       " ('2022.03.21.00', 2083190.0, 0.0, '', 3098.0, 9582820.0, 12757.0),\n",
       " ('2022.03.20.00', 2042110.0, 0.0, '', 3059.0, 9373650.0, 12428.0),\n",
       " ('2022.03.19.00', 2038440.0, 0.0, '', 3015.0, 9038940.0, 12101.0),\n",
       " ('2022.03.18.00', 1894110.0, 0.0, '', 2968.0, 8657610.0, 11782.0),\n",
       " ('2022.03.17.00', 1812120.0, 0.0, '', 2927.0, 8250590.0, 11484.0),\n",
       " ('2022.03.16.00', 1683740.0, 0.0, '', 2860.0, 7629280.0, 11052.0),\n",
       " ('2022.03.15.00', 1602350.0, 1225080.0, '374439', 2834.0, 7228550.0, 10888.0),\n",
       " ('2022.03.14.00', 1536290.0, 1159060.0, '374439', 2792.0, 6866220.0, 10595.0),\n",
       " ('2022.03.13.00', 1479500.0, 1102300.0, '374439', 2768.0, 6556450.0, 10395.0),\n",
       " ('2022.03.12.00', 1411690.0, 1034520.0, '374439', 2739.0, 6206280.0, 10144.0),\n",
       " ('2022.03.11.00', 1331260.0, 974969.0, '353601', 2693.0, 5822630.0, 9875.0),\n",
       " ('2022.03.10.00', 1274660.0, 918399.0, '353601', 2661.0, 5539650.0, 9646.0),\n",
       " ('2022.03.09.00', 1207800.0, 851572.0, '353601', 2630.0, 5212120.0, 9440.0),\n",
       " ('2022.03.08.00', 1133590.0, 786524.0, '344458', 2607.0, 4869690.0, 9286.0),\n",
       " ('2022.03.07.00', 1096110.0, 766251.0, '327273', 2582.0, 4666980.0, 9096.0),\n",
       " ('2022.03.06.00', 1056550.0, 726716.0, '327273', 2559.0, 4456260.0, 8957.0),\n",
       " ('2022.03.05.00', 1007100.0, 677293.0, '327273', 2533.0, 4212650.0, 8796.0),\n",
       " ('2022.03.04.00', 953906.0, 630185.0, '321219', 2502.0, 3958330.0, 8580.0),\n",
       " ('2022.03.03.00', 894637.0, 577919.0, '314250', 2468.0, 3691490.0, 8394.0),\n",
       " ('2022.03.02.00', 850962.0, 544923.0, '303589', 2450.0, 3492690.0, 8266.0),\n",
       " ('2022.03.01.00', 804029.0, 498008.0, '303589', 2432.0, 3273450.0, 8170.0),\n",
       " ('2022.02.28.00', 776144.0, 481578.0, '292160', 2406.0, 3134460.0, 8058.0),\n",
       " ('2022.02.27.00', 748173.0, 453643.0, '292160', 2370.0, 2994840.0, 7944.0),\n",
       " ('2022.02.26.00', 712822.0, 418299.0, '292160', 2363.0, 2831280.0, 7895.0),\n",
       " ('2022.02.25.00', 675993.0, 385677.0, '287973', 2343.0, 2665080.0, 7783.0),\n",
       " ('2022.02.24.00', 640379.0, 353319.0, '284729', 2331.0, 2499190.0, 7689.0),\n",
       " ('2022.02.23.00', 603209.0, 319533.0, '281356', 2320.0, 2329180.0, 7607.0),\n",
       " ('2022.02.22.00', 561744.0, 284506.0, '274931', 2307.0, 2157730.0, 7508.0),\n",
       " ('2022.02.21.00', 539938.0, 267846.0, '269795', 2297.0, 2058180.0, 7450.0),\n",
       " ('2022.02.20.00', 519923.0, 249992.0, '267644', 2287.0, 1962840.0, 7405.0),\n",
       " ('2022.02.19.00', 497821.0, 232332.0, '263206', 2283.0, 1858010.0, 7354.0),\n",
       " ('2022.02.18.00', 474628.0, 214285.0, '258071', 2272.0, 1755810.0, 7283.0),\n",
       " ('2022.02.17.00', 448977.0, 190836.0, '255877', 2264.0, 1645980.0, 7238.0),\n",
       " ('2022.02.16.00', 429289.0, 174289.0, '252743', 2257.0, 1552850.0, 7202.0),\n",
       " ('2022.02.15.00', 410410.0, 158289.0, '249872', 2249.0, 1462420.0, 7163.0),\n",
       " ('2022.02.14.00', 397957.0, 148010.0, '247705', 2242.0, 1405250.0, 7102.0),\n",
       " ('2022.02.13.00', 386358.0, 137213.0, '246908', 2237.0, 1350630.0, 7081.0),\n",
       " ('2022.02.12.00', 374534.0, 128546.0, '243761', 2227.0, 1294200.0, 7045.0),\n",
       " ('2022.02.11.00', 361336.0, 118679.0, '240433', 2224.0, 1239290.0, 7012.0),\n",
       " ('2022.02.10.00', 349805.0, 109359.0, '238229', 2217.0, 1185360.0, 6963.0),\n",
       " ('2022.02.09.00', 337930.0, 102058.0, '233660', 2212.0, 1131250.0, 6943.0),\n",
       " ('2022.02.08.00', 326253.0, 90964.0, '233080', 2209.0, 1081680.0, 6922.0),\n",
       " ('2022.02.07.00', 320343.0, 94136.0, '224002', 2205.0, 1044960.0, 6886.0),\n",
       " ('2022.02.06.00', 313462.0, 89215.0, '222044', 2203.0, 1009690.0, 6873.0),\n",
       " ('2022.02.05.00', 305641.0, 82952.0, '220490', 2199.0, 971018.0, 6858.0),\n",
       " ('2022.02.04.00', 297043.0, 75826.0, '219023', 2194.0, 934656.0, 6836.0),\n",
       " ('2022.02.03.00', 290883.0, 71686.0, '217006', 2191.0, 907214.0, 6812.0),\n",
       " ('2022.02.02.00', 285665.0, 67679.0, '215801', 2185.0, 884310.0, 6787.0),\n",
       " ('2022.02.01.00', 281456.0, 64229.0, '215045', 2182.0, 864042.0, 6772.0),\n",
       " ('2022.01.31.00', 277325.0, 61226.0, '213919', 2180.0, 845709.0, 6755.0),\n",
       " ('2022.01.30.00', 273132.0, 57562.0, '213391', 2179.0, 828637.0, 6732.0),\n",
       " ('2022.01.29.00', 268947.0, 54179.0, '212591', 2177.0, 811122.0, 6712.0),\n",
       " ('2022.01.28.00', 264748.0, 51397.0, '211182', 2169.0, 793582.0, 6678.0),\n",
       " ('2022.01.27.00', 260757.0, 48974.0, '209615', 2168.0, 777497.0, 6654.0),\n",
       " ('2022.01.26.00', 257330.0, 46810.0, '208356', 2164.0, 762983.0, 6620.0),\n",
       " ('2022.01.25.00', 254160.0, 45079.0, '206926', 2155.0, 749979.0, 6588.0),\n",
       " ('2022.01.24.00', 252437.0, 44292.0, '205997', 2148.0, 741413.0, 6565.0),\n",
       " ('2022.01.23.00', 250758.0, 43148.0, '205470', 2140.0, 733902.0, 6540.0),\n",
       " ('2022.01.22.00', 249065.0, 44370.0, '202560', 2135.0, 726274.0, 6529.0),\n",
       " ('2022.01.21.00', 247475.0, 42895.0, '202458', 2122.0, 719269.0, 6501.0),\n",
       " ('2022.01.20.00', 245925.0, 43979.0, '199829', 2117.0, 712503.0, 6480.0),\n",
       " ('2022.01.19.00', 244565.0, 42720.0, '199738', 2107.0, 705902.0, 6452.0),\n",
       " ('2022.01.18.00', 243337.0, 43126.0, '198148', 2063.0, 700102.0, 6378.0),\n",
       " ('2022.01.17.00', 242574.0, 42525.0, '197998', 2051.0, 696032.0, 6333.0),\n",
       " ('2022.01.16.00', 241784.0, 42215.0, '197525', 2044.0, 692174.0, 6310.0),\n",
       " ('2022.01.15.00', 240862.0, 42090.0, '196739', 2033.0, 687984.0, 6281.0),\n",
       " ('2022.01.14.00', 239950.0, 43579.0, '194347', 2024.0, 683566.0, 6259.0),\n",
       " ('2022.01.13.00', 239014.0, 42659.0, '194346', 2009.0, 679030.0, 6210.0),\n",
       " ('2022.01.12.00', 238039.0, 44726.0, '191317', 1996.0, 674868.0, 6166.0),\n",
       " ('2022.01.11.00', 236946.0, 43651.0, '191317', 1978.0, 670483.0, 6114.0),\n",
       " ('2022.01.10.00', 236192.0, 44160.0, '190067', 1965.0, 667390.0, 6071.0),\n",
       " ('2022.01.09.00', 235415.0, 44060.0, '189400', 1955.0, 664391.0, 6037.0),\n",
       " ('2022.01.08.00', 234449.0, 44443.0, '188072', 1934.0, 661015.0, 5986.0),\n",
       " ('2022.01.07.00', 233457.0, 44353.0, '187191', 1913.0, 657508.0, 5932.0),\n",
       " ('2022.01.06.00', 232419.0, 45603.0, '184918', 1898.0, 653792.0, 5887.0),\n",
       " ('2022.01.05.00', 231213.0, 45905.0, '183420', 1888.0, 649669.0, 5838.0),\n",
       " ('2022.01.04.00', 229801.0, 47231.0, '180705', 1865.0, 645226.0, 5781.0),\n",
       " ('2022.01.03.00', 228867.0, 48539.0, '178481', 1847.0, 642207.0, 5730.0),\n",
       " ('2022.01.02.00', 227879.0, 47559.0, '178481', 1839.0, 639083.0, 5694.0),\n",
       " ('2022.01.01.00', 226698.0, 47537.0, '177348', 1813.0, 635253.0, 5625.0),\n",
       " ('2021.12.31.00', 225235.0, 47895.0, '175554', 1786.0, 630838.0, 5563.0),\n",
       " ('2021.12.30.00', 223567.0, 47918.0, '173898', 1751.0, 625967.0, 5455.0),\n",
       " ('2021.12.29.00', 221847.0, 48238.0, '171880', 1729.0, 620938.0, 5382.0),\n",
       " ('2021.12.28.00', 219934.0, 48472.0, '169741', 1721.0, 615532.0, 5346.0),\n",
       " ('2021.12.27.00', 218646.0, 48374.0, '168574', 1698.0, 611670.0, 5300.0),\n",
       " ('2021.12.26.00', 217150.0, 47820.0, '167649', 1681.0, 607463.0, 5245.0),\n",
       " ('2021.12.25.00', 215233.0, 48049.0, '165521', 1663.0, 602045.0, 5176.0),\n",
       " ('2021.12.24.00', 213114.0, 47411.0, '164088', 1615.0, 596209.0, 5071.0),\n",
       " ('2021.12.23.00', 210768.0, 48540.0, '160630', 1598.0, 589978.0, 5015.0),\n",
       " ('2021.12.22.00', 208048.0, 49585.0, '156894', 1569.0, 583065.0, 4906.0),\n",
       " ('2021.12.21.00', 205249.0, 48436.0, '155276', 1537.0, 575615.0, 4828.0),\n",
       " ('2021.12.20.00', 203255.0, 48246.0, '153488', 1521.0, 570414.0, 4776.0),\n",
       " ('2021.12.19.00', 201347.0, 46849.0, '152995', 1503.0, 565098.0, 4722.0),\n",
       " ('2021.12.18.00', 199028.0, 45569.0, '151980', 1479.0, 558864.0, 4644.0),\n",
       " ('2021.12.17.00', 196234.0, 43972.0, '150801', 1461.0, 551551.0, 4591.0),\n",
       " ('2021.12.16.00', 193389.0, 43353.0, '148598', 1438.0, 544117.0, 4518.0),\n",
       " ('2021.12.15.00', 190332.0, 40772.0, '148142', 1418.0, 536495.0, 4456.0),\n",
       " ('2021.12.14.00', 187169.0, 39511.0, '146263', 1395.0, 528652.0, 4387.0),\n",
       " ('2021.12.13.00', 185108.0, 38113.0, '145639', 1356.0, 523088.0, 4293.0),\n",
       " ('2021.12.12.00', 182558.0, 36271.0, '144947', 1340.0, 512976.0, 4253.0),\n",
       " ('2021.12.11.00', 180031.0, 34754.0, '143949', 1328.0, 510583.0, 4210.0),\n",
       " ('2021.12.10.00', 177196.0, 33280.0, '142612', 1304.0, 503606.0, 4130.0),\n",
       " ('2021.12.09.00', 174396.0, 31341.0, '141775', 1280.0, 496584.0, 4077.0),\n",
       " ('2021.12.08.00', 171606.0, 30589.0, '139754', 1263.0, 489484.0, 4020.0),\n",
       " ('2021.12.07.00', 168705.0, 28838.0, '138628', 1239.0, 482310.0, 3957.0),\n",
       " ('2021.12.06.00', 166586.0, 27834.0, '137538', 1214.0, 477358.0, 3893.0),\n",
       " ('2021.12.05.00', 165178.0, 27347.0, '136638', 1193.0, 473034.0, 3852.0),\n",
       " ('2021.12.04.00', 163146.0, 25818.0, '136150', 1178.0, 467907.0, 3809.0),\n",
       " ('2021.12.03.00', 160873.0, 24639.0, '135086', 1148.0, 462555.0, 3739.0),\n",
       " ('2021.12.02.00', 158774.0, 24441.0, '133197', 1136.0, 457612.0, 3705.0),\n",
       " ('2021.12.01.00', 156507.0, 23527.0, '131867', 1113.0, 452350.0, 3659.0),\n",
       " ('2021.11.30.00', 154286.0, 22618.0, '130568', 1100.0, 447230.0, 3624.0),\n",
       " ('2021.11.29.00', 153100.0, 22712.0, '129304', 1084.0, 444200.0, 3580.0),\n",
       " ('2021.11.28.00', 151711.0, 21845.0, '128794', 1072.0, 440896.0, 3548.0),\n",
       " ('2021.11.27.00', 150035.0, 20760.0, '128229', 1046.0, 436968.0, 3492.0),\n",
       " ('2021.11.26.00', 148147.0, 20461.0, '126661', 1025.0, 432901.0, 3440.0),\n",
       " ('2021.11.25.00', 146406.0, 19674.0, '125728', 1004.0, 429002.0, 3401.0),\n",
       " ('2021.11.24.00', 144647.0, 18685.0, '124968', 994.0, 425065.0, 3363.0),\n",
       " ('2021.11.23.00', 142913.0, 17992.0, '123948', 973.0, 420950.0, 3328.0),\n",
       " ('2021.11.22.00', 141748.0, 17857.0, '122931', 960.0, 418252.0, 3298.0),\n",
       " ('2021.11.21.00', 140470.0, 16919.0, '122599', 952.0, 415425.0, 3274.0),\n",
       " ('2021.11.20.00', 139154.0, 16298.0, '121915', 941.0, 412311.0, 3244.0),\n",
       " ('2021.11.19.00', 137777.0, 16171.0, '120680', 926.0, 409099.0, 3215.0),\n",
       " ('2021.11.18.00', 136376.0, 15288.0, '120176', 912.0, 406065.0, 3187.0),\n",
       " ('2021.11.17.00', 134948.0, 14679.0, '119371', 898.0, 402775.0, 3158.0),\n",
       " ('2021.11.16.00', 133513.0, 14057.0, '118566', 890.0, 399591.0, 3137.0),\n",
       " ('2021.11.15.00', 132668.0, 14001.0, '117788', 879.0, 397466.0, 3115.0),\n",
       " ('2021.11.14.00', 131809.0, 13858.0, '117075', 876.0, 395460.0, 3103.0),\n",
       " ('2021.11.13.00', 130831.0, 13335.0, '116627', 869.0, 393042.0, 3083.0),\n",
       " ('2021.11.12.00', 129827.0, 13272.0, '115694', 861.0, 390719.0, 3051.0),\n",
       " ('2021.11.11.00', 128878.0, 12946.0, '115077', 855.0, 388351.0, 3033.0),\n",
       " ('2021.11.10.00', 127874.0, 12527.0, '114503', 844.0, 385831.0, 3012.0),\n",
       " ('2021.11.09.00', 126901.0, 12604.0, '113457', 840.0, 383407.0, 2998.0),\n",
       " ('2021.11.08.00', 126241.0, 12994.0, '112414', 833.0, 381694.0, 2980.0),\n",
       " ('2021.11.07.00', 125533.0, 12642.0, '112063', 828.0, 379935.0, 2967.0),\n",
       " ('2021.11.06.00', 124685.0, 12221.0, '111642', 822.0, 377712.0, 2956.0),\n",
       " ('2021.11.05.00', 123769.0, 12217.0, '110734', 818.0, 375464.0, 2936.0),\n",
       " ('2021.11.04.00', 122789.0, 12105.0, '109870', 814.0, 373120.0, 2916.0),\n",
       " ('2021.11.03.00', 121843.0, 11885.0, '109151', 807.0, 370640.0, 2892.0),\n",
       " ('2021.11.02.00', 120840.0, 11529.0, '108509', 802.0, 367974.0, 2874.0),\n",
       " ('2021.11.01.00', 120240.0, 11535.0, '107906', 799.0, 366386.0, 2858.0),\n",
       " ('2021.10.31.00', 119594.0, 11248.0, '107550', 796.0, 364700.0, 2849.0),\n",
       " ('2021.10.30.00', 118834.0, 11447.0, '106599', 788.0, 362639.0, 2830.0),\n",
       " ('2021.10.29.00', 118128.0, 11177.0, '106165', 786.0, 360536.0, 2817.0),\n",
       " ('2021.10.28.00', 117358.0, 10950.0, '105626', 782.0, 358412.0, 2808.0),\n",
       " ('2021.10.27.00', 116572.0, 10561.0, '105232', 779.0, 356305.0, 2797.0),\n",
       " ('2021.10.26.00', 115844.0, 10356.0, '104712', 776.0, 354355.0, 2788.0),\n",
       " ('2021.10.25.00', 115417.0, 10736.0, '103912', 769.0, 353089.0, 2773.0),\n",
       " ('2021.10.24.00', 114962.0, 10774.0, '103424', 764.0, 351899.0, 2766.0),\n",
       " ('2021.10.23.00', 114442.0, 10520.0, '103166', 756.0, 350476.0, 2745.0),\n",
       " ('2021.10.22.00', 113891.0, 10783.0, '102362', 746.0, 348969.0, 2725.0),\n",
       " ('2021.10.21.00', 113372.0, 11099.0, '101532', 741.0, 347529.0, 2709.0),\n",
       " ('2021.10.20.00', 112866.0, 11043.0, '101086', 737.0, 346088.0, 2698.0),\n",
       " ('2021.10.19.00', 112363.0, 11567.0, '100064', 732.0, 344518.0, 2689.0),\n",
       " ('2021.10.18.00', 112065.0, 12139.0, '99205', 721.0, 343445.0, 2668.0),\n",
       " ('2021.10.17.00', 111710.0, 12484.0, '98509', 717.0, 342396.0, 2660.0),\n",
       " ('2021.10.16.00', 111205.0, 12680.0, '97816', 709.0, 340978.0, 2644.0),\n",
       " ('2021.10.15.00', 110620.0, 12855.0, '97063', 702.0, 339361.0, 2626.0),\n",
       " ('2021.10.14.00', 109940.0, 12540.0, '96699', 701.0, 337679.0, 2618.0),\n",
       " ('2021.10.13.00', 109195.0, 12679.0, '95820', 696.0, 335742.0, 2605.0),\n",
       " ('2021.10.12.00', 108617.0, 12576.0, '95347', 694.0, 334163.0, 2594.0),\n",
       " ('2021.10.11.00', 108135.0, 12512.0, '94935', 688.0, 332816.0, 2583.0),\n",
       " ('2021.10.10.00', 107624.0, 12513.0, '94428', 683.0, 331519.0, 2575.0),\n",
       " ('2021.10.09.00', 107041.0, 12609.0, '93754', 678.0, 329925.0, 2560.0),\n",
       " ('2021.10.08.00', 106332.0, 13591.0, '92067', 674.0, 327976.0, 2554.0),\n",
       " ('2021.10.07.00', 105558.0, 14573.0, '90316', 669.0, 325804.0, 2544.0),\n",
       " ('2021.10.06.00', 104723.0, 14497.0, '89560', 666.0, 323379.0, 2536.0),\n",
       " ('2021.10.05.00', 104033.0, 14786.0, '88585', 662.0, 321352.0, 2524.0),\n",
       " ('2021.10.04.00', 103512.0, 14650.0, '88206', 656.0, 319777.0, 2513.0),\n",
       " ('2021.10.03.00', 102939.0, 14670.0, '87614', 655.0, 318104.0, 2507.0),\n",
       " ('2021.10.02.00', 102204.0, 14561.0, '86990', 653.0, 316020.0, 2504.0),\n",
       " ('2021.10.01.00', 101411.0, 14332.0, '86430', 649.0, 313773.0, 2497.0),\n",
       " ('2021.09.30.00', 100495.0, 13951.0, '85901', 643.0, 311289.0, 2481.0),\n",
       " ('2021.09.29.00', 99550.0, 13553.0, '85358', 639.0, 308725.0, 2474.0),\n",
       " ('2021.09.28.00', 98497.0, 13270.0, '84592', 635.0, 305842.0, 2464.0),\n",
       " ('2021.09.27.00', 97655.0, 13157.0, '83865', 633.0, 303553.0, 2456.0),\n",
       " ('2021.09.26.00', 96877.0, 12564.0, '83681', 632.0, 301172.0, 2450.0),\n",
       " ('2021.09.25.00', 95949.0, 12435.0, '82884', 630.0, 298402.0, 2441.0),\n",
       " ('2021.09.24.00', 94728.0, 12174.0, '81927', 627.0, 295132.0, 2434.0),\n",
       " ('2021.09.23.00', 93821.0, 11926.0, '81270', 625.0, 292699.0, 2427.0),\n",
       " ('2021.09.22.00', 93176.0, 11700.0, '80855', 621.0, 290983.0, 2419.0),\n",
       " ('2021.09.21.00', 92532.0, 11394.0, '80518', 620.0, 289263.0, 2413.0),\n",
       " ('2021.09.20.00', 91856.0, 10986.0, '80252', 618.0, 287536.0, 2409.0),\n",
       " ('2021.09.19.00', 91273.0, 10711.0, '79945', 617.0, 285931.0, 2404.0),\n",
       " ('2021.09.18.00', 90532.0, 10520.0, '79396', 616.0, 284022.0, 2394.0),\n",
       " ('2021.09.17.00', 89829.0, 10319.0, '78896', 614.0, 281938.0, 2389.0),\n",
       " ('2021.09.16.00', 89083.0, 10577.0, '77892', 614.0, 279930.0, 2386.0),\n",
       " ('2021.09.15.00', 88364.0, 10645.0, '77107', 612.0, 277989.0, 2380.0),\n",
       " ('2021.09.14.00', 87556.0, 10627.0, '76321', 608.0, 275910.0, 2367.0),\n",
       " ('2021.09.13.00', 87018.0, 10413.0, '75998', 607.0, 274415.0, 2360.0),\n",
       " ('2021.09.12.00', 86462.0, 10085.0, '75770', 607.0, 272982.0, 2359.0),\n",
       " ('2021.09.11.00', 85804.0, 9737.0, '75460', 607.0, 271227.0, 2358.0),\n",
       " ('2021.09.10.00', 85145.0, 9540.0, '75002', 603.0, 269362.0, 2348.0),\n",
       " ('2021.09.09.00', 84475.0, 9383.0, '74493', 599.0, 267470.0, 2343.0),\n",
       " ('2021.09.08.00', 83808.0, 9034.0, '74177', 597.0, 265423.0, 2334.0),\n",
       " ('2021.09.07.00', 83138.0, 9035.0, '73508', 595.0, 263374.0, 2330.0),\n",
       " ('2021.09.06.00', 82657.0, 9091.0, '72973', 593.0, 261778.0, 2327.0),\n",
       " ('2021.09.05.00', 82193.0, 9032.0, '72569', 592.0, 260403.0, 2321.0),\n",
       " ('2021.09.04.00', 81685.0, 9230.0, '71865', 590.0, 258913.0, 2315.0),\n",
       " ('2021.09.03.00', 81119.0, 9188.0, '71343', 588.0, 257110.0, 2308.0),\n",
       " ('2021.09.02.00', 80577.0, 9291.0, '70699', 587.0, 255401.0, 2303.0),\n",
       " ('2021.09.01.00', 80019.0, 9537.0, '69898', 584.0, 253445.0, 2292.0),\n",
       " ('2021.08.31.00', 79354.0, 9370.0, '69401', 583.0, 251421.0, 2285.0),\n",
       " ('2021.08.30.00', 78899.0, 9280.0, '69037', 582.0, 250051.0, 2284.0),\n",
       " ('2021.08.29.00', 78455.0, 9388.0, '68486', 581.0, 248568.0, 2279.0),\n",
       " ('2021.08.28.00', 77940.0, 9472.0, '67887', 581.0, 246951.0, 2276.0),\n",
       " ('2021.08.27.00', 77371.0, 9533.0, '67259', 579.0, 245158.0, 2265.0),\n",
       " ('2021.08.26.00', 76814.0, 9611.0, '66625', 578.0, 243317.0, 2257.0),\n",
       " ('2021.08.25.00', 76245.0, 9277.0, '66393', 575.0, 241439.0, 2237.0),\n",
       " ('2021.08.24.00', 75570.0, 9252.0, '65744', 574.0, 239287.0, 2228.0),\n",
       " ('2021.08.23.00', 75136.0, 9276.0, '65287', 573.0, 237782.0, 2222.0),\n",
       " ('2021.08.22.00', 74749.0, 9380.0, '64798', 571.0, 236366.0, 2215.0),\n",
       " ('2021.08.21.00', 74251.0, 9243.0, '64441', 567.0, 234739.0, 2202.0),\n",
       " ('2021.08.20.00', 73725.0, 9196.0, '63963', 566.0, 232859.0, 2197.0),\n",
       " ('2021.08.19.00', 73169.0, 9147.0, '63458', 564.0, 230808.0, 2191.0),\n",
       " ('2021.08.18.00', 72594.0, 9140.0, '62893', 561.0, 228657.0, 2178.0),\n",
       " ('2021.08.17.00', 72086.0, 9158.0, '62368', 560.0, 226854.0, 2173.0),\n",
       " ('2021.08.16.00', 71720.0, 8917.0, '62246', 557.0, 225481.0, 2167.0),\n",
       " ('2021.08.15.00', 71358.0, 8743.0, '62061', 554.0, 223928.0, 2156.0),\n",
       " ('2021.08.14.00', 70870.0, 8621.0, '61699', 550.0, 222111.0, 2148.0),\n",
       " ('2021.08.13.00', 70355.0, 8566.0, '61240', 549.0, 220182.0, 2144.0),\n",
       " ('2021.08.12.00', 69831.0, 8607.0, '60678', 546.0, 218192.0, 2138.0),\n",
       " ('2021.08.11.00', 69306.0, 8236.0, '60524', 546.0, 216206.0, 2135.0),\n",
       " ('2021.08.10.00', 68646.0, 8183.0, '59918', 545.0, 213987.0, 2134.0),\n",
       " ('2021.08.09.00', 68287.0, 8282.0, '59462', 543.0, 212448.0, 2125.0),\n",
       " ('2021.08.08.00', 67872.0, 8322.0, '59008', 542.0, 210956.0, 2121.0),\n",
       " ('2021.08.07.00', 67422.0, 8198.0, '58684', 540.0, 209228.0, 2116.0),\n",
       " ('2021.08.06.00', 66919.0, 8358.0, '58021', 540.0, 207406.0, 2113.0),\n",
       " ('2021.08.05.00', 66455.0, 8406.0, '57510', 539.0, 205702.0, 2109.0),\n",
       " ('2021.08.04.00', 65989.0, 8323.0, '57129', 537.0, 203926.0, 2106.0),\n",
       " ('2021.08.03.00', 65503.0, 8163.0, '56803', 537.0, 202203.0, 2104.0),\n",
       " ('2021.08.02.00', 65193.0, 8274.0, '56384', 535.0, 201002.0, 2099.0),\n",
       " ('2021.08.01.00', 64832.0, 8109.0, '56188', 535.0, 199787.0, 2098.0),\n",
       " ('2021.07.31.00', 64359.0, 7760.0, '56065', 534.0, 198345.0, 2095.0),\n",
       " ('2021.07.30.00', 63883.0, 7794.0, '55557', 532.0, 196806.0, 2089.0),\n",
       " ('2021.07.29.00', 63396.0, 7549.0, '55315', 532.0, 195099.0, 2085.0),\n",
       " ('2021.07.28.00', 62881.0, 7306.0, '55044', 531.0, 193427.0, 2083.0),\n",
       " ('2021.07.27.00', 62308.0, 7599.0, '54180', 529.0, 191531.0, 2079.0),\n",
       " ('2021.07.26.00', 61957.0, 7756.0, '53672', 529.0, 190166.0, 2077.0),\n",
       " ('2021.07.25.00', 61616.0, 7623.0, '53464', 529.0, 188848.0, 2073.0),\n",
       " ('2021.07.24.00', 61128.0, 7501.0, '53099', 528.0, 187362.0, 2068.0),\n",
       " ('2021.07.23.00', 60663.0, 7385.0, '52750', 528.0, 185733.0, 2066.0),\n",
       " ('2021.07.22.00', 60143.0, 7289.0, '52326', 528.0, 184103.0, 2063.0),\n",
       " ('2021.07.21.00', 59644.0, 7458.0, '51658', 528.0, 182265.0, 2060.0),\n",
       " ('2021.07.20.00', 59040.0, 7294.0, '51219', 527.0, 180481.0, 2059.0),\n",
       " ('2021.07.19.00', 58646.0, 7061.0, '51058', 527.0, 179203.0, 2058.0),\n",
       " ('2021.07.18.00', 58227.0, 6829.0, '50871', 527.0, 177951.0, 2057.0),\n",
       " ('2021.07.17.00', 57704.0, 6768.0, '50409', 527.0, 176500.0, 2055.0),\n",
       " ('2021.07.16.00', 57142.0, 6550.0, '50067', 525.0, 175046.0, 2051.0),\n",
       " ('2021.07.15.00', 56573.0, 6133.0, '49915', 525.0, 173511.0, 2050.0),\n",
       " ('2021.07.14.00', 56053.0, 6134.0, '49395', 524.0, 171911.0, 2048.0),\n",
       " ('2021.07.13.00', 55415.0, 5812.0, '49080', 523.0, 170296.0, 2046.0),\n",
       " ('2021.07.12.00', 54998.0, 5526.0, '48949', 523.0, 169146.0, 2044.0),\n",
       " ('2021.07.11.00', 54595.0, 5253.0, '48819', 523.0, 168046.0, 2043.0),\n",
       " ('2021.07.10.00', 54086.0, 5023.0, '48542', 521.0, 166722.0, 2038.0),\n",
       " ('2021.07.09.00', 53577.0, 4791.0, '48267', 519.0, 165344.0, 2036.0),\n",
       " ('2021.07.08.00', 53074.0, 4490.0, '48066', 518.0, 164028.0, 2034.0),\n",
       " ('2021.07.07.00', 52524.0, 4067.0, '47939', 518.0, 162753.0, 2033.0),\n",
       " ('2021.07.06.00', 51941.0, 3792.0, '47631', 518.0, 161541.0, 2032.0),\n",
       " ('2021.07.05.00', 51621.0, 3707.0, '47397', 517.0, 160795.0, 2028.0),\n",
       " ('2021.07.04.00', 51314.0, 3591.0, '47207', 516.0, 160084.0, 2026.0),\n",
       " ('2021.07.03.00', 51026.0, 3462.0, '47048', 516.0, 159342.0, 2025.0),\n",
       " ('2021.07.02.00', 50668.0, 3485.0, '46668', 515.0, 158549.0, 2024.0),\n",
       " ('2021.07.01.00', 50321.0, 3214.0, '46593', 514.0, 157723.0, 2021.0),\n",
       " ('2021.06.30.00', 49987.0, 2973.0, '46501', 513.0, 156961.0, 2018.0),\n",
       " ('2021.06.29.00', 49612.0, 2948.0, '46151', 513.0, 156167.0, 2017.0),\n",
       " ('2021.06.28.00', 49407.0, 2808.0, '46086', 513.0, 155572.0, 2015.0),\n",
       " ('2021.06.27.00', 49222.0, 2712.0, '45998', 512.0, 155071.0, 2013.0),\n",
       " ('2021.06.26.00', 48980.0, 2581.0, '45887', 512.0, 154457.0, 2012.0),\n",
       " ('2021.06.25.00', 48717.0, 2496.0, '45710', 511.0, 153789.0, 2009.0),\n",
       " ('2021.06.24.00', 48448.0, 2547.0, '45391', 510.0, 153155.0, 2008.0),\n",
       " ('2021.06.23.00', 48196.0, 2419.0, '45267', 510.0, 152545.0, 2007.0),\n",
       " ('2021.06.22.00', 47961.0, 2322.0, '45130', 509.0, 151901.0, 2006.0),\n",
       " ('2021.06.21.00', 47829.0, 2392.0, '44929', 508.0, 151506.0, 2004.0),\n",
       " ('2021.06.20.00', 47695.0, 2383.0, '44805', 507.0, 151149.0, 2002.0),\n",
       " ('2021.06.19.00', 47530.0, 2407.0, '44617', 506.0, 150720.0, 1997.0),\n",
       " ('2021.06.18.00', 47333.0, 2354.0, '44474', 505.0, 150238.0, 1996.0),\n",
       " ('2021.06.17.00', 47133.0, 2547.0, '44082', 504.0, 149731.0, 1994.0),\n",
       " ('2021.06.16.00', 46932.0, 2531.0, '43898', 503.0, 149192.0, 1994.0),\n",
       " ('2021.06.15.00', 46732.0, 2585.0, '43645', 502.0, 148647.0, 1992.0),\n",
       " ('2021.06.14.00', 46600.0, 2695.0, '43404', 501.0, 148273.0, 1988.0),\n",
       " ('2021.06.13.00', 46478.0, 2681.0, '43296', 501.0, 147874.0, 1985.0),\n",
       " ('2021.06.12.00', 46302.0, 2629.0, '43174', 499.0, 147422.0, 1982.0),\n",
       " ('2021.06.11.00', 46096.0, 2822.0, '42775', 499.0, 146859.0, 1981.0),\n",
       " ('2021.06.10.00', 45892.0, 2766.0, '42627', 499.0, 146303.0, 1979.0),\n",
       " ('2021.06.09.00', 45679.0, 2754.0, '42426', 499.0, 145692.0, 1977.0),\n",
       " ('2021.06.08.00', 45497.0, 2707.0, '42292', 498.0, 145091.0, 1975.0),\n",
       " ('2021.06.07.00', 45358.0, 2765.0, '42096', 497.0, 144637.0, 1974.0),\n",
       " ('2021.06.06.00', 45199.0, 2940.0, '41762', 497.0, 144152.0, 1973.0),\n",
       " ('2021.06.05.00', 45020.0, 2913.0, '41611', 496.0, 143596.0, 1971.0),\n",
       " ('2021.06.04.00', 44743.0, 2753.0, '41494', 496.0, 142852.0, 1969.0),\n",
       " ('2021.06.03.00', 44537.0, 2648.0, '41394', 495.0, 142157.0, 1968.0),\n",
       " ('2021.06.02.00', 44322.0, 2668.0, '41162', 492.0, 141476.0, 1965.0),\n",
       " ('2021.06.01.00', 44064.0, 2541.0, '41032', 491.0, 140799.0, 1963.0),\n",
       " ('2021.05.31.00', 43917.0, 2614.0, '40815', 488.0, 140340.0, 1959.0),\n",
       " ('2021.05.30.00', 43787.0, 2620.0, '40679', 488.0, 139910.0, 1957.0),\n",
       " ('2021.05.29.00', 43627.0, 2552.0, '40589', 486.0, 139431.0, 1951.0),\n",
       " ('2021.05.28.00', 43433.0, 2892.0, '40056', 485.0, 138898.0, 1946.0),\n",
       " ('2021.05.27.00', 43219.0, 2883.0, '39854', 482.0, 138311.0, 1943.0),\n",
       " ('2021.05.26.00', 43001.0, 2840.0, '39680', 481.0, 137682.0, 1940.0),\n",
       " ('2021.05.25.00', 42739.0, 2813.0, '39446', 480.0, 136983.0, 1938.0),\n",
       " ('2021.05.24.00', 42601.0, 2845.0, '39276', 480.0, 136467.0, 1934.0),\n",
       " ('2021.05.23.00', 42462.0, 2830.0, '39152', 480.0, 135929.0, 1931.0),\n",
       " ('2021.05.22.00', 42281.0, 2938.0, '38863', 480.0, 135344.0, 1926.0),\n",
       " ('2021.05.21.00', 42073.0, 3181.0, '38413', 479.0, 134678.0, 1922.0),\n",
       " ('2021.05.20.00', 41901.0, 3156.0, '38270', 475.0, 134117.0, 1916.0),\n",
       " ('2021.05.19.00', 41659.0, 3066.0, '38119', 474.0, 133471.0, 1912.0),\n",
       " ('2021.05.18.00', 41410.0, 2978.0, '37960', 472.0, 132818.0, 1904.0),\n",
       " ('2021.05.17.00', 41238.0, 2932.0, '37834', 472.0, 132290.0, 1903.0),\n",
       " ('2021.05.16.00', 41043.0, 2851.0, '37721', 471.0, 131671.0, 1900.0),\n",
       " ('2021.05.15.00', 40830.0, 2805.0, '37557', 468.0, 131061.0, 1896.0),\n",
       " ('2021.05.14.00', 40576.0, 2938.0, '37170', 468.0, 130380.0, 1893.0),\n",
       " ('2021.05.13.00', 40345.0, 2860.0, '37017', 468.0, 129633.0, 1891.0),\n",
       " ('2021.05.12.00', 40118.0, 2762.0, '36890', 466.0, 128918.0, 1884.0),\n",
       " ('2021.05.11.00', 39895.0, 2692.0, '36739', 464.0, 128283.0, 1879.0),\n",
       " ('2021.05.10.00', 39732.0, 2745.0, '36525', 462.0, 127772.0, 1875.0),\n",
       " ('2021.05.09.00', 39591.0, 2731.0, '36398', 462.0, 127309.0, 1874.0),\n",
       " ('2021.05.08.00', 39396.0, 2666.0, '36271', 459.0, 126745.0, 1865.0),\n",
       " ('2021.05.07.00', 39154.0, 2849.0, '35848', 457.0, 126044.0, 1860.0),\n",
       " ('2021.05.06.00', 38975.0, 2854.0, '35668', 453.0, 125519.0, 1851.0),\n",
       " ('2021.05.05.00', 38763.0, 2763.0, '35548', 452.0, 124945.0, 1847.0),\n",
       " ('2021.05.04.00', 38525.0, 2714.0, '35359', 452.0, 124269.0, 1840.0),\n",
       " ('2021.05.03.00', 38341.0, 2781.0, '35109', 451.0, 123728.0, 1834.0),\n",
       " ('2021.05.02.00', 38214.0, 2712.0, '35051', 451.0, 123240.0, 1833.0),\n",
       " ('2021.05.01.00', 38032.0, 2674.0, '34908', 450.0, 122634.0, 1831.0),\n",
       " ('2021.04.30.00', 37837.0, 2912.0, '34477', 448.0, 122007.0, 1828.0),\n",
       " ('2021.04.29.00', 37610.0, 2834.0, '34329', 447.0, 121351.0, 1825.0),\n",
       " ('2021.04.28.00', 37385.0, 2728.0, '34212', 445.0, 120673.0, 1821.0),\n",
       " ('2021.04.27.00', 37126.0, 2614.0, '34067', 445.0, 119898.0, 1820.0),\n",
       " ('2021.04.26.00', 37010.0, 2759.0, '33806', 445.0, 119387.0, 1817.0),\n",
       " ('2021.04.25.00', 36856.0, 2640.0, '33772', 444.0, 118887.0, 1813.0),\n",
       " ('2021.04.24.00', 36681.0, 2737.0, '33500', 444.0, 118243.0, 1812.0),\n",
       " ('2021.04.23.00', 36428.0, 2755.0, '33229', 444.0, 117458.0, 1811.0),\n",
       " ('2021.04.22.00', 36224.0, 2719.0, '33062', 443.0, 116661.0, 1808.0),\n",
       " ('2021.04.21.00', 35994.0, 2660.0, '32891', 443.0, 115926.0, 1806.0),\n",
       " ('2021.04.20.00', 35776.0, 2690.0, '32643', 443.0, 115195.0, 1802.0),\n",
       " ('2021.04.19.00', 35628.0, 2722.0, '32463', 443.0, 114646.0, 1801.0),\n",
       " ('2021.04.18.00', 35492.0, 2672.0, '32377', 443.0, 114115.0, 1797.0),\n",
       " ('2021.04.17.00', 35287.0, 2544.0, '32300', 443.0, 113444.0, 1794.0),\n",
       " ('2021.04.16.00', 35070.0, 2475.0, '32153', 442.0, 112789.0, 1790.0),\n",
       " ('2021.04.15.00', 34855.0, 2490.0, '31925', 440.0, 112117.0, 1788.0),\n",
       " ('2021.04.14.00', 34638.0, 2467.0, '31733', 438.0, 111419.0, 1782.0),\n",
       " ('2021.04.13.00', 34391.0, 2470.0, '31484', 437.0, 110688.0, 1775.0),\n",
       " ('2021.04.12.00', 34233.0, 2493.0, '31305', 435.0, 110146.0, 1770.0),\n",
       " ('2021.04.11.00', 34071.0, 2381.0, '31256', 434.0, 109559.0, 1768.0),\n",
       " ('2021.04.10.00', 33857.0, 2640.0, '30783', 434.0, 108945.0, 1765.0),\n",
       " ('2021.04.09.00', 33656.0, 2571.0, '30651', 434.0, 108269.0, 1764.0),\n",
       " ('2021.04.08.00', 33441.0, 2469.0, '30541', 431.0, 107598.0, 1758.0),\n",
       " ('2021.04.07.00', 33197.0, 2336.0, '30430', 431.0, 106898.0, 1756.0),\n",
       " ('2021.04.06.00', 32999.0, 2267.0, '30303', 429.0, 106230.0, 1752.0),\n",
       " ('2021.04.05.00', 32852.0, 2251.0, '30172', 429.0, 105752.0, 1748.0),\n",
       " ('2021.04.04.00', 32700.0, 2170.0, '30101', 429.0, 105279.0, 1744.0),\n",
       " ('2021.04.03.00', 32551.0, 2148.0, '29976', 427.0, 104736.0, 1740.0),\n",
       " ('2021.04.02.00', 32397.0, 2073.0, '29898', 426.0, 104194.0, 1737.0),\n",
       " ('2021.04.01.00', 32233.0, 2026.0, '29782', 425.0, 103639.0, 1735.0),\n",
       " ('2021.03.31.00', 32034.0, 1916.0, '29694', 424.0, 103088.0, 1731.0),\n",
       " ('2021.03.30.00', 31876.0, 1894.0, '29558', 424.0, 102582.0, 1729.0),\n",
       " ('2021.03.29.00', 31731.0, 1869.0, '29439', 423.0, 102141.0, 1726.0),\n",
       " ('2021.03.28.00', 31624.0, 1815.0, '29386', 423.0, 101757.0, 1722.0),\n",
       " ('2021.03.27.00', 31486.0, 1746.0, '29318', 422.0, 101275.0, 1721.0),\n",
       " ('2021.03.26.00', 31359.0, 1736.0, '29203', 420.0, 100770.0, 1716.0),\n",
       " ('2021.03.25.00', 31237.0, 1893.0, '28926', 418.0, 100276.0, 1709.0),\n",
       " ('2021.03.24.00', 31110.0, 1958.0, '28735', 417.0, 99846.0, 1707.0),\n",
       " ('2021.03.23.00', 30976.0, 1953.0, '28608', 415.0, 99421.0, 1704.0),\n",
       " ('2021.03.22.00', 30879.0, 1998.0, '28466', 415.0, 99075.0, 1697.0),\n",
       " ('2021.03.21.00', 30775.0, 1975.0, '28386', 414.0, 98665.0, 1696.0),\n",
       " ('2021.03.20.00', 30650.0, 1919.0, '28318', 413.0, 98209.0, 1693.0),\n",
       " ('2021.03.19.00', 30530.0, 1931.0, '28186', 413.0, 97757.0, 1690.0),\n",
       " ('2021.03.18.00', 30384.0, 1864.0, '28108', 412.0, 97294.0, 1688.0),\n",
       " ('2021.03.17.00', 30260.0, 1861.0, '27987', 412.0, 96849.0, 1686.0),\n",
       " ('2021.03.16.00', 30140.0, 1997.0, '27734', 409.0, 96380.0, 1678.0),\n",
       " ('2021.03.15.00', 30061.0, 2128.0, '27526', 407.0, 96017.0, 1675.0),\n",
       " ('2021.03.14.00', 29949.0, 2097.0, '27448', 404.0, 95635.0, 1669.0),\n",
       " ('2021.03.13.00', 29837.0, 2237.0, '27197', 403.0, 95176.0, 1667.0),\n",
       " ('2021.03.12.00', 29697.0, 2580.0, '26717', 400.0, 94686.0, 1662.0),\n",
       " ('2021.03.11.00', 29557.0, 2945.0, '26213', 399.0, 94198.0, 1652.0),\n",
       " ('2021.03.10.00', 29419.0, 2901.0, '26120', 398.0, 93733.0, 1648.0),\n",
       " ('2021.03.09.00', 29281.0, 2916.0, '25969', 396.0, 93263.0, 1645.0),\n",
       " ('2021.03.08.00', 29179.0, 2988.0, '25795', 396.0, 92817.0, 1642.0),\n",
       " ('2021.03.07.00', 29079.0, 2977.0, '25708', 394.0, 92471.0, 1634.0),\n",
       " ('2021.03.06.00', 28947.0, 2926.0, '25628', 393.0, 92055.0, 1632.0),\n",
       " ('2021.03.05.00', 28820.0, 2883.0, '25546', 391.0, 91638.0, 1627.0),\n",
       " ('2021.03.04.00', 28691.0, 2884.0, '25419', 388.0, 91240.0, 1619.0),\n",
       " ('2021.03.03.00', 28573.0, 2937.0, '25251', 385.0, 90816.0, 1612.0),\n",
       " ('2021.03.02.00', 28454.0, 2921.0, '25152', 381.0, 90372.0, 1606.0),\n",
       " ('2021.03.01.00', 28332.0, 2864.0, '25087', 381.0, 90029.0, 1605.0),\n",
       " ('2021.02.28.00', 28240.0, 2843.0, '25017', 380.0, 89676.0, 1603.0),\n",
       " ('2021.02.27.00', 28120.0, 2796.0, '24946', 378.0, 89321.0, 1595.0),\n",
       " ('2021.02.26.00', 27989.0, 2806.0, '24808', 375.0, 88922.0, 1585.0),\n",
       " ('2021.02.25.00', 27857.0, 2832.0, '24652', 373.0, 88516.0, 1581.0),\n",
       " ('2021.02.24.00', 27735.0, 2914.0, '24449', 372.0, 88120.0, 1576.0),\n",
       " ('2021.02.23.00', 27592.0, 3246.0, '23975', 371.0, 87681.0, 1573.0),\n",
       " ('2021.02.22.00', 27466.0, 3392.0, '23705', 369.0, 87324.0, 1562.0),\n",
       " ('2021.02.21.00', 27360.0, 3442.0, '23553', 365.0, 86992.0, 1557.0),\n",
       " ('2021.02.20.00', 27230.0, 3466.0, '23399', 365.0, 86574.0, 1553.0),\n",
       " ('2021.02.19.00', 27107.0, 3665.0, '23078', 364.0, 86128.0, 1550.0),\n",
       " ('2021.02.18.00', 26927.0, 3878.0, '22687', 362.0, 85567.0, 1544.0),\n",
       " ('2021.02.17.00', 26742.0, 3952.0, '22430', 360.0, 84946.0, 1538.0),\n",
       " ('2021.02.16.00', 26484.0, 4093.0, '22032', 359.0, 84325.0, 1534.0),\n",
       " ('2021.02.15.00', 26324.0, 4081.0, '21887', 356.0, 83869.0, 1527.0),\n",
       " ('2021.02.14.00', 26173.0, 4003.0, '21815', 355.0, 83525.0, 1522.0),\n",
       " ('2021.02.13.00', 26021.0, 3943.0, '21726', 352.0, 83199.0, 1514.0),\n",
       " ('2021.02.12.00', 25885.0, 3886.0, '21648', 351.0, 82837.0, 1507.0),\n",
       " ('2021.02.11.00', 25727.0, 3832.0, '21548', 347.0, 82434.0, 1496.0),\n",
       " ('2021.02.10.00', 25544.0, 3724.0, '21477', 343.0, 81930.0, 1486.0),\n",
       " ('2021.02.09.00', 25369.0, 3710.0, '21318', 341.0, 81487.0, 1482.0),\n",
       " ('2021.02.08.00', 25279.0, 3755.0, '21185', 339.0, 81190.0, 1474.0),\n",
       " ('2021.02.07.00', 25167.0, 3737.0, '21092', 338.0, 80896.0, 1471.0),\n",
       " ('2021.02.06.00', 25023.0, 3681.0, '21009', 333.0, 80524.0, 1464.0),\n",
       " ('2021.02.05.00', 24880.0, 3637.0, '20911', 332.0, 80131.0, 1459.0),\n",
       " ('2021.02.04.00', 24755.0, 3655.0, '20771', 329.0, 79762.0, 1448.0),\n",
       " ('2021.02.03.00', 24583.0, 3563.0, '20693', 327.0, 79311.0, 1441.0),\n",
       " ('2021.02.02.00', 24395.0, 3584.0, '20485', 326.0, 78844.0, 1435.0),\n",
       " ('2021.02.01.00', 24267.0, 3612.0, '20330', 325.0, 78508.0, 1425.0),\n",
       " ('2021.01.31.00', 24162.0, 3750.0, '20088', 324.0, 78205.0, 1420.0),\n",
       " ('2021.01.30.00', 24061.0, 4144.0, '19594', 323.0, 77850.0, 1414.0),\n",
       " ('2021.01.29.00', 23908.0, 4105.0, '19486', 317.0, 77395.0, 1399.0),\n",
       " ('2021.01.28.00', 23797.0, 4157.0, '19329', 311.0, 76926.0, 1386.0),\n",
       " ('2021.01.27.00', 23692.0, 4227.0, '19158', 307.0, 76429.0, 1378.0),\n",
       " ('2021.01.26.00', 23563.0, 4231.0, '19028', 304.0, 75875.0, 1371.0),\n",
       " ('2021.01.25.00', 23459.0, 4532.0, '18626', 301.0, 75521.0, 1360.0),\n",
       " ('2021.01.24.00', 23357.0, 4606.0, '18454', 297.0, 75084.0, 1349.0),\n",
       " ('2021.01.23.00', 23224.0, 4636.0, '18294', 294.0, 74692.0, 1337.0),\n",
       " ('2021.01.22.00', 23097.0, 4651.0, '18156', 290.0, 74262.0, 1328.0),\n",
       " ('2021.01.21.00', 22984.0, 4712.0, '17987', 285.0, 73918.0, 1316.0),\n",
       " ('2021.01.20.00', 22859.0, 4818.0, '17762', 279.0, 73518.0, 1300.0),\n",
       " ('2021.01.19.00', 22717.0, 4953.0, '17487', 277.0, 73115.0, 1283.0),\n",
       " ('2021.01.18.00', 22616.0, 5134.0, '17211', 271.0, 72729.0, 1264.0),\n",
       " ('2021.01.17.00', 22484.0, 5126.0, '17093', 265.0, 72340.0, 1249.0),\n",
       " ('2021.01.16.00', 22339.0, 5192.0, '16885', 262.0, 71820.0, 1236.0),\n",
       " ('2021.01.15.00', 22183.0, 5411.0, '16518', 254.0, 71241.0, 1217.0),\n",
       " ('2021.01.14.00', 22056.0, 5500.0, '16304', 252.0, 70728.0, 1195.0),\n",
       " ('2021.01.13.00', 21922.0, 5585.0, '16087', 250.0, 70212.0, 1185.0),\n",
       " ('2021.01.12.00', 21771.0, 5585.0, '15938', 248.0, 69651.0, 1165.0),\n",
       " ('2021.01.11.00', 21604.0, 5832.0, '15534', 238.0, 69114.0, 1140.0),\n",
       " ('2021.01.10.00', 21463.0, 7433.0, '13800', 230.0, 68664.0, 1125.0),\n",
       " ('2021.01.09.00', 21276.0, 7794.0, '13259', 223.0, 67999.0, 1100.0),\n",
       " ('2021.01.08.00', 21088.0, 8060.0, '12805', 223.0, 67358.0, 1081.0),\n",
       " ('2021.01.07.00', 20899.0, 8143.0, '12543', 213.0, 66686.0, 1046.0),\n",
       " ('2021.01.06.00', 20602.0, 7966.0, '12429', 207.0, 65818.0, 1027.0),\n",
       " ('2021.01.05.00', 20338.0, 8039.0, '12095', 204.0, 64979.0, 1007.0),\n",
       " ('2021.01.04.00', 20138.0, 8224.0, '11721', 193.0, 64264.0, 981.0),\n",
       " ('2021.01.03.00', 19809.0, 8099.0, '11521', 189.0, 63244.0, 962.0),\n",
       " ('2021.01.02.00', 19614.0, 8576.0, '10852', 186.0, 62593.0, 942.0),\n",
       " ('2021.01.01.00', 19363.0, 8394.0, '10787', 182.0, 61769.0, 917.0),\n",
       " ('2020.12.31.00', 19004.0, 8386.0, '10441', 177.0, 60740.0, 900.0),\n",
       " ('2020.12.30.00', 18638.0, 8341.0, '10125', 172.0, 59773.0, 879.0),\n",
       " ('2020.12.29.00', 18253.0, 8076.0, '10010', 167.0, 58725.0, 859.0),\n",
       " ('2020.12.28.00', 17731.0, 7961.0, '9611', 159.0, 57680.0, 819.0),\n",
       " ('2020.12.27.00', 17430.0, 7684.0, '9589', 157.0, 56872.0, 808.0),\n",
       " ('2020.12.26.00', 17068.0, 7433.0, '9480', 155.0, 55902.0, 793.0),\n",
       " ('2020.12.25.00', 16602.0, 7134.0, '9320', 148.0, 54770.0, 773.0),\n",
       " ('2020.12.24.00', 16050.0, 6732.0, '9171', 147.0, 53533.0, 756.0),\n",
       " ('2020.12.23.00', 15732.0, 6723.0, '8864', 145.0, 52550.0, 739.0),\n",
       " ('2020.12.22.00', 15356.0, 6650.0, '8562', 144.0, 51460.0, 722.0),\n",
       " ('2020.12.21.00', 15039.0, 6533.0, '8370', 136.0, 50591.0, 698.0),\n",
       " ('2020.12.20.00', 14711.0, 6361.0, '8220', 130.0, 49665.0, 674.0),\n",
       " ('2020.12.19.00', 14240.0, 6081.0, '8031', 128.0, 48570.0, 659.0),\n",
       " ('2020.12.18.00', 13856.0, 5734.0, '7996', 126.0, 47515.0, 645.0),\n",
       " ('2020.12.17.00', 13458.0, 5412.0, '7921', 125.0, 46453.0, 634.0),\n",
       " ('2020.12.16.00', 13035.0, 5225.0, '7690', 120.0, 45442.0, 612.0),\n",
       " ('2020.12.15.00', 12657.0, 4878.0, '7664', 115.0, 44364.0, 600.0),\n",
       " ('2020.12.14.00', 12406.0, 4721.0, '7573', 112.0, 43484.0, 587.0),\n",
       " ('2020.12.13.00', 12187.0, 4588.0, '7490', 109.0, 42766.0, 580.0),\n",
       " ('2020.12.12.00', 11788.0, 4223.0, '7456', 109.0, 41736.0, 578.0),\n",
       " ('2020.12.11.00', 11426.0, 3889.0, '7431', 106.0, 40786.0, 572.0),\n",
       " ('2020.12.10.00', 11175.0, 3784.0, '7286', 105.0, 40098.0, 564.0),\n",
       " ('2020.12.09.00', 10932.0, 3610.0, '7217', 105.0, 39432.0, 556.0),\n",
       " ('2020.12.08.00', 10663.0, 3530.0, '7029', 104.0, 38755.0, 552.0),\n",
       " ('2020.12.07.00', 10449.0, 3395.0, '6952', 102.0, 38161.0, 549.0),\n",
       " ('2020.12.06.00', 10205.0, 3184.0, '6920', 101.0, 37546.0, 545.0),\n",
       " ('2020.12.05.00', 9951.0, 2964.0, '6887', 100.0, 36915.0, 540.0),\n",
       " ('2020.12.04.00', 9716.0, 2845.0, '6774', 97.0, 36332.0, 536.0),\n",
       " ('2020.12.03.00', 9421.0, 2607.0, '6719', 95.0, 35703.0, 529.0),\n",
       " ('2020.12.02.00', 9159.0, 2441.0, '6625', 93.0, 35163.0, 526.0),\n",
       " ('2020.12.01.00', 8966.0, 2253.0, '6620', 93.0, 34652.0, 526.0),\n",
       " ('2020.11.30.00', 8811.0, 2184.0, '6534', 93.0, 34201.0, 526.0),\n",
       " ('2020.11.29.00', 8652.0, 2031.0, '6529', 92.0, 33824.0, 523.0),\n",
       " ('2020.11.28.00', 8494.0, 1948.0, '6455', 91.0, 33375.0, 522.0),\n",
       " ('2020.11.27.00', 8317.0, 1865.0, '6364', 88.0, 32887.0, 516.0),\n",
       " ('2020.11.26.00', 8113.0, 1725.0, '6300', 88.0, 32318.0, 515.0),\n",
       " ('2020.11.25.00', 7900.0, 1555.0, '6258', 87.0, 31735.0, 513.0),\n",
       " ('2020.11.24.00', 7758.0, 1436.0, '6235', 87.0, 31353.0, 510.0),\n",
       " ('2020.11.23.00', 7625.0, 1367.0, '6172', 86.0, 31004.0, 509.0),\n",
       " ('2020.11.22.00', 7513.0, 1257.0, '6171', 85.0, 30733.0, 505.0),\n",
       " ('2020.11.21.00', 7392.0, 1171.0, '6136', 85.0, 30403.0, 503.0),\n",
       " ('2020.11.20.00', 7236.0, 1043.0, '6109', 84.0, 30017.0, 501.0),\n",
       " ('2020.11.19.00', 7104.0, 1009.0, '6012', 83.0, 29654.0, 498.0),\n",
       " ('2020.11.18.00', 6995.0, 945.0, '5968', 82.0, 29311.0, 496.0),\n",
       " ('2020.11.17.00', 6903.0, 899.0, '5923', 81.0, 28998.0, 494.0),\n",
       " ('2020.11.16.00', 6814.0, 848.0, '5885', 81.0, 28769.0, 494.0),\n",
       " ('2020.11.15.00', 6733.0, 778.0, '5874', 81.0, 28546.0, 493.0),\n",
       " ('2020.11.14.00', 6648.0, 715.0, '5853', 80.0, 28338.0, 492.0),\n",
       " ('2020.11.13.00', 6579.0, 674.0, '5826', 79.0, 28133.0, 488.0),\n",
       " ('2020.11.12.00', 6505.0, 650.0, '5776', 79.0, 27942.0, 487.0),\n",
       " ('2020.11.11.00', 6452.0, 638.0, '5735', 79.0, 27799.0, 487.0),\n",
       " ('2020.11.10.00', 6407.0, 625.0, '5703', 79.0, 27653.0, 485.0),\n",
       " ('2020.11.09.00', 6372.0, 621.0, '5673', 78.0, 27553.0, 480.0),\n",
       " ('2020.11.08.00', 6326.0, 598.0, '5650', 78.0, 27427.0, 478.0),\n",
       " ('2020.11.07.00', 6272.0, 555.0, '5639', 78.0, 27284.0, 477.0),\n",
       " ('2020.11.06.00', 6235.0, 530.0, '5627', 78.0, 27195.0, 476.0),\n",
       " ('2020.11.05.00', 6195.0, 511.0, '5606', 78.0, 27050.0, 475.0),\n",
       " ('2020.11.04.00', 6145.0, 495.0, '5572', 78.0, 26925.0, 474.0),\n",
       " ('2020.11.03.00', 6103.0, 480.0, '5545', 78.0, 26807.0, 472.0),\n",
       " ('2020.11.02.00', 6081.0, 503.0, '5500', 78.0, 26732.0, 468.0),\n",
       " ('2020.11.01.00', 6056.0, 482.0, '5496', 78.0, 26635.0, 466.0),\n",
       " ('2020.10.31.00', 6011.0, 438.0, '5495', 78.0, 26511.0, 464.0),\n",
       " ('2020.10.30.00', 5960.0, 407.0, '5475', 78.0, 26385.0, 463.0),\n",
       " ('2020.10.29.00', 5912.0, 372.0, '5462', 78.0, 26271.0, 462.0),\n",
       " ('2020.10.28.00', 5876.0, 365.0, '5434', 77.0, 26146.0, 461.0),\n",
       " ('2020.10.27.00', 5851.0, 381.0, '5394', 76.0, 26043.0, 460.0),\n",
       " ('2020.10.26.00', 5827.0, 385.0, '5368', 74.0, 25955.0, 457.0),\n",
       " ('2020.10.25.00', 5807.0, 383.0, '5350', 74.0, 25836.0, 457.0),\n",
       " ('2020.10.24.00', 5790.0, 366.0, '5350', 74.0, 25775.0, 457.0),\n",
       " ('2020.10.23.00', 5768.0, 390.0, '5304', 74.0, 25698.0, 455.0),\n",
       " ('2020.10.22.00', 5748.0, 391.0, '5283', 74.0, 25543.0, 453.0),\n",
       " ('2020.10.21.00', 5730.0, 391.0, '5268', 71.0, 25424.0, 450.0),\n",
       " ('2020.10.20.00', 5713.0, 427.0, '5217', 69.0, 25333.0, 447.0),\n",
       " ('2020.10.19.00', 5702.0, 472.0, '5161', 69.0, 25275.0, 444.0),\n",
       " ('2020.10.18.00', 5688.0, 487.0, '5132', 69.0, 25199.0, 444.0),\n",
       " ('2020.10.17.00', 5668.0, 481.0, '5119', 68.0, 25108.0, 443.0),\n",
       " ('2020.10.16.00', 5650.0, 492.0, '5091', 67.0, 25035.0, 441.0),\n",
       " ('2020.10.15.00', 5632.0, 511.0, '5055', 66.0, 24988.0, 439.0),\n",
       " ('2020.10.14.00', 5607.0, 491.0, '5050', 66.0, 24889.0, 438.0),\n",
       " ('2020.10.13.00', 5584.0, 554.0, '4965', 65.0, 24805.0, 434.0),\n",
       " ('2020.10.12.00', 5564.0, 606.0, '4894', 64.0, 24703.0, 433.0),\n",
       " ('2020.10.11.00', 5533.0, 591.0, '4878', 64.0, 24606.0, 432.0),\n",
       " ('2020.10.10.00', 5510.0, 600.0, '4847', 63.0, 24548.0, 430.0),\n",
       " ('2020.10.09.00', 5485.0, 577.0, '4846', 62.0, 24476.0, 428.0),\n",
       " ('2020.10.08.00', 5463.0, 592.0, '4809', 62.0, 24422.0, 427.0),\n",
       " ('2020.10.07.00', 5443.0, 646.0, '4736', 61.0, 24353.0, 425.0),\n",
       " ('2020.10.06.00', 5410.0, 765.0, '4584', 61.0, 24239.0, 422.0),\n",
       " ('2020.10.05.00', 5395.0, 859.0, '4475', 61.0, 24164.0, 422.0),\n",
       " ('2020.10.04.00', 5376.0, 850.0, '4466', 60.0, 24091.0, 421.0),\n",
       " ('2020.10.03.00', 5360.0, 845.0, '4456', 59.0, 24027.0, 420.0),\n",
       " ('2020.10.02.00', 5334.0, 832.0, '4445', 57.0, 23952.0, 416.0),\n",
       " ('2020.10.01.00', 5323.0, 833.0, '4433', 57.0, 23889.0, 415.0),\n",
       " ('2020.09.30.00', 5293.0, 822.0, '4415', 56.0, 23812.0, 413.0),\n",
       " ('2020.09.29.00', 5242.0, 787.0, '4401', 54.0, 23699.0, 407.0),\n",
       " ('2020.09.28.00', 5231.0, 847.0, '4330', 54.0, 23661.0, 406.0),\n",
       " ('2020.09.27.00', 5212.0, 833.0, '4326', 53.0, 23611.0, 401.0),\n",
       " ('2020.09.26.00', 5178.0, 809.0, '4316', 53.0, 23516.0, 399.0),\n",
       " ('2020.09.25.00', 5152.0, 872.0, '4228', 52.0, 23455.0, 395.0),\n",
       " ('2020.09.24.00', 5095.0, 872.0, '4173', 50.0, 23341.0, 393.0),\n",
       " ('2020.09.23.00', 5056.0, 897.0, '4110', 49.0, 23216.0, 388.0),\n",
       " ('2020.09.22.00', 5016.0, 933.0, '4034', 49.0, 23106.0, 388.0),\n",
       " ('2020.09.21.00', 4995.0, 962.0, '3985', 48.0, 23045.0, 385.0),\n",
       " ('2020.09.20.00', 4972.0, 964.0, '3961', 47.0, 22975.0, 383.0),\n",
       " ('2020.09.19.00', 4944.0, 1010.0, '3888', 46.0, 22893.0, 378.0),\n",
       " ('2020.09.18.00', 4904.0, 1017.0, '3841', 46.0, 22783.0, 377.0),\n",
       " ('2020.09.17.00', 4857.0, 1066.0, '3748', 43.0, 22657.0, 372.0),\n",
       " ('2020.09.16.00', 4794.0, 1058.0, '3694', 42.0, 22504.0, 367.0),\n",
       " ('2020.09.15.00', 4743.0, 1208.0, '3493', 42.0, 22391.0, 367.0),\n",
       " ('2020.09.14.00', 4711.0, 1395.0, '3276', 40.0, 22285.0, 363.0),\n",
       " ('2020.09.13.00', 4670.0, 1520.0, '3112', 38.0, 22176.0, 358.0),\n",
       " ('2020.09.12.00', 4639.0, 1533.0, '3071', 35.0, 22055.0, 355.0),\n",
       " ('2020.09.11.00', 4589.0, 1718.0, '2837', 34.0, 21919.0, 350.0),\n",
       " ('2020.09.10.00', 4526.0, 1732.0, '2762', 32.0, 21743.0, 346.0),\n",
       " ('2020.09.09.00', 4478.0, 1803.0, '2643', 32.0, 21588.0, 344.0),\n",
       " ('2020.09.08.00', 4429.0, 1960.0, '2437', 32.0, 21432.0, 341.0),\n",
       " ('2020.09.07.00', 4362.0, 2068.0, '2266', 28.0, 21296.0, 336.0),\n",
       " ('2020.09.06.00', 4314.0, 2063.0, '2225', 26.0, 21177.0, 334.0),\n",
       " ('2020.09.05.00', 4251.0, 2006.0, '2220', 25.0, 21010.0, 333.0),\n",
       " ('2020.09.04.00', 4201.0, 2001.0, '2176', 24.0, 20842.0, 331.0),\n",
       " ('2020.09.03.00', 4131.0, 1996.0, '2111', 24.0, 20644.0, 329.0),\n",
       " ('2020.09.02.00', 4062.0, 1990.0, '2048', 24.0, 20449.0, 326.0),\n",
       " ('2020.09.01.00', 3961.0, 1937.0, '2001', 23.0, 20182.0, 324.0),\n",
       " ('2020.08.31.00', 3867.0, 1945.0, '1899', 23.0, 19947.0, 324.0),\n",
       " ('2020.08.30.00', 3773.0, 1863.0, '1888', 22.0, 19699.0, 323.0),\n",
       " ('2020.08.29.00', 3657.0, 1750.0, '1887', 20.0, 19400.0, 321.0),\n",
       " ('2020.08.28.00', 3532.0, 1751.0, '1762', 19.0, 19077.0, 316.0),\n",
       " ('2020.08.27.00', 3386.0, 1636.0, '1733', 17.0, 18706.0, 313.0),\n",
       " ('2020.08.26.00', 3232.0, 1516.0, '1699', 17.0, 18265.0, 312.0),\n",
       " ('2020.08.25.00', 3120.0, 1433.0, '1671', 16.0, 17945.0, 310.0),\n",
       " ('2020.08.24.00', 2986.0, 1331.0, '1639', 16.0, 17665.0, 309.0),\n",
       " ('2020.08.23.00', 2889.0, 1234.0, '1639', 16.0, 17399.0, 309.0),\n",
       " ('2020.08.22.00', 2749.0, 1094.0, '1639', 16.0, 17002.0, 309.0),\n",
       " ('2020.08.21.00', 2621.0, 983.0, '1622', 16.0, 16670.0, 309.0),\n",
       " ('2020.08.20.00', 2495.0, 879.0, '1601', 15.0, 16346.0, 307.0),\n",
       " ('2020.08.19.00', 2360.0, 758.0, '1588', 14.0, 16058.0, 306.0),\n",
       " ('2020.08.18.00', 2209.0, 622.0, '1573', 14.0, 15761.0, 306.0),\n",
       " ('2020.08.17.00', 2077.0, 493.0, '1571', 13.0, 15515.0, 305.0),\n",
       " ('2020.08.16.00', 1987.0, 403.0, '1571', 13.0, 15318.0, 305.0),\n",
       " ('2020.08.15.00', 1841.0, 257.0, '1571', 13.0, 15039.0, 305.0),\n",
       " ('2020.08.14.00', 1767.0, 190.0, '1564', 13.0, 14873.0, 305.0),\n",
       " ('2020.08.13.00', 1735.0, 166.0, '1556', 13.0, 14770.0, 305.0),\n",
       " ('2020.08.12.00', 1709.0, 147.0, '1549', 13.0, 14714.0, 305.0),\n",
       " ('2020.08.11.00', 1694.0, 147.0, '1534', 13.0, 14660.0, 305.0),\n",
       " ('2020.08.10.00', 1688.0, 159.0, '1516', 13.0, 14626.0, 305.0),\n",
       " ('2020.08.09.00', 1675.0, 147.0, '1515', 13.0, 14598.0, 305.0),\n",
       " ('2020.08.08.00', 1662.0, 135.0, '1514', 13.0, 14562.0, 304.0),\n",
       " ('2020.08.07.00', 1645.0, 130.0, '1502', 13.0, 14519.0, 303.0),\n",
       " ('2020.08.06.00', 1636.0, 136.0, '1488', 12.0, 14499.0, 302.0),\n",
       " ('2020.08.05.00', 1627.0, 140.0, '1475', 12.0, 14456.0, 302.0),\n",
       " ('2020.08.04.00', 1621.0, 147.0, '1463', 11.0, 14423.0, 301.0),\n",
       " ('2020.08.03.00', 1612.0, 152.0, '1449', 11.0, 14389.0, 301.0),\n",
       " ('2020.08.02.00', 1607.0, 154.0, '1442', 11.0, 14366.0, 301.0),\n",
       " ('2020.08.01.00', 1602.0, 157.0, '1434', 11.0, 14336.0, 301.0),\n",
       " ('2020.07.31.00', 1600.0, 165.0, '1424', 11.0, 14305.0, 301.0),\n",
       " ('2020.07.30.00', 1592.0, 164.0, '1417', 11.0, 14269.0, 300.0),\n",
       " ('2020.07.29.00', 1589.0, 168.0, '1410', 11.0, 14251.0, 300.0),\n",
       " ('2020.07.28.00', 1580.0, 169.0, '1400', 11.0, 14203.0, 300.0),\n",
       " ('2020.07.27.00', 1574.0, 179.0, '1384', 11.0, 14175.0, 299.0),\n",
       " ('2020.07.26.00', 1565.0, 171.0, '1383', 11.0, 14150.0, 298.0),\n",
       " ('2020.07.25.00', 1558.0, 166.0, '1381', 11.0, 14092.0, 298.0),\n",
       " ('2020.07.24.00', 1547.0, 168.0, '1368', 11.0, 13979.0, 298.0),\n",
       " ('2020.07.23.00', 1526.0, 154.0, '1361', 11.0, 13938.0, 297.0),\n",
       " ('2020.07.22.00', 1514.0, 157.0, '1346', 11.0, 13879.0, 297.0),\n",
       " ('2020.07.21.00', 1498.0, 148.0, '1340', 10.0, 13816.0, 296.0),\n",
       " ('2020.07.20.00', 1477.0, 145.0, '1322', 10.0, 13771.0, 296.0),\n",
       " ('2020.07.19.00', 1474.0, 144.0, '1320', 10.0, 13745.0, 295.0),\n",
       " ('2020.07.18.00', 1464.0, 137.0, '1318', 9.0, 13711.0, 294.0),\n",
       " ('2020.07.17.00', 1458.0, 149.0, '1300', 9.0, 13672.0, 293.0),\n",
       " ('2020.07.16.00', 1449.0, 154.0, '1286', 9.0, 13612.0, 291.0),\n",
       " ('2020.07.15.00', 1442.0, 158.0, '1275', 9.0, 13551.0, 289.0),\n",
       " ('2020.07.14.00', 1436.0, 183.0, '1244', 9.0, 13512.0, 289.0),\n",
       " ('2020.07.13.00', 1429.0, 203.0, '1217', 9.0, 13479.0, 289.0),\n",
       " ('2020.07.12.00', 1416.0, 198.0, '1209', 9.0, 13417.0, 288.0),\n",
       " ('2020.07.11.00', 1409.0, 202.0, '1198', 9.0, 13373.0, 288.0),\n",
       " ('2020.07.10.00', 1401.0, 210.0, '1182', 9.0, 13338.0, 288.0),\n",
       " ('2020.07.09.00', 1393.0, 213.0, '1171', 9.0, 13293.0, 287.0),\n",
       " ('2020.07.08.00', 1385.0, 216.0, '1160', 9.0, 13244.0, 285.0),\n",
       " ('2020.07.07.00', 1375.0, 223.0, '1144', 8.0, 13181.0, 285.0),\n",
       " ('2020.07.06.00', 1372.0, 254.0, '1110', 8.0, 13127.0, 284.0),\n",
       " ('2020.07.05.00', 1369.0, 256.0, '1105', 8.0, 13091.0, 283.0),\n",
       " ('2020.07.04.00', 1353.0, 242.0, '1103', 8.0, 13030.0, 283.0),\n",
       " ('2020.07.03.00', 1346.0, 254.0, '1085', 7.0, 12967.0, 282.0),\n",
       " ('2020.07.02.00', 1334.0, 273.0, '1054', 7.0, 12904.0, 282.0),\n",
       " ('2020.07.01.00', 1321.0, 288.0, '1026', 7.0, 12850.0, 282.0),\n",
       " ('2020.06.30.00', 1312.0, 320.0, '985', 7.0, 12800.0, 282.0),\n",
       " ('2020.06.29.00', 1305.0, 356.0, '942', 7.0, 12757.0, 282.0),\n",
       " ('2020.06.28.00', 1298.0, 368.0, '923', 7.0, 12715.0, 282.0),\n",
       " ('2020.06.27.00', 1284.0, 366.0, '911', 7.0, 12653.0, 282.0),\n",
       " ('2020.06.26.00', 1267.0, 417.0, '843', 7.0, 12602.0, 282.0),\n",
       " ('2020.06.25.00', 1250.0, 482.0, '761', 7.0, 12563.0, 282.0),\n",
       " ('2020.06.24.00', 1241.0, 488.0, '747', 6.0, 12535.0, 281.0),\n",
       " ('2020.06.23.00', 1230.0, 481.0, '743', 6.0, 12484.0, 281.0),\n",
       " ('2020.06.22.00', 1224.0, 485.0, '733', 6.0, 12438.0, 280.0),\n",
       " ('2020.06.21.00', 1219.0, 480.0, '733', 6.0, 12421.0, 280.0),\n",
       " ('2020.06.20.00', 1202.0, 466.0, '730', 6.0, 12373.0, 280.0),\n",
       " ('2020.06.19.00', 1188.0, 458.0, '724', 6.0, 12306.0, 280.0),\n",
       " ('2020.06.18.00', 1170.0, 446.0, '718', 6.0, 12257.0, 280.0),\n",
       " ('2020.06.17.00', 1145.0, 430.0, '710', 5.0, 12198.0, 279.0),\n",
       " ('2020.06.16.00', 1132.0, 425.0, '703', 4.0, 12155.0, 278.0),\n",
       " ('2020.06.15.00', 1120.0, 427.0, '689', 4.0, 12121.0, 277.0),\n",
       " ('2020.06.14.00', 1113.0, 420.0, '689', 4.0, 12085.0, 277.0))"
      ]
     },
     "execution_count": 105,
     "metadata": {},
     "output_type": "execute_result"
    }
   ],
   "source": [
    "conn= mu.connect_mysql('icia') #mysql\n",
    "query5 = 'select * from Corona19CountStatus'\n",
    "mu.mysql_execute(query5,conn)"
   ]
  },
  {
   "cell_type": "code",
   "execution_count": null,
   "id": "cb219ef8",
   "metadata": {},
   "outputs": [],
   "source": []
  },
  {
   "cell_type": "code",
   "execution_count": 115,
   "id": "56f70222",
   "metadata": {},
   "outputs": [
    {
     "data": {
      "text/plain": [
       "int"
      ]
     },
     "execution_count": 115,
     "metadata": {},
     "output_type": "execute_result"
    }
   ],
   "source": [
    "type(len(my_df.keys()))"
   ]
  },
  {
   "cell_type": "code",
   "execution_count": 110,
   "id": "5a9a917b",
   "metadata": {},
   "outputs": [
    {
     "data": {
      "text/html": [
       "<div>\n",
       "<style scoped>\n",
       "    .dataframe tbody tr th:only-of-type {\n",
       "        vertical-align: middle;\n",
       "    }\n",
       "\n",
       "    .dataframe tbody tr th {\n",
       "        vertical-align: top;\n",
       "    }\n",
       "\n",
       "    .dataframe thead th {\n",
       "        text-align: right;\n",
       "    }\n",
       "</style>\n",
       "<table border=\"1\" class=\"dataframe\">\n",
       "  <thead>\n",
       "    <tr style=\"text-align: right;\">\n",
       "      <th></th>\n",
       "      <th>서울시기준일</th>\n",
       "      <th>서울시확진자</th>\n",
       "      <th>서울시치료중</th>\n",
       "      <th>서울시퇴원</th>\n",
       "      <th>서울시사망</th>\n",
       "      <th>전국확진</th>\n",
       "      <th>전국사망</th>\n",
       "    </tr>\n",
       "  </thead>\n",
       "  <tbody>\n",
       "    <tr>\n",
       "      <th>0</th>\n",
       "      <td>2023.03.10.00</td>\n",
       "      <td>5944743.0</td>\n",
       "      <td>0.0</td>\n",
       "      <td></td>\n",
       "      <td>6359.0</td>\n",
       "      <td>30615522.0</td>\n",
       "      <td>34093.0</td>\n",
       "    </tr>\n",
       "    <tr>\n",
       "      <th>1</th>\n",
       "      <td>2023.03.09.00</td>\n",
       "      <td>5942573.0</td>\n",
       "      <td>0.0</td>\n",
       "      <td></td>\n",
       "      <td>6358.0</td>\n",
       "      <td>30605187.0</td>\n",
       "      <td>34081.0</td>\n",
       "    </tr>\n",
       "    <tr>\n",
       "      <th>2</th>\n",
       "      <td>2023.03.08.00</td>\n",
       "      <td>5940442.0</td>\n",
       "      <td>0.0</td>\n",
       "      <td></td>\n",
       "      <td>6358.0</td>\n",
       "      <td>30594297.0</td>\n",
       "      <td>34061.0</td>\n",
       "    </tr>\n",
       "    <tr>\n",
       "      <th>3</th>\n",
       "      <td>2023.03.07.00</td>\n",
       "      <td>5937995.0</td>\n",
       "      <td>0.0</td>\n",
       "      <td></td>\n",
       "      <td>6358.0</td>\n",
       "      <td>30581499.0</td>\n",
       "      <td>34049.0</td>\n",
       "    </tr>\n",
       "    <tr>\n",
       "      <th>4</th>\n",
       "      <td>2023.03.06.00</td>\n",
       "      <td>5935247.0</td>\n",
       "      <td>0.0</td>\n",
       "      <td></td>\n",
       "      <td>6355.0</td>\n",
       "      <td>30569215.0</td>\n",
       "      <td>34034.0</td>\n",
       "    </tr>\n",
       "    <tr>\n",
       "      <th>...</th>\n",
       "      <td>...</td>\n",
       "      <td>...</td>\n",
       "      <td>...</td>\n",
       "      <td>...</td>\n",
       "      <td>...</td>\n",
       "      <td>...</td>\n",
       "      <td>...</td>\n",
       "    </tr>\n",
       "    <tr>\n",
       "      <th>995</th>\n",
       "      <td>2020.06.18.00</td>\n",
       "      <td>1170.0</td>\n",
       "      <td>446.0</td>\n",
       "      <td>718</td>\n",
       "      <td>6.0</td>\n",
       "      <td>12257.0</td>\n",
       "      <td>280.0</td>\n",
       "    </tr>\n",
       "    <tr>\n",
       "      <th>996</th>\n",
       "      <td>2020.06.17.00</td>\n",
       "      <td>1145.0</td>\n",
       "      <td>430.0</td>\n",
       "      <td>710</td>\n",
       "      <td>5.0</td>\n",
       "      <td>12198.0</td>\n",
       "      <td>279.0</td>\n",
       "    </tr>\n",
       "    <tr>\n",
       "      <th>997</th>\n",
       "      <td>2020.06.16.00</td>\n",
       "      <td>1132.0</td>\n",
       "      <td>425.0</td>\n",
       "      <td>703</td>\n",
       "      <td>4.0</td>\n",
       "      <td>12155.0</td>\n",
       "      <td>278.0</td>\n",
       "    </tr>\n",
       "    <tr>\n",
       "      <th>998</th>\n",
       "      <td>2020.06.15.00</td>\n",
       "      <td>1120.0</td>\n",
       "      <td>427.0</td>\n",
       "      <td>689</td>\n",
       "      <td>4.0</td>\n",
       "      <td>12121.0</td>\n",
       "      <td>277.0</td>\n",
       "    </tr>\n",
       "    <tr>\n",
       "      <th>999</th>\n",
       "      <td>2020.06.14.00</td>\n",
       "      <td>1113.0</td>\n",
       "      <td>420.0</td>\n",
       "      <td>689</td>\n",
       "      <td>4.0</td>\n",
       "      <td>12085.0</td>\n",
       "      <td>277.0</td>\n",
       "    </tr>\n",
       "  </tbody>\n",
       "</table>\n",
       "<p>1000 rows × 7 columns</p>\n",
       "</div>"
      ],
      "text/plain": [
       "            서울시기준일     서울시확진자  서울시치료중 서울시퇴원   서울시사망        전국확진     전국사망\n",
       "0    2023.03.10.00  5944743.0     0.0        6359.0  30615522.0  34093.0\n",
       "1    2023.03.09.00  5942573.0     0.0        6358.0  30605187.0  34081.0\n",
       "2    2023.03.08.00  5940442.0     0.0        6358.0  30594297.0  34061.0\n",
       "3    2023.03.07.00  5937995.0     0.0        6358.0  30581499.0  34049.0\n",
       "4    2023.03.06.00  5935247.0     0.0        6355.0  30569215.0  34034.0\n",
       "..             ...        ...     ...   ...     ...         ...      ...\n",
       "995  2020.06.18.00     1170.0   446.0   718     6.0     12257.0    280.0\n",
       "996  2020.06.17.00     1145.0   430.0   710     5.0     12198.0    279.0\n",
       "997  2020.06.16.00     1132.0   425.0   703     4.0     12155.0    278.0\n",
       "998  2020.06.15.00     1120.0   427.0   689     4.0     12121.0    277.0\n",
       "999  2020.06.14.00     1113.0   420.0   689     4.0     12085.0    277.0\n",
       "\n",
       "[1000 rows x 7 columns]"
      ]
     },
     "execution_count": 110,
     "metadata": {},
     "output_type": "execute_result"
    }
   ],
   "source": [
    "my_df"
   ]
  },
  {
   "cell_type": "code",
   "execution_count": null,
   "id": "210d7a30",
   "metadata": {},
   "outputs": [],
   "source": []
  },
  {
   "cell_type": "code",
   "execution_count": null,
   "id": "df73e3f9",
   "metadata": {},
   "outputs": [],
   "source": []
  },
  {
   "cell_type": "code",
   "execution_count": null,
   "id": "128865c0",
   "metadata": {},
   "outputs": [],
   "source": []
  }
 ],
 "metadata": {
  "kernelspec": {
   "display_name": "Python 3 (ipykernel)",
   "language": "python",
   "name": "python3"
  },
  "language_info": {
   "codemirror_mode": {
    "name": "ipython",
    "version": 3
   },
   "file_extension": ".py",
   "mimetype": "text/x-python",
   "name": "python",
   "nbconvert_exporter": "python",
   "pygments_lexer": "ipython3",
   "version": "3.9.7"
  }
 },
 "nbformat": 4,
 "nbformat_minor": 5
}
