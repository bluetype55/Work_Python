{
 "cells": [
  {
   "cell_type": "code",
   "execution_count": 1,
   "id": "f3f56907",
   "metadata": {},
   "outputs": [
    {
     "name": "stderr",
     "output_type": "stream",
     "text": [
      "C:\\Users\\user\\AppData\\Local\\Temp\\ipykernel_2648\\3501253536.py:9: DeprecationWarning: the imp module is deprecated in favour of importlib; see the module's documentation for alternative uses\n",
      "  import imp\n"
     ]
    }
   ],
   "source": [
    "import requests\n",
    "from tqdm import tqdm\n",
    "import pandas as pd\n",
    "import numpy as np\n",
    "import time\n",
    "import my_utils as mu\n",
    "import math\n",
    "import random\n",
    "import imp\n",
    "import matplotlib.pyplot as plt\n",
    "import seaborn as sns\n",
    "import plotly\n",
    "import plotly.graph_objs as go\n",
    "import plotly.express as px\n",
    "imp.reload(mu)\n",
    "tqdm.pandas()"
   ]
  },
  {
   "cell_type": "code",
   "execution_count": 2,
   "id": "e3f88565",
   "metadata": {},
   "outputs": [
    {
     "name": "stdout",
     "output_type": "stream",
     "text": [
      "원시 데이터 생성중\n"
     ]
    },
    {
     "name": "stderr",
     "output_type": "stream",
     "text": [
      "100%|██████████████████████████████████████████████████████████████████████████████████| 20/20 [02:57<00:00,  8.85s/it]\n"
     ]
    }
   ],
   "source": [
    "raw_data = mu.get_rawdata('DIAMOND')"
   ]
  },
  {
   "cell_type": "code",
   "execution_count": 49,
   "id": "3f42c5b0",
   "metadata": {},
   "outputs": [
    {
     "data": {
      "text/html": [
       "<div>\n",
       "<style scoped>\n",
       "    .dataframe tbody tr th:only-of-type {\n",
       "        vertical-align: middle;\n",
       "    }\n",
       "\n",
       "    .dataframe tbody tr th {\n",
       "        vertical-align: top;\n",
       "    }\n",
       "\n",
       "    .dataframe thead th {\n",
       "        text-align: right;\n",
       "    }\n",
       "</style>\n",
       "<table border=\"1\" class=\"dataframe\">\n",
       "  <thead>\n",
       "    <tr style=\"text-align: right;\">\n",
       "      <th></th>\n",
       "      <th>match_id</th>\n",
       "      <th>matches</th>\n",
       "      <th>timeline</th>\n",
       "    </tr>\n",
       "  </thead>\n",
       "  <tbody>\n",
       "    <tr>\n",
       "      <th>0</th>\n",
       "      <td>KR_6394945963</td>\n",
       "      <td>{'metadata': {'dataVersion': '2', 'matchId': '...</td>\n",
       "      <td>{'metadata': {'dataVersion': '2', 'matchId': '...</td>\n",
       "    </tr>\n",
       "    <tr>\n",
       "      <th>1</th>\n",
       "      <td>KR_6284228449</td>\n",
       "      <td>{'metadata': {'dataVersion': '2', 'matchId': '...</td>\n",
       "      <td>{'metadata': {'dataVersion': '2', 'matchId': '...</td>\n",
       "    </tr>\n",
       "    <tr>\n",
       "      <th>2</th>\n",
       "      <td>KR_6364482886</td>\n",
       "      <td>{'metadata': {'dataVersion': '2', 'matchId': '...</td>\n",
       "      <td>{'metadata': {'dataVersion': '2', 'matchId': '...</td>\n",
       "    </tr>\n",
       "    <tr>\n",
       "      <th>3</th>\n",
       "      <td>KR_6344203666</td>\n",
       "      <td>{'metadata': {'dataVersion': '2', 'matchId': '...</td>\n",
       "      <td>{'metadata': {'dataVersion': '2', 'matchId': '...</td>\n",
       "    </tr>\n",
       "    <tr>\n",
       "      <th>4</th>\n",
       "      <td>KR_6335330178</td>\n",
       "      <td>{'metadata': {'dataVersion': '2', 'matchId': '...</td>\n",
       "      <td>{'metadata': {'dataVersion': '2', 'matchId': '...</td>\n",
       "    </tr>\n",
       "    <tr>\n",
       "      <th>5</th>\n",
       "      <td>KR_6356901982</td>\n",
       "      <td>{'metadata': {'dataVersion': '2', 'matchId': '...</td>\n",
       "      <td>{'metadata': {'dataVersion': '2', 'matchId': '...</td>\n",
       "    </tr>\n",
       "    <tr>\n",
       "      <th>6</th>\n",
       "      <td>KR_6385194868</td>\n",
       "      <td>{'metadata': {'dataVersion': '2', 'matchId': '...</td>\n",
       "      <td>{'metadata': {'dataVersion': '2', 'matchId': '...</td>\n",
       "    </tr>\n",
       "    <tr>\n",
       "      <th>7</th>\n",
       "      <td>KR_6397889410</td>\n",
       "      <td>{'metadata': {'dataVersion': '2', 'matchId': '...</td>\n",
       "      <td>{'metadata': {'dataVersion': '2', 'matchId': '...</td>\n",
       "    </tr>\n",
       "    <tr>\n",
       "      <th>8</th>\n",
       "      <td>KR_6415667557</td>\n",
       "      <td>{'metadata': {'dataVersion': '2', 'matchId': '...</td>\n",
       "      <td>{'metadata': {'dataVersion': '2', 'matchId': '...</td>\n",
       "    </tr>\n",
       "    <tr>\n",
       "      <th>9</th>\n",
       "      <td>KR_6406275214</td>\n",
       "      <td>{'metadata': {'dataVersion': '2', 'matchId': '...</td>\n",
       "      <td>{'metadata': {'dataVersion': '2', 'matchId': '...</td>\n",
       "    </tr>\n",
       "    <tr>\n",
       "      <th>10</th>\n",
       "      <td>KR_6408487678</td>\n",
       "      <td>{'metadata': {'dataVersion': '2', 'matchId': '...</td>\n",
       "      <td>{'metadata': {'dataVersion': '2', 'matchId': '...</td>\n",
       "    </tr>\n",
       "    <tr>\n",
       "      <th>11</th>\n",
       "      <td>KR_6406546293</td>\n",
       "      <td>{'metadata': {'dataVersion': '2', 'matchId': '...</td>\n",
       "      <td>{'metadata': {'dataVersion': '2', 'matchId': '...</td>\n",
       "    </tr>\n",
       "    <tr>\n",
       "      <th>12</th>\n",
       "      <td>KR_6407063157</td>\n",
       "      <td>{'metadata': {'dataVersion': '2', 'matchId': '...</td>\n",
       "      <td>{'metadata': {'dataVersion': '2', 'matchId': '...</td>\n",
       "    </tr>\n",
       "    <tr>\n",
       "      <th>13</th>\n",
       "      <td>KR_6408679595</td>\n",
       "      <td>{'metadata': {'dataVersion': '2', 'matchId': '...</td>\n",
       "      <td>{'metadata': {'dataVersion': '2', 'matchId': '...</td>\n",
       "    </tr>\n",
       "    <tr>\n",
       "      <th>14</th>\n",
       "      <td>KR_6408722300</td>\n",
       "      <td>{'metadata': {'dataVersion': '2', 'matchId': '...</td>\n",
       "      <td>{'metadata': {'dataVersion': '2', 'matchId': '...</td>\n",
       "    </tr>\n",
       "    <tr>\n",
       "      <th>15</th>\n",
       "      <td>KR_6370838966</td>\n",
       "      <td>{'metadata': {'dataVersion': '2', 'matchId': '...</td>\n",
       "      <td>{'metadata': {'dataVersion': '2', 'matchId': '...</td>\n",
       "    </tr>\n",
       "    <tr>\n",
       "      <th>16</th>\n",
       "      <td>KR_6307457856</td>\n",
       "      <td>{'metadata': {'dataVersion': '2', 'matchId': '...</td>\n",
       "      <td>{'metadata': {'dataVersion': '2', 'matchId': '...</td>\n",
       "    </tr>\n",
       "    <tr>\n",
       "      <th>17</th>\n",
       "      <td>KR_6338014859</td>\n",
       "      <td>{'metadata': {'dataVersion': '2', 'matchId': '...</td>\n",
       "      <td>{'metadata': {'dataVersion': '2', 'matchId': '...</td>\n",
       "    </tr>\n",
       "    <tr>\n",
       "      <th>18</th>\n",
       "      <td>KR_6371525608</td>\n",
       "      <td>{'metadata': {'dataVersion': '2', 'matchId': '...</td>\n",
       "      <td>{'metadata': {'dataVersion': '2', 'matchId': '...</td>\n",
       "    </tr>\n",
       "    <tr>\n",
       "      <th>19</th>\n",
       "      <td>KR_6351801239</td>\n",
       "      <td>{'metadata': {'dataVersion': '2', 'matchId': '...</td>\n",
       "      <td>{'metadata': {'dataVersion': '2', 'matchId': '...</td>\n",
       "    </tr>\n",
       "    <tr>\n",
       "      <th>20</th>\n",
       "      <td>KR_6403390949</td>\n",
       "      <td>{'metadata': {'dataVersion': '2', 'matchId': '...</td>\n",
       "      <td>{'metadata': {'dataVersion': '2', 'matchId': '...</td>\n",
       "    </tr>\n",
       "    <tr>\n",
       "      <th>21</th>\n",
       "      <td>KR_6414474402</td>\n",
       "      <td>{'metadata': {'dataVersion': '2', 'matchId': '...</td>\n",
       "      <td>{'metadata': {'dataVersion': '2', 'matchId': '...</td>\n",
       "    </tr>\n",
       "    <tr>\n",
       "      <th>22</th>\n",
       "      <td>KR_6394576094</td>\n",
       "      <td>{'metadata': {'dataVersion': '2', 'matchId': '...</td>\n",
       "      <td>{'metadata': {'dataVersion': '2', 'matchId': '...</td>\n",
       "    </tr>\n",
       "    <tr>\n",
       "      <th>23</th>\n",
       "      <td>KR_6394488877</td>\n",
       "      <td>{'metadata': {'dataVersion': '2', 'matchId': '...</td>\n",
       "      <td>{'metadata': {'dataVersion': '2', 'matchId': '...</td>\n",
       "    </tr>\n",
       "    <tr>\n",
       "      <th>24</th>\n",
       "      <td>KR_6323261359</td>\n",
       "      <td>{'metadata': {'dataVersion': '2', 'matchId': '...</td>\n",
       "      <td>{'metadata': {'dataVersion': '2', 'matchId': '...</td>\n",
       "    </tr>\n",
       "    <tr>\n",
       "      <th>25</th>\n",
       "      <td>KR_6056825560</td>\n",
       "      <td>{'metadata': {'dataVersion': '2', 'matchId': '...</td>\n",
       "      <td>{'metadata': {'dataVersion': '2', 'matchId': '...</td>\n",
       "    </tr>\n",
       "    <tr>\n",
       "      <th>26</th>\n",
       "      <td>KR_6084186876</td>\n",
       "      <td>{'metadata': {'dataVersion': '2', 'matchId': '...</td>\n",
       "      <td>{'metadata': {'dataVersion': '2', 'matchId': '...</td>\n",
       "    </tr>\n",
       "    <tr>\n",
       "      <th>27</th>\n",
       "      <td>KR_6397379540</td>\n",
       "      <td>{'metadata': {'dataVersion': '2', 'matchId': '...</td>\n",
       "      <td>{'metadata': {'dataVersion': '2', 'matchId': '...</td>\n",
       "    </tr>\n",
       "    <tr>\n",
       "      <th>28</th>\n",
       "      <td>KR_6408045702</td>\n",
       "      <td>{'metadata': {'dataVersion': '2', 'matchId': '...</td>\n",
       "      <td>{'metadata': {'dataVersion': '2', 'matchId': '...</td>\n",
       "    </tr>\n",
       "    <tr>\n",
       "      <th>29</th>\n",
       "      <td>KR_6400890274</td>\n",
       "      <td>{'metadata': {'dataVersion': '2', 'matchId': '...</td>\n",
       "      <td>{'metadata': {'dataVersion': '2', 'matchId': '...</td>\n",
       "    </tr>\n",
       "    <tr>\n",
       "      <th>30</th>\n",
       "      <td>KR_6393003749</td>\n",
       "      <td>{'metadata': {'dataVersion': '2', 'matchId': '...</td>\n",
       "      <td>{'metadata': {'dataVersion': '2', 'matchId': '...</td>\n",
       "    </tr>\n",
       "    <tr>\n",
       "      <th>31</th>\n",
       "      <td>KR_6395340768</td>\n",
       "      <td>{'metadata': {'dataVersion': '2', 'matchId': '...</td>\n",
       "      <td>{'metadata': {'dataVersion': '2', 'matchId': '...</td>\n",
       "    </tr>\n",
       "    <tr>\n",
       "      <th>32</th>\n",
       "      <td>KR_6376495635</td>\n",
       "      <td>{'metadata': {'dataVersion': '2', 'matchId': '...</td>\n",
       "      <td>{'metadata': {'dataVersion': '2', 'matchId': '...</td>\n",
       "    </tr>\n",
       "    <tr>\n",
       "      <th>33</th>\n",
       "      <td>KR_6407621750</td>\n",
       "      <td>{'metadata': {'dataVersion': '2', 'matchId': '...</td>\n",
       "      <td>{'metadata': {'dataVersion': '2', 'matchId': '...</td>\n",
       "    </tr>\n",
       "    <tr>\n",
       "      <th>34</th>\n",
       "      <td>KR_6412034824</td>\n",
       "      <td>{'metadata': {'dataVersion': '2', 'matchId': '...</td>\n",
       "      <td>{'metadata': {'dataVersion': '2', 'matchId': '...</td>\n",
       "    </tr>\n",
       "    <tr>\n",
       "      <th>35</th>\n",
       "      <td>KR_6415854587</td>\n",
       "      <td>{'metadata': {'dataVersion': '2', 'matchId': '...</td>\n",
       "      <td>{'metadata': {'dataVersion': '2', 'matchId': '...</td>\n",
       "    </tr>\n",
       "    <tr>\n",
       "      <th>36</th>\n",
       "      <td>KR_5815431367</td>\n",
       "      <td>{'metadata': {'dataVersion': '2', 'matchId': '...</td>\n",
       "      <td>{'metadata': {'dataVersion': '2', 'matchId': '...</td>\n",
       "    </tr>\n",
       "    <tr>\n",
       "      <th>37</th>\n",
       "      <td>KR_6376645409</td>\n",
       "      <td>{'metadata': {'dataVersion': '2', 'matchId': '...</td>\n",
       "      <td>{'metadata': {'dataVersion': '2', 'matchId': '...</td>\n",
       "    </tr>\n",
       "    <tr>\n",
       "      <th>38</th>\n",
       "      <td>KR_5813760870</td>\n",
       "      <td>{'metadata': {'dataVersion': '2', 'matchId': '...</td>\n",
       "      <td>{'metadata': {'dataVersion': '2', 'matchId': '...</td>\n",
       "    </tr>\n",
       "    <tr>\n",
       "      <th>39</th>\n",
       "      <td>KR_6398900559</td>\n",
       "      <td>{'metadata': {'dataVersion': '2', 'matchId': '...</td>\n",
       "      <td>{'metadata': {'dataVersion': '2', 'matchId': '...</td>\n",
       "    </tr>\n",
       "    <tr>\n",
       "      <th>40</th>\n",
       "      <td>KR_6402527369</td>\n",
       "      <td>{'metadata': {'dataVersion': '2', 'matchId': '...</td>\n",
       "      <td>{'metadata': {'dataVersion': '2', 'matchId': '...</td>\n",
       "    </tr>\n",
       "    <tr>\n",
       "      <th>41</th>\n",
       "      <td>KR_6154886265</td>\n",
       "      <td>{'metadata': {'dataVersion': '2', 'matchId': '...</td>\n",
       "      <td>{'metadata': {'dataVersion': '2', 'matchId': '...</td>\n",
       "    </tr>\n",
       "    <tr>\n",
       "      <th>42</th>\n",
       "      <td>KR_6408115413</td>\n",
       "      <td>{'metadata': {'dataVersion': '2', 'matchId': '...</td>\n",
       "      <td>{'metadata': {'dataVersion': '2', 'matchId': '...</td>\n",
       "    </tr>\n",
       "    <tr>\n",
       "      <th>43</th>\n",
       "      <td>KR_6380392729</td>\n",
       "      <td>{'metadata': {'dataVersion': '2', 'matchId': '...</td>\n",
       "      <td>{'metadata': {'dataVersion': '2', 'matchId': '...</td>\n",
       "    </tr>\n",
       "    <tr>\n",
       "      <th>44</th>\n",
       "      <td>KR_6392004763</td>\n",
       "      <td>{'metadata': {'dataVersion': '2', 'matchId': '...</td>\n",
       "      <td>{'metadata': {'dataVersion': '2', 'matchId': '...</td>\n",
       "    </tr>\n",
       "    <tr>\n",
       "      <th>45</th>\n",
       "      <td>KR_6219035037</td>\n",
       "      <td>{'metadata': {'dataVersion': '2', 'matchId': '...</td>\n",
       "      <td>{'metadata': {'dataVersion': '2', 'matchId': '...</td>\n",
       "    </tr>\n",
       "    <tr>\n",
       "      <th>46</th>\n",
       "      <td>KR_6232904213</td>\n",
       "      <td>{'metadata': {'dataVersion': '2', 'matchId': '...</td>\n",
       "      <td>{'metadata': {'dataVersion': '2', 'matchId': '...</td>\n",
       "    </tr>\n",
       "    <tr>\n",
       "      <th>47</th>\n",
       "      <td>KR_6220693443</td>\n",
       "      <td>{'metadata': {'dataVersion': '2', 'matchId': '...</td>\n",
       "      <td>{'metadata': {'dataVersion': '2', 'matchId': '...</td>\n",
       "    </tr>\n",
       "    <tr>\n",
       "      <th>48</th>\n",
       "      <td>KR_6398445895</td>\n",
       "      <td>{'metadata': {'dataVersion': '2', 'matchId': '...</td>\n",
       "      <td>{'metadata': {'dataVersion': '2', 'matchId': '...</td>\n",
       "    </tr>\n",
       "    <tr>\n",
       "      <th>49</th>\n",
       "      <td>KR_6372593611</td>\n",
       "      <td>{'metadata': {'dataVersion': '2', 'matchId': '...</td>\n",
       "      <td>{'metadata': {'dataVersion': '2', 'matchId': '...</td>\n",
       "    </tr>\n",
       "    <tr>\n",
       "      <th>50</th>\n",
       "      <td>KR_6398413801</td>\n",
       "      <td>{'metadata': {'dataVersion': '2', 'matchId': '...</td>\n",
       "      <td>{'metadata': {'dataVersion': '2', 'matchId': '...</td>\n",
       "    </tr>\n",
       "    <tr>\n",
       "      <th>51</th>\n",
       "      <td>KR_6415042806</td>\n",
       "      <td>{'metadata': {'dataVersion': '2', 'matchId': '...</td>\n",
       "      <td>{'metadata': {'dataVersion': '2', 'matchId': '...</td>\n",
       "    </tr>\n",
       "    <tr>\n",
       "      <th>52</th>\n",
       "      <td>KR_6394537799</td>\n",
       "      <td>{'metadata': {'dataVersion': '2', 'matchId': '...</td>\n",
       "      <td>{'metadata': {'dataVersion': '2', 'matchId': '...</td>\n",
       "    </tr>\n",
       "    <tr>\n",
       "      <th>53</th>\n",
       "      <td>KR_6414863566</td>\n",
       "      <td>{'metadata': {'dataVersion': '2', 'matchId': '...</td>\n",
       "      <td>{'metadata': {'dataVersion': '2', 'matchId': '...</td>\n",
       "    </tr>\n",
       "    <tr>\n",
       "      <th>54</th>\n",
       "      <td>KR_6401761075</td>\n",
       "      <td>{'metadata': {'dataVersion': '2', 'matchId': '...</td>\n",
       "      <td>{'metadata': {'dataVersion': '2', 'matchId': '...</td>\n",
       "    </tr>\n",
       "    <tr>\n",
       "      <th>55</th>\n",
       "      <td>KR_6369825687</td>\n",
       "      <td>{'metadata': {'dataVersion': '2', 'matchId': '...</td>\n",
       "      <td>{'metadata': {'dataVersion': '2', 'matchId': '...</td>\n",
       "    </tr>\n",
       "    <tr>\n",
       "      <th>56</th>\n",
       "      <td>KR_6322415621</td>\n",
       "      <td>{'metadata': {'dataVersion': '2', 'matchId': '...</td>\n",
       "      <td>{'metadata': {'dataVersion': '2', 'matchId': '...</td>\n",
       "    </tr>\n",
       "    <tr>\n",
       "      <th>57</th>\n",
       "      <td>KR_6277801349</td>\n",
       "      <td>{'metadata': {'dataVersion': '2', 'matchId': '...</td>\n",
       "      <td>{'metadata': {'dataVersion': '2', 'matchId': '...</td>\n",
       "    </tr>\n",
       "    <tr>\n",
       "      <th>58</th>\n",
       "      <td>KR_6276943674</td>\n",
       "      <td>{'metadata': {'dataVersion': '2', 'matchId': '...</td>\n",
       "      <td>{'metadata': {'dataVersion': '2', 'matchId': '...</td>\n",
       "    </tr>\n",
       "    <tr>\n",
       "      <th>59</th>\n",
       "      <td>KR_6399063149</td>\n",
       "      <td>{'metadata': {'dataVersion': '2', 'matchId': '...</td>\n",
       "      <td>{'metadata': {'dataVersion': '2', 'matchId': '...</td>\n",
       "    </tr>\n",
       "  </tbody>\n",
       "</table>\n",
       "</div>"
      ],
      "text/plain": [
       "         match_id                                            matches  \\\n",
       "0   KR_6394945963  {'metadata': {'dataVersion': '2', 'matchId': '...   \n",
       "1   KR_6284228449  {'metadata': {'dataVersion': '2', 'matchId': '...   \n",
       "2   KR_6364482886  {'metadata': {'dataVersion': '2', 'matchId': '...   \n",
       "3   KR_6344203666  {'metadata': {'dataVersion': '2', 'matchId': '...   \n",
       "4   KR_6335330178  {'metadata': {'dataVersion': '2', 'matchId': '...   \n",
       "5   KR_6356901982  {'metadata': {'dataVersion': '2', 'matchId': '...   \n",
       "6   KR_6385194868  {'metadata': {'dataVersion': '2', 'matchId': '...   \n",
       "7   KR_6397889410  {'metadata': {'dataVersion': '2', 'matchId': '...   \n",
       "8   KR_6415667557  {'metadata': {'dataVersion': '2', 'matchId': '...   \n",
       "9   KR_6406275214  {'metadata': {'dataVersion': '2', 'matchId': '...   \n",
       "10  KR_6408487678  {'metadata': {'dataVersion': '2', 'matchId': '...   \n",
       "11  KR_6406546293  {'metadata': {'dataVersion': '2', 'matchId': '...   \n",
       "12  KR_6407063157  {'metadata': {'dataVersion': '2', 'matchId': '...   \n",
       "13  KR_6408679595  {'metadata': {'dataVersion': '2', 'matchId': '...   \n",
       "14  KR_6408722300  {'metadata': {'dataVersion': '2', 'matchId': '...   \n",
       "15  KR_6370838966  {'metadata': {'dataVersion': '2', 'matchId': '...   \n",
       "16  KR_6307457856  {'metadata': {'dataVersion': '2', 'matchId': '...   \n",
       "17  KR_6338014859  {'metadata': {'dataVersion': '2', 'matchId': '...   \n",
       "18  KR_6371525608  {'metadata': {'dataVersion': '2', 'matchId': '...   \n",
       "19  KR_6351801239  {'metadata': {'dataVersion': '2', 'matchId': '...   \n",
       "20  KR_6403390949  {'metadata': {'dataVersion': '2', 'matchId': '...   \n",
       "21  KR_6414474402  {'metadata': {'dataVersion': '2', 'matchId': '...   \n",
       "22  KR_6394576094  {'metadata': {'dataVersion': '2', 'matchId': '...   \n",
       "23  KR_6394488877  {'metadata': {'dataVersion': '2', 'matchId': '...   \n",
       "24  KR_6323261359  {'metadata': {'dataVersion': '2', 'matchId': '...   \n",
       "25  KR_6056825560  {'metadata': {'dataVersion': '2', 'matchId': '...   \n",
       "26  KR_6084186876  {'metadata': {'dataVersion': '2', 'matchId': '...   \n",
       "27  KR_6397379540  {'metadata': {'dataVersion': '2', 'matchId': '...   \n",
       "28  KR_6408045702  {'metadata': {'dataVersion': '2', 'matchId': '...   \n",
       "29  KR_6400890274  {'metadata': {'dataVersion': '2', 'matchId': '...   \n",
       "30  KR_6393003749  {'metadata': {'dataVersion': '2', 'matchId': '...   \n",
       "31  KR_6395340768  {'metadata': {'dataVersion': '2', 'matchId': '...   \n",
       "32  KR_6376495635  {'metadata': {'dataVersion': '2', 'matchId': '...   \n",
       "33  KR_6407621750  {'metadata': {'dataVersion': '2', 'matchId': '...   \n",
       "34  KR_6412034824  {'metadata': {'dataVersion': '2', 'matchId': '...   \n",
       "35  KR_6415854587  {'metadata': {'dataVersion': '2', 'matchId': '...   \n",
       "36  KR_5815431367  {'metadata': {'dataVersion': '2', 'matchId': '...   \n",
       "37  KR_6376645409  {'metadata': {'dataVersion': '2', 'matchId': '...   \n",
       "38  KR_5813760870  {'metadata': {'dataVersion': '2', 'matchId': '...   \n",
       "39  KR_6398900559  {'metadata': {'dataVersion': '2', 'matchId': '...   \n",
       "40  KR_6402527369  {'metadata': {'dataVersion': '2', 'matchId': '...   \n",
       "41  KR_6154886265  {'metadata': {'dataVersion': '2', 'matchId': '...   \n",
       "42  KR_6408115413  {'metadata': {'dataVersion': '2', 'matchId': '...   \n",
       "43  KR_6380392729  {'metadata': {'dataVersion': '2', 'matchId': '...   \n",
       "44  KR_6392004763  {'metadata': {'dataVersion': '2', 'matchId': '...   \n",
       "45  KR_6219035037  {'metadata': {'dataVersion': '2', 'matchId': '...   \n",
       "46  KR_6232904213  {'metadata': {'dataVersion': '2', 'matchId': '...   \n",
       "47  KR_6220693443  {'metadata': {'dataVersion': '2', 'matchId': '...   \n",
       "48  KR_6398445895  {'metadata': {'dataVersion': '2', 'matchId': '...   \n",
       "49  KR_6372593611  {'metadata': {'dataVersion': '2', 'matchId': '...   \n",
       "50  KR_6398413801  {'metadata': {'dataVersion': '2', 'matchId': '...   \n",
       "51  KR_6415042806  {'metadata': {'dataVersion': '2', 'matchId': '...   \n",
       "52  KR_6394537799  {'metadata': {'dataVersion': '2', 'matchId': '...   \n",
       "53  KR_6414863566  {'metadata': {'dataVersion': '2', 'matchId': '...   \n",
       "54  KR_6401761075  {'metadata': {'dataVersion': '2', 'matchId': '...   \n",
       "55  KR_6369825687  {'metadata': {'dataVersion': '2', 'matchId': '...   \n",
       "56  KR_6322415621  {'metadata': {'dataVersion': '2', 'matchId': '...   \n",
       "57  KR_6277801349  {'metadata': {'dataVersion': '2', 'matchId': '...   \n",
       "58  KR_6276943674  {'metadata': {'dataVersion': '2', 'matchId': '...   \n",
       "59  KR_6399063149  {'metadata': {'dataVersion': '2', 'matchId': '...   \n",
       "\n",
       "                                             timeline  \n",
       "0   {'metadata': {'dataVersion': '2', 'matchId': '...  \n",
       "1   {'metadata': {'dataVersion': '2', 'matchId': '...  \n",
       "2   {'metadata': {'dataVersion': '2', 'matchId': '...  \n",
       "3   {'metadata': {'dataVersion': '2', 'matchId': '...  \n",
       "4   {'metadata': {'dataVersion': '2', 'matchId': '...  \n",
       "5   {'metadata': {'dataVersion': '2', 'matchId': '...  \n",
       "6   {'metadata': {'dataVersion': '2', 'matchId': '...  \n",
       "7   {'metadata': {'dataVersion': '2', 'matchId': '...  \n",
       "8   {'metadata': {'dataVersion': '2', 'matchId': '...  \n",
       "9   {'metadata': {'dataVersion': '2', 'matchId': '...  \n",
       "10  {'metadata': {'dataVersion': '2', 'matchId': '...  \n",
       "11  {'metadata': {'dataVersion': '2', 'matchId': '...  \n",
       "12  {'metadata': {'dataVersion': '2', 'matchId': '...  \n",
       "13  {'metadata': {'dataVersion': '2', 'matchId': '...  \n",
       "14  {'metadata': {'dataVersion': '2', 'matchId': '...  \n",
       "15  {'metadata': {'dataVersion': '2', 'matchId': '...  \n",
       "16  {'metadata': {'dataVersion': '2', 'matchId': '...  \n",
       "17  {'metadata': {'dataVersion': '2', 'matchId': '...  \n",
       "18  {'metadata': {'dataVersion': '2', 'matchId': '...  \n",
       "19  {'metadata': {'dataVersion': '2', 'matchId': '...  \n",
       "20  {'metadata': {'dataVersion': '2', 'matchId': '...  \n",
       "21  {'metadata': {'dataVersion': '2', 'matchId': '...  \n",
       "22  {'metadata': {'dataVersion': '2', 'matchId': '...  \n",
       "23  {'metadata': {'dataVersion': '2', 'matchId': '...  \n",
       "24  {'metadata': {'dataVersion': '2', 'matchId': '...  \n",
       "25  {'metadata': {'dataVersion': '2', 'matchId': '...  \n",
       "26  {'metadata': {'dataVersion': '2', 'matchId': '...  \n",
       "27  {'metadata': {'dataVersion': '2', 'matchId': '...  \n",
       "28  {'metadata': {'dataVersion': '2', 'matchId': '...  \n",
       "29  {'metadata': {'dataVersion': '2', 'matchId': '...  \n",
       "30  {'metadata': {'dataVersion': '2', 'matchId': '...  \n",
       "31  {'metadata': {'dataVersion': '2', 'matchId': '...  \n",
       "32  {'metadata': {'dataVersion': '2', 'matchId': '...  \n",
       "33  {'metadata': {'dataVersion': '2', 'matchId': '...  \n",
       "34  {'metadata': {'dataVersion': '2', 'matchId': '...  \n",
       "35  {'metadata': {'dataVersion': '2', 'matchId': '...  \n",
       "36  {'metadata': {'dataVersion': '2', 'matchId': '...  \n",
       "37  {'metadata': {'dataVersion': '2', 'matchId': '...  \n",
       "38  {'metadata': {'dataVersion': '2', 'matchId': '...  \n",
       "39  {'metadata': {'dataVersion': '2', 'matchId': '...  \n",
       "40  {'metadata': {'dataVersion': '2', 'matchId': '...  \n",
       "41  {'metadata': {'dataVersion': '2', 'matchId': '...  \n",
       "42  {'metadata': {'dataVersion': '2', 'matchId': '...  \n",
       "43  {'metadata': {'dataVersion': '2', 'matchId': '...  \n",
       "44  {'metadata': {'dataVersion': '2', 'matchId': '...  \n",
       "45  {'metadata': {'dataVersion': '2', 'matchId': '...  \n",
       "46  {'metadata': {'dataVersion': '2', 'matchId': '...  \n",
       "47  {'metadata': {'dataVersion': '2', 'matchId': '...  \n",
       "48  {'metadata': {'dataVersion': '2', 'matchId': '...  \n",
       "49  {'metadata': {'dataVersion': '2', 'matchId': '...  \n",
       "50  {'metadata': {'dataVersion': '2', 'matchId': '...  \n",
       "51  {'metadata': {'dataVersion': '2', 'matchId': '...  \n",
       "52  {'metadata': {'dataVersion': '2', 'matchId': '...  \n",
       "53  {'metadata': {'dataVersion': '2', 'matchId': '...  \n",
       "54  {'metadata': {'dataVersion': '2', 'matchId': '...  \n",
       "55  {'metadata': {'dataVersion': '2', 'matchId': '...  \n",
       "56  {'metadata': {'dataVersion': '2', 'matchId': '...  \n",
       "57  {'metadata': {'dataVersion': '2', 'matchId': '...  \n",
       "58  {'metadata': {'dataVersion': '2', 'matchId': '...  \n",
       "59  {'metadata': {'dataVersion': '2', 'matchId': '...  "
      ]
     },
     "execution_count": 49,
     "metadata": {},
     "output_type": "execute_result"
    }
   ],
   "source": [
    "raw_data"
   ]
  },
  {
   "cell_type": "code",
   "execution_count": 50,
   "id": "af1b83dc",
   "metadata": {},
   "outputs": [
    {
     "data": {
      "text/plain": [
       "{'bans': [{'championId': 517, 'pickTurn': 1},\n",
       "  {'championId': 110, 'pickTurn': 2},\n",
       "  {'championId': 45, 'pickTurn': 3},\n",
       "  {'championId': 498, 'pickTurn': 4},\n",
       "  {'championId': 166, 'pickTurn': 5},\n",
       "  [{'championId': -1, 'pickTurn': 6},\n",
       "   {'championId': 122, 'pickTurn': 7},\n",
       "   {'championId': 22, 'pickTurn': 8},\n",
       "   {'championId': 34, 'pickTurn': 9},\n",
       "   {'championId': 1, 'pickTurn': 10}]],\n",
       " 'objectives': {'baron': {'first': False, 'kills': 0},\n",
       "  'champion': {'first': False, 'kills': 31},\n",
       "  'dragon': {'first': True, 'kills': 1},\n",
       "  'inhibitor': {'first': True, 'kills': 1},\n",
       "  'riftHerald': {'first': False, 'kills': 0},\n",
       "  'tower': {'first': False, 'kills': 8}},\n",
       " 'teamId': 100,\n",
       " 'win': True}"
      ]
     },
     "execution_count": 50,
     "metadata": {},
     "output_type": "execute_result"
    }
   ],
   "source": [
    "raw_data.iloc[0].matches['info']['teams'][0]"
   ]
  },
  {
   "cell_type": "code",
   "execution_count": 14,
   "id": "125ff9cd",
   "metadata": {},
   "outputs": [
    {
     "data": {
      "text/plain": [
       "{'bans': [{'championId': -1, 'pickTurn': 6},\n",
       "  {'championId': 122, 'pickTurn': 7},\n",
       "  {'championId': 22, 'pickTurn': 8},\n",
       "  {'championId': 34, 'pickTurn': 9},\n",
       "  {'championId': 1, 'pickTurn': 10}],\n",
       " 'objectives': {'baron': {'first': True, 'kills': 1},\n",
       "  'champion': {'first': True, 'kills': 30},\n",
       "  'dragon': {'first': False, 'kills': 2},\n",
       "  'inhibitor': {'first': False, 'kills': 0},\n",
       "  'riftHerald': {'first': True, 'kills': 2},\n",
       "  'tower': {'first': True, 'kills': 3}},\n",
       " 'teamId': 200,\n",
       " 'win': False}"
      ]
     },
     "execution_count": 14,
     "metadata": {},
     "output_type": "execute_result"
    }
   ],
   "source": [
    "raw_data.iloc[0].matches['info']['teams'][1]"
   ]
  },
  {
   "cell_type": "markdown",
   "id": "6ce86e3c",
   "metadata": {},
   "source": [
    "# lambda 활용해서 blue_ban, red_ban 리스트 생성\n",
    "# 이후 두개의 리스를 합치고 중복제거\n",
    "# 리스트 안의 요소를 |로 묶어서 str 형태로 만들기"
   ]
  },
  {
   "cell_type": "code",
   "execution_count": 51,
   "id": "a7ed7ec1",
   "metadata": {},
   "outputs": [],
   "source": [
    "blue = raw_data.iloc[1].matches['info']['teams'][0]['bans']"
   ]
  },
  {
   "cell_type": "code",
   "execution_count": 52,
   "id": "00cfcf7f",
   "metadata": {},
   "outputs": [],
   "source": [
    "red = raw_data.iloc[1].matches['info']['teams'][1]['bans']"
   ]
  },
  {
   "cell_type": "code",
   "execution_count": 67,
   "id": "df32c2dc",
   "metadata": {},
   "outputs": [],
   "source": [
    "blue_team = list(map(lambda x: str(x['championId']),raw_data.iloc[1].matches['info']['teams'][0]['bans']))"
   ]
  },
  {
   "cell_type": "code",
   "execution_count": 68,
   "id": "b107026b",
   "metadata": {},
   "outputs": [],
   "source": [
    "red_team = list(map(lambda x: str(x['championId']),raw_data.iloc[1].matches['info']['teams'][1]['bans']))"
   ]
  },
  {
   "cell_type": "code",
   "execution_count": 71,
   "id": "f34355cb",
   "metadata": {},
   "outputs": [],
   "source": [
    "ban = list(set(blue_team+red_team))"
   ]
  },
  {
   "cell_type": "code",
   "execution_count": 245,
   "id": "3443475a",
   "metadata": {},
   "outputs": [
    {
     "data": {
      "text/plain": [
       "['711', '74', '-1', '517', '360', '55', '203', '897', '114']"
      ]
     },
     "execution_count": 245,
     "metadata": {},
     "output_type": "execute_result"
    }
   ],
   "source": [
    "ban"
   ]
  },
  {
   "cell_type": "code",
   "execution_count": 290,
   "id": "f716f702",
   "metadata": {},
   "outputs": [],
   "source": [
    "ban='|'.join(ban)"
   ]
  },
  {
   "cell_type": "code",
   "execution_count": null,
   "id": "ab8e2fb6",
   "metadata": {},
   "outputs": [],
   "source": [
    "킬|데스|어시스트"
   ]
  },
  {
   "cell_type": "markdown",
   "id": "86c4b4eb",
   "metadata": {},
   "source": [
    "# 가장 첫번째 있는 게임의 챔피언킬 정보\n",
    "# events라는 키의 밸류들을 lambda map사용 하나의 리스트로 묶기\n",
    "# 이중리스트를 하나로 풀기\n",
    "# lambda를 통해서 events의 type이 챔피언 킬인 것들만 kill_log라는 리스트에 담기\n",
    "# kill_log에서 killerId의 값을 list로 묶기 -> k\n",
    "# kill_log에서 victimId 값을 list로 묶기 ->v\n",
    "# kill_log에서 assistingParticipantIds의 값을 list로 묶기->a\n",
    "# 개의 리스트를 각각 |로 묶기\n",
    "# col_lst = ['gameId','gameDuration','gameVersion','bans','killerId','victimId','assistId']"
   ]
  },
  {
   "cell_type": "code",
   "execution_count": 137,
   "id": "b508691b",
   "metadata": {},
   "outputs": [],
   "source": [
    "lst=[]\n",
    "for i in range(1,len(raw_data.iloc[0].timeline['info']['frames'])):\n",
    "    lst.append(raw_data.iloc[0].timeline['info']['frames'][i]['events'])\n"
   ]
  },
  {
   "cell_type": "code",
   "execution_count": 147,
   "id": "af007554",
   "metadata": {},
   "outputs": [],
   "source": [
    "all_lst=[]\n",
    "for i in range(len(lst)):\n",
    "    for j in range(len(lst[i])):\n",
    "        all_lst.append(lst[i][j])"
   ]
  },
  {
   "cell_type": "code",
   "execution_count": 188,
   "id": "97215402",
   "metadata": {},
   "outputs": [],
   "source": [
    "true=[]\n",
    "for i in range(len(all_lst)):\n",
    "    if 'assistingParticipantIds' in all_lst[i]:\n",
    "        true.append(all_lst[i])"
   ]
  },
  {
   "cell_type": "code",
   "execution_count": null,
   "id": "4d0d45f3",
   "metadata": {},
   "outputs": [],
   "source": [
    "last_lst=[]\n",
    "for i in range(len(true)):\n",
    "    if true[i]['type'] == 'CHAMPION_KILL':\n",
    "        last_lst.append(true[i])"
   ]
  },
  {
   "cell_type": "code",
   "execution_count": 283,
   "id": "b252f2f6",
   "metadata": {},
   "outputs": [],
   "source": [
    "a=[]\n",
    "for i in range(len(last_lst)):\n",
    "    a.append(str(last_lst[i]['assistingParticipantIds']))"
   ]
  },
  {
   "cell_type": "code",
   "execution_count": 284,
   "id": "b936dbb3",
   "metadata": {},
   "outputs": [],
   "source": [
    "k=[]\n",
    "for i in range(len(last_lst)):\n",
    "    k.append(str(last_lst[i]['killerId']))"
   ]
  },
  {
   "cell_type": "code",
   "execution_count": 296,
   "id": "c6f535b8",
   "metadata": {},
   "outputs": [],
   "source": [
    "v=[]\n",
    "for i in range(len(last_lst)):\n",
    "    try:\n",
    "        v.append(str(last_lst[i]['victimId']))\n",
    "    except:\n",
    "        v.append('')"
   ]
  },
  {
   "cell_type": "code",
   "execution_count": 286,
   "id": "cc45c828",
   "metadata": {},
   "outputs": [],
   "source": [
    "a='|'.join(a)\n",
    "k='|'.join(k)\n",
    "v='|'.join(v)"
   ]
  },
  {
   "cell_type": "code",
   "execution_count": 291,
   "id": "0fb69192",
   "metadata": {},
   "outputs": [],
   "source": [
    "df_lst =[]\n",
    "df_lst.append(raw_data.iloc[0].matches['info']['gameId'])\n",
    "df_lst.append(raw_data.iloc[0].matches['info']['gameDuration'])\n",
    "df_lst.append(raw_data.iloc[0].matches['info']['gameVersion'])\n",
    "df_lst.append(ban)\n",
    "df_lst.append(k)\n",
    "df_lst.append(v)\n",
    "df_lst.append(a)"
   ]
  },
  {
   "cell_type": "code",
   "execution_count": 293,
   "id": "7bdc77d9",
   "metadata": {},
   "outputs": [
    {
     "data": {
      "text/plain": [
       "[6394945963,\n",
       " 1810,\n",
       " '13.4.494.1549',\n",
       " '711|74|-1|517|360|55|203|897|114',\n",
       " '7|8|4|4|10|6|6|5|6|8|3|6|4|4|6|7|4|7|4|4|4|7|4|6|6|1|6|3|4|6|9|3|7|9|7|3|1|6|4|4|1|4|7|4|8|3',\n",
       " '3|2|9|10|4|1|3|8|5|2|8|3|9|10|1|3|10|3|10|7|8|3|9|2|1|9|5|7|6|2|5|10|4|5|2|8|7|3|9|6|8|10|1|7|2|9',\n",
       " '[8]|[7]|[5]|[5]|[9]|[7, 8]|[8]|[3]|[7, 8, 10]|[7]|[1, 2]|[7, 8]|[5]|[5]|[7]|[8, 10]|[2, 5]|[8]|[3, 5]|[2, 5]|[2]|[8]|[2]|[10]|[7, 9, 10]|[5]|[7, 8, 9]|[4]|[2]|[8, 9, 10]|[6, 10]|[2, 4]|[6, 9, 10]|[6, 8, 10]|[6, 8, 9]|[5]|[2, 3, 5]|[8, 9]|[5]|[1, 2, 3, 5]|[3, 4]|[1, 3, 5]|[6, 8, 10]|[2, 3, 5]|[6]|[4, 5]']"
      ]
     },
     "execution_count": 293,
     "metadata": {},
     "output_type": "execute_result"
    }
   ],
   "source": [
    "df_lst"
   ]
  },
  {
   "cell_type": "code",
   "execution_count": 265,
   "id": "0a79d242",
   "metadata": {},
   "outputs": [
    {
     "data": {
      "text/plain": [
       "7"
      ]
     },
     "execution_count": 265,
     "metadata": {},
     "output_type": "execute_result"
    }
   ],
   "source": [
    "len(df_lst)"
   ]
  },
  {
   "cell_type": "code",
   "execution_count": 294,
   "id": "b0ad8e08",
   "metadata": {},
   "outputs": [],
   "source": [
    "df = pd.DataFrame([df_lst],columns=['gameId','gameDuration','gameVersion','bans','killerId','victimId','assistId'])"
   ]
  },
  {
   "cell_type": "code",
   "execution_count": 295,
   "id": "aec68910",
   "metadata": {},
   "outputs": [
    {
     "data": {
      "text/html": [
       "<div>\n",
       "<style scoped>\n",
       "    .dataframe tbody tr th:only-of-type {\n",
       "        vertical-align: middle;\n",
       "    }\n",
       "\n",
       "    .dataframe tbody tr th {\n",
       "        vertical-align: top;\n",
       "    }\n",
       "\n",
       "    .dataframe thead th {\n",
       "        text-align: right;\n",
       "    }\n",
       "</style>\n",
       "<table border=\"1\" class=\"dataframe\">\n",
       "  <thead>\n",
       "    <tr style=\"text-align: right;\">\n",
       "      <th></th>\n",
       "      <th>gameId</th>\n",
       "      <th>gameDuration</th>\n",
       "      <th>gameVersion</th>\n",
       "      <th>bans</th>\n",
       "      <th>killerId</th>\n",
       "      <th>victimId</th>\n",
       "      <th>assistId</th>\n",
       "    </tr>\n",
       "  </thead>\n",
       "  <tbody>\n",
       "    <tr>\n",
       "      <th>0</th>\n",
       "      <td>6394945963</td>\n",
       "      <td>1810</td>\n",
       "      <td>13.4.494.1549</td>\n",
       "      <td>711|74|-1|517|360|55|203|897|114</td>\n",
       "      <td>7|8|4|4|10|6|6|5|6|8|3|6|4|4|6|7|4|7|4|4|4|7|4...</td>\n",
       "      <td>3|2|9|10|4|1|3|8|5|2|8|3|9|10|1|3|10|3|10|7|8|...</td>\n",
       "      <td>[8]|[7]|[5]|[5]|[9]|[7, 8]|[8]|[3]|[7, 8, 10]|...</td>\n",
       "    </tr>\n",
       "  </tbody>\n",
       "</table>\n",
       "</div>"
      ],
      "text/plain": [
       "       gameId  gameDuration    gameVersion                              bans  \\\n",
       "0  6394945963          1810  13.4.494.1549  711|74|-1|517|360|55|203|897|114   \n",
       "\n",
       "                                            killerId  \\\n",
       "0  7|8|4|4|10|6|6|5|6|8|3|6|4|4|6|7|4|7|4|4|4|7|4...   \n",
       "\n",
       "                                            victimId  \\\n",
       "0  3|2|9|10|4|1|3|8|5|2|8|3|9|10|1|3|10|3|10|7|8|...   \n",
       "\n",
       "                                            assistId  \n",
       "0  [8]|[7]|[5]|[5]|[9]|[7, 8]|[8]|[3]|[7, 8, 10]|...  "
      ]
     },
     "execution_count": 295,
     "metadata": {},
     "output_type": "execute_result"
    }
   ],
   "source": [
    "df"
   ]
  },
  {
   "cell_type": "code",
   "execution_count": null,
   "id": "09c8c7e8",
   "metadata": {},
   "outputs": [],
   "source": []
  },
  {
   "cell_type": "code",
   "execution_count": null,
   "id": "48407809",
   "metadata": {},
   "outputs": [],
   "source": []
  },
  {
   "cell_type": "code",
   "execution_count": null,
   "id": "691518af",
   "metadata": {},
   "outputs": [],
   "source": []
  },
  {
   "cell_type": "code",
   "execution_count": 118,
   "id": "5973bfce",
   "metadata": {},
   "outputs": [],
   "source": [
    "assists_log =[]\n",
    "for i in range(len(raw_data.iloc[0].timeline['info']['frames'])):\n",
    "    for j in range(len(raw_data.iloc[0].timeline['info']['frames'][i]['events'])):\n",
    "        try:\n",
    "            assists_log.append(raw_data.iloc[0].timeline['info']['frames'][i]['events'][j]['assistingParticipantIds'])\n",
    "        except: continue"
   ]
  },
  {
   "cell_type": "code",
   "execution_count": 114,
   "id": "0791f844",
   "metadata": {},
   "outputs": [
    {
     "data": {
      "text/plain": [
       "41"
      ]
     },
     "execution_count": 114,
     "metadata": {},
     "output_type": "execute_result"
    }
   ],
   "source": [
    "len(raw_data.iloc[0].timeline['info']['frames'][10]['events'])"
   ]
  },
  {
   "cell_type": "code",
   "execution_count": null,
   "id": "384353aa",
   "metadata": {},
   "outputs": [],
   "source": []
  },
  {
   "cell_type": "code",
   "execution_count": null,
   "id": "ded7d764",
   "metadata": {},
   "outputs": [],
   "source": []
  },
  {
   "cell_type": "code",
   "execution_count": null,
   "id": "0493f1df",
   "metadata": {},
   "outputs": [],
   "source": []
  },
  {
   "cell_type": "code",
   "execution_count": null,
   "id": "490f5a8d",
   "metadata": {},
   "outputs": [],
   "source": []
  },
  {
   "cell_type": "code",
   "execution_count": null,
   "id": "396d3bfb",
   "metadata": {},
   "outputs": [],
   "source": []
  },
  {
   "cell_type": "code",
   "execution_count": null,
   "id": "086fb123",
   "metadata": {},
   "outputs": [],
   "source": []
  },
  {
   "cell_type": "code",
   "execution_count": null,
   "id": "1a41c6ad",
   "metadata": {},
   "outputs": [],
   "source": []
  },
  {
   "cell_type": "code",
   "execution_count": null,
   "id": "a993c1ea",
   "metadata": {},
   "outputs": [],
   "source": []
  },
  {
   "cell_type": "code",
   "execution_count": null,
   "id": "fbf065ba",
   "metadata": {},
   "outputs": [],
   "source": []
  },
  {
   "cell_type": "code",
   "execution_count": null,
   "id": "bb71659b",
   "metadata": {},
   "outputs": [],
   "source": []
  }
 ],
 "metadata": {
  "kernelspec": {
   "display_name": "Python 3 (ipykernel)",
   "language": "python",
   "name": "python3"
  },
  "language_info": {
   "codemirror_mode": {
    "name": "ipython",
    "version": 3
   },
   "file_extension": ".py",
   "mimetype": "text/x-python",
   "name": "python",
   "nbconvert_exporter": "python",
   "pygments_lexer": "ipython3",
   "version": "3.9.13"
  }
 },
 "nbformat": 4,
 "nbformat_minor": 5
}
