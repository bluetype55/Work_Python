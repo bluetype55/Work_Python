{
 "cells": [
  {
   "cell_type": "code",
   "execution_count": 2,
   "id": "989851ca",
   "metadata": {},
   "outputs": [
    {
     "name": "stderr",
     "output_type": "stream",
     "text": [
      "C:\\Users\\user\\AppData\\Local\\Temp\\ipykernel_1612\\3360147383.py:9: DeprecationWarning: the imp module is deprecated in favour of importlib; see the module's documentation for alternative uses\n",
      "  import imp\n"
     ]
    }
   ],
   "source": [
    "import requests\n",
    "from tqdm import tqdm\n",
    "import pandas as pd\n",
    "import numpy as np\n",
    "import time\n",
    "import my_utils as mu\n",
    "import math\n",
    "import random\n",
    "import imp\n",
    "imp.reload(mu)\n",
    "tqdm.pandas()"
   ]
  },
  {
   "cell_type": "code",
   "execution_count": 1,
   "id": "952a59ab",
   "metadata": {},
   "outputs": [],
   "source": [
    "#티어별 원시 데이터 프레임 생성 함수\n",
    "def get_rawdata(tier):\n",
    "    \n",
    "    lst=[]\n",
    "    summoner_lst=[]\n",
    "    key=mu.riot_api_key\n",
    "    page =random.randrange(1,10)\n",
    "    division_list=['I','II','III','IV']\n",
    "    url=''\n",
    "    \n",
    "    if (tier =='IRON' or tier =='BRONZE' or tier =='SILVER' or tier =='GOLD' or tier =='PLATINUM' or tier =='DIAMOND'):\n",
    "        for division in division_list:\n",
    "            url=f'https://kr.api.riotgames.com/lol/league/v4/entries/RANKED_SOLO_5x5/{tier}/{division}?page={page}&api_key={key}'\n",
    "            res = requests.get(url).json()\n",
    "            lst+=random.sample(res,5)\n",
    "    elif tier == 'MASTER':\n",
    "        url=f'https://kr.api.riotgames.com/lol/league/v4/masterleagues/by-queue/RANKED_SOLO_5x5?api_key={key}'\n",
    "        res = requests.get(url).json()\n",
    "        lst= random.sample(res['entries'],10)\n",
    "    elif tier == 'GRANDMASTER':\n",
    "        url=f'https://kr.api.riotgames.com/lol/league/v4/grandmasterleagues/by-queue/RANKED_SOLO_5x5?api_key={key}'\n",
    "        res = requests.get(url).json()\n",
    "        lst= random.sample(res['entries'],3)\n",
    "    elif tier == 'CHALLENGER':\n",
    "        url=f'https://kr.api.riotgames.com/lol/league/v4/challengerleagues/by-queue/RANKED_SOLO_5x5?api_key={key}'\n",
    "        res = requests.get(url).json()\n",
    "        lst= random.sample(res['entries'],1)\n",
    "    else:\n",
    "        print('티어를 잘못 입력하셨습니다')\n",
    "        return\n",
    "    \n",
    "    summoner_lst = list(map(lambda x: x['summonerName'],lst))\n",
    "    df_creates = []\n",
    "    \n",
    "    print('원시 데이터 생성중')\n",
    "    for s in tqdm(summoner_lst):\n",
    "        try:\n",
    "            puuid = mu.get_puuid(s)\n",
    "            if (tier =='IRON' or tier =='BRONZE' or tier =='SILVER' or tier =='GOLD' or tier =='PLATINUM' or tier =='DIAMOND'):\n",
    "                match_ids = mu.get_match_id(puuid,3)\n",
    "            elif tier == 'MASTER':\n",
    "                match_ids = mu.get_match_id_master(puuid,6)\n",
    "            elif tier == 'GRANDMASTER':\n",
    "                match_ids = mu.get_match_id_grandmaster(puuid,20)\n",
    "            elif tier == 'CHALLENGER':\n",
    "                match_ids = mu.get_match_id_challenger(puuid,60)\n",
    "            for i in match_ids:\n",
    "                matches,timeline = mu.get_matches_timelines(i)\n",
    "                df_creates.append([i,matches,timeline])\n",
    "        except:\n",
    "            continue\n",
    "            \n",
    "    df = pd.DataFrame(df_creates,columns =['match_id','matches','timeline'])\n",
    "    return df"
   ]
  },
  {
   "cell_type": "code",
   "execution_count": 3,
   "id": "55a63482",
   "metadata": {},
   "outputs": [],
   "source": [
    "#원시 데이터프레임으로 게임 세부내용 데이터프레임 생성 함수\n",
    "def get_match_timeline_df(raw_data):\n",
    "    df_creater = []\n",
    "    info = raw_data.iloc[0].matches['info']['participants']\n",
    "    print('게임 데이터프레임 생성중...')\n",
    "    for i in tqdm(range(len(raw_data))):\n",
    "        try:\n",
    "            for j in range(len(info)):\n",
    "                lst = []\n",
    "                tmp=[]\n",
    "                a= math.trunc(raw_data.iloc[i].matches['info']['gameDuration']/60)\n",
    "                lst.append(raw_data.iloc[i]['match_id'])\n",
    "                lst.append(raw_data.iloc[i].matches['info']['gameDuration'])\n",
    "                lst.append(raw_data.iloc[i].matches['info']['gameVersion'])\n",
    "                lst.append(raw_data.iloc[i].matches['info']['participants'][j]['summonerName'])\n",
    "                lst.append(raw_data.iloc[i].matches['info']['participants'][j]['summonerLevel'])\n",
    "                lst.append(raw_data.iloc[i].matches['info']['participants'][j]['participantId'])\n",
    "                lst.append(raw_data.iloc[i].matches['info']['participants'][j]['championName'])\n",
    "                lst.append(raw_data.iloc[i].matches['info']['participants'][j]['champExperience'])\n",
    "                lst.append(raw_data.iloc[i].matches['info']['participants'][j]['teamPosition'])\n",
    "                lst.append(raw_data.iloc[i].matches['info']['participants'][j]['teamId'])\n",
    "                lst.append(raw_data.iloc[i].matches['info']['participants'][j]['win'])\n",
    "                lst.append(raw_data.iloc[i].matches['info']['participants'][j]['kills'])\n",
    "                lst.append(raw_data.iloc[i].matches['info']['participants'][j]['deaths'])\n",
    "                lst.append(raw_data.iloc[i].matches['info']['participants'][j]['assists'])\n",
    "                lst.append(raw_data.iloc[i].matches['info']['participants'][j]['totalDamageDealtToChampions'])\n",
    "                lst.append(raw_data.iloc[i].matches['info']['participants'][j]['totalDamageTaken'])\n",
    "                if 5<=a: #게임시간이 5분이상일때\n",
    "                    for k in range(5,a+1):\n",
    "                        if k<=25: #게임시간 25분까지만 데이터 삽입\n",
    "                            lst.append(raw_data.iloc[i].timeline['info']['frames'][k]['participantFrames'][str(j+1)]['totalGold'])\n",
    "                elif a<5: #게임시간이 5분미만일때\n",
    "                    lst.append(raw_data.iloc[i].timeline['info']['frames'][a]['participantFrames'][str(j+1)]['totalGold'])\n",
    "                df_creater.append(lst)\n",
    "        except:continue\n",
    "\n",
    "    df = pd.DataFrame(df_creater,columns =['gameId','gameDuration','gameVersion','summonerName','summonerLevel','participantId'\n",
    "                                           ,'championName','champExperience','teamPosition','teamId','win','kills','deaths','assists'\n",
    "                                           ,'totalDamageDealtToChampions','totalDamageTaken','g_5','g_6','g_7','g_8','g_9','g_10'\n",
    "                                           ,'g_11','g_12','g_13','g_14','g_15','g_16','g_17','g_18','g_19','g_20','g_21','g_22'\n",
    "                                           ,'g_23','g_24','g_25'])\n",
    "    df = df.fillna(0) #NaN값을 0으로\n",
    "    df=df.astype(dtype='int64',errors='ignore') #데이터 타입을 전부 int로 바꾸고 바꿀 수 없는 것들은 그대로\n",
    "    df=df.astype({'win':'bool'})\n",
    "    return df"
   ]
  },
  {
   "cell_type": "code",
   "execution_count": 4,
   "id": "669f921a",
   "metadata": {},
   "outputs": [],
   "source": [
    "# mysql 인서트 함수\n",
    "def insert_my(x,conn):\n",
    "    query = (\n",
    "        f'insert into lol_datas (gameId, gameDuration, gameVersion, summonerName, summonerLevel,'\n",
    "        f'participantId,championName,champExperience,teamPosition,teamId,win,kills,deaths,assists,'\n",
    "        f'totalDamageDealtToChampions,totalDamageTaken,g_5,g_6,g_7,g_8,g_9,g_10,g_11,g_12,g_13,'\n",
    "        f'g_14,g_15,g_16,g_17,g_18,g_19,g_20,g_21,g_22,g_23,g_24,g_25)'\n",
    "        f'values({repr(x.gameId)},{x.gameDuration},{repr(x.gameVersion)},{repr(x.summonerName)},{x.summonerLevel},{x.participantId}'\n",
    "        f',{repr(x.championName)},{x.champExperience},{repr(x.teamPosition)},{x.teamId},{repr(str(x.win))},{x.kills},{x.deaths},{x.assists},{x.totalDamageDealtToChampions},{x.totalDamageTaken}'\n",
    "        f',{x.g_5},{x.g_6},{x.g_7},{x.g_8},{x.g_9},{x.g_10},{x.g_11},{x.g_12},{x.g_13},{x.g_14},{x.g_15},{x.g_16},{x.g_17},{x.g_18},{x.g_19},{x.g_20},{x.g_21},{x.g_22},{x.g_23},{x.g_24},{x.g_25})'\n",
    "    )\n",
    "    try:\n",
    "        mu.mysql_execute(query,conn)\n",
    "    except Exception as e:\n",
    "        print(e)\n",
    "    return"
   ]
  },
  {
   "cell_type": "code",
   "execution_count": 5,
   "id": "4ca9a1dc",
   "metadata": {},
   "outputs": [],
   "source": [
    "# oracle 인서트 함수\n",
    "def insert_o(x):\n",
    "    query = (\n",
    "        f'insert into lol_datas (gameId, gameDuration, gameVersion, summonerName, summonerLevel,'\n",
    "        f'participantId,championName,champExperience,teamPosition,teamId,win,kills,deaths,assists,'\n",
    "        f'totalDamageDealtToChampions,totalDamageTaken,g_5,g_6,g_7,g_8,g_9,g_10,g_11,g_12,g_13,'\n",
    "        f'g_14,g_15,g_16,g_17,g_18,g_19,g_20,g_21,g_22,g_23,g_24,g_25)'\n",
    "        f'values({repr(x.gameId)},{x.gameDuration},{repr(x.gameVersion)},{repr(x.summonerName)},{x.summonerLevel},{x.participantId}'\n",
    "        f',{repr(x.championName)},{x.champExperience},{repr(x.teamPosition)},{x.teamId},{repr(str(x.win))},{x.kills},{x.deaths},{x.assists},{x.totalDamageDealtToChampions},{x.totalDamageTaken}'\n",
    "        f',{x.g_5},{x.g_6},{x.g_7},{x.g_8},{x.g_9},{x.g_10},{x.g_11},{x.g_12},{x.g_13},{x.g_14},{x.g_15},{x.g_16},{x.g_17},{x.g_18},{x.g_19},{x.g_20},{x.g_21},{x.g_22},{x.g_23},{x.g_24},{x.g_25})'\n",
    "    )\n",
    "    try:\n",
    "        mu.oracle_execute(query)\n",
    "    except Exception as e:\n",
    "        print(e)\n",
    "        pass\n",
    "    return"
   ]
  },
  {
   "cell_type": "code",
   "execution_count": 6,
   "id": "fd34e716",
   "metadata": {},
   "outputs": [],
   "source": [
    "# mysql 자동 삽입\n",
    "def auto_insert_my(num):\n",
    "    tier_lst = ['IRON', 'BRONZE', 'SILVER', 'GOLD', 'PLATINUM', 'DIAMOND','MASTER','GRANDMASTER','CHALLENGER']\n",
    "    for i in range(num):\n",
    "        tier = random.choices(tier_lst,weights = [0.0209,0.1516, 0.3255, 0.3186, 0.1468, 0.03, 0.0005, 0.0004, 0.0002])[0]\n",
    "        print('티어:',tier)\n",
    "        df=get_rawdata(tier)\n",
    "        tmp=get_match_timeline_df(df)\n",
    "        conn = mu.connect_mysql('icia')\n",
    "        print('DB에 데이터 저장중...')\n",
    "        try:\n",
    "            tmp.progress_apply(lambda x: insert_my(x,conn),axis =1)\n",
    "        except Exception as e:\n",
    "            print(e)\n",
    "            continue\n",
    "        conn.commit()\n",
    "        conn.close()"
   ]
  },
  {
   "cell_type": "code",
   "execution_count": 9,
   "id": "a314779b",
   "metadata": {},
   "outputs": [],
   "source": [
    "# 오라클 자동 삽입\n",
    "def auto_insert_o(num):\n",
    "    tier_lst = ['IRON', 'BRONZE', 'SILVER', 'GOLD', 'PLATINUM', 'DIAMOND','MASTER','GRANDMASTER','CHALLENGER']\n",
    "    for i in range(num):\n",
    "        tier = random.choices(tier_lst,weights = [0.0209,0.1516, 0.3255, 0.3186, 0.1468, 0.03, 0.0005, 0.0004, 0.0002])[0]\n",
    "        print('티어:',tier)\n",
    "        df=get_rawdata(tier)\n",
    "        tmp=get_match_timeline_df(df)\n",
    "        mu.db_open()\n",
    "        print('DB에 데이터 저장중...')\n",
    "        try:\n",
    "            tmp.progress_apply(lambda x: insert_o(x),axis =1)\n",
    "        except Exception as e:\n",
    "            print(e)\n",
    "            continue\n",
    "        mu.oracle_close()"
   ]
  },
  {
   "cell_type": "code",
   "execution_count": 8,
   "id": "7da8b349",
   "metadata": {},
   "outputs": [],
   "source": [
    "def insert_matches_timeline_mysql(row,conn):\n",
    "    # lambda를 이용해서 progress_apply를 통해 insert할 구문 만들기\n",
    "    query = (\n",
    "             f'insert into lol_datas(gameId, gameDuration, gameVersion, summonerName, summonerLevel, participantId,'\n",
    "             f'championName, champExperience, teamPosition, teamId, win, kills, deaths, assists,'\n",
    "             f'totalDamageDealtToChampions, totalDamageTaken, g_5, g_6, g_7, g_8, g_9, g_10, g_11, g_12 ,g_13,g_14,'\n",
    "             f'g_15, g_16, g_17, g_18, g_19, g_20, g_21, g_22, g_23, g_24, g_25)'\n",
    "             f'values(\\'{row.gameId}\\',{row.gameDuration}, \\'{row.gameVersion}\\', \\'{row.summonerName}\\','\n",
    "             f'{row.summonerLevel}, {row.participantId},\\'{row.championName}\\',{row.champExperience},'\n",
    "             f'\\'{row.teamPosition}\\', {row.teamId}, \\'{row.win}\\', {row. kills}, {row.deaths}, {row.assists},'\n",
    "             f'{row.totalDamageDealtToChampions},{row.totalDamageTaken},{row.g_5},{row.g_6},{row.g_7},{row.g_8},'\n",
    "             f'{row.g_9},{row.g_10},{row.g_11},{row.g_12},{row.g_13},{row.g_14},{row.g_15},{row.g_16},{row.g_17},'\n",
    "             f'{row.g_18},{row.g_19},{row.g_20},{row.g_21},{row.g_22},{row.g_23},{row.g_24},{row.g_25})'\n",
    "             f'ON DUPLICATE KEY UPDATE '\n",
    "             f'gameId = \\'{row.gameId}\\', gameDuration = {row.gameDuration}, gameVersion = \\'{row.gameVersion}\\', summonerName= \\'{row.summonerName}\\','\n",
    "             f'summonerLevel = {row.summonerLevel},participantId = {row.participantId},championName = \\'{row.championName}\\','\n",
    "             f'champExperience = {row.champExperience}, teamPosition = \\'{row.teamPosition}\\', teamId = {row.teamId},win = \\'{row.win}\\','\n",
    "             f'kills = {row. kills}, deaths = {row.deaths}, assists = {row.assists}, totalDamageDealtToChampions = {row.totalDamageDealtToChampions},'\n",
    "             f'totalDamageTaken = {row.totalDamageTaken},g_5 = {row.g_5},g_6 = {row.g_6},g_7 = {row.g_7},g_8 = {row.g_8},g_9 = {row.g_9},'\n",
    "             f'g_10 = {row.g_10},g_11 = {row.g_11},g_12 = {row.g_12},g_13 = {row.g_13},g_14 = {row.g_14},g_15 = {row.g_15},g_16 = {row.g_16},g_17 = {row.g_17},'\n",
    "             f'g_18 = {row.g_18},g_19 = {row.g_19},g_20 = {row.g_20},g_21 = {row.g_21},g_22 = {row.g_22},g_23 = {row.g_23},g_24 = {row.g_24},g_25 = {row.g_25}'\n",
    "            )\n",
    "    mu.mysql_execute(query,conn)\n",
    "    return query"
   ]
  },
  {
   "cell_type": "code",
   "execution_count": null,
   "id": "6ef258b9",
   "metadata": {
    "scrolled": true
   },
   "outputs": [],
   "source": [
    "def insert_matches_timeline(row):\n",
    "    #데이터프레임에서 apply 한줄씩 넣는다는 전제에서 중복값을 업데이트\n",
    "    query = (\n",
    "             f'MERGE INTO lol_datas USING DUAL ON(gameId=\\'{row.gameId}\\' and participantId={row.participantId}) '\n",
    "             f'WHEN NOT MATCHED THEN '\n",
    "             f'insert (gameId, gameDuration, gameVersion, summonerName, summonerLevel, participantId,'\n",
    "             f'championName, champExperience, teamPosition, teamId, win, kills, deaths, assists,'\n",
    "             f'totalDamageDealtToChampions, totalDamageTaken, g_5, g_6, g_7, g_8, g_9, g_10, g_11, g_12 ,g_13,g_14,'\n",
    "             f'g_15, g_16, g_17, g_18, g_19, g_20, g_21, g_22, g_23, g_24, g_25)'\n",
    "             f'values(\\'{row.gameId}\\',{row.gameDuration}, \\'{row.gameVersion}\\', \\'{row.summonerName}\\','\n",
    "             f'{row.summonerLevel}, {row.participantId},\\'{row.championName}\\',{row.champExperience},'\n",
    "             f'\\'{row.teamPosition}\\', {row.teamId}, \\'{row.win}\\', {row. kills}, {row.deaths}, {row.assists},'\n",
    "             f'{row.totalDamageDealtToChampions},{row.totalDamageTaken},{row.g_5},{row.g_6},{row.g_7},{row.g_8},'\n",
    "             f'{row.g_9},{row.g_10},{row.g_11},{row.g_12},{row.g_13},{row.g_14},{row.g_15},{row.g_16},{row.g_17},'\n",
    "             f'{row.g_18},{row.g_19},{row.g_20},{row.g_21},{row.g_22},{row.g_23},{row.g_24},{row.g_25})'\n",
    "            )\n",
    "    mu.oracle_execute(query)\n",
    "    return query"
   ]
  },
  {
   "cell_type": "code",
   "execution_count": null,
   "id": "1bc0cc33",
   "metadata": {},
   "outputs": [],
   "source": [
    "df=get_rawdata('BRONZE')"
   ]
  },
  {
   "cell_type": "code",
   "execution_count": null,
   "id": "7c225f3c",
   "metadata": {},
   "outputs": [],
   "source": []
  },
  {
   "cell_type": "code",
   "execution_count": null,
   "id": "6c0e42b2",
   "metadata": {},
   "outputs": [],
   "source": []
  },
  {
   "cell_type": "code",
   "execution_count": null,
   "id": "f2b7688b",
   "metadata": {},
   "outputs": [],
   "source": []
  },
  {
   "cell_type": "code",
   "execution_count": null,
   "id": "0a7bedcf",
   "metadata": {},
   "outputs": [],
   "source": []
  },
  {
   "cell_type": "code",
   "execution_count": null,
   "id": "cda1de0e",
   "metadata": {},
   "outputs": [],
   "source": []
  },
  {
   "cell_type": "code",
   "execution_count": null,
   "id": "5ac60da7",
   "metadata": {},
   "outputs": [],
   "source": []
  },
  {
   "cell_type": "code",
   "execution_count": null,
   "id": "b9c3350f",
   "metadata": {},
   "outputs": [],
   "source": []
  },
  {
   "cell_type": "code",
   "execution_count": null,
   "id": "c15e6d31",
   "metadata": {},
   "outputs": [],
   "source": []
  },
  {
   "cell_type": "code",
   "execution_count": null,
   "id": "449b1ef4",
   "metadata": {},
   "outputs": [],
   "source": []
  },
  {
   "cell_type": "code",
   "execution_count": null,
   "id": "ee40dc5e",
   "metadata": {},
   "outputs": [],
   "source": []
  },
  {
   "cell_type": "code",
   "execution_count": 8,
   "id": "ee266815",
   "metadata": {},
   "outputs": [],
   "source": [
    "# 오라클 테이블 생성 함수\n",
    "def create_table_o(table_name):\n",
    "    query = (f'create table {table_name} (gameId varchar(20), gameDuration number(20), gameVersion varchar(20), '\n",
    "    \"\"\"\n",
    "    summonerName varchar(50), summonerLevel number(20), participantId number(20), championName varchar(50), \n",
    "    champExperience number(20), teamPosition varchar(20), teamId number(20), win varchar(20), kills number(20), \n",
    "    deaths number(20), assists number(20), totalDamageDealtToChampions number(20), totalDamageTaken number(20), g_5 number(20)\n",
    "    , g_6 number(20), g_7 number(20), g_8 number(20), g_9 number(20), g_10 number(20), g_11 number(20), g_12 number(20), g_13 number(20)\n",
    "    , g_14 number(20), g_15 number(20), g_16 number(20), g_17 number(20), g_18 number(20), g_19 number(20), g_20 number(20), g_21 number(20)\n",
    "    , g_22 number(20), g_23 number(20), g_24 number(20), g_25 number(20))\n",
    "    \"\"\")\n",
    "\n",
    "    mu.db_open()\n",
    "    mu.oracle_execute(query)\n",
    "    mu.oracle_close()"
   ]
  },
  {
   "cell_type": "code",
   "execution_count": 9,
   "id": "98143543",
   "metadata": {},
   "outputs": [],
   "source": [
    "# 오라클 테이블 제거 함수\n",
    "def drop_table_o(table_name):\n",
    "    query = f'drop table {table_name}'\n",
    "    mu.db_open()\n",
    "    mu.oracle_execute(query)\n",
    "    mu.oracle_close()"
   ]
  },
  {
   "cell_type": "code",
   "execution_count": 10,
   "id": "877d39c3",
   "metadata": {},
   "outputs": [],
   "source": [
    "# mysql 테이블 생성 함수\n",
    "def create_table_my(table_name):\n",
    "    query_mysql = (f'create table {table_name} (gameId varchar(20), gameDuration int, gameVersion varchar(20),' \n",
    "    \"\"\"\n",
    "    summonerName varchar(50), summonerLevel int, participantId int, championName varchar(50), \n",
    "    champExperience int, teamPosition varchar(20), teamId int, win varchar(20), kills int, \n",
    "    deaths int, assists int, totalDamageDealtToChampions int, totalDamageTaken int, g_5 int\n",
    "    , g_6 int, g_7 int, g_8 int, g_9 int, g_10 int, g_11 int, g_12 int, g_13 int\n",
    "    , g_14 int, g_15 int, g_16 int, g_17 int, g_18 int, g_19 int, g_20 int, g_21 int\n",
    "    , g_22 int, g_23 int, g_24 int, g_25 int, primary key (gameId, participantId))\n",
    "    \"\"\")\n",
    "    conn = mu.connect_mysql('icia')\n",
    "    mu.mysql_execute(query_mysql,conn)\n",
    "    conn.commit()\n",
    "    conn.close()"
   ]
  },
  {
   "cell_type": "code",
   "execution_count": 11,
   "id": "e673be06",
   "metadata": {},
   "outputs": [],
   "source": [
    "# mysql 테이블 제거 함수\n",
    "def drop_table_my(table_name):\n",
    "    query_mysql =f'drop table {table_name}'\n",
    "    conn = mu.connect_mysql('icia')\n",
    "    mu.mysql_execute(query_mysql,conn)\n",
    "    conn.commit()\n",
    "    conn.close()"
   ]
  },
  {
   "cell_type": "code",
   "execution_count": 50,
   "id": "d3fcc168",
   "metadata": {},
   "outputs": [],
   "source": []
  },
  {
   "cell_type": "code",
   "execution_count": 62,
   "id": "242863b2",
   "metadata": {},
   "outputs": [],
   "source": []
  },
  {
   "cell_type": "code",
   "execution_count": null,
   "id": "690e7638",
   "metadata": {},
   "outputs": [],
   "source": []
  },
  {
   "cell_type": "code",
   "execution_count": null,
   "id": "0221372c",
   "metadata": {},
   "outputs": [],
   "source": []
  },
  {
   "cell_type": "code",
   "execution_count": null,
   "id": "53e6e7ca",
   "metadata": {},
   "outputs": [],
   "source": []
  },
  {
   "cell_type": "code",
   "execution_count": null,
   "id": "c7ed6570",
   "metadata": {},
   "outputs": [],
   "source": []
  },
  {
   "cell_type": "code",
   "execution_count": null,
   "id": "70552e3b",
   "metadata": {},
   "outputs": [],
   "source": []
  },
  {
   "cell_type": "code",
   "execution_count": null,
   "id": "deb36ddc",
   "metadata": {},
   "outputs": [],
   "source": []
  },
  {
   "cell_type": "code",
   "execution_count": null,
   "id": "50425207",
   "metadata": {},
   "outputs": [],
   "source": []
  },
  {
   "cell_type": "code",
   "execution_count": null,
   "id": "5fde5a95",
   "metadata": {},
   "outputs": [],
   "source": []
  },
  {
   "cell_type": "code",
   "execution_count": null,
   "id": "0cad9cd3",
   "metadata": {},
   "outputs": [],
   "source": []
  },
  {
   "cell_type": "code",
   "execution_count": null,
   "id": "9654c505",
   "metadata": {},
   "outputs": [],
   "source": []
  },
  {
   "cell_type": "code",
   "execution_count": null,
   "id": "7b41b8ac",
   "metadata": {},
   "outputs": [],
   "source": []
  }
 ],
 "metadata": {
  "kernelspec": {
   "display_name": "Python 3 (ipykernel)",
   "language": "python",
   "name": "python3"
  },
  "language_info": {
   "codemirror_mode": {
    "name": "ipython",
    "version": 3
   },
   "file_extension": ".py",
   "mimetype": "text/x-python",
   "name": "python",
   "nbconvert_exporter": "python",
   "pygments_lexer": "ipython3",
   "version": "3.9.13"
  }
 },
 "nbformat": 4,
 "nbformat_minor": 5
}
